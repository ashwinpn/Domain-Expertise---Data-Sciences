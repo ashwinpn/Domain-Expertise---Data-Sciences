{
  "nbformat": 4,
  "nbformat_minor": 0,
  "metadata": {
    "colab": {
      "name": "Notebook1_Credit",
      "provenance": [],
      "collapsed_sections": []
    },
    "kernelspec": {
      "display_name": "Python [conda env:rds_env]",
      "language": "python",
      "name": "conda-env-rds_env-py"
    },
    "language_info": {
      "codemirror_mode": {
        "name": "ipython",
        "version": 3
      },
      "file_extension": ".py",
      "mimetype": "text/x-python",
      "name": "python",
      "nbconvert_exporter": "python",
      "pygments_lexer": "ipython3",
      "version": "3.7.6"
    }
  },
  "cells": [
    {
      "cell_type": "markdown",
      "metadata": {
        "id": "Wu8QNsWRb_xp"
      },
      "source": [
        "# Detecting and Mitigating Age Bias on Credit Decisions \n",
        "\n",
        "By: Ashwin Nalwade.\n",
        "\n",
        "Focus - Basic functionality of AI Fairness 360 for bias mitigation in a dataset.\n",
        "\n",
        "### Biases and Machine Learning\n",
        "\n",
        "A machine learning model predicts an outcome for a particular instance. For example, given an instance of a loan application, we may use a model to predict whether the applicant will repay the loan. The model makes predictions based on a training dataset, where many other instances (other loan applications) and observed outcomes (whether a loan was repaid) are provided. A machine learning algorithm will attempt to find patterns, or generalizations, in the training dataset to use when a prediction for a new instance is needed. For example, the model may discover a pattern whereby a person with a salary over \\$40,000 and  outstanding debt of less than \\$5 is very likely to repay a loan. In many domains this technique, called supervised machine learning, has worked very well.\n",
        "\n",
        "However, sometimes the patterns that are found may not be desirable or may even be illegal. For example, a loan repayment model may determine that age plays a significant role in the prediction of repayment because the training dataset happened to have better repayment for one age group compared to another. This raises two problems: 1) the training dataset may not be representative of the true population of loan applications for all age groups, and 2) even if it is representative, it is illegal (with limited exceptions) to base loan decisions on an applicant's age, regardless of whether this is a accurate basis for prediction based on historical data.\n",
        "\n",
        "AI Fairness 360 is a toolkit designed to help address this problem with _fairness metrics_ and _bias mitigators_.  Fairness metrics can be used to check for bias in machine learning workflows.  Bias mitigators can be used to overcome bias in the workflow to produce a more fair outcome. \n",
        "\n",
        "The loan scenario describes an intuitive example of illegal bias. However, not all undesirable bias in machine learning is illegal; it may also exist in more subtle ways.  For example, a loan company may want a diverse portfolio of customers across all income levels, and thus, will deem it undesirable if they are making more loans to high income levels over low income levels.  Although this is not illegal or unethical, it is undesirable for the company's strategy.\n",
        "\n",
        "As these two examples illustrate, a bias detection and/or mitigation toolkit needs to be tailored to the particular bias of interest.  More specifically, we need to define the attribute(s), called _protected attributes_, of interest.\n",
        "\n",
        "### The Machine Learning Workflow\n",
        "\n",
        "To understand how bias can enter a machine learning model, we first review the basics of how a model is created in a supervised machine learning process.  \n",
        "\n",
        "![image](https://ibmcode-staging.us-east.containers.mybluemix.net/site-content/uploads/2018/09/aif360-1.png)\n",
        "\n",
        "First, the process starts with a _training dataset_, which contains a sequence of instances, where each instance has two components: the features and the outcome for these features.  Next, a machine learning algorithm is trained on this training dataset to produce a machine learning model.  This generated model can be used to make a prediction when given a new instance.  A second dataset with features and outcomes, called a _test dataset_, is used to assess the accuracy of the model.\n",
        "Typically, this test dataset has the same format as the training dataset (a set of instances of features and outcome pairs) and often these two datasets derive from the same initial dataset. For example, a random partitioning algorithm may be used to split the initial dataset into training and test data subsets.\n",
        "\n",
        "Bias can enter the system in any of the three steps above. The training data set may be biased if a particular outcome is overrepresented for some types of instances. The algorithm may be biased if it assigns importance to particular features in the input that we believe should not be used or if the model produces predictions that are systematically less favorable to instances with particular features. The test data set may be biased if it has observed outcomes that are unrepresentative of the broader population of instances. These examples are not exhaustive; bias can enter the machine learning process in several other ways.\n",
        "\n",
        "These three points in the machine learning process represent stages for testing and mitigating bias. In the AI Fairness 360 codebase, we call these stages _pre-processing_, _in-processing_, and _post-processing_. \n",
        "\n",
        "### AI Fairness 360\n",
        "\n",
        "We are now ready to utilize AI Fairness 360 (`aif360`) to detect and mitigate bias. We will use the German credit dataset, splitting the data into a training and test dataset.  We will look for bias in the creation of a machine learning model that predicts whether an applicant should be given credit based on various features from a typical credit application. The protected attribute will be \"Age\", with \"1\" (older than or equal to 25) and \"0\" (younger than 25) being the values for the _privileged_ and _unprivileged_ groups, respectively.\n",
        "\n",
        "In this notebook, we will:\n",
        "\n",
        "1. Install and import packages and modules\n",
        "2. Set bias detection options, load dataset, and split between train and test\n",
        "3. Compute fairness metric on original training dataset\n",
        "5. Mitigate bias using an in-processing algorithm (adversarial debiasing) and compute the fairness metrics under this model\n",
        "\n",
        "At the end of the notebook, there are optional exercises to mitigate bias using a pre-processing algorithm and another algorithm of your choosing."
      ]
    },
    {
      "cell_type": "markdown",
      "metadata": {
        "id": "VSvZzh_-ntSU"
      },
      "source": [
        "\n",
        "## 1 Import Statements\n",
        "\n",
        "First, we install the necessary packages. Then we import several components from the `aif360` package. We also import the GermanDataset, metrics to check for bias, and classes related to the algorithm we will use to mitigate bias."
      ]
    },
    {
      "cell_type": "code",
      "metadata": {
        "id": "i_4p0U7o1lnB",
        "colab": {
          "base_uri": "https://localhost:8080/"
        },
        "outputId": "cee099e4-64b7-4d10-a387-a946b0179c69"
      },
      "source": [
        "%pip install numpy matplotlib seaborn\n",
        "!pip install numba==0.48\n",
        "!pip install aif360==0.2.2\n",
        "!python -m pip install BlackBoxAuditing\n",
        "!pip install tensorflow==1.12.0"
      ],
      "execution_count": null,
      "outputs": [
        {
          "output_type": "stream",
          "text": [
            "Requirement already satisfied: numpy in /usr/local/lib/python3.6/dist-packages (1.19.5)\n",
            "Requirement already satisfied: matplotlib in /usr/local/lib/python3.6/dist-packages (3.2.2)\n",
            "Requirement already satisfied: seaborn in /usr/local/lib/python3.6/dist-packages (0.11.1)\n",
            "Requirement already satisfied: cycler>=0.10 in /usr/local/lib/python3.6/dist-packages (from matplotlib) (0.10.0)\n",
            "Requirement already satisfied: python-dateutil>=2.1 in /usr/local/lib/python3.6/dist-packages (from matplotlib) (2.8.1)\n",
            "Requirement already satisfied: pyparsing!=2.0.4,!=2.1.2,!=2.1.6,>=2.0.1 in /usr/local/lib/python3.6/dist-packages (from matplotlib) (2.4.7)\n",
            "Requirement already satisfied: kiwisolver>=1.0.1 in /usr/local/lib/python3.6/dist-packages (from matplotlib) (1.3.1)\n",
            "Requirement already satisfied: pandas>=0.23 in /usr/local/lib/python3.6/dist-packages (from seaborn) (1.1.5)\n",
            "Requirement already satisfied: scipy>=1.0 in /usr/local/lib/python3.6/dist-packages (from seaborn) (1.4.1)\n",
            "Requirement already satisfied: six in /usr/local/lib/python3.6/dist-packages (from cycler>=0.10->matplotlib) (1.15.0)\n",
            "Requirement already satisfied: pytz>=2017.2 in /usr/local/lib/python3.6/dist-packages (from pandas>=0.23->seaborn) (2018.9)\n",
            "Collecting numba==0.48\n",
            "\u001b[?25l  Downloading https://files.pythonhosted.org/packages/23/7f/dbe85f5f419dca88509d829df90dfa5aefa39c39f6b7020dfc206a386279/numba-0.48.0-1-cp36-cp36m-manylinux2014_x86_64.whl (3.5MB)\n",
            "\u001b[K     |████████████████████████████████| 3.5MB 5.1MB/s \n",
            "\u001b[?25hCollecting llvmlite<0.32.0,>=0.31.0dev0\n",
            "\u001b[?25l  Downloading https://files.pythonhosted.org/packages/ad/bb/60d4033d56c9da36490af19caa6c794b72b8aef6f792fdfa8cb95d11e419/llvmlite-0.31.0-cp36-cp36m-manylinux1_x86_64.whl (20.2MB)\n",
            "\u001b[K     |████████████████████████████████| 20.2MB 1.3MB/s \n",
            "\u001b[?25hRequirement already satisfied: numpy>=1.15 in /usr/local/lib/python3.6/dist-packages (from numba==0.48) (1.19.5)\n",
            "Requirement already satisfied: setuptools in /usr/local/lib/python3.6/dist-packages (from numba==0.48) (53.0.0)\n",
            "\u001b[31mERROR: umap-learn 0.5.0 has requirement numba>=0.49, but you'll have numba 0.48.0 which is incompatible.\u001b[0m\n",
            "\u001b[31mERROR: pynndescent 0.5.1 has requirement numba>=0.51.2, but you'll have numba 0.48.0 which is incompatible.\u001b[0m\n",
            "Installing collected packages: llvmlite, numba\n",
            "  Found existing installation: llvmlite 0.34.0\n",
            "    Uninstalling llvmlite-0.34.0:\n",
            "      Successfully uninstalled llvmlite-0.34.0\n",
            "  Found existing installation: numba 0.51.2\n",
            "    Uninstalling numba-0.51.2:\n",
            "      Successfully uninstalled numba-0.51.2\n",
            "Successfully installed llvmlite-0.31.0 numba-0.48.0\n",
            "Collecting aif360==0.2.2\n",
            "\u001b[?25l  Downloading https://files.pythonhosted.org/packages/99/54/09e0674fc1370072385d64e0282eff0857e3d78c3abd7d6471200cf7a00d/aif360-0.2.2-py2.py3-none-any.whl (56.4MB)\n",
            "\u001b[K     |████████████████████████████████| 56.4MB 65kB/s \n",
            "\u001b[?25hRequirement already satisfied: pandas>=0.23.3 in /usr/local/lib/python3.6/dist-packages (from aif360==0.2.2) (1.1.5)\n",
            "Requirement already satisfied: scipy in /usr/local/lib/python3.6/dist-packages (from aif360==0.2.2) (1.4.1)\n",
            "Requirement already satisfied: numpy>=1.16 in /usr/local/lib/python3.6/dist-packages (from aif360==0.2.2) (1.19.5)\n",
            "Requirement already satisfied: scikit-learn in /usr/local/lib/python3.6/dist-packages (from aif360==0.2.2) (0.22.2.post1)\n",
            "Requirement already satisfied: pytz>=2017.2 in /usr/local/lib/python3.6/dist-packages (from pandas>=0.23.3->aif360==0.2.2) (2018.9)\n",
            "Requirement already satisfied: python-dateutil>=2.7.3 in /usr/local/lib/python3.6/dist-packages (from pandas>=0.23.3->aif360==0.2.2) (2.8.1)\n",
            "Requirement already satisfied: joblib>=0.11 in /usr/local/lib/python3.6/dist-packages (from scikit-learn->aif360==0.2.2) (1.0.0)\n",
            "Requirement already satisfied: six>=1.5 in /usr/local/lib/python3.6/dist-packages (from python-dateutil>=2.7.3->pandas>=0.23.3->aif360==0.2.2) (1.15.0)\n",
            "Installing collected packages: aif360\n",
            "Successfully installed aif360-0.2.2\n",
            "Collecting BlackBoxAuditing\n",
            "\u001b[?25l  Downloading https://files.pythonhosted.org/packages/d8/2e/e2e7166bc78eb599b602ca79ace1ceba2ef83b69a0b708c9a7eb729347bf/BlackBoxAuditing-0.1.54.tar.gz (2.6MB)\n",
            "\u001b[K     |████████████████████████████████| 2.6MB 5.6MB/s \n",
            "\u001b[?25hRequirement already satisfied: networkx in /usr/local/lib/python3.6/dist-packages (from BlackBoxAuditing) (2.5)\n",
            "Requirement already satisfied: matplotlib in /usr/local/lib/python3.6/dist-packages (from BlackBoxAuditing) (3.2.2)\n",
            "Requirement already satisfied: pandas in /usr/local/lib/python3.6/dist-packages (from BlackBoxAuditing) (1.1.5)\n",
            "Requirement already satisfied: numpy in /usr/local/lib/python3.6/dist-packages (from BlackBoxAuditing) (1.19.5)\n",
            "Requirement already satisfied: decorator>=4.3.0 in /usr/local/lib/python3.6/dist-packages (from networkx->BlackBoxAuditing) (4.4.2)\n",
            "Requirement already satisfied: kiwisolver>=1.0.1 in /usr/local/lib/python3.6/dist-packages (from matplotlib->BlackBoxAuditing) (1.3.1)\n",
            "Requirement already satisfied: python-dateutil>=2.1 in /usr/local/lib/python3.6/dist-packages (from matplotlib->BlackBoxAuditing) (2.8.1)\n",
            "Requirement already satisfied: cycler>=0.10 in /usr/local/lib/python3.6/dist-packages (from matplotlib->BlackBoxAuditing) (0.10.0)\n",
            "Requirement already satisfied: pyparsing!=2.0.4,!=2.1.2,!=2.1.6,>=2.0.1 in /usr/local/lib/python3.6/dist-packages (from matplotlib->BlackBoxAuditing) (2.4.7)\n",
            "Requirement already satisfied: pytz>=2017.2 in /usr/local/lib/python3.6/dist-packages (from pandas->BlackBoxAuditing) (2018.9)\n",
            "Requirement already satisfied: six>=1.5 in /usr/local/lib/python3.6/dist-packages (from python-dateutil>=2.1->matplotlib->BlackBoxAuditing) (1.15.0)\n",
            "Building wheels for collected packages: BlackBoxAuditing\n",
            "  Building wheel for BlackBoxAuditing (setup.py) ... \u001b[?25l\u001b[?25hdone\n",
            "  Created wheel for BlackBoxAuditing: filename=BlackBoxAuditing-0.1.54-py2.py3-none-any.whl size=1394769 sha256=c909b03ebc89d28b0aec7959e2e4b9762aeab9a8c9ef1f826c22d669dbd656a5\n",
            "  Stored in directory: /root/.cache/pip/wheels/66/82/7b/ac2a79b8caf97e15ed415162a7f272cbba1e2e2c851fa76ae3\n",
            "Successfully built BlackBoxAuditing\n",
            "Installing collected packages: BlackBoxAuditing\n",
            "Successfully installed BlackBoxAuditing-0.1.54\n",
            "Collecting tensorflow==1.12.0\n",
            "\u001b[?25l  Downloading https://files.pythonhosted.org/packages/22/cc/ca70b78087015d21c5f3f93694107f34ebccb3be9624385a911d4b52ecef/tensorflow-1.12.0-cp36-cp36m-manylinux1_x86_64.whl (83.1MB)\n",
            "\u001b[K     |████████████████████████████████| 83.1MB 48kB/s \n",
            "\u001b[?25hRequirement already satisfied: keras-preprocessing>=1.0.5 in /usr/local/lib/python3.6/dist-packages (from tensorflow==1.12.0) (1.1.2)\n",
            "Requirement already satisfied: protobuf>=3.6.1 in /usr/local/lib/python3.6/dist-packages (from tensorflow==1.12.0) (3.12.4)\n",
            "Requirement already satisfied: six>=1.10.0 in /usr/local/lib/python3.6/dist-packages (from tensorflow==1.12.0) (1.15.0)\n",
            "Requirement already satisfied: grpcio>=1.8.6 in /usr/local/lib/python3.6/dist-packages (from tensorflow==1.12.0) (1.32.0)\n",
            "Requirement already satisfied: gast>=0.2.0 in /usr/local/lib/python3.6/dist-packages (from tensorflow==1.12.0) (0.3.3)\n",
            "Requirement already satisfied: wheel>=0.26 in /usr/local/lib/python3.6/dist-packages (from tensorflow==1.12.0) (0.36.2)\n",
            "Requirement already satisfied: numpy>=1.13.3 in /usr/local/lib/python3.6/dist-packages (from tensorflow==1.12.0) (1.19.5)\n",
            "Collecting keras-applications>=1.0.6\n",
            "\u001b[?25l  Downloading https://files.pythonhosted.org/packages/71/e3/19762fdfc62877ae9102edf6342d71b28fbfd9dea3d2f96a882ce099b03f/Keras_Applications-1.0.8-py3-none-any.whl (50kB)\n",
            "\u001b[K     |████████████████████████████████| 51kB 5.8MB/s \n",
            "\u001b[?25hCollecting tensorboard<1.13.0,>=1.12.0\n",
            "\u001b[?25l  Downloading https://files.pythonhosted.org/packages/07/53/8d32ce9471c18f8d99028b7cef2e5b39ea8765bd7ef250ca05b490880971/tensorboard-1.12.2-py3-none-any.whl (3.0MB)\n",
            "\u001b[K     |████████████████████████████████| 3.1MB 39.6MB/s \n",
            "\u001b[?25hRequirement already satisfied: astor>=0.6.0 in /usr/local/lib/python3.6/dist-packages (from tensorflow==1.12.0) (0.8.1)\n",
            "Requirement already satisfied: termcolor>=1.1.0 in /usr/local/lib/python3.6/dist-packages (from tensorflow==1.12.0) (1.1.0)\n",
            "Requirement already satisfied: absl-py>=0.1.6 in /usr/local/lib/python3.6/dist-packages (from tensorflow==1.12.0) (0.10.0)\n",
            "Requirement already satisfied: setuptools in /usr/local/lib/python3.6/dist-packages (from protobuf>=3.6.1->tensorflow==1.12.0) (53.0.0)\n",
            "Requirement already satisfied: h5py in /usr/local/lib/python3.6/dist-packages (from keras-applications>=1.0.6->tensorflow==1.12.0) (2.10.0)\n",
            "Requirement already satisfied: werkzeug>=0.11.10 in /usr/local/lib/python3.6/dist-packages (from tensorboard<1.13.0,>=1.12.0->tensorflow==1.12.0) (1.0.1)\n",
            "Requirement already satisfied: markdown>=2.6.8 in /usr/local/lib/python3.6/dist-packages (from tensorboard<1.13.0,>=1.12.0->tensorflow==1.12.0) (3.3.3)\n",
            "Requirement already satisfied: importlib-metadata; python_version < \"3.8\" in /usr/local/lib/python3.6/dist-packages (from markdown>=2.6.8->tensorboard<1.13.0,>=1.12.0->tensorflow==1.12.0) (3.4.0)\n",
            "Requirement already satisfied: zipp>=0.5 in /usr/local/lib/python3.6/dist-packages (from importlib-metadata; python_version < \"3.8\"->markdown>=2.6.8->tensorboard<1.13.0,>=1.12.0->tensorflow==1.12.0) (3.4.0)\n",
            "Requirement already satisfied: typing-extensions>=3.6.4; python_version < \"3.8\" in /usr/local/lib/python3.6/dist-packages (from importlib-metadata; python_version < \"3.8\"->markdown>=2.6.8->tensorboard<1.13.0,>=1.12.0->tensorflow==1.12.0) (3.7.4.3)\n",
            "Installing collected packages: keras-applications, tensorboard, tensorflow\n",
            "  Found existing installation: tensorboard 2.4.1\n",
            "    Uninstalling tensorboard-2.4.1:\n",
            "      Successfully uninstalled tensorboard-2.4.1\n",
            "  Found existing installation: tensorflow 2.4.1\n",
            "    Uninstalling tensorflow-2.4.1:\n",
            "      Successfully uninstalled tensorflow-2.4.1\n",
            "Successfully installed keras-applications-1.0.8 tensorboard-1.12.2 tensorflow-1.12.0\n"
          ],
          "name": "stdout"
        }
      ]
    },
    {
      "cell_type": "code",
      "metadata": {
        "id": "FJxDwiuVb_xt",
        "colab": {
          "base_uri": "https://localhost:8080/"
        },
        "outputId": "344a6686-1989-48bb-9774-991fc8a5aef5"
      },
      "source": [
        "# import all necessary packages\n",
        "import numpy as np\n",
        "np.random.seed(0)\n",
        "\n",
        "from aif360.datasets import GermanDataset\n",
        "from aif360.metrics import BinaryLabelDatasetMetric, DatasetMetric\n",
        "from aif360.algorithms.preprocessing import Reweighing\n",
        "from aif360.algorithms.inprocessing import AdversarialDebiasing\n",
        "from aif360.explainers import MetricTextExplainer, MetricJSONExplainer\n",
        "\n",
        "import tensorflow as tf\n",
        "print(tf.__version__)\n",
        "\n",
        "from IPython.display import Markdown, display\n",
        "\n",
        "import matplotlib\n",
        "import matplotlib.pyplot as plt\n",
        "import seaborn as sns\n",
        "\n",
        "import json\n",
        "from collections import OrderedDict"
      ],
      "execution_count": null,
      "outputs": [
        {
          "output_type": "stream",
          "text": [
            "/usr/local/lib/python3.6/dist-packages/tensorflow/python/framework/dtypes.py:523: FutureWarning: Passing (type, 1) or '1type' as a synonym of type is deprecated; in a future version of numpy, it will be understood as (type, (1,)) / '(1,)type'.\n",
            "  _np_qint8 = np.dtype([(\"qint8\", np.int8, 1)])\n",
            "/usr/local/lib/python3.6/dist-packages/tensorflow/python/framework/dtypes.py:524: FutureWarning: Passing (type, 1) or '1type' as a synonym of type is deprecated; in a future version of numpy, it will be understood as (type, (1,)) / '(1,)type'.\n",
            "  _np_quint8 = np.dtype([(\"quint8\", np.uint8, 1)])\n",
            "/usr/local/lib/python3.6/dist-packages/tensorflow/python/framework/dtypes.py:525: FutureWarning: Passing (type, 1) or '1type' as a synonym of type is deprecated; in a future version of numpy, it will be understood as (type, (1,)) / '(1,)type'.\n",
            "  _np_qint16 = np.dtype([(\"qint16\", np.int16, 1)])\n",
            "/usr/local/lib/python3.6/dist-packages/tensorflow/python/framework/dtypes.py:526: FutureWarning: Passing (type, 1) or '1type' as a synonym of type is deprecated; in a future version of numpy, it will be understood as (type, (1,)) / '(1,)type'.\n",
            "  _np_quint16 = np.dtype([(\"quint16\", np.uint16, 1)])\n",
            "/usr/local/lib/python3.6/dist-packages/tensorflow/python/framework/dtypes.py:527: FutureWarning: Passing (type, 1) or '1type' as a synonym of type is deprecated; in a future version of numpy, it will be understood as (type, (1,)) / '(1,)type'.\n",
            "  _np_qint32 = np.dtype([(\"qint32\", np.int32, 1)])\n",
            "/usr/local/lib/python3.6/dist-packages/tensorflow/python/framework/dtypes.py:532: FutureWarning: Passing (type, 1) or '1type' as a synonym of type is deprecated; in a future version of numpy, it will be understood as (type, (1,)) / '(1,)type'.\n",
            "  np_resource = np.dtype([(\"resource\", np.ubyte, 1)])\n"
          ],
          "name": "stderr"
        },
        {
          "output_type": "stream",
          "text": [
            "1.12.0\n"
          ],
          "name": "stdout"
        }
      ]
    },
    {
      "cell_type": "markdown",
      "metadata": {
        "id": "wQj5VqOSb_xt"
      },
      "source": [
        "## 2 Load Data, Specify Protected Attribute, and Split Data\n",
        "\n",
        "Next we'll load the German Credit Risk data and set the protected attribute to be age. We then split the original dataset into training and test data subsets. Although we'll use the training dataset only in this tutorial, a normal workflow would also use a test dataset for assessing the efficacy (accuracy, fairness, etc.) during the development of a machine learning model. Finally, we create two variables to represent the privileged and unprivileged values for the age attribute.\n",
        "\n",
        "The German Credit Risk data contains 1000 entries with 20 categorical and integer attributes prepared. In this dataset, each entry represents a person applying for a loan. Each person is classified as a \"good\" or \"bad\" credit risk. The original dataset can be found at https://archive.ics.uci.edu/ml/datasets/Statlog+%28German+Credit+Data%29\n",
        "\n",
        "Recall that a _protected attribute_ is the attribute of interest, i.e. the attribute for which you want to test bias. The _privileged class_ is a subset of protected attribute values which we define as privileged from a fairness perspective. In the German dataset, older applicants (age >= 25) are the privileged class and younger applicants (age < 25) are the unprivileged class. We therefore have binary membership in a protected group (age) and a binary classification problem (good or bad credit risk).\n",
        "\n",
        "Let's prepare the data:"
      ]
    },
    {
      "cell_type": "code",
      "metadata": {
        "id": "JYB3PkStb_xv"
      },
      "source": [
        "# note that we drop sex, which may also be a protected attribute\n",
        "dataset_orig = GermanDataset(protected_attribute_names=['age'],\n",
        "                             privileged_classes=[lambda x: x >= 25],\n",
        "                             features_to_drop=['personal_status', 'sex'])\n",
        "\n",
        "dataset_orig_train, dataset_orig_test = dataset_orig.split([0.7], shuffle=True)\n",
        "\n",
        "privileged_groups = [{'age': 1}]\n",
        "unprivileged_groups = [{'age': 0}]"
      ],
      "execution_count": null,
      "outputs": []
    },
    {
      "cell_type": "code",
      "metadata": {
        "id": "MsFiFKReb_xw",
        "colab": {
          "base_uri": "https://localhost:8080/"
        },
        "outputId": "1eaef36d-dbb1-4576-c9c3-49fc8f60e180"
      },
      "source": [
        "print(\"Original one hot encoded german dataset shape: \",dataset_orig.features.shape)\n",
        "print(\"Train dataset shape: \", dataset_orig_train.features.shape)\n",
        "print(\"Test dataset shape: \", dataset_orig_test.features.shape)"
      ],
      "execution_count": null,
      "outputs": [
        {
          "output_type": "stream",
          "text": [
            "Original one hot encoded german dataset shape:  (1000, 57)\n",
            "Train dataset shape:  (700, 57)\n",
            "Test dataset shape:  (300, 57)\n"
          ],
          "name": "stdout"
        }
      ]
    },
    {
      "cell_type": "markdown",
      "metadata": {
        "id": "lTTLfl2tb_xw"
      },
      "source": [
        "The object ```dataset_orig``` is an aif360 dataset, which has some useful methods and attributes that you can explore. More documentation is available at https://aif360.readthedocs.io/en/latest/modules/datasets.html.\n",
        "\n",
        "For now, we'll just transform the data into a pandas dataframe:"
      ]
    },
    {
      "cell_type": "code",
      "metadata": {
        "id": "W3Aonmt3b_xw"
      },
      "source": [
        "df, dict_df = dataset_orig.convert_to_dataframe()"
      ],
      "execution_count": null,
      "outputs": []
    },
    {
      "cell_type": "code",
      "metadata": {
        "id": "Jax9cvjub_xx",
        "colab": {
          "base_uri": "https://localhost:8080/",
          "height": 564
        },
        "outputId": "9d8ac12a-737d-4bef-a920-2aab9e97d3f5"
      },
      "source": [
        "print(\"Shape: \", df.shape)\n",
        "print(df.columns)\n",
        "df.head(5)"
      ],
      "execution_count": null,
      "outputs": [
        {
          "output_type": "stream",
          "text": [
            "Shape:  (1000, 58)\n",
            "Index(['month', 'credit_amount', 'investment_as_income_percentage',\n",
            "       'residence_since', 'age', 'number_of_credits', 'people_liable_for',\n",
            "       'status=A11', 'status=A12', 'status=A13', 'status=A14',\n",
            "       'credit_history=A30', 'credit_history=A31', 'credit_history=A32',\n",
            "       'credit_history=A33', 'credit_history=A34', 'purpose=A40',\n",
            "       'purpose=A41', 'purpose=A410', 'purpose=A42', 'purpose=A43',\n",
            "       'purpose=A44', 'purpose=A45', 'purpose=A46', 'purpose=A48',\n",
            "       'purpose=A49', 'savings=A61', 'savings=A62', 'savings=A63',\n",
            "       'savings=A64', 'savings=A65', 'employment=A71', 'employment=A72',\n",
            "       'employment=A73', 'employment=A74', 'employment=A75',\n",
            "       'other_debtors=A101', 'other_debtors=A102', 'other_debtors=A103',\n",
            "       'property=A121', 'property=A122', 'property=A123', 'property=A124',\n",
            "       'installment_plans=A141', 'installment_plans=A142',\n",
            "       'installment_plans=A143', 'housing=A151', 'housing=A152',\n",
            "       'housing=A153', 'skill_level=A171', 'skill_level=A172',\n",
            "       'skill_level=A173', 'skill_level=A174', 'telephone=A191',\n",
            "       'telephone=A192', 'foreign_worker=A201', 'foreign_worker=A202',\n",
            "       'credit'],\n",
            "      dtype='object')\n"
          ],
          "name": "stdout"
        },
        {
          "output_type": "execute_result",
          "data": {
            "text/html": [
              "<div>\n",
              "<style scoped>\n",
              "    .dataframe tbody tr th:only-of-type {\n",
              "        vertical-align: middle;\n",
              "    }\n",
              "\n",
              "    .dataframe tbody tr th {\n",
              "        vertical-align: top;\n",
              "    }\n",
              "\n",
              "    .dataframe thead th {\n",
              "        text-align: right;\n",
              "    }\n",
              "</style>\n",
              "<table border=\"1\" class=\"dataframe\">\n",
              "  <thead>\n",
              "    <tr style=\"text-align: right;\">\n",
              "      <th></th>\n",
              "      <th>month</th>\n",
              "      <th>credit_amount</th>\n",
              "      <th>investment_as_income_percentage</th>\n",
              "      <th>residence_since</th>\n",
              "      <th>age</th>\n",
              "      <th>number_of_credits</th>\n",
              "      <th>people_liable_for</th>\n",
              "      <th>status=A11</th>\n",
              "      <th>status=A12</th>\n",
              "      <th>status=A13</th>\n",
              "      <th>status=A14</th>\n",
              "      <th>credit_history=A30</th>\n",
              "      <th>credit_history=A31</th>\n",
              "      <th>credit_history=A32</th>\n",
              "      <th>credit_history=A33</th>\n",
              "      <th>credit_history=A34</th>\n",
              "      <th>purpose=A40</th>\n",
              "      <th>purpose=A41</th>\n",
              "      <th>purpose=A410</th>\n",
              "      <th>purpose=A42</th>\n",
              "      <th>purpose=A43</th>\n",
              "      <th>purpose=A44</th>\n",
              "      <th>purpose=A45</th>\n",
              "      <th>purpose=A46</th>\n",
              "      <th>purpose=A48</th>\n",
              "      <th>purpose=A49</th>\n",
              "      <th>savings=A61</th>\n",
              "      <th>savings=A62</th>\n",
              "      <th>savings=A63</th>\n",
              "      <th>savings=A64</th>\n",
              "      <th>savings=A65</th>\n",
              "      <th>employment=A71</th>\n",
              "      <th>employment=A72</th>\n",
              "      <th>employment=A73</th>\n",
              "      <th>employment=A74</th>\n",
              "      <th>employment=A75</th>\n",
              "      <th>other_debtors=A101</th>\n",
              "      <th>other_debtors=A102</th>\n",
              "      <th>other_debtors=A103</th>\n",
              "      <th>property=A121</th>\n",
              "      <th>property=A122</th>\n",
              "      <th>property=A123</th>\n",
              "      <th>property=A124</th>\n",
              "      <th>installment_plans=A141</th>\n",
              "      <th>installment_plans=A142</th>\n",
              "      <th>installment_plans=A143</th>\n",
              "      <th>housing=A151</th>\n",
              "      <th>housing=A152</th>\n",
              "      <th>housing=A153</th>\n",
              "      <th>skill_level=A171</th>\n",
              "      <th>skill_level=A172</th>\n",
              "      <th>skill_level=A173</th>\n",
              "      <th>skill_level=A174</th>\n",
              "      <th>telephone=A191</th>\n",
              "      <th>telephone=A192</th>\n",
              "      <th>foreign_worker=A201</th>\n",
              "      <th>foreign_worker=A202</th>\n",
              "      <th>credit</th>\n",
              "    </tr>\n",
              "  </thead>\n",
              "  <tbody>\n",
              "    <tr>\n",
              "      <th>0</th>\n",
              "      <td>6.0</td>\n",
              "      <td>1169.0</td>\n",
              "      <td>4.0</td>\n",
              "      <td>4.0</td>\n",
              "      <td>1.0</td>\n",
              "      <td>2.0</td>\n",
              "      <td>1.0</td>\n",
              "      <td>1.0</td>\n",
              "      <td>0.0</td>\n",
              "      <td>0.0</td>\n",
              "      <td>0.0</td>\n",
              "      <td>0.0</td>\n",
              "      <td>0.0</td>\n",
              "      <td>0.0</td>\n",
              "      <td>0.0</td>\n",
              "      <td>1.0</td>\n",
              "      <td>0.0</td>\n",
              "      <td>0.0</td>\n",
              "      <td>0.0</td>\n",
              "      <td>0.0</td>\n",
              "      <td>1.0</td>\n",
              "      <td>0.0</td>\n",
              "      <td>0.0</td>\n",
              "      <td>0.0</td>\n",
              "      <td>0.0</td>\n",
              "      <td>0.0</td>\n",
              "      <td>0.0</td>\n",
              "      <td>0.0</td>\n",
              "      <td>0.0</td>\n",
              "      <td>0.0</td>\n",
              "      <td>1.0</td>\n",
              "      <td>0.0</td>\n",
              "      <td>0.0</td>\n",
              "      <td>0.0</td>\n",
              "      <td>0.0</td>\n",
              "      <td>1.0</td>\n",
              "      <td>1.0</td>\n",
              "      <td>0.0</td>\n",
              "      <td>0.0</td>\n",
              "      <td>1.0</td>\n",
              "      <td>0.0</td>\n",
              "      <td>0.0</td>\n",
              "      <td>0.0</td>\n",
              "      <td>0.0</td>\n",
              "      <td>0.0</td>\n",
              "      <td>1.0</td>\n",
              "      <td>0.0</td>\n",
              "      <td>1.0</td>\n",
              "      <td>0.0</td>\n",
              "      <td>0.0</td>\n",
              "      <td>0.0</td>\n",
              "      <td>1.0</td>\n",
              "      <td>0.0</td>\n",
              "      <td>0.0</td>\n",
              "      <td>1.0</td>\n",
              "      <td>1.0</td>\n",
              "      <td>0.0</td>\n",
              "      <td>1.0</td>\n",
              "    </tr>\n",
              "    <tr>\n",
              "      <th>1</th>\n",
              "      <td>48.0</td>\n",
              "      <td>5951.0</td>\n",
              "      <td>2.0</td>\n",
              "      <td>2.0</td>\n",
              "      <td>0.0</td>\n",
              "      <td>1.0</td>\n",
              "      <td>1.0</td>\n",
              "      <td>0.0</td>\n",
              "      <td>1.0</td>\n",
              "      <td>0.0</td>\n",
              "      <td>0.0</td>\n",
              "      <td>0.0</td>\n",
              "      <td>0.0</td>\n",
              "      <td>1.0</td>\n",
              "      <td>0.0</td>\n",
              "      <td>0.0</td>\n",
              "      <td>0.0</td>\n",
              "      <td>0.0</td>\n",
              "      <td>0.0</td>\n",
              "      <td>0.0</td>\n",
              "      <td>1.0</td>\n",
              "      <td>0.0</td>\n",
              "      <td>0.0</td>\n",
              "      <td>0.0</td>\n",
              "      <td>0.0</td>\n",
              "      <td>0.0</td>\n",
              "      <td>1.0</td>\n",
              "      <td>0.0</td>\n",
              "      <td>0.0</td>\n",
              "      <td>0.0</td>\n",
              "      <td>0.0</td>\n",
              "      <td>0.0</td>\n",
              "      <td>0.0</td>\n",
              "      <td>1.0</td>\n",
              "      <td>0.0</td>\n",
              "      <td>0.0</td>\n",
              "      <td>1.0</td>\n",
              "      <td>0.0</td>\n",
              "      <td>0.0</td>\n",
              "      <td>1.0</td>\n",
              "      <td>0.0</td>\n",
              "      <td>0.0</td>\n",
              "      <td>0.0</td>\n",
              "      <td>0.0</td>\n",
              "      <td>0.0</td>\n",
              "      <td>1.0</td>\n",
              "      <td>0.0</td>\n",
              "      <td>1.0</td>\n",
              "      <td>0.0</td>\n",
              "      <td>0.0</td>\n",
              "      <td>0.0</td>\n",
              "      <td>1.0</td>\n",
              "      <td>0.0</td>\n",
              "      <td>1.0</td>\n",
              "      <td>0.0</td>\n",
              "      <td>1.0</td>\n",
              "      <td>0.0</td>\n",
              "      <td>2.0</td>\n",
              "    </tr>\n",
              "    <tr>\n",
              "      <th>2</th>\n",
              "      <td>12.0</td>\n",
              "      <td>2096.0</td>\n",
              "      <td>2.0</td>\n",
              "      <td>3.0</td>\n",
              "      <td>1.0</td>\n",
              "      <td>1.0</td>\n",
              "      <td>2.0</td>\n",
              "      <td>0.0</td>\n",
              "      <td>0.0</td>\n",
              "      <td>0.0</td>\n",
              "      <td>1.0</td>\n",
              "      <td>0.0</td>\n",
              "      <td>0.0</td>\n",
              "      <td>0.0</td>\n",
              "      <td>0.0</td>\n",
              "      <td>1.0</td>\n",
              "      <td>0.0</td>\n",
              "      <td>0.0</td>\n",
              "      <td>0.0</td>\n",
              "      <td>0.0</td>\n",
              "      <td>0.0</td>\n",
              "      <td>0.0</td>\n",
              "      <td>0.0</td>\n",
              "      <td>1.0</td>\n",
              "      <td>0.0</td>\n",
              "      <td>0.0</td>\n",
              "      <td>1.0</td>\n",
              "      <td>0.0</td>\n",
              "      <td>0.0</td>\n",
              "      <td>0.0</td>\n",
              "      <td>0.0</td>\n",
              "      <td>0.0</td>\n",
              "      <td>0.0</td>\n",
              "      <td>0.0</td>\n",
              "      <td>1.0</td>\n",
              "      <td>0.0</td>\n",
              "      <td>1.0</td>\n",
              "      <td>0.0</td>\n",
              "      <td>0.0</td>\n",
              "      <td>1.0</td>\n",
              "      <td>0.0</td>\n",
              "      <td>0.0</td>\n",
              "      <td>0.0</td>\n",
              "      <td>0.0</td>\n",
              "      <td>0.0</td>\n",
              "      <td>1.0</td>\n",
              "      <td>0.0</td>\n",
              "      <td>1.0</td>\n",
              "      <td>0.0</td>\n",
              "      <td>0.0</td>\n",
              "      <td>1.0</td>\n",
              "      <td>0.0</td>\n",
              "      <td>0.0</td>\n",
              "      <td>1.0</td>\n",
              "      <td>0.0</td>\n",
              "      <td>1.0</td>\n",
              "      <td>0.0</td>\n",
              "      <td>1.0</td>\n",
              "    </tr>\n",
              "    <tr>\n",
              "      <th>3</th>\n",
              "      <td>42.0</td>\n",
              "      <td>7882.0</td>\n",
              "      <td>2.0</td>\n",
              "      <td>4.0</td>\n",
              "      <td>1.0</td>\n",
              "      <td>1.0</td>\n",
              "      <td>2.0</td>\n",
              "      <td>1.0</td>\n",
              "      <td>0.0</td>\n",
              "      <td>0.0</td>\n",
              "      <td>0.0</td>\n",
              "      <td>0.0</td>\n",
              "      <td>0.0</td>\n",
              "      <td>1.0</td>\n",
              "      <td>0.0</td>\n",
              "      <td>0.0</td>\n",
              "      <td>0.0</td>\n",
              "      <td>0.0</td>\n",
              "      <td>0.0</td>\n",
              "      <td>1.0</td>\n",
              "      <td>0.0</td>\n",
              "      <td>0.0</td>\n",
              "      <td>0.0</td>\n",
              "      <td>0.0</td>\n",
              "      <td>0.0</td>\n",
              "      <td>0.0</td>\n",
              "      <td>1.0</td>\n",
              "      <td>0.0</td>\n",
              "      <td>0.0</td>\n",
              "      <td>0.0</td>\n",
              "      <td>0.0</td>\n",
              "      <td>0.0</td>\n",
              "      <td>0.0</td>\n",
              "      <td>0.0</td>\n",
              "      <td>1.0</td>\n",
              "      <td>0.0</td>\n",
              "      <td>0.0</td>\n",
              "      <td>0.0</td>\n",
              "      <td>1.0</td>\n",
              "      <td>0.0</td>\n",
              "      <td>1.0</td>\n",
              "      <td>0.0</td>\n",
              "      <td>0.0</td>\n",
              "      <td>0.0</td>\n",
              "      <td>0.0</td>\n",
              "      <td>1.0</td>\n",
              "      <td>0.0</td>\n",
              "      <td>0.0</td>\n",
              "      <td>1.0</td>\n",
              "      <td>0.0</td>\n",
              "      <td>0.0</td>\n",
              "      <td>1.0</td>\n",
              "      <td>0.0</td>\n",
              "      <td>1.0</td>\n",
              "      <td>0.0</td>\n",
              "      <td>1.0</td>\n",
              "      <td>0.0</td>\n",
              "      <td>1.0</td>\n",
              "    </tr>\n",
              "    <tr>\n",
              "      <th>4</th>\n",
              "      <td>24.0</td>\n",
              "      <td>4870.0</td>\n",
              "      <td>3.0</td>\n",
              "      <td>4.0</td>\n",
              "      <td>1.0</td>\n",
              "      <td>2.0</td>\n",
              "      <td>2.0</td>\n",
              "      <td>1.0</td>\n",
              "      <td>0.0</td>\n",
              "      <td>0.0</td>\n",
              "      <td>0.0</td>\n",
              "      <td>0.0</td>\n",
              "      <td>0.0</td>\n",
              "      <td>0.0</td>\n",
              "      <td>1.0</td>\n",
              "      <td>0.0</td>\n",
              "      <td>1.0</td>\n",
              "      <td>0.0</td>\n",
              "      <td>0.0</td>\n",
              "      <td>0.0</td>\n",
              "      <td>0.0</td>\n",
              "      <td>0.0</td>\n",
              "      <td>0.0</td>\n",
              "      <td>0.0</td>\n",
              "      <td>0.0</td>\n",
              "      <td>0.0</td>\n",
              "      <td>1.0</td>\n",
              "      <td>0.0</td>\n",
              "      <td>0.0</td>\n",
              "      <td>0.0</td>\n",
              "      <td>0.0</td>\n",
              "      <td>0.0</td>\n",
              "      <td>0.0</td>\n",
              "      <td>1.0</td>\n",
              "      <td>0.0</td>\n",
              "      <td>0.0</td>\n",
              "      <td>1.0</td>\n",
              "      <td>0.0</td>\n",
              "      <td>0.0</td>\n",
              "      <td>0.0</td>\n",
              "      <td>0.0</td>\n",
              "      <td>0.0</td>\n",
              "      <td>1.0</td>\n",
              "      <td>0.0</td>\n",
              "      <td>0.0</td>\n",
              "      <td>1.0</td>\n",
              "      <td>0.0</td>\n",
              "      <td>0.0</td>\n",
              "      <td>1.0</td>\n",
              "      <td>0.0</td>\n",
              "      <td>0.0</td>\n",
              "      <td>1.0</td>\n",
              "      <td>0.0</td>\n",
              "      <td>1.0</td>\n",
              "      <td>0.0</td>\n",
              "      <td>1.0</td>\n",
              "      <td>0.0</td>\n",
              "      <td>2.0</td>\n",
              "    </tr>\n",
              "  </tbody>\n",
              "</table>\n",
              "</div>"
            ],
            "text/plain": [
              "   month  credit_amount  ...  foreign_worker=A202  credit\n",
              "0    6.0         1169.0  ...                  0.0     1.0\n",
              "1   48.0         5951.0  ...                  0.0     2.0\n",
              "2   12.0         2096.0  ...                  0.0     1.0\n",
              "3   42.0         7882.0  ...                  0.0     1.0\n",
              "4   24.0         4870.0  ...                  0.0     2.0\n",
              "\n",
              "[5 rows x 58 columns]"
            ]
          },
          "metadata": {
            "tags": []
          },
          "execution_count": 6
        }
      ]
    },
    {
      "cell_type": "markdown",
      "metadata": {
        "id": "tEeX43jZb_xy"
      },
      "source": [
        "Let's take a look at our primary variables of interest: "
      ]
    },
    {
      "cell_type": "code",
      "metadata": {
        "id": "JdG0eNdyb_xz",
        "colab": {
          "base_uri": "https://localhost:8080/",
          "height": 319
        },
        "outputId": "e8f06aee-9e61-4ba4-c419-0a591eb82762"
      },
      "source": [
        "print(\"Key: \", dataset_orig.metadata['protected_attribute_maps'][1])\n",
        "df['age'].value_counts().plot(kind='bar')\n",
        "plt.xlabel(\"Age (0 = under 25, 1 = over 25)\")\n",
        "plt.ylabel(\"Frequency\")"
      ],
      "execution_count": null,
      "outputs": [
        {
          "output_type": "stream",
          "text": [
            "Key:  {1.0: 'Old', 0.0: 'Young'}\n"
          ],
          "name": "stdout"
        },
        {
          "output_type": "execute_result",
          "data": {
            "text/plain": [
              "Text(0, 0.5, 'Frequency')"
            ]
          },
          "metadata": {
            "tags": []
          },
          "execution_count": 7
        },
        {
          "output_type": "display_data",
          "data": {
            "image/png": "[encoded data removed]",
            "text/plain": [
              "<Figure size 432x288 with 1 Axes>"
            ]
          },
          "metadata": {
            "tags": [],
            "needs_background": "light"
          }
        }
      ]
    },
    {
      "cell_type": "code",
      "metadata": {
        "id": "50wiFbnvb_xz",
        "colab": {
          "base_uri": "https://localhost:8080/",
          "height": 319
        },
        "outputId": "a9b12ca8-c4c0-49f5-f4da-bae5fdd3dda5"
      },
      "source": [
        "print(\"Key: \", dataset_orig.metadata['label_maps'])\n",
        "df['credit'].value_counts().plot(kind='bar')\n",
        "plt.xlabel(\"Credit (1 = Good Credit, 2 = Bad Credit)\")\n",
        "plt.ylabel(\"Frequency\")"
      ],
      "execution_count": null,
      "outputs": [
        {
          "output_type": "stream",
          "text": [
            "Key:  [{1.0: 'Good Credit', 2.0: 'Bad Credit'}]\n"
          ],
          "name": "stdout"
        },
        {
          "output_type": "execute_result",
          "data": {
            "text/plain": [
              "Text(0, 0.5, 'Frequency')"
            ]
          },
          "metadata": {
            "tags": []
          },
          "execution_count": 8
        },
        {
          "output_type": "display_data",
          "data": {
            "image/png": "[encoded data removed]",
            "text/plain": [
              "<Figure size 432x288 with 1 Axes>"
            ]
          },
          "metadata": {
            "tags": [],
            "needs_background": "light"
          }
        }
      ]
    },
    {
      "cell_type": "markdown",
      "metadata": {
        "id": "Mm8RQJL8b_xz"
      },
      "source": [
        "Take a minute to explore the relationship between these two variables. Do credit scores vary with age? "
      ]
    },
    {
      "cell_type": "code",
      "metadata": {
        "id": "VGiFK1L3b_xz",
        "colab": {
          "base_uri": "https://localhost:8080/",
          "height": 142
        },
        "outputId": "f5eb748b-2adb-4310-a1fb-a810ca734781"
      },
      "source": [
        "# write your code here\n",
        "import pandas as pd\n",
        "pd.crosstab(df['credit'], df['age'])"
      ],
      "execution_count": null,
      "outputs": [
        {
          "output_type": "execute_result",
          "data": {
            "text/html": [
              "<div>\n",
              "<style scoped>\n",
              "    .dataframe tbody tr th:only-of-type {\n",
              "        vertical-align: middle;\n",
              "    }\n",
              "\n",
              "    .dataframe tbody tr th {\n",
              "        vertical-align: top;\n",
              "    }\n",
              "\n",
              "    .dataframe thead th {\n",
              "        text-align: right;\n",
              "    }\n",
              "</style>\n",
              "<table border=\"1\" class=\"dataframe\">\n",
              "  <thead>\n",
              "    <tr style=\"text-align: right;\">\n",
              "      <th>age</th>\n",
              "      <th>0.0</th>\n",
              "      <th>1.0</th>\n",
              "    </tr>\n",
              "    <tr>\n",
              "      <th>credit</th>\n",
              "      <th></th>\n",
              "      <th></th>\n",
              "    </tr>\n",
              "  </thead>\n",
              "  <tbody>\n",
              "    <tr>\n",
              "      <th>1.0</th>\n",
              "      <td>88</td>\n",
              "      <td>612</td>\n",
              "    </tr>\n",
              "    <tr>\n",
              "      <th>2.0</th>\n",
              "      <td>61</td>\n",
              "      <td>239</td>\n",
              "    </tr>\n",
              "  </tbody>\n",
              "</table>\n",
              "</div>"
            ],
            "text/plain": [
              "age     0.0  1.0\n",
              "credit          \n",
              "1.0      88  612\n",
              "2.0      61  239"
            ]
          },
          "metadata": {
            "tags": []
          },
          "execution_count": 9
        }
      ]
    },
    {
      "cell_type": "markdown",
      "metadata": {
        "id": "dXZn5F8EPThh"
      },
      "source": [
        "88/147 (or 59.86% ) of people under 25 are associated with good credit, whereas 612/851 (or 71.91%) of people over 25 are associated with good credit (a larger number and a larger percentage). "
      ]
    },
    {
      "cell_type": "markdown",
      "metadata": {
        "id": "kITY3AtDb_xz"
      },
      "source": [
        "## 3 Compute Fairness Metrics on Original Training Data\n",
        "Now that we've identified the protected attribute \"age\" and defined privileged and unprivileged values, we can use aif360 to detect bias in the dataset.  "
      ]
    },
    {
      "cell_type": "markdown",
      "metadata": {
        "id": "ZZLVzqlmwOXI"
      },
      "source": [
        "### Mean Outcomes\n",
        "\n",
        "Compare the percentage of favorable results for the privileged and unprivileged groups, subtracting the former percentage from the latter. This is equivalent to the mean difference in outcomes by group. A value of 0 indicates parity. A value less than 0 indicates less favorable outcomes for the unprivileged groups.  \n",
        "\n",
        "This is implemented in the method called ```mean_difference``` on the BinaryLabelDatasetMetric class.  The code below performs this check and displays the output."
      ]
    },
    {
      "cell_type": "code",
      "metadata": {
        "id": "bVQWXC8Ub_x0",
        "colab": {
          "base_uri": "https://localhost:8080/"
        },
        "outputId": "f2e3eefe-821d-4a68-ab24-940e9d66c72c"
      },
      "source": [
        "metric_orig_train = BinaryLabelDatasetMetric(\n",
        "     dataset_orig_train, \n",
        "     unprivileged_groups=unprivileged_groups,\n",
        "     privileged_groups=privileged_groups\n",
        "  )\n",
        "print(\"Original training dataset\")\n",
        "print(\"Difference in mean outcomes between unprivileged and privileged groups = %f\" % metric_orig_train.mean_difference())"
      ],
      "execution_count": null,
      "outputs": [
        {
          "output_type": "stream",
          "text": [
            "Original training dataset\n",
            "Difference in mean outcomes between unprivileged and privileged groups = -0.169905\n"
          ],
          "name": "stdout"
        }
      ]
    },
    {
      "cell_type": "markdown",
      "metadata": {
        "id": "6ZufOXh9b_x0"
      },
      "source": [
        "### Disparate Impact\n",
        "We can calculate the ratio of predicted favorable outcomes for the unprivileged group compared to the privileged group. A value of 1 would indicate no disparate impact. A value less than 1 implies favorable outcomes for the privileged group and a value greater than 1 implies a favorable outcomes for the unprivileged group."
      ]
    },
    {
      "cell_type": "code",
      "metadata": {
        "id": "1iw7g6Hjb_x0",
        "colab": {
          "base_uri": "https://localhost:8080/"
        },
        "outputId": "f5d38e62-5961-4fd8-abf5-388cc4b39395"
      },
      "source": [
        "print(\"Original training dataset\")\n",
        "print(\"Disparate Impact = %f\" % metric_orig_train.disparate_impact())"
      ],
      "execution_count": null,
      "outputs": [
        {
          "output_type": "stream",
          "text": [
            "Original training dataset\n",
            "Disparate Impact = 0.766430\n"
          ],
          "name": "stdout"
        }
      ]
    },
    {
      "cell_type": "markdown",
      "metadata": {
        "id": "EcTiGnSob_x1"
      },
      "source": [
        "### Built-In Explainers\n",
        "\n",
        "```aif360``` has some useful explainers for the fairness metrics:"
      ]
    },
    {
      "cell_type": "code",
      "metadata": {
        "id": "ERMXmj2pb_x1"
      },
      "source": [
        "json_expl = MetricJSONExplainer(metric_orig_train)\n",
        "def format_json(json_str):\n",
        "    return json.dumps(json.loads(json_str, object_pairs_hook=OrderedDict),\n",
        "                      indent=2)"
      ],
      "execution_count": null,
      "outputs": []
    },
    {
      "cell_type": "markdown",
      "metadata": {
        "id": "OWuosH5pxVHe"
      },
      "source": [
        "Let's print the mean difference explainer:"
      ]
    },
    {
      "cell_type": "code",
      "metadata": {
        "colab": {
          "base_uri": "https://localhost:8080/"
        },
        "id": "7cc0pIUPxdFl",
        "outputId": "a5718c55-c464-4aa8-a601-2cbd7299ef3b"
      },
      "source": [
        "print(format_json(json_expl.mean_difference()))"
      ],
      "execution_count": null,
      "outputs": [
        {
          "output_type": "stream",
          "text": [
            "{\n",
            "  \"metric\": \"Mean Difference\",\n",
            "  \"message\": \"Mean difference (mean label value on privileged instances - mean label value on unprivileged instances): -0.1699054740619017\",\n",
            "  \"numPositivesUnprivileged\": 63.0,\n",
            "  \"numInstancesUnprivileged\": 113.0,\n",
            "  \"numPositivesPrivileged\": 427.0,\n",
            "  \"numInstancesPrivileged\": 587.0,\n",
            "  \"description\": \"Computed as the difference of the rate of favorable outcomes received by the unprivileged group to the privileged group.\",\n",
            "  \"ideal\": \"The ideal value of this metric is 0.0\"\n",
            "}\n"
          ],
          "name": "stdout"
        }
      ]
    },
    {
      "cell_type": "markdown",
      "metadata": {
        "id": "vl-r2vpjxPFo"
      },
      "source": [
        "We can also print the disparate impact explainer:"
      ]
    },
    {
      "cell_type": "code",
      "metadata": {
        "colab": {
          "base_uri": "https://localhost:8080/"
        },
        "id": "y-FoLzMTxSGS",
        "outputId": "8485325d-1bca-4425-8352-f5f0a9c33d9b"
      },
      "source": [
        "print(format_json(json_expl.disparate_impact()))"
      ],
      "execution_count": null,
      "outputs": [
        {
          "output_type": "stream",
          "text": [
            "{\n",
            "  \"metric\": \"Disparate Impact\",\n",
            "  \"message\": \"Disparate impact (probability of favorable outcome for unprivileged instances / probability of favorable outcome for privileged instances): 0.7664297113013201\",\n",
            "  \"numPositivePredictionsUnprivileged\": 63.0,\n",
            "  \"numUnprivileged\": 113.0,\n",
            "  \"numPositivePredictionsPrivileged\": 427.0,\n",
            "  \"numPrivileged\": 587.0,\n",
            "  \"description\": \"Computed as the ratio of rate of favorable outcome for the unprivileged group to that of the privileged group.\",\n",
            "  \"ideal\": \"The ideal value of this metric is 1.0 A value < 1 implies higher benefit for the privileged group and a value >1 implies a higher benefit for the unprivileged group.\"\n",
            "}\n"
          ],
          "name": "stdout"
        }
      ]
    },
    {
      "cell_type": "markdown",
      "metadata": {
        "id": "dcDleSrDJr_B"
      },
      "source": [
        "Interpret the difference in means and disparate impact in the German Credit data:"
      ]
    },
    {
      "cell_type": "markdown",
      "metadata": {
        "id": "1HV2t23yJ19P"
      },
      "source": [
        "**Analysis**\n",
        "\n",
        "Here, the difference in means has the value ~ -0.17, whereas the disparate impact has the value ~0.76. \n",
        "\n",
        "Since the value for disparate impact is lesser than 1, this implies that a higher degree of benefit exists for the privileged group.\n",
        "\n",
        "Since the value for the difference in means is negative, this (value less than 0) indicates less favorable outcomes for the unprivileged group."
      ]
    },
    {
      "cell_type": "markdown",
      "metadata": {
        "id": "riLalr-WwDsG"
      },
      "source": [
        "## 4 Bias Mitigation via In-Processing\n",
        "\n",
        "In-processing methods focus on the model training stage, as compared to pre-processing which focuses on transforming the data prior to model training. Broadly speaking, contemporary in-processing methods are stronger than pre-processing methods."
      ]
    },
    {
      "cell_type": "markdown",
      "metadata": {
        "id": "fUZKKFAo1R1v"
      },
      "source": [
        "### Adversarial Debiasing\n",
        "\n",
        "In this part of the notebook, we'll use an in-processing algorithm called adversarial debiasing to mitigate the bias in credit prediction with respect to age that we observed in the previous section. From the aif360 documentation (https://aif360.readthedocs.io/en/v0.2.3/modules/inprocessing.html):\n",
        "\n",
        "> Adversarial debiasing is an in-processing technique that learns a classifier to maximize prediction accuracy and simultaneously reduce an adversary’s ability to determine the protected attribute from the predictions. This approach leads to a fair classifier as the predictions cannot carry any group discrimination information that the adversary can exploit.\n",
        "\n",
        "For intuition, you can think of adversarial debiasing as a model with two supervised learning tasks. The first task is to predict an outcome using the training data input. The second task, i.e. the adversary, is to predict a protected feature using these predictions and non-protected features in the training data input. The aim is to maximize the model's ability to carry out the first task (i.e. predict outcomes) while minimizing it's ability to carry out the second task (i.e. predict protected features).\n",
        "\n",
        "We implement adversarial debiasing below:"
      ]
    },
    {
      "cell_type": "code",
      "metadata": {
        "id": "M_rWLmHvwBFF",
        "colab": {
          "base_uri": "https://localhost:8080/"
        },
        "outputId": "277eb54d-fda4-4b98-d356-04fa1e2b8504"
      },
      "source": [
        "# reset tensorflow graph\n",
        "tf.reset_default_graph()\n",
        "\n",
        "# start tensorflow session\n",
        "sess = tf.Session()\n",
        "\n",
        "# create AdversarialDebiasing model\n",
        "debiased_model = AdversarialDebiasing(\n",
        "    privileged_groups = privileged_groups,\n",
        "    unprivileged_groups = unprivileged_groups,\n",
        "    scope_name = 'debiased_classifier',\n",
        "    debias = True,\n",
        "    sess = sess)\n",
        "\n",
        "# fit the model to training data\n",
        "debiased_model.fit(dataset_orig_train)\n",
        "\n",
        "# make predictions on training and test data\n",
        "dataset_debiasing_train = debiased_model.predict(dataset_orig_train)\n",
        "dataset_debiasing_test = debiased_model.predict(dataset_orig_test)\n",
        "\n",
        "# metrics\n",
        "metric_dataset_debiasing_test = BinaryLabelDatasetMetric(\n",
        "    dataset_debiasing_test, \n",
        "    unprivileged_groups=unprivileged_groups,\n",
        "    privileged_groups=privileged_groups\n",
        "  )\n",
        "\n",
        "# Close session\n",
        "sess.close()"
      ],
      "execution_count": null,
      "outputs": [
        {
          "output_type": "stream",
          "text": [
            "epoch 0; iter: 0; batch classifier loss: 61.926720; batch adversarial loss: 0.821243\n",
            "epoch 1; iter: 0; batch classifier loss: 39.325760; batch adversarial loss: 0.804206\n",
            "epoch 2; iter: 0; batch classifier loss: 45.632515; batch adversarial loss: 0.778856\n",
            "epoch 3; iter: 0; batch classifier loss: 38.725277; batch adversarial loss: 0.787586\n",
            "epoch 4; iter: 0; batch classifier loss: 31.255611; batch adversarial loss: 0.795027\n",
            "epoch 5; iter: 0; batch classifier loss: 34.416752; batch adversarial loss: 0.765435\n",
            "epoch 6; iter: 0; batch classifier loss: 39.155655; batch adversarial loss: 0.774642\n",
            "epoch 7; iter: 0; batch classifier loss: 39.421291; batch adversarial loss: 0.760773\n",
            "epoch 8; iter: 0; batch classifier loss: 32.630684; batch adversarial loss: 0.742074\n",
            "epoch 9; iter: 0; batch classifier loss: 28.861229; batch adversarial loss: 0.766949\n",
            "epoch 10; iter: 0; batch classifier loss: 38.103493; batch adversarial loss: 0.761876\n",
            "epoch 11; iter: 0; batch classifier loss: 30.272657; batch adversarial loss: 0.756441\n",
            "epoch 12; iter: 0; batch classifier loss: 33.637627; batch adversarial loss: 0.740621\n",
            "epoch 13; iter: 0; batch classifier loss: 34.134609; batch adversarial loss: 0.714202\n",
            "epoch 14; iter: 0; batch classifier loss: 26.677723; batch adversarial loss: 0.731438\n",
            "epoch 15; iter: 0; batch classifier loss: 29.308018; batch adversarial loss: 0.732203\n",
            "epoch 16; iter: 0; batch classifier loss: 29.004717; batch adversarial loss: 0.739730\n",
            "epoch 17; iter: 0; batch classifier loss: 17.991749; batch adversarial loss: 0.714343\n",
            "epoch 18; iter: 0; batch classifier loss: 21.079739; batch adversarial loss: 0.715946\n",
            "epoch 19; iter: 0; batch classifier loss: 13.955579; batch adversarial loss: 0.697008\n",
            "epoch 20; iter: 0; batch classifier loss: 22.766224; batch adversarial loss: 0.718743\n",
            "epoch 21; iter: 0; batch classifier loss: 15.654041; batch adversarial loss: 0.712243\n",
            "epoch 22; iter: 0; batch classifier loss: 27.224869; batch adversarial loss: 0.708927\n",
            "epoch 23; iter: 0; batch classifier loss: 20.828054; batch adversarial loss: 0.688942\n",
            "epoch 24; iter: 0; batch classifier loss: 11.846164; batch adversarial loss: 0.695971\n",
            "epoch 25; iter: 0; batch classifier loss: 20.422680; batch adversarial loss: 0.698155\n",
            "epoch 26; iter: 0; batch classifier loss: 19.891600; batch adversarial loss: 0.687485\n",
            "epoch 27; iter: 0; batch classifier loss: 19.904530; batch adversarial loss: 0.688068\n",
            "epoch 28; iter: 0; batch classifier loss: 20.739048; batch adversarial loss: 0.687412\n",
            "epoch 29; iter: 0; batch classifier loss: 14.398017; batch adversarial loss: 0.683413\n",
            "epoch 30; iter: 0; batch classifier loss: 13.636339; batch adversarial loss: 0.669513\n",
            "epoch 31; iter: 0; batch classifier loss: 11.534743; batch adversarial loss: 0.660447\n",
            "epoch 32; iter: 0; batch classifier loss: 14.367884; batch adversarial loss: 0.673432\n",
            "epoch 33; iter: 0; batch classifier loss: 11.019936; batch adversarial loss: 0.675476\n",
            "epoch 34; iter: 0; batch classifier loss: 7.575730; batch adversarial loss: 0.659901\n",
            "epoch 35; iter: 0; batch classifier loss: 12.435663; batch adversarial loss: 0.655179\n",
            "epoch 36; iter: 0; batch classifier loss: 12.021589; batch adversarial loss: 0.652308\n",
            "epoch 37; iter: 0; batch classifier loss: 5.371550; batch adversarial loss: 0.658663\n",
            "epoch 38; iter: 0; batch classifier loss: 7.372392; batch adversarial loss: 0.654606\n",
            "epoch 39; iter: 0; batch classifier loss: 6.641665; batch adversarial loss: 0.642533\n",
            "epoch 40; iter: 0; batch classifier loss: 8.550089; batch adversarial loss: 0.642624\n",
            "epoch 41; iter: 0; batch classifier loss: 5.439563; batch adversarial loss: 0.639758\n",
            "epoch 42; iter: 0; batch classifier loss: 5.354741; batch adversarial loss: 0.633697\n",
            "epoch 43; iter: 0; batch classifier loss: 7.515809; batch adversarial loss: 0.649203\n",
            "epoch 44; iter: 0; batch classifier loss: 5.025196; batch adversarial loss: 0.625420\n",
            "epoch 45; iter: 0; batch classifier loss: 6.311419; batch adversarial loss: 0.634512\n",
            "epoch 46; iter: 0; batch classifier loss: 3.516751; batch adversarial loss: 0.616492\n",
            "epoch 47; iter: 0; batch classifier loss: 4.657413; batch adversarial loss: 0.615340\n",
            "epoch 48; iter: 0; batch classifier loss: 3.855076; batch adversarial loss: 0.620180\n",
            "epoch 49; iter: 0; batch classifier loss: 5.510464; batch adversarial loss: 0.610560\n"
          ],
          "name": "stdout"
        }
      ]
    },
    {
      "cell_type": "markdown",
      "metadata": {
        "id": "EWJUD_1-1XOe"
      },
      "source": [
        "### Fairness Metrics under Adversarial Debiasing\n",
        "\n",
        "The adversarial debiasing algorithm has built-in methods for the difference in mean outcomes (called ```.mean_difference()```) and disparate impact (called ```.disparate_impact()```). Print these below: "
      ]
    },
    {
      "cell_type": "code",
      "metadata": {
        "id": "ro-8nuS62NZx",
        "colab": {
          "base_uri": "https://localhost:8080/"
        },
        "outputId": "3715a2c1-6cac-46c4-f72d-83fdc4b79ca1"
      },
      "source": [
        "print(metric_dataset_debiasing_test.mean_difference())\n",
        "print(metric_dataset_debiasing_test.disparate_impact())"
      ],
      "execution_count": null,
      "outputs": [
        {
          "output_type": "stream",
          "text": [
            "0.0\n",
            "1.0\n"
          ],
          "name": "stdout"
        }
      ]
    },
    {
      "cell_type": "markdown",
      "metadata": {
        "id": "Z3MyIpCk7hnp"
      },
      "source": [
        "**Analysis**\n",
        "\n",
        "After adversarial debiasing, we now have a mean difference of 0.0 and a disparate impact of 1.0, which are both ideal values to have. In comparison, when we consider the metrics calculated on the original data - the difference in means had the value ~ -0.17, whereas the disparate impact had the value ~0.76. Thus, we can say that adversarial debiasing, an in-processing algorithm, has been able to mitigate the bias in credit prediction with respect to age (that we observed for the original data). "
      ]
    },
    {
      "cell_type": "markdown",
      "metadata": {
        "id": "5Urlnzy3b_x5"
      },
      "source": [
        "## Summary\n",
        "The purpose of this notebook is to introduce some of the functionality of AI Fairness 360 for detecting and mitigating bias. We used an in-processing algorithm called adversarial debiasing. Below, you can run through an implementation of a pre-processing algorithm called reweighing.\n",
        "\n",
        "There are many metrics one can use to detect the presence of bias. Likewise, there are many different bias mitigation algorithms one can employ. AI Fairness 360 provides some of them most common metrics and algorithms. In Lab 4, we will use a different package to further explore bias detection and mitigation.\n",
        "\n",
        "Fairness metrics and mitigation algorithms can be calculated and used in the pre-processing, in-processing, and post-processing stages of the machine learning pipeline. The metrics and algorithms you use will depend, in part, on the particular fairness concerns associated with a machine learning task. We recommend incorporating bias detection in an automated continuous integration pipeline to ensure bias awareness as a project evolves."
      ]
    },
    {
      "cell_type": "markdown",
      "metadata": {
        "id": "LQIwiWcKb_x3"
      },
      "source": [
        "## Bias Mitigation via Pre-Processing\n",
        "\n",
        "_Pre-processing_ mitigation happens before the creation of the model.  \n",
        "\n",
        "AI Fairness 360 implements several pre-processing mitigation algorithms.  We will use the **reweighing algorithm**, which is implemented in the `Reweighing` class in the `aif360.algorithms.preprocessing` package. This algorithm will transform the dataset to enhance equity in positive outcomes on the protected attribute for the privileged and unprivileged groups.\n",
        "\n",
        "You can find documentation for reweighting here:\n",
        "https://aif360.readthedocs.io/en/latest/modules/generated/aif360.algorithms.preprocessing.Reweighing.html \n"
      ]
    },
    {
      "cell_type": "markdown",
      "metadata": {
        "id": "JOIBqkDSb_x3"
      },
      "source": [
        "### Reweighing\n",
        "\n",
        "Reweighing is a data preprocessing technique that generates weights for the training instances to ensure fairness before classification. The idea is to apply appropriate weights to different tuples in the training data to reduce discrimination with respect to the protected attributes. Instead of reweighing, one could also apply techniques such as suppression, i.e. removing sensitive attributes. However, the reweighing technique is generally more effective.\n",
        "\n",
        "Call the fit and transform methods to perform the transformation, producing a newly transformed training dataset (```dataset_transf_train```):"
      ]
    },
    {
      "cell_type": "code",
      "metadata": {
        "id": "CqBmaYXab_x3"
      },
      "source": [
        "RW = Reweighing(unprivileged_groups=unprivileged_groups,\n",
        "                privileged_groups=privileged_groups)\n",
        "dataset_transf_train = RW.fit_transform(dataset_orig_train)"
      ],
      "execution_count": null,
      "outputs": []
    },
    {
      "cell_type": "markdown",
      "metadata": {
        "id": "kdkCX8Fd0zgN"
      },
      "source": [
        "We can print the weights. Each observation in the data should have a weight. For brevity, we'll look at the weights for the first 10 rows:"
      ]
    },
    {
      "cell_type": "code",
      "metadata": {
        "id": "l5ISRhOwb_x3",
        "colab": {
          "base_uri": "https://localhost:8080/"
        },
        "outputId": "1c70a483-3a9f-43ae-9d5d-ae77faf01842"
      },
      "source": [
        "len(dataset_transf_train.instance_weights)\n",
        "dataset_transf_train.instance_weights[0:10]"
      ],
      "execution_count": null,
      "outputs": [
        {
          "output_type": "execute_result",
          "data": {
            "text/plain": [
              "array([0.96229508, 0.96229508, 0.96229508, 0.96229508, 0.96229508,\n",
              "       0.96229508, 0.96229508, 0.96229508, 1.25555556, 0.678     ])"
            ]
          },
          "metadata": {
            "tags": []
          },
          "execution_count": 20
        }
      ]
    },
    {
      "cell_type": "markdown",
      "metadata": {
        "id": "2k6wrI5Ab_x4"
      },
      "source": [
        "### Compute Fairness Metrics in Transformed Data\n",
        "\n",
        "Now that we have a transformed dataset, we can check how effective it was in removing bias by calculating the same metrics we used for the original training dataset. As above, we can use the function mean_difference in the BinaryLabelDatasetMetric class:"
      ]
    },
    {
      "cell_type": "code",
      "metadata": {
        "id": "h0ubwJbUb_x4"
      },
      "source": [
        "metric_RW_test = BinaryLabelDatasetMetric(\n",
        "    dataset_transf_train, \n",
        "    unprivileged_groups=unprivileged_groups,\n",
        "    privileged_groups=privileged_groups\n",
        "  )\n"
      ],
      "execution_count": null,
      "outputs": []
    },
    {
      "cell_type": "markdown",
      "metadata": {
        "id": "qFZh_-La6Eq8"
      },
      "source": [
        "Print the difference in mean outcomes and disparate impact in the transformed data:"
      ]
    },
    {
      "cell_type": "code",
      "metadata": {
        "id": "gim6DapUb_x4",
        "colab": {
          "base_uri": "https://localhost:8080/"
        },
        "outputId": "b8b87702-168c-4ef2-9384-b436d94184d1"
      },
      "source": [
        "print(metric_RW_test.mean_difference())\n",
        "print(metric_RW_test.disparate_impact())"
      ],
      "execution_count": null,
      "outputs": [
        {
          "output_type": "stream",
          "text": [
            "3.3306690738754696e-16\n",
            "1.0000000000000004\n"
          ],
          "name": "stdout"
        }
      ]
    },
    {
      "cell_type": "markdown",
      "metadata": {
        "id": "4aG_Glh7Frbc"
      },
      "source": [
        "**Analysis**\n",
        "\n",
        "We now have disparate impact as ~ 1.0, which is desired, as it signifies parity - however, the value for the difference in mean outcomes is positive now (but very close to 0, almost fair), implying SLIGHTLY favorable outcomes for the unprivileged group. This value (3.3306690738754696e-16) is much smaller in magnitude as compared to the value in the original dataset (~ -0.17), where we had favorable outcomes for the privileged group. "
      ]
    }
  ]
}