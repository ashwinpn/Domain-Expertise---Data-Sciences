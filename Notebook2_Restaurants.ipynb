{
  "nbformat": 4,
  "nbformat_minor": 0,
  "metadata": {
    "kernelspec": {
      "name": "python3",
      "display_name": "Python 3"
    },
    "colab": {
      "name": "Notebook2_Restaurants.ipynb",
      "provenance": [],
      "collapsed_sections": []
    }
  },
  "cells": [
    {
      "cell_type": "markdown",
      "metadata": {
        "id": "sOThDjkcP-OA"
      },
      "source": [
        "By - Ashwin Nalwade"
      ]
    },
    {
      "cell_type": "markdown",
      "metadata": {
        "id": "U3fz0k0y4JbQ"
      },
      "source": [
        "In this notebook, we will be exploring how data cleaning (or the lack thereof) can impact your analysis. To do so, we will be analyzing data about restaurant health inspections in New York City.\n",
        "\n",
        "About five years ago, a data analyst uncovered some [concerning trends](https://iquantny.tumblr.com/post/76928412519/think-nyc-restaurant-grading-is-flawed-heres) in the scores that restaurants receive: scores are far more likely to be just *above* a letter grade cutoff than just below the cutoff. This suggests that inspectors are making decisions to avoid giving establishments a bad letter grade, with little regard for the health of customers.\n",
        "\n",
        "In this lab, we're going to test whether this finding is still true and explore other features by which health inspection scores vary.\n",
        "\n",
        "**There are two parts of this notebook:** In the first part (steps 1-3), we will be performing some data profiling. In the second part (steps 4-6), we will dive deeper into the grades and scores and how these vary by borough."
      ]
    },
    {
      "cell_type": "code",
      "metadata": {
        "id": "p93QDQ6m4JbY"
      },
      "source": [
        "import pandas as pd\n",
        "import numpy as np\n",
        "import os\n",
        "import matplotlib.pyplot as plt\n",
        "from matplotlib import rcParams\n",
        "from IPython.display import display\n",
        "pd.options.display.max_columns = None"
      ],
      "execution_count": null,
      "outputs": []
    },
    {
      "cell_type": "code",
      "metadata": {
        "id": "OjVSKONS4Jbd"
      },
      "source": [
        "%matplotlib inline\n",
        "rcParams['figure.figsize'] = [15, 5]"
      ],
      "execution_count": null,
      "outputs": []
    },
    {
      "cell_type": "markdown",
      "metadata": {
        "id": "hvfNgnM94Jbg"
      },
      "source": [
        "## Step 1: Read in the data\n",
        "\n",
        "This data was downloaded from [NYC Open Data](https://data.cityofnewyork.us/Health/DOHMH-New-York-City-Restaurant-Inspection-Results/43nn-pn8j). There's also more information available on the grading system [here](https://www1.nyc.gov/assets/doh/downloads/pdf/rii/how-we-score-grade.pdf). \n",
        "\n",
        "Take a minute to review the metadata on the [NYC Open Data](https://data.cityofnewyork.us/Health/DOHMH-New-York-City-Restaurant-Inspection-Results/43nn-pn8j) page and read the documentation before we dive in. "
      ]
    },
    {
      "cell_type": "code",
      "metadata": {
        "id": "phxSGwFytuA_"
      },
      "source": [
        "# option to download data directly NYC Data Website (RISK: data is updated occassionally so analysis result may vary if data changes)\n",
        "data_link = \"https://data.cityofnewyork.us/api/views/43nn-pn8j/rows.csv?accessType=DOWNLOAD\"\n",
        "inspections = pd.read_csv(data_link)"
      ],
      "execution_count": null,
      "outputs": []
    },
    {
      "cell_type": "code",
      "metadata": {
        "id": "kSFiaRi-4Jbj",
        "colab": {
          "base_uri": "https://localhost:8080/",
          "height": 1000
        },
        "outputId": "8a592ef7-d759-40c1-a32d-e3427ba4eee1"
      },
      "source": [
        "print(inspections.columns)\n",
        "print(inspections.dtypes)\n",
        "inspections.head()"
      ],
      "execution_count": null,
      "outputs": [
        {
          "output_type": "stream",
          "text": [
            "Index(['CAMIS', 'DBA', 'BORO', 'BUILDING', 'STREET', 'ZIPCODE', 'PHONE',\n",
            "       'CUISINE DESCRIPTION', 'INSPECTION DATE', 'ACTION', 'VIOLATION CODE',\n",
            "       'VIOLATION DESCRIPTION', 'CRITICAL FLAG', 'SCORE', 'GRADE',\n",
            "       'GRADE DATE', 'RECORD DATE', 'INSPECTION TYPE', 'Latitude', 'Longitude',\n",
            "       'Community Board', 'Council District', 'Census Tract', 'BIN', 'BBL',\n",
            "       'NTA'],\n",
            "      dtype='object')\n",
            "CAMIS                      int64\n",
            "DBA                       object\n",
            "BORO                      object\n",
            "BUILDING                  object\n",
            "STREET                    object\n",
            "ZIPCODE                  float64\n",
            "PHONE                     object\n",
            "CUISINE DESCRIPTION       object\n",
            "INSPECTION DATE           object\n",
            "ACTION                    object\n",
            "VIOLATION CODE            object\n",
            "VIOLATION DESCRIPTION     object\n",
            "CRITICAL FLAG             object\n",
            "SCORE                    float64\n",
            "GRADE                     object\n",
            "GRADE DATE                object\n",
            "RECORD DATE               object\n",
            "INSPECTION TYPE           object\n",
            "Latitude                 float64\n",
            "Longitude                float64\n",
            "Community Board          float64\n",
            "Council District         float64\n",
            "Census Tract             float64\n",
            "BIN                      float64\n",
            "BBL                      float64\n",
            "NTA                       object\n",
            "dtype: object\n"
          ],
          "name": "stdout"
        },
        {
          "output_type": "execute_result",
          "data": {
            "text/html": [
              "<div>\n",
              "<style scoped>\n",
              "    .dataframe tbody tr th:only-of-type {\n",
              "        vertical-align: middle;\n",
              "    }\n",
              "\n",
              "    .dataframe tbody tr th {\n",
              "        vertical-align: top;\n",
              "    }\n",
              "\n",
              "    .dataframe thead th {\n",
              "        text-align: right;\n",
              "    }\n",
              "</style>\n",
              "<table border=\"1\" class=\"dataframe\">\n",
              "  <thead>\n",
              "    <tr style=\"text-align: right;\">\n",
              "      <th></th>\n",
              "      <th>CAMIS</th>\n",
              "      <th>DBA</th>\n",
              "      <th>BORO</th>\n",
              "      <th>BUILDING</th>\n",
              "      <th>STREET</th>\n",
              "      <th>ZIPCODE</th>\n",
              "      <th>PHONE</th>\n",
              "      <th>CUISINE DESCRIPTION</th>\n",
              "      <th>INSPECTION DATE</th>\n",
              "      <th>ACTION</th>\n",
              "      <th>VIOLATION CODE</th>\n",
              "      <th>VIOLATION DESCRIPTION</th>\n",
              "      <th>CRITICAL FLAG</th>\n",
              "      <th>SCORE</th>\n",
              "      <th>GRADE</th>\n",
              "      <th>GRADE DATE</th>\n",
              "      <th>RECORD DATE</th>\n",
              "      <th>INSPECTION TYPE</th>\n",
              "      <th>Latitude</th>\n",
              "      <th>Longitude</th>\n",
              "      <th>Community Board</th>\n",
              "      <th>Council District</th>\n",
              "      <th>Census Tract</th>\n",
              "      <th>BIN</th>\n",
              "      <th>BBL</th>\n",
              "      <th>NTA</th>\n",
              "    </tr>\n",
              "  </thead>\n",
              "  <tbody>\n",
              "    <tr>\n",
              "      <th>0</th>\n",
              "      <td>41067778</td>\n",
              "      <td>SALA ONE NINE</td>\n",
              "      <td>Manhattan</td>\n",
              "      <td>35</td>\n",
              "      <td>WEST   19 STREET</td>\n",
              "      <td>10011.0</td>\n",
              "      <td>2122292300</td>\n",
              "      <td>Spanish</td>\n",
              "      <td>09/07/2016</td>\n",
              "      <td>Violations were cited in the following area(s).</td>\n",
              "      <td>02B</td>\n",
              "      <td>Hot food item not held at or above 140º F.</td>\n",
              "      <td>Y</td>\n",
              "      <td>17.0</td>\n",
              "      <td>NaN</td>\n",
              "      <td>NaN</td>\n",
              "      <td>03/12/2021</td>\n",
              "      <td>Cycle Inspection / Initial Inspection</td>\n",
              "      <td>40.739621</td>\n",
              "      <td>-73.992635</td>\n",
              "      <td>105.0</td>\n",
              "      <td>3.0</td>\n",
              "      <td>5400.0</td>\n",
              "      <td>1015467.0</td>\n",
              "      <td>1.008210e+09</td>\n",
              "      <td>MN13</td>\n",
              "    </tr>\n",
              "    <tr>\n",
              "      <th>1</th>\n",
              "      <td>50078806</td>\n",
              "      <td>DOWNTOWN YUMMY RESTAURANT</td>\n",
              "      <td>Manhattan</td>\n",
              "      <td>39</td>\n",
              "      <td>EAST BROADWAY</td>\n",
              "      <td>10002.0</td>\n",
              "      <td>2127916618</td>\n",
              "      <td>Chinese</td>\n",
              "      <td>06/29/2018</td>\n",
              "      <td>Violations were cited in the following area(s).</td>\n",
              "      <td>02B</td>\n",
              "      <td>Hot food item not held at or above 140º F.</td>\n",
              "      <td>Y</td>\n",
              "      <td>20.0</td>\n",
              "      <td>B</td>\n",
              "      <td>06/29/2018</td>\n",
              "      <td>03/12/2021</td>\n",
              "      <td>Pre-permit (Operational) / Re-inspection</td>\n",
              "      <td>40.713546</td>\n",
              "      <td>-73.996148</td>\n",
              "      <td>103.0</td>\n",
              "      <td>1.0</td>\n",
              "      <td>800.0</td>\n",
              "      <td>1003423.0</td>\n",
              "      <td>1.002800e+09</td>\n",
              "      <td>MN27</td>\n",
              "    </tr>\n",
              "    <tr>\n",
              "      <th>2</th>\n",
              "      <td>41621807</td>\n",
              "      <td>WEI WEST, BEANS &amp; GREENS</td>\n",
              "      <td>Manhattan</td>\n",
              "      <td>102</td>\n",
              "      <td>NORTH END AVENUE</td>\n",
              "      <td>10282.0</td>\n",
              "      <td>2127861300</td>\n",
              "      <td>Asian</td>\n",
              "      <td>10/10/2018</td>\n",
              "      <td>Violations were cited in the following area(s).</td>\n",
              "      <td>10B</td>\n",
              "      <td>Plumbing not properly installed or maintained;...</td>\n",
              "      <td>N</td>\n",
              "      <td>11.0</td>\n",
              "      <td>A</td>\n",
              "      <td>10/10/2018</td>\n",
              "      <td>03/12/2021</td>\n",
              "      <td>Cycle Inspection / Re-inspection</td>\n",
              "      <td>40.714805</td>\n",
              "      <td>-74.016153</td>\n",
              "      <td>101.0</td>\n",
              "      <td>1.0</td>\n",
              "      <td>31703.0</td>\n",
              "      <td>1085867.0</td>\n",
              "      <td>1.000168e+09</td>\n",
              "      <td>MN25</td>\n",
              "    </tr>\n",
              "    <tr>\n",
              "      <th>3</th>\n",
              "      <td>40550155</td>\n",
              "      <td>PARISI BAKERY</td>\n",
              "      <td>Manhattan</td>\n",
              "      <td>198</td>\n",
              "      <td>MOTT STREET</td>\n",
              "      <td>10012.0</td>\n",
              "      <td>2122266378</td>\n",
              "      <td>Sandwiches</td>\n",
              "      <td>09/20/2018</td>\n",
              "      <td>Violations were cited in the following area(s).</td>\n",
              "      <td>04L</td>\n",
              "      <td>Evidence of mice or live mice present in facil...</td>\n",
              "      <td>Y</td>\n",
              "      <td>49.0</td>\n",
              "      <td>NaN</td>\n",
              "      <td>NaN</td>\n",
              "      <td>03/12/2021</td>\n",
              "      <td>Cycle Inspection / Initial Inspection</td>\n",
              "      <td>40.721245</td>\n",
              "      <td>-73.995599</td>\n",
              "      <td>102.0</td>\n",
              "      <td>1.0</td>\n",
              "      <td>4100.0</td>\n",
              "      <td>1007159.0</td>\n",
              "      <td>1.004790e+09</td>\n",
              "      <td>MN24</td>\n",
              "    </tr>\n",
              "    <tr>\n",
              "      <th>4</th>\n",
              "      <td>41476416</td>\n",
              "      <td>MILK AND ROSES</td>\n",
              "      <td>Brooklyn</td>\n",
              "      <td>1110</td>\n",
              "      <td>MANHATTAN AVENUE</td>\n",
              "      <td>11222.0</td>\n",
              "      <td>7183860160</td>\n",
              "      <td>Italian</td>\n",
              "      <td>03/14/2018</td>\n",
              "      <td>Violations were cited in the following area(s).</td>\n",
              "      <td>06D</td>\n",
              "      <td>Food contact surface not properly washed, rins...</td>\n",
              "      <td>Y</td>\n",
              "      <td>17.0</td>\n",
              "      <td>NaN</td>\n",
              "      <td>NaN</td>\n",
              "      <td>03/12/2021</td>\n",
              "      <td>Cycle Inspection / Initial Inspection</td>\n",
              "      <td>40.736374</td>\n",
              "      <td>-73.955263</td>\n",
              "      <td>301.0</td>\n",
              "      <td>33.0</td>\n",
              "      <td>57900.0</td>\n",
              "      <td>3063764.0</td>\n",
              "      <td>3.024880e+09</td>\n",
              "      <td>BK76</td>\n",
              "    </tr>\n",
              "  </tbody>\n",
              "</table>\n",
              "</div>"
            ],
            "text/plain": [
              "      CAMIS                        DBA       BORO BUILDING            STREET  \\\n",
              "0  41067778              SALA ONE NINE  Manhattan       35  WEST   19 STREET   \n",
              "1  50078806  DOWNTOWN YUMMY RESTAURANT  Manhattan       39     EAST BROADWAY   \n",
              "2  41621807   WEI WEST, BEANS & GREENS  Manhattan      102  NORTH END AVENUE   \n",
              "3  40550155              PARISI BAKERY  Manhattan      198       MOTT STREET   \n",
              "4  41476416             MILK AND ROSES   Brooklyn     1110  MANHATTAN AVENUE   \n",
              "\n",
              "   ZIPCODE       PHONE CUISINE DESCRIPTION INSPECTION DATE  \\\n",
              "0  10011.0  2122292300             Spanish      09/07/2016   \n",
              "1  10002.0  2127916618             Chinese      06/29/2018   \n",
              "2  10282.0  2127861300               Asian      10/10/2018   \n",
              "3  10012.0  2122266378          Sandwiches      09/20/2018   \n",
              "4  11222.0  7183860160             Italian      03/14/2018   \n",
              "\n",
              "                                            ACTION VIOLATION CODE  \\\n",
              "0  Violations were cited in the following area(s).            02B   \n",
              "1  Violations were cited in the following area(s).            02B   \n",
              "2  Violations were cited in the following area(s).            10B   \n",
              "3  Violations were cited in the following area(s).            04L   \n",
              "4  Violations were cited in the following area(s).            06D   \n",
              "\n",
              "                               VIOLATION DESCRIPTION CRITICAL FLAG  SCORE  \\\n",
              "0         Hot food item not held at or above 140º F.             Y   17.0   \n",
              "1         Hot food item not held at or above 140º F.             Y   20.0   \n",
              "2  Plumbing not properly installed or maintained;...             N   11.0   \n",
              "3  Evidence of mice or live mice present in facil...             Y   49.0   \n",
              "4  Food contact surface not properly washed, rins...             Y   17.0   \n",
              "\n",
              "  GRADE  GRADE DATE RECORD DATE                           INSPECTION TYPE  \\\n",
              "0   NaN         NaN  03/12/2021     Cycle Inspection / Initial Inspection   \n",
              "1     B  06/29/2018  03/12/2021  Pre-permit (Operational) / Re-inspection   \n",
              "2     A  10/10/2018  03/12/2021          Cycle Inspection / Re-inspection   \n",
              "3   NaN         NaN  03/12/2021     Cycle Inspection / Initial Inspection   \n",
              "4   NaN         NaN  03/12/2021     Cycle Inspection / Initial Inspection   \n",
              "\n",
              "    Latitude  Longitude  Community Board  Council District  Census Tract  \\\n",
              "0  40.739621 -73.992635            105.0               3.0        5400.0   \n",
              "1  40.713546 -73.996148            103.0               1.0         800.0   \n",
              "2  40.714805 -74.016153            101.0               1.0       31703.0   \n",
              "3  40.721245 -73.995599            102.0               1.0        4100.0   \n",
              "4  40.736374 -73.955263            301.0              33.0       57900.0   \n",
              "\n",
              "         BIN           BBL   NTA  \n",
              "0  1015467.0  1.008210e+09  MN13  \n",
              "1  1003423.0  1.002800e+09  MN27  \n",
              "2  1085867.0  1.000168e+09  MN25  \n",
              "3  1007159.0  1.004790e+09  MN24  \n",
              "4  3063764.0  3.024880e+09  BK76  "
            ]
          },
          "metadata": {
            "tags": []
          },
          "execution_count": 4
        }
      ]
    },
    {
      "cell_type": "code",
      "metadata": {
        "colab": {
          "base_uri": "https://localhost:8080/"
        },
        "id": "sElrqLr4bG6U",
        "outputId": "f9707a84-84be-4c81-8130-1df721041ba3"
      },
      "source": [
        "inspections.describe"
      ],
      "execution_count": null,
      "outputs": [
        {
          "output_type": "execute_result",
          "data": {
            "text/plain": [
              "<bound method NDFrame.describe of            CAMIS                                                DBA  \\\n",
              "0       41067778                                      SALA ONE NINE   \n",
              "1       50078806                          DOWNTOWN YUMMY RESTAURANT   \n",
              "2       41621807                           WEI WEST, BEANS & GREENS   \n",
              "3       40550155                                      PARISI BAKERY   \n",
              "4       41476416                                     MILK AND ROSES   \n",
              "...          ...                                                ...   \n",
              "395494  40399672                                BAGELS & CREAM CAFE   \n",
              "395495  50069082                                    SOUVLAKI SQUARE   \n",
              "395496  41650198                                     HINOMARU RAMEN   \n",
              "395497  40839257  MCU PARK STAND #130, PREMIO SAUSAGE/ARANCINI/C...   \n",
              "395498  41267350                                 TENDA ASIAN FUSION   \n",
              "\n",
              "             BORO BUILDING               STREET  ZIPCODE       PHONE  \\\n",
              "0       Manhattan       35     WEST   19 STREET  10011.0  2122292300   \n",
              "1       Manhattan       39        EAST BROADWAY  10002.0  2127916618   \n",
              "2       Manhattan      102     NORTH END AVENUE  10282.0  2127861300   \n",
              "3       Manhattan      198          MOTT STREET  10012.0  2122266378   \n",
              "4        Brooklyn     1110     MANHATTAN AVENUE  11222.0  7183860160   \n",
              "...           ...      ...                  ...      ...         ...   \n",
              "395494     Queens    80-02         SURREY PLACE  11432.0  7189692640   \n",
              "395495     Queens    20507             35TH AVE  11361.0  7182290428   \n",
              "395496     Queens     3318    DITMARS BOULEVARD  11105.0  7187770228   \n",
              "395497   Brooklyn     1904          SURF AVENUE  11224.0  7182663164   \n",
              "395498   Brooklyn     1734  SHEEPSHEAD BAY ROAD  11235.0  7183680222   \n",
              "\n",
              "              CUISINE DESCRIPTION INSPECTION DATE  \\\n",
              "0                         Spanish      09/07/2016   \n",
              "1                         Chinese      06/29/2018   \n",
              "2                           Asian      10/10/2018   \n",
              "3                      Sandwiches      09/20/2018   \n",
              "4                         Italian      03/14/2018   \n",
              "...                           ...             ...   \n",
              "395494  Cakes, Cupcakes, Desserts      07/19/2017   \n",
              "395495                      Greek      05/19/2018   \n",
              "395496                   Japanese      03/07/2017   \n",
              "395497                   American      06/20/2017   \n",
              "395498                   Japanese      11/06/2019   \n",
              "\n",
              "                                                 ACTION VIOLATION CODE  \\\n",
              "0       Violations were cited in the following area(s).            02B   \n",
              "1       Violations were cited in the following area(s).            02B   \n",
              "2       Violations were cited in the following area(s).            10B   \n",
              "3       Violations were cited in the following area(s).            04L   \n",
              "4       Violations were cited in the following area(s).            06D   \n",
              "...                                                 ...            ...   \n",
              "395494  Violations were cited in the following area(s).            08A   \n",
              "395495  Violations were cited in the following area(s).            04L   \n",
              "395496  Violations were cited in the following area(s).            06C   \n",
              "395497  Violations were cited in the following area(s).            04A   \n",
              "395498  Violations were cited in the following area(s).            08A   \n",
              "\n",
              "                                    VIOLATION DESCRIPTION CRITICAL FLAG  \\\n",
              "0              Hot food item not held at or above 140º F.             Y   \n",
              "1              Hot food item not held at or above 140º F.             Y   \n",
              "2       Plumbing not properly installed or maintained;...             N   \n",
              "3       Evidence of mice or live mice present in facil...             Y   \n",
              "4       Food contact surface not properly washed, rins...             Y   \n",
              "...                                                   ...           ...   \n",
              "395494  Facility not vermin proof. Harborage or condit...             N   \n",
              "395495  Evidence of mice or live mice present in facil...             Y   \n",
              "395496  Food not protected from potential source of co...             Y   \n",
              "395497  Food Protection Certificate not held by superv...             Y   \n",
              "395498  Facility not vermin proof. Harborage or condit...             N   \n",
              "\n",
              "        SCORE GRADE  GRADE DATE RECORD DATE  \\\n",
              "0        17.0   NaN         NaN  03/12/2021   \n",
              "1        20.0     B  06/29/2018  03/12/2021   \n",
              "2        11.0     A  10/10/2018  03/12/2021   \n",
              "3        49.0   NaN         NaN  03/12/2021   \n",
              "4        17.0   NaN         NaN  03/12/2021   \n",
              "...       ...   ...         ...         ...   \n",
              "395494   18.0   NaN         NaN  03/12/2021   \n",
              "395495   48.0   NaN         NaN  03/12/2021   \n",
              "395496   50.0   NaN         NaN  03/12/2021   \n",
              "395497   12.0     A  06/20/2017  03/12/2021   \n",
              "395498   27.0   NaN         NaN  03/12/2021   \n",
              "\n",
              "                                 INSPECTION TYPE   Latitude  Longitude  \\\n",
              "0          Cycle Inspection / Initial Inspection  40.739621 -73.992635   \n",
              "1       Pre-permit (Operational) / Re-inspection  40.713546 -73.996148   \n",
              "2               Cycle Inspection / Re-inspection  40.714805 -74.016153   \n",
              "3          Cycle Inspection / Initial Inspection  40.721245 -73.995599   \n",
              "4          Cycle Inspection / Initial Inspection  40.736374 -73.955263   \n",
              "...                                          ...        ...        ...   \n",
              "395494     Cycle Inspection / Initial Inspection  40.726357 -73.789447   \n",
              "395495     Cycle Inspection / Initial Inspection  40.766745 -73.782593   \n",
              "395496     Cycle Inspection / Initial Inspection  40.775273 -73.909509   \n",
              "395497     Cycle Inspection / Initial Inspection  40.575063 -73.985878   \n",
              "395498     Cycle Inspection / Initial Inspection  40.585456 -73.951598   \n",
              "\n",
              "        Community Board  Council District  Census Tract        BIN  \\\n",
              "0                 105.0               3.0        5400.0  1015467.0   \n",
              "1                 103.0               1.0         800.0  1003423.0   \n",
              "2                 101.0               1.0       31703.0  1085867.0   \n",
              "3                 102.0               1.0        4100.0  1007159.0   \n",
              "4                 301.0              33.0       57900.0  3063764.0   \n",
              "...                 ...               ...           ...        ...   \n",
              "395494            408.0              24.0      127700.0  4155424.0   \n",
              "395495            411.0              19.0      109900.0  4135513.0   \n",
              "395496            401.0              22.0       11700.0  4017043.0   \n",
              "395497            313.0              47.0       35200.0  3189656.0   \n",
              "395498            315.0              48.0       60600.0  3247006.0   \n",
              "\n",
              "                 BBL   NTA  \n",
              "0       1.008210e+09  MN13  \n",
              "1       1.002800e+09  MN27  \n",
              "2       1.000168e+09  MN25  \n",
              "3       1.004790e+09  MN24  \n",
              "4       3.024880e+09  BK76  \n",
              "...              ...   ...  \n",
              "395494  4.072270e+09  QN06  \n",
              "395495  4.060900e+09  QN46  \n",
              "395496  4.008320e+09  QN72  \n",
              "395497  3.070730e+09  BK21  \n",
              "395498  3.087700e+09  BK17  \n",
              "\n",
              "[395499 rows x 26 columns]>"
            ]
          },
          "metadata": {
            "tags": []
          },
          "execution_count": 5
        }
      ]
    },
    {
      "cell_type": "code",
      "metadata": {
        "id": "KYSdSHtA4Jbm",
        "colab": {
          "base_uri": "https://localhost:8080/"
        },
        "outputId": "d8aa575b-2763-4464-b73b-3599b18ba174"
      },
      "source": [
        "# Rename the columns to avoid spaces and make everything lower case\n",
        "inspections.columns = [x.lower().replace(\" \", \"_\") for x in inspections.columns]\n",
        "print(inspections.columns)"
      ],
      "execution_count": null,
      "outputs": [
        {
          "output_type": "stream",
          "text": [
            "Index(['camis', 'dba', 'boro', 'building', 'street', 'zipcode', 'phone',\n",
            "       'cuisine_description', 'inspection_date', 'action', 'violation_code',\n",
            "       'violation_description', 'critical_flag', 'score', 'grade',\n",
            "       'grade_date', 'record_date', 'inspection_type', 'latitude', 'longitude',\n",
            "       'community_board', 'council_district', 'census_tract', 'bin', 'bbl',\n",
            "       'nta'],\n",
            "      dtype='object')\n"
          ],
          "name": "stdout"
        }
      ]
    },
    {
      "cell_type": "markdown",
      "metadata": {
        "id": "ZMhU3ifD4Jbo"
      },
      "source": [
        "Let's see if we can reproduce the chart in that blog post using current data!\n",
        "\n",
        "A quick google will get us the cutoffs for the letter grades from a credible source -- the NYC Health Department. According to [this](https://www1.nyc.gov/site/doh/business/food-operators/letter-grading-for-restaurants.page), the cutoffs are \n",
        "- A: 0-13\n",
        "- B: 14-27\n",
        "- C: 28+"
      ]
    },
    {
      "cell_type": "code",
      "metadata": {
        "id": "s6utku8n4Jbp",
        "colab": {
          "base_uri": "https://localhost:8080/",
          "height": 365
        },
        "outputId": "60217e20-b95c-4144-f43a-80110ee37322"
      },
      "source": [
        "# Let's see if we can reproduce the chart in that blog post right now!\n",
        "def plot_grades(df, title):\n",
        "    \n",
        "    # Plot a histogram\n",
        "    plt.hist(df['score'], bins=range(int(min(df['score'])), int(max(df['score']))+1) )\n",
        "    # Add lines to indicate the cutoffs between A and B, then B and C\n",
        "    plt.axvline(x=14, color=\"red\")\n",
        "    plt.axvline(x=28, color=\"red\")\n",
        "    # Add some labels\n",
        "    plt.ylabel(\"# of Inspections\")\n",
        "    plt.xlabel(\"Inspection Score\")\n",
        "    plt.title(\"Frequency of NYC Restaurant Inspection Scores \\n{}\".format(title))\n",
        "    return\n",
        "    \n",
        "plot_grades(inspections, \"Original Data\")\n"
      ],
      "execution_count": null,
      "outputs": [
        {
          "output_type": "display_data",
          "data": {
            "image/png": "[encoded data removed]",
            "text/plain": [
              "<Figure size 1080x360 with 1 Axes>"
            ]
          },
          "metadata": {
            "tags": [],
            "needs_background": "light"
          }
        }
      ]
    },
    {
      "cell_type": "markdown",
      "metadata": {
        "id": "xyV3UTzd4Jbr"
      },
      "source": [
        "\n",
        "\n",
        "**Analysis**\n",
        "\n",
        "\n",
        "We can confirm the hypothesis that the scores are far more likely to be just above a letter grade cutoff than just below the cutoff. This indicates a very high probability that the health inspectors are making decisions to avoid giving establishments a bad letter grade, with little regard for the health of customers.\n",
        "\n",
        "If we took this to a reporter or to a public health official, it would probably cause a lot of uproar among the public, and also among the stakehloders involved in the restaurant business."
      ]
    },
    {
      "cell_type": "markdown",
      "metadata": {
        "id": "tn6uEnYS4Jbt"
      },
      "source": [
        "## Step 2: Back up and do some profiling"
      ]
    },
    {
      "cell_type": "code",
      "metadata": {
        "id": "GBoF6GgX4Jbu",
        "colab": {
          "base_uri": "https://localhost:8080/"
        },
        "outputId": "136e5be8-b87a-4a38-c5fe-b7afef8562c2"
      },
      "source": [
        "inspections.grade.value_counts()"
      ],
      "execution_count": null,
      "outputs": [
        {
          "output_type": "execute_result",
          "data": {
            "text/plain": [
              "A    158358\n",
              "B     25937\n",
              "C      9904\n",
              "P      2636\n",
              "N      2298\n",
              "Z       559\n",
              "G         3\n",
              "Name: grade, dtype: int64"
            ]
          },
          "metadata": {
            "tags": []
          },
          "execution_count": 8
        }
      ]
    },
    {
      "cell_type": "code",
      "metadata": {
        "id": "p4EHaLzR4Jbw",
        "colab": {
          "base_uri": "https://localhost:8080/"
        },
        "outputId": "ed2a00b1-1505-4fbe-a094-51c1d467f656"
      },
      "source": [
        "inspections.score.describe()"
      ],
      "execution_count": null,
      "outputs": [
        {
          "output_type": "execute_result",
          "data": {
            "text/plain": [
              "count    376666.000000\n",
              "mean         20.102826\n",
              "std          14.718102\n",
              "min          -1.000000\n",
              "25%          11.000000\n",
              "50%          15.000000\n",
              "75%          26.000000\n",
              "max         164.000000\n",
              "Name: score, dtype: float64"
            ]
          },
          "metadata": {
            "tags": []
          },
          "execution_count": 9
        }
      ]
    },
    {
      "cell_type": "markdown",
      "metadata": {
        "id": "kXIed9Dw4Jbx"
      },
      "source": [
        "This brings up some questions that suggest we'll have to deal with when cleaning the data: Should there be negative scores? What do letter grades N and Z mean?"
      ]
    },
    {
      "cell_type": "code",
      "metadata": {
        "id": "2ubQcW_uP8UX",
        "colab": {
          "base_uri": "https://localhost:8080/"
        },
        "outputId": "6dc23087-5918-4d0b-fa6b-e5ff4c466606"
      },
      "source": [
        "# Check negative scores\n",
        "# neg_scores = inspections.score < 0\n",
        "inspections.score.value_counts()"
      ],
      "execution_count": null,
      "outputs": [
        {
          "output_type": "execute_result",
          "data": {
            "text/plain": [
              "12.0     41437\n",
              "13.0     33032\n",
              "10.0     21928\n",
              "11.0     21374\n",
              "9.0      19456\n",
              "         ...  \n",
              "133.0       10\n",
              "151.0       10\n",
              "150.0        9\n",
              "137.0        8\n",
              "136.0        7\n",
              "Name: score, Length: 136, dtype: int64"
            ]
          },
          "metadata": {
            "tags": []
          },
          "execution_count": 10
        }
      ]
    },
    {
      "cell_type": "code",
      "metadata": {
        "id": "UL5D75d3cgFL"
      },
      "source": [
        "score_values = inspections.score.values"
      ],
      "execution_count": null,
      "outputs": []
    },
    {
      "cell_type": "code",
      "metadata": {
        "id": "sCmuuTUkcnwk"
      },
      "source": [
        "neg_values = []\n",
        "for s in score_values:\n",
        "  if s < 0:\n",
        "    neg_values.append(s)"
      ],
      "execution_count": null,
      "outputs": []
    },
    {
      "cell_type": "code",
      "metadata": {
        "colab": {
          "base_uri": "https://localhost:8080/"
        },
        "id": "pkARz5orcyV_",
        "outputId": "5514982d-b684-4770-f8d3-91b8ba516c9d"
      },
      "source": [
        "print(neg_values)"
      ],
      "execution_count": null,
      "outputs": [
        {
          "output_type": "stream",
          "text": [
            "[-1.0, -1.0, -1.0, -1.0, -1.0, -1.0, -1.0, -1.0, -1.0, -1.0, -1.0, -1.0, -1.0, -1.0, -1.0, -1.0, -1.0, -1.0, -1.0, -1.0, -1.0, -1.0, -1.0, -1.0, -1.0, -1.0, -1.0, -1.0, -1.0, -1.0, -1.0, -1.0, -1.0, -1.0, -1.0, -1.0, -1.0, -1.0, -1.0, -1.0, -1.0, -1.0, -1.0, -1.0, -1.0, -1.0, -1.0, -1.0, -1.0, -1.0, -1.0, -1.0, -1.0, -1.0, -1.0, -1.0, -1.0, -1.0, -1.0, -1.0, -1.0, -1.0, -1.0, -1.0, -1.0, -1.0, -1.0, -1.0, -1.0, -1.0, -1.0, -1.0, -1.0, -1.0, -1.0, -1.0, -1.0, -1.0, -1.0, -1.0, -1.0, -1.0, -1.0, -1.0, -1.0, -1.0, -1.0, -1.0, -1.0, -1.0, -1.0, -1.0, -1.0, -1.0, -1.0, -1.0, -1.0, -1.0, -1.0, -1.0, -1.0, -1.0, -1.0, -1.0, -1.0, -1.0, -1.0, -1.0, -1.0, -1.0, -1.0, -1.0, -1.0, -1.0, -1.0, -1.0, -1.0, -1.0, -1.0, -1.0, -1.0, -1.0, -1.0, -1.0, -1.0, -1.0, -1.0, -1.0, -1.0, -1.0, -1.0, -1.0, -1.0, -1.0, -1.0, -1.0, -1.0, -1.0, -1.0, -1.0, -1.0, -1.0, -1.0, -1.0, -1.0, -1.0, -1.0, -1.0, -1.0, -1.0, -1.0, -1.0, -1.0, -1.0, -1.0, -1.0, -1.0, -1.0, -1.0, -1.0, -1.0, -1.0, -1.0, -1.0, -1.0, -1.0, -1.0, -1.0, -1.0, -1.0, -1.0, -1.0, -1.0, -1.0, -1.0, -1.0, -1.0, -1.0, -1.0, -1.0, -1.0, -1.0, -1.0, -1.0, -1.0, -1.0, -1.0, -1.0, -1.0, -1.0, -1.0, -1.0, -1.0, -1.0, -1.0, -1.0, -1.0, -1.0, -1.0, -1.0, -1.0, -1.0, -1.0, -1.0, -1.0, -1.0, -1.0, -1.0, -1.0, -1.0, -1.0, -1.0, -1.0, -1.0, -1.0, -1.0, -1.0, -1.0, -1.0, -1.0, -1.0, -1.0, -1.0, -1.0, -1.0, -1.0, -1.0, -1.0, -1.0, -1.0, -1.0, -1.0, -1.0, -1.0, -1.0, -1.0, -1.0, -1.0, -1.0, -1.0, -1.0, -1.0, -1.0, -1.0, -1.0, -1.0, -1.0, -1.0, -1.0, -1.0, -1.0, -1.0, -1.0, -1.0, -1.0, -1.0, -1.0, -1.0, -1.0, -1.0, -1.0, -1.0, -1.0, -1.0, -1.0, -1.0, -1.0, -1.0, -1.0, -1.0, -1.0, -1.0, -1.0, -1.0, -1.0, -1.0, -1.0, -1.0, -1.0, -1.0, -1.0, -1.0, -1.0, -1.0, -1.0, -1.0, -1.0, -1.0, -1.0, -1.0, -1.0, -1.0, -1.0, -1.0, -1.0, -1.0, -1.0, -1.0, -1.0, -1.0, -1.0, -1.0, -1.0, -1.0, -1.0, -1.0, -1.0, -1.0, -1.0, -1.0, -1.0, -1.0, -1.0, -1.0, -1.0, -1.0, -1.0, -1.0, -1.0, -1.0, -1.0, -1.0, -1.0, -1.0, -1.0, -1.0, -1.0, -1.0, -1.0, -1.0, -1.0, -1.0, -1.0, -1.0, -1.0, -1.0, -1.0, -1.0, -1.0, -1.0, -1.0, -1.0, -1.0, -1.0, -1.0, -1.0, -1.0, -1.0, -1.0, -1.0, -1.0, -1.0, -1.0, -1.0, -1.0, -1.0, -1.0, -1.0, -1.0, -1.0, -1.0, -1.0, -1.0, -1.0, -1.0, -1.0, -1.0, -1.0, -1.0, -1.0, -1.0, -1.0, -1.0, -1.0, -1.0, -1.0, -1.0, -1.0, -1.0, -1.0, -1.0, -1.0, -1.0, -1.0, -1.0, -1.0, -1.0, -1.0, -1.0, -1.0, -1.0, -1.0, -1.0, -1.0, -1.0, -1.0, -1.0, -1.0, -1.0, -1.0, -1.0, -1.0, -1.0, -1.0, -1.0, -1.0, -1.0, -1.0, -1.0, -1.0, -1.0, -1.0, -1.0, -1.0, -1.0, -1.0, -1.0, -1.0, -1.0, -1.0, -1.0, -1.0, -1.0, -1.0, -1.0, -1.0, -1.0, -1.0, -1.0, -1.0, -1.0, -1.0, -1.0, -1.0, -1.0, -1.0, -1.0, -1.0, -1.0, -1.0, -1.0, -1.0, -1.0, -1.0, -1.0, -1.0, -1.0, -1.0, -1.0, -1.0, -1.0, -1.0, -1.0, -1.0, -1.0, -1.0, -1.0, -1.0, -1.0, -1.0, -1.0, -1.0, -1.0, -1.0, -1.0, -1.0, -1.0, -1.0, -1.0, -1.0, -1.0, -1.0, -1.0, -1.0, -1.0, -1.0, -1.0, -1.0, -1.0, -1.0, -1.0, -1.0, -1.0, -1.0, -1.0, -1.0, -1.0, -1.0, -1.0, -1.0, -1.0, -1.0, -1.0, -1.0, -1.0, -1.0, -1.0, -1.0, -1.0, -1.0, -1.0, -1.0, -1.0, -1.0, -1.0, -1.0, -1.0, -1.0, -1.0, -1.0, -1.0, -1.0, -1.0, -1.0, -1.0, -1.0, -1.0, -1.0, -1.0, -1.0, -1.0, -1.0, -1.0, -1.0, -1.0, -1.0, -1.0, -1.0, -1.0, -1.0, -1.0, -1.0, -1.0, -1.0, -1.0, -1.0, -1.0, -1.0, -1.0, -1.0, -1.0, -1.0, -1.0, -1.0, -1.0, -1.0, -1.0, -1.0, -1.0, -1.0, -1.0, -1.0, -1.0, -1.0, -1.0, -1.0, -1.0, -1.0, -1.0, -1.0, -1.0, -1.0, -1.0, -1.0, -1.0, -1.0, -1.0, -1.0, -1.0, -1.0, -1.0, -1.0, -1.0, -1.0, -1.0, -1.0, -1.0, -1.0, -1.0, -1.0, -1.0, -1.0, -1.0, -1.0, -1.0, -1.0, -1.0, -1.0, -1.0, -1.0, -1.0, -1.0, -1.0, -1.0, -1.0, -1.0, -1.0, -1.0, -1.0, -1.0, -1.0, -1.0, -1.0, -1.0, -1.0, -1.0, -1.0, -1.0, -1.0, -1.0, -1.0, -1.0, -1.0, -1.0, -1.0, -1.0, -1.0, -1.0, -1.0, -1.0, -1.0, -1.0, -1.0, -1.0, -1.0, -1.0, -1.0, -1.0, -1.0, -1.0, -1.0, -1.0, -1.0, -1.0, -1.0, -1.0, -1.0, -1.0, -1.0, -1.0, -1.0, -1.0, -1.0, -1.0, -1.0, -1.0, -1.0, -1.0, -1.0, -1.0, -1.0, -1.0, -1.0, -1.0, -1.0, -1.0, -1.0, -1.0, -1.0, -1.0, -1.0, -1.0, -1.0, -1.0, -1.0, -1.0, -1.0, -1.0, -1.0, -1.0, -1.0, -1.0, -1.0, -1.0, -1.0, -1.0, -1.0, -1.0, -1.0, -1.0, -1.0, -1.0, -1.0, -1.0, -1.0, -1.0, -1.0, -1.0, -1.0, -1.0, -1.0, -1.0, -1.0, -1.0, -1.0, -1.0, -1.0, -1.0, -1.0, -1.0, -1.0, -1.0, -1.0, -1.0, -1.0, -1.0, -1.0, -1.0, -1.0, -1.0, -1.0, -1.0, -1.0, -1.0, -1.0, -1.0, -1.0, -1.0, -1.0, -1.0, -1.0, -1.0, -1.0, -1.0, -1.0, -1.0, -1.0, -1.0, -1.0, -1.0, -1.0, -1.0, -1.0, -1.0, -1.0, -1.0, -1.0, -1.0, -1.0, -1.0, -1.0, -1.0, -1.0, -1.0, -1.0, -1.0, -1.0, -1.0, -1.0, -1.0, -1.0, -1.0, -1.0, -1.0, -1.0, -1.0, -1.0, -1.0, -1.0, -1.0, -1.0, -1.0, -1.0, -1.0, -1.0, -1.0, -1.0, -1.0, -1.0, -1.0, -1.0, -1.0, -1.0, -1.0, -1.0, -1.0, -1.0, -1.0, -1.0, -1.0, -1.0, -1.0, -1.0, -1.0, -1.0, -1.0, -1.0, -1.0, -1.0, -1.0, -1.0, -1.0, -1.0, -1.0, -1.0, -1.0, -1.0, -1.0, -1.0, -1.0, -1.0, -1.0, -1.0, -1.0, -1.0, -1.0, -1.0, -1.0, -1.0, -1.0, -1.0, -1.0, -1.0, -1.0, -1.0, -1.0, -1.0, -1.0, -1.0, -1.0, -1.0, -1.0, -1.0, -1.0, -1.0, -1.0, -1.0, -1.0, -1.0, -1.0, -1.0, -1.0, -1.0, -1.0, -1.0, -1.0, -1.0, -1.0, -1.0, -1.0, -1.0, -1.0, -1.0, -1.0, -1.0, -1.0, -1.0, -1.0, -1.0, -1.0, -1.0, -1.0, -1.0, -1.0, -1.0, -1.0, -1.0, -1.0, -1.0, -1.0, -1.0, -1.0, -1.0, -1.0, -1.0, -1.0, -1.0, -1.0, -1.0, -1.0, -1.0, -1.0, -1.0, -1.0, -1.0, -1.0, -1.0, -1.0, -1.0, -1.0, -1.0, -1.0, -1.0, -1.0, -1.0, -1.0, -1.0, -1.0, -1.0, -1.0, -1.0, -1.0, -1.0, -1.0, -1.0, -1.0, -1.0, -1.0, -1.0, -1.0, -1.0, -1.0, -1.0, -1.0, -1.0, -1.0, -1.0, -1.0, -1.0, -1.0, -1.0, -1.0, -1.0, -1.0, -1.0, -1.0, -1.0, -1.0, -1.0, -1.0, -1.0, -1.0, -1.0, -1.0, -1.0, -1.0, -1.0, -1.0, -1.0, -1.0, -1.0, -1.0, -1.0, -1.0, -1.0, -1.0, -1.0, -1.0, -1.0, -1.0, -1.0, -1.0, -1.0, -1.0, -1.0, -1.0, -1.0, -1.0, -1.0, -1.0, -1.0, -1.0, -1.0, -1.0, -1.0, -1.0, -1.0, -1.0, -1.0, -1.0, -1.0, -1.0, -1.0, -1.0, -1.0, -1.0, -1.0, -1.0, -1.0, -1.0, -1.0, -1.0, -1.0, -1.0, -1.0, -1.0, -1.0, -1.0, -1.0, -1.0, -1.0, -1.0, -1.0, -1.0, -1.0, -1.0, -1.0, -1.0, -1.0, -1.0, -1.0, -1.0, -1.0, -1.0, -1.0, -1.0, -1.0, -1.0, -1.0, -1.0, -1.0, -1.0, -1.0, -1.0, -1.0, -1.0, -1.0, -1.0, -1.0, -1.0, -1.0, -1.0, -1.0, -1.0, -1.0, -1.0, -1.0, -1.0, -1.0, -1.0, -1.0, -1.0, -1.0, -1.0, -1.0, -1.0, -1.0, -1.0, -1.0, -1.0, -1.0, -1.0, -1.0, -1.0, -1.0, -1.0, -1.0, -1.0, -1.0, -1.0, -1.0, -1.0, -1.0, -1.0, -1.0, -1.0, -1.0, -1.0, -1.0, -1.0, -1.0, -1.0, -1.0, -1.0, -1.0, -1.0, -1.0, -1.0, -1.0, -1.0, -1.0, -1.0, -1.0, -1.0, -1.0, -1.0, -1.0, -1.0, -1.0, -1.0, -1.0, -1.0, -1.0, -1.0, -1.0, -1.0, -1.0, -1.0, -1.0, -1.0, -1.0, -1.0, -1.0, -1.0, -1.0, -1.0, -1.0, -1.0, -1.0, -1.0, -1.0, -1.0, -1.0, -1.0, -1.0, -1.0, -1.0, -1.0, -1.0, -1.0, -1.0, -1.0, -1.0, -1.0, -1.0, -1.0, -1.0, -1.0, -1.0, -1.0, -1.0, -1.0, -1.0, -1.0, -1.0, -1.0, -1.0, -1.0, -1.0, -1.0, -1.0, -1.0, -1.0, -1.0, -1.0, -1.0, -1.0, -1.0, -1.0, -1.0, -1.0, -1.0, -1.0, -1.0, -1.0, -1.0, -1.0, -1.0, -1.0, -1.0, -1.0, -1.0, -1.0, -1.0, -1.0, -1.0, -1.0, -1.0, -1.0, -1.0, -1.0, -1.0, -1.0, -1.0, -1.0, -1.0, -1.0, -1.0, -1.0, -1.0, -1.0, -1.0, -1.0, -1.0, -1.0, -1.0, -1.0, -1.0, -1.0, -1.0, -1.0, -1.0, -1.0, -1.0, -1.0, -1.0, -1.0, -1.0, -1.0, -1.0, -1.0, -1.0, -1.0, -1.0, -1.0, -1.0, -1.0, -1.0, -1.0, -1.0, -1.0, -1.0, -1.0, -1.0, -1.0, -1.0, -1.0, -1.0, -1.0, -1.0, -1.0, -1.0, -1.0, -1.0, -1.0, -1.0, -1.0, -1.0, -1.0, -1.0, -1.0, -1.0]\n"
          ],
          "name": "stdout"
        }
      ]
    },
    {
      "cell_type": "code",
      "metadata": {
        "colab": {
          "base_uri": "https://localhost:8080/"
        },
        "id": "WfKPDUA_c1tl",
        "outputId": "6c0ca6c0-4bf4-465b-ae0f-f32a60d31ce7"
      },
      "source": [
        "print(set(neg_values))"
      ],
      "execution_count": null,
      "outputs": [
        {
          "output_type": "stream",
          "text": [
            "{-1.0}\n"
          ],
          "name": "stdout"
        }
      ]
    },
    {
      "cell_type": "code",
      "metadata": {
        "id": "VE4NA2-XRIP8",
        "colab": {
          "base_uri": "https://localhost:8080/",
          "height": 966
        },
        "outputId": "bf8bd668-e5a0-4e1b-e558-52dfe11eef7d"
      },
      "source": [
        "# Examine the unique scores and grades for resturants with negative scores\n",
        "inspections[inspections.score < 0]"
      ],
      "execution_count": null,
      "outputs": [
        {
          "output_type": "execute_result",
          "data": {
            "text/html": [
              "<div>\n",
              "<style scoped>\n",
              "    .dataframe tbody tr th:only-of-type {\n",
              "        vertical-align: middle;\n",
              "    }\n",
              "\n",
              "    .dataframe tbody tr th {\n",
              "        vertical-align: top;\n",
              "    }\n",
              "\n",
              "    .dataframe thead th {\n",
              "        text-align: right;\n",
              "    }\n",
              "</style>\n",
              "<table border=\"1\" class=\"dataframe\">\n",
              "  <thead>\n",
              "    <tr style=\"text-align: right;\">\n",
              "      <th></th>\n",
              "      <th>camis</th>\n",
              "      <th>dba</th>\n",
              "      <th>boro</th>\n",
              "      <th>building</th>\n",
              "      <th>street</th>\n",
              "      <th>zipcode</th>\n",
              "      <th>phone</th>\n",
              "      <th>cuisine_description</th>\n",
              "      <th>inspection_date</th>\n",
              "      <th>action</th>\n",
              "      <th>violation_code</th>\n",
              "      <th>violation_description</th>\n",
              "      <th>critical_flag</th>\n",
              "      <th>score</th>\n",
              "      <th>grade</th>\n",
              "      <th>grade_date</th>\n",
              "      <th>record_date</th>\n",
              "      <th>inspection_type</th>\n",
              "      <th>latitude</th>\n",
              "      <th>longitude</th>\n",
              "      <th>community_board</th>\n",
              "      <th>council_district</th>\n",
              "      <th>census_tract</th>\n",
              "      <th>bin</th>\n",
              "      <th>bbl</th>\n",
              "      <th>nta</th>\n",
              "    </tr>\n",
              "  </thead>\n",
              "  <tbody>\n",
              "    <tr>\n",
              "      <th>289</th>\n",
              "      <td>50076978</td>\n",
              "      <td>ARASHI SUSHI</td>\n",
              "      <td>Brooklyn</td>\n",
              "      <td>9605</td>\n",
              "      <td>CHURCH AVENUE</td>\n",
              "      <td>11212.0</td>\n",
              "      <td>7183852223</td>\n",
              "      <td>Japanese</td>\n",
              "      <td>01/28/2020</td>\n",
              "      <td>Violations were cited in the following area(s).</td>\n",
              "      <td>10F</td>\n",
              "      <td>Non-food contact surface improperly constructe...</td>\n",
              "      <td>N</td>\n",
              "      <td>-1.0</td>\n",
              "      <td>NaN</td>\n",
              "      <td>NaN</td>\n",
              "      <td>03/12/2021</td>\n",
              "      <td>Cycle Inspection / Initial Inspection</td>\n",
              "      <td>40.655792</td>\n",
              "      <td>-73.915319</td>\n",
              "      <td>317.0</td>\n",
              "      <td>42.0</td>\n",
              "      <td>89000.0</td>\n",
              "      <td>3102676.0</td>\n",
              "      <td>3.046930e+09</td>\n",
              "      <td>BK96</td>\n",
              "    </tr>\n",
              "    <tr>\n",
              "      <th>1044</th>\n",
              "      <td>50101183</td>\n",
              "      <td>QUEEN</td>\n",
              "      <td>Brooklyn</td>\n",
              "      <td>247</td>\n",
              "      <td>STARR STREET</td>\n",
              "      <td>11237.0</td>\n",
              "      <td>9176977982</td>\n",
              "      <td>Middle Eastern</td>\n",
              "      <td>01/14/2020</td>\n",
              "      <td>Violations were cited in the following area(s).</td>\n",
              "      <td>06D</td>\n",
              "      <td>Food contact surface not properly washed, rins...</td>\n",
              "      <td>Y</td>\n",
              "      <td>-1.0</td>\n",
              "      <td>NaN</td>\n",
              "      <td>NaN</td>\n",
              "      <td>03/12/2021</td>\n",
              "      <td>Pre-permit (Operational) / Initial Inspection</td>\n",
              "      <td>40.705722</td>\n",
              "      <td>-73.922537</td>\n",
              "      <td>304.0</td>\n",
              "      <td>34.0</td>\n",
              "      <td>44700.0</td>\n",
              "      <td>3333195.0</td>\n",
              "      <td>3.031880e+09</td>\n",
              "      <td>BK77</td>\n",
              "    </tr>\n",
              "    <tr>\n",
              "      <th>1373</th>\n",
              "      <td>50068064</td>\n",
              "      <td>TENG DRAGON ON NY</td>\n",
              "      <td>Manhattan</td>\n",
              "      <td>2923</td>\n",
              "      <td>8 AVENUE</td>\n",
              "      <td>10039.0</td>\n",
              "      <td>9174978532</td>\n",
              "      <td>Chinese</td>\n",
              "      <td>02/11/2020</td>\n",
              "      <td>Violations were cited in the following area(s).</td>\n",
              "      <td>02G</td>\n",
              "      <td>Cold food item held above 41º F (smoked fish a...</td>\n",
              "      <td>Y</td>\n",
              "      <td>-1.0</td>\n",
              "      <td>NaN</td>\n",
              "      <td>NaN</td>\n",
              "      <td>03/12/2021</td>\n",
              "      <td>Cycle Inspection / Initial Inspection</td>\n",
              "      <td>40.828995</td>\n",
              "      <td>-73.937404</td>\n",
              "      <td>110.0</td>\n",
              "      <td>9.0</td>\n",
              "      <td>23502.0</td>\n",
              "      <td>1060901.0</td>\n",
              "      <td>1.020470e+09</td>\n",
              "      <td>MN03</td>\n",
              "    </tr>\n",
              "    <tr>\n",
              "      <th>1492</th>\n",
              "      <td>50087220</td>\n",
              "      <td>LA CASA DE FRIDA</td>\n",
              "      <td>Bronx</td>\n",
              "      <td>307</td>\n",
              "      <td>EAST  204 STREET</td>\n",
              "      <td>10467.0</td>\n",
              "      <td>9145486310</td>\n",
              "      <td>Mexican</td>\n",
              "      <td>12/17/2019</td>\n",
              "      <td>Violations were cited in the following area(s).</td>\n",
              "      <td>06C</td>\n",
              "      <td>Food not protected from potential source of co...</td>\n",
              "      <td>Y</td>\n",
              "      <td>-1.0</td>\n",
              "      <td>NaN</td>\n",
              "      <td>NaN</td>\n",
              "      <td>03/12/2021</td>\n",
              "      <td>Cycle Inspection / Initial Inspection</td>\n",
              "      <td>40.872869</td>\n",
              "      <td>-73.878445</td>\n",
              "      <td>207.0</td>\n",
              "      <td>11.0</td>\n",
              "      <td>42500.0</td>\n",
              "      <td>2018294.0</td>\n",
              "      <td>2.033450e+09</td>\n",
              "      <td>BX43</td>\n",
              "    </tr>\n",
              "    <tr>\n",
              "      <th>1824</th>\n",
              "      <td>41607653</td>\n",
              "      <td>OBICA MOZZARELLA BAR</td>\n",
              "      <td>Manhattan</td>\n",
              "      <td>590</td>\n",
              "      <td>MADISON AVENUE</td>\n",
              "      <td>10022.0</td>\n",
              "      <td>2123552217</td>\n",
              "      <td>Italian</td>\n",
              "      <td>03/10/2020</td>\n",
              "      <td>Establishment Closed by DOHMH.  Violations wer...</td>\n",
              "      <td>06D</td>\n",
              "      <td>Food contact surface not properly washed, rins...</td>\n",
              "      <td>Y</td>\n",
              "      <td>-1.0</td>\n",
              "      <td>NaN</td>\n",
              "      <td>NaN</td>\n",
              "      <td>03/12/2021</td>\n",
              "      <td>Cycle Inspection / Initial Inspection</td>\n",
              "      <td>40.762139</td>\n",
              "      <td>-73.972479</td>\n",
              "      <td>105.0</td>\n",
              "      <td>4.0</td>\n",
              "      <td>11202.0</td>\n",
              "      <td>1035778.0</td>\n",
              "      <td>1.012920e+09</td>\n",
              "      <td>MN17</td>\n",
              "    </tr>\n",
              "    <tr>\n",
              "      <th>...</th>\n",
              "      <td>...</td>\n",
              "      <td>...</td>\n",
              "      <td>...</td>\n",
              "      <td>...</td>\n",
              "      <td>...</td>\n",
              "      <td>...</td>\n",
              "      <td>...</td>\n",
              "      <td>...</td>\n",
              "      <td>...</td>\n",
              "      <td>...</td>\n",
              "      <td>...</td>\n",
              "      <td>...</td>\n",
              "      <td>...</td>\n",
              "      <td>...</td>\n",
              "      <td>...</td>\n",
              "      <td>...</td>\n",
              "      <td>...</td>\n",
              "      <td>...</td>\n",
              "      <td>...</td>\n",
              "      <td>...</td>\n",
              "      <td>...</td>\n",
              "      <td>...</td>\n",
              "      <td>...</td>\n",
              "      <td>...</td>\n",
              "      <td>...</td>\n",
              "      <td>...</td>\n",
              "    </tr>\n",
              "    <tr>\n",
              "      <th>393307</th>\n",
              "      <td>50070412</td>\n",
              "      <td>CROWN FRIED CHICKEN</td>\n",
              "      <td>Bronx</td>\n",
              "      <td>1459</td>\n",
              "      <td>UNIONPORT ROAD</td>\n",
              "      <td>10462.0</td>\n",
              "      <td>3475244071</td>\n",
              "      <td>Chicken</td>\n",
              "      <td>10/22/2019</td>\n",
              "      <td>Violations were cited in the following area(s).</td>\n",
              "      <td>04N</td>\n",
              "      <td>Filth flies or food/refuse/sewage-associated (...</td>\n",
              "      <td>Y</td>\n",
              "      <td>-1.0</td>\n",
              "      <td>NaN</td>\n",
              "      <td>NaN</td>\n",
              "      <td>03/12/2021</td>\n",
              "      <td>Cycle Inspection / Compliance Inspection</td>\n",
              "      <td>40.835393</td>\n",
              "      <td>-73.855237</td>\n",
              "      <td>209.0</td>\n",
              "      <td>18.0</td>\n",
              "      <td>22200.0</td>\n",
              "      <td>2028965.0</td>\n",
              "      <td>2.039320e+09</td>\n",
              "      <td>BX46</td>\n",
              "    </tr>\n",
              "    <tr>\n",
              "      <th>393452</th>\n",
              "      <td>50090858</td>\n",
              "      <td>YIP SZECHUAN RESTAURANT</td>\n",
              "      <td>Queens</td>\n",
              "      <td>65-41</td>\n",
              "      <td>MYRTLE AVENUE</td>\n",
              "      <td>11385.0</td>\n",
              "      <td>7183861945</td>\n",
              "      <td>Chinese</td>\n",
              "      <td>03/07/2020</td>\n",
              "      <td>Violations were cited in the following area(s).</td>\n",
              "      <td>04N</td>\n",
              "      <td>Filth flies or food/refuse/sewage-associated (...</td>\n",
              "      <td>Y</td>\n",
              "      <td>-1.0</td>\n",
              "      <td>NaN</td>\n",
              "      <td>NaN</td>\n",
              "      <td>03/12/2021</td>\n",
              "      <td>Cycle Inspection / Initial Inspection</td>\n",
              "      <td>40.701240</td>\n",
              "      <td>-73.889233</td>\n",
              "      <td>405.0</td>\n",
              "      <td>30.0</td>\n",
              "      <td>57700.0</td>\n",
              "      <td>4089299.0</td>\n",
              "      <td>4.036770e+09</td>\n",
              "      <td>QN19</td>\n",
              "    </tr>\n",
              "    <tr>\n",
              "      <th>393816</th>\n",
              "      <td>50055957</td>\n",
              "      <td>LAO JIE HOT POT</td>\n",
              "      <td>Brooklyn</td>\n",
              "      <td>811</td>\n",
              "      <td>53 STREET</td>\n",
              "      <td>11220.0</td>\n",
              "      <td>7184310026</td>\n",
              "      <td>Chinese</td>\n",
              "      <td>02/29/2020</td>\n",
              "      <td>Violations were cited in the following area(s).</td>\n",
              "      <td>02G</td>\n",
              "      <td>Cold food item held above 41º F (smoked fish a...</td>\n",
              "      <td>Y</td>\n",
              "      <td>-1.0</td>\n",
              "      <td>B</td>\n",
              "      <td>02/29/2020</td>\n",
              "      <td>03/12/2021</td>\n",
              "      <td>Cycle Inspection / Re-inspection</td>\n",
              "      <td>40.639179</td>\n",
              "      <td>-74.005026</td>\n",
              "      <td>312.0</td>\n",
              "      <td>38.0</td>\n",
              "      <td>10600.0</td>\n",
              "      <td>3138502.0</td>\n",
              "      <td>3.056580e+09</td>\n",
              "      <td>BK34</td>\n",
              "    </tr>\n",
              "    <tr>\n",
              "      <th>394640</th>\n",
              "      <td>50070412</td>\n",
              "      <td>CROWN FRIED CHICKEN</td>\n",
              "      <td>Bronx</td>\n",
              "      <td>1459</td>\n",
              "      <td>UNIONPORT ROAD</td>\n",
              "      <td>10462.0</td>\n",
              "      <td>3475244071</td>\n",
              "      <td>Chicken</td>\n",
              "      <td>10/22/2019</td>\n",
              "      <td>Violations were cited in the following area(s).</td>\n",
              "      <td>04J</td>\n",
              "      <td>Appropriately scaled metal stem-type thermomet...</td>\n",
              "      <td>Y</td>\n",
              "      <td>-1.0</td>\n",
              "      <td>NaN</td>\n",
              "      <td>NaN</td>\n",
              "      <td>03/12/2021</td>\n",
              "      <td>Cycle Inspection / Compliance Inspection</td>\n",
              "      <td>40.835393</td>\n",
              "      <td>-73.855237</td>\n",
              "      <td>209.0</td>\n",
              "      <td>18.0</td>\n",
              "      <td>22200.0</td>\n",
              "      <td>2028965.0</td>\n",
              "      <td>2.039320e+09</td>\n",
              "      <td>BX46</td>\n",
              "    </tr>\n",
              "    <tr>\n",
              "      <th>395478</th>\n",
              "      <td>50100696</td>\n",
              "      <td>THE NEW DELI SPANISH FOOD</td>\n",
              "      <td>Queens</td>\n",
              "      <td>41-21</td>\n",
              "      <td>58 STREET</td>\n",
              "      <td>11377.0</td>\n",
              "      <td>7187108451</td>\n",
              "      <td>Spanish</td>\n",
              "      <td>03/12/2020</td>\n",
              "      <td>Violations were cited in the following area(s).</td>\n",
              "      <td>10F</td>\n",
              "      <td>Non-food contact surface improperly constructe...</td>\n",
              "      <td>N</td>\n",
              "      <td>-1.0</td>\n",
              "      <td>N</td>\n",
              "      <td>NaN</td>\n",
              "      <td>03/12/2021</td>\n",
              "      <td>Pre-permit (Operational) / Initial Inspection</td>\n",
              "      <td>40.743978</td>\n",
              "      <td>-73.906960</td>\n",
              "      <td>402.0</td>\n",
              "      <td>26.0</td>\n",
              "      <td>24900.0</td>\n",
              "      <td>4031251.0</td>\n",
              "      <td>4.013320e+09</td>\n",
              "      <td>QN63</td>\n",
              "    </tr>\n",
              "  </tbody>\n",
              "</table>\n",
              "<p>1212 rows × 26 columns</p>\n",
              "</div>"
            ],
            "text/plain": [
              "           camis                        dba       boro building  \\\n",
              "289     50076978               ARASHI SUSHI   Brooklyn     9605   \n",
              "1044    50101183                      QUEEN   Brooklyn      247   \n",
              "1373    50068064          TENG DRAGON ON NY  Manhattan     2923   \n",
              "1492    50087220           LA CASA DE FRIDA      Bronx      307   \n",
              "1824    41607653       OBICA MOZZARELLA BAR  Manhattan      590   \n",
              "...          ...                        ...        ...      ...   \n",
              "393307  50070412        CROWN FRIED CHICKEN      Bronx     1459   \n",
              "393452  50090858    YIP SZECHUAN RESTAURANT     Queens    65-41   \n",
              "393816  50055957            LAO JIE HOT POT   Brooklyn      811   \n",
              "394640  50070412        CROWN FRIED CHICKEN      Bronx     1459   \n",
              "395478  50100696  THE NEW DELI SPANISH FOOD     Queens    41-21   \n",
              "\n",
              "                  street  zipcode       phone cuisine_description  \\\n",
              "289        CHURCH AVENUE  11212.0  7183852223            Japanese   \n",
              "1044        STARR STREET  11237.0  9176977982      Middle Eastern   \n",
              "1373            8 AVENUE  10039.0  9174978532             Chinese   \n",
              "1492    EAST  204 STREET  10467.0  9145486310             Mexican   \n",
              "1824      MADISON AVENUE  10022.0  2123552217             Italian   \n",
              "...                  ...      ...         ...                 ...   \n",
              "393307    UNIONPORT ROAD  10462.0  3475244071             Chicken   \n",
              "393452     MYRTLE AVENUE  11385.0  7183861945             Chinese   \n",
              "393816         53 STREET  11220.0  7184310026             Chinese   \n",
              "394640    UNIONPORT ROAD  10462.0  3475244071             Chicken   \n",
              "395478         58 STREET  11377.0  7187108451             Spanish   \n",
              "\n",
              "       inspection_date                                             action  \\\n",
              "289         01/28/2020    Violations were cited in the following area(s).   \n",
              "1044        01/14/2020    Violations were cited in the following area(s).   \n",
              "1373        02/11/2020    Violations were cited in the following area(s).   \n",
              "1492        12/17/2019    Violations were cited in the following area(s).   \n",
              "1824        03/10/2020  Establishment Closed by DOHMH.  Violations wer...   \n",
              "...                ...                                                ...   \n",
              "393307      10/22/2019    Violations were cited in the following area(s).   \n",
              "393452      03/07/2020    Violations were cited in the following area(s).   \n",
              "393816      02/29/2020    Violations were cited in the following area(s).   \n",
              "394640      10/22/2019    Violations were cited in the following area(s).   \n",
              "395478      03/12/2020    Violations were cited in the following area(s).   \n",
              "\n",
              "       violation_code                              violation_description  \\\n",
              "289               10F  Non-food contact surface improperly constructe...   \n",
              "1044              06D  Food contact surface not properly washed, rins...   \n",
              "1373              02G  Cold food item held above 41º F (smoked fish a...   \n",
              "1492              06C  Food not protected from potential source of co...   \n",
              "1824              06D  Food contact surface not properly washed, rins...   \n",
              "...               ...                                                ...   \n",
              "393307            04N  Filth flies or food/refuse/sewage-associated (...   \n",
              "393452            04N  Filth flies or food/refuse/sewage-associated (...   \n",
              "393816            02G  Cold food item held above 41º F (smoked fish a...   \n",
              "394640            04J  Appropriately scaled metal stem-type thermomet...   \n",
              "395478            10F  Non-food contact surface improperly constructe...   \n",
              "\n",
              "       critical_flag  score grade  grade_date record_date  \\\n",
              "289                N   -1.0   NaN         NaN  03/12/2021   \n",
              "1044               Y   -1.0   NaN         NaN  03/12/2021   \n",
              "1373               Y   -1.0   NaN         NaN  03/12/2021   \n",
              "1492               Y   -1.0   NaN         NaN  03/12/2021   \n",
              "1824               Y   -1.0   NaN         NaN  03/12/2021   \n",
              "...              ...    ...   ...         ...         ...   \n",
              "393307             Y   -1.0   NaN         NaN  03/12/2021   \n",
              "393452             Y   -1.0   NaN         NaN  03/12/2021   \n",
              "393816             Y   -1.0     B  02/29/2020  03/12/2021   \n",
              "394640             Y   -1.0   NaN         NaN  03/12/2021   \n",
              "395478             N   -1.0     N         NaN  03/12/2021   \n",
              "\n",
              "                                      inspection_type   latitude  longitude  \\\n",
              "289             Cycle Inspection / Initial Inspection  40.655792 -73.915319   \n",
              "1044    Pre-permit (Operational) / Initial Inspection  40.705722 -73.922537   \n",
              "1373            Cycle Inspection / Initial Inspection  40.828995 -73.937404   \n",
              "1492            Cycle Inspection / Initial Inspection  40.872869 -73.878445   \n",
              "1824            Cycle Inspection / Initial Inspection  40.762139 -73.972479   \n",
              "...                                               ...        ...        ...   \n",
              "393307       Cycle Inspection / Compliance Inspection  40.835393 -73.855237   \n",
              "393452          Cycle Inspection / Initial Inspection  40.701240 -73.889233   \n",
              "393816               Cycle Inspection / Re-inspection  40.639179 -74.005026   \n",
              "394640       Cycle Inspection / Compliance Inspection  40.835393 -73.855237   \n",
              "395478  Pre-permit (Operational) / Initial Inspection  40.743978 -73.906960   \n",
              "\n",
              "        community_board  council_district  census_tract        bin  \\\n",
              "289               317.0              42.0       89000.0  3102676.0   \n",
              "1044              304.0              34.0       44700.0  3333195.0   \n",
              "1373              110.0               9.0       23502.0  1060901.0   \n",
              "1492              207.0              11.0       42500.0  2018294.0   \n",
              "1824              105.0               4.0       11202.0  1035778.0   \n",
              "...                 ...               ...           ...        ...   \n",
              "393307            209.0              18.0       22200.0  2028965.0   \n",
              "393452            405.0              30.0       57700.0  4089299.0   \n",
              "393816            312.0              38.0       10600.0  3138502.0   \n",
              "394640            209.0              18.0       22200.0  2028965.0   \n",
              "395478            402.0              26.0       24900.0  4031251.0   \n",
              "\n",
              "                 bbl   nta  \n",
              "289     3.046930e+09  BK96  \n",
              "1044    3.031880e+09  BK77  \n",
              "1373    1.020470e+09  MN03  \n",
              "1492    2.033450e+09  BX43  \n",
              "1824    1.012920e+09  MN17  \n",
              "...              ...   ...  \n",
              "393307  2.039320e+09  BX46  \n",
              "393452  4.036770e+09  QN19  \n",
              "393816  3.056580e+09  BK34  \n",
              "394640  2.039320e+09  BX46  \n",
              "395478  4.013320e+09  QN63  \n",
              "\n",
              "[1212 rows x 26 columns]"
            ]
          },
          "metadata": {
            "tags": []
          },
          "execution_count": 15
        }
      ]
    },
    {
      "cell_type": "code",
      "metadata": {
        "colab": {
          "base_uri": "https://localhost:8080/",
          "height": 297
        },
        "id": "PsnUkjTgeG7t",
        "outputId": "19e7123e-26cf-4045-ac2e-25cb455be073"
      },
      "source": [
        "inspections[inspections.score < 0].describe()"
      ],
      "execution_count": null,
      "outputs": [
        {
          "output_type": "execute_result",
          "data": {
            "text/html": [
              "<div>\n",
              "<style scoped>\n",
              "    .dataframe tbody tr th:only-of-type {\n",
              "        vertical-align: middle;\n",
              "    }\n",
              "\n",
              "    .dataframe tbody tr th {\n",
              "        vertical-align: top;\n",
              "    }\n",
              "\n",
              "    .dataframe thead th {\n",
              "        text-align: right;\n",
              "    }\n",
              "</style>\n",
              "<table border=\"1\" class=\"dataframe\">\n",
              "  <thead>\n",
              "    <tr style=\"text-align: right;\">\n",
              "      <th></th>\n",
              "      <th>camis</th>\n",
              "      <th>zipcode</th>\n",
              "      <th>score</th>\n",
              "      <th>latitude</th>\n",
              "      <th>longitude</th>\n",
              "      <th>community_board</th>\n",
              "      <th>council_district</th>\n",
              "      <th>census_tract</th>\n",
              "      <th>bin</th>\n",
              "      <th>bbl</th>\n",
              "    </tr>\n",
              "  </thead>\n",
              "  <tbody>\n",
              "    <tr>\n",
              "      <th>count</th>\n",
              "      <td>1.212000e+03</td>\n",
              "      <td>1195.000000</td>\n",
              "      <td>1212.0</td>\n",
              "      <td>1212.000000</td>\n",
              "      <td>1212.000000</td>\n",
              "      <td>1195.000000</td>\n",
              "      <td>1195.000000</td>\n",
              "      <td>1195.000000</td>\n",
              "      <td>1.189000e+03</td>\n",
              "      <td>1.212000e+03</td>\n",
              "    </tr>\n",
              "    <tr>\n",
              "      <th>mean</th>\n",
              "      <td>4.740871e+07</td>\n",
              "      <td>10746.599163</td>\n",
              "      <td>-1.0</td>\n",
              "      <td>40.156395</td>\n",
              "      <td>-72.899835</td>\n",
              "      <td>265.784937</td>\n",
              "      <td>20.487866</td>\n",
              "      <td>33591.288703</td>\n",
              "      <td>2.689246e+06</td>\n",
              "      <td>2.576653e+09</td>\n",
              "    </tr>\n",
              "    <tr>\n",
              "      <th>std</th>\n",
              "      <td>4.055584e+06</td>\n",
              "      <td>604.143139</td>\n",
              "      <td>0.0</td>\n",
              "      <td>4.791980</td>\n",
              "      <td>8.698941</td>\n",
              "      <td>133.695752</td>\n",
              "      <td>15.209992</td>\n",
              "      <td>35167.297658</td>\n",
              "      <td>1.384270e+06</td>\n",
              "      <td>1.382048e+09</td>\n",
              "    </tr>\n",
              "    <tr>\n",
              "      <th>min</th>\n",
              "      <td>4.036447e+07</td>\n",
              "      <td>10001.000000</td>\n",
              "      <td>-1.0</td>\n",
              "      <td>0.000000</td>\n",
              "      <td>-74.241774</td>\n",
              "      <td>101.000000</td>\n",
              "      <td>1.000000</td>\n",
              "      <td>502.000000</td>\n",
              "      <td>1.000044e+06</td>\n",
              "      <td>1.000000e+00</td>\n",
              "    </tr>\n",
              "    <tr>\n",
              "      <th>25%</th>\n",
              "      <td>4.162317e+07</td>\n",
              "      <td>10023.000000</td>\n",
              "      <td>-1.0</td>\n",
              "      <td>40.687023</td>\n",
              "      <td>-73.989853</td>\n",
              "      <td>106.000000</td>\n",
              "      <td>4.000000</td>\n",
              "      <td>9400.000000</td>\n",
              "      <td>1.044832e+06</td>\n",
              "      <td>1.012040e+09</td>\n",
              "    </tr>\n",
              "    <tr>\n",
              "      <th>50%</th>\n",
              "      <td>5.005141e+07</td>\n",
              "      <td>11201.000000</td>\n",
              "      <td>-1.0</td>\n",
              "      <td>40.739681</td>\n",
              "      <td>-73.957020</td>\n",
              "      <td>306.000000</td>\n",
              "      <td>20.000000</td>\n",
              "      <td>16800.000000</td>\n",
              "      <td>3.045826e+06</td>\n",
              "      <td>3.011000e+09</td>\n",
              "    </tr>\n",
              "    <tr>\n",
              "      <th>75%</th>\n",
              "      <td>5.008720e+07</td>\n",
              "      <td>11354.000000</td>\n",
              "      <td>-1.0</td>\n",
              "      <td>40.762139</td>\n",
              "      <td>-73.871577</td>\n",
              "      <td>405.000000</td>\n",
              "      <td>34.000000</td>\n",
              "      <td>51450.000000</td>\n",
              "      <td>4.065258e+06</td>\n",
              "      <td>4.021390e+09</td>\n",
              "    </tr>\n",
              "    <tr>\n",
              "      <th>max</th>\n",
              "      <td>5.010388e+07</td>\n",
              "      <td>11691.000000</td>\n",
              "      <td>-1.0</td>\n",
              "      <td>40.903604</td>\n",
              "      <td>0.000000</td>\n",
              "      <td>503.000000</td>\n",
              "      <td>51.000000</td>\n",
              "      <td>157101.000000</td>\n",
              "      <td>5.151293e+06</td>\n",
              "      <td>5.080430e+09</td>\n",
              "    </tr>\n",
              "  </tbody>\n",
              "</table>\n",
              "</div>"
            ],
            "text/plain": [
              "              camis       zipcode   score     latitude    longitude  \\\n",
              "count  1.212000e+03   1195.000000  1212.0  1212.000000  1212.000000   \n",
              "mean   4.740871e+07  10746.599163    -1.0    40.156395   -72.899835   \n",
              "std    4.055584e+06    604.143139     0.0     4.791980     8.698941   \n",
              "min    4.036447e+07  10001.000000    -1.0     0.000000   -74.241774   \n",
              "25%    4.162317e+07  10023.000000    -1.0    40.687023   -73.989853   \n",
              "50%    5.005141e+07  11201.000000    -1.0    40.739681   -73.957020   \n",
              "75%    5.008720e+07  11354.000000    -1.0    40.762139   -73.871577   \n",
              "max    5.010388e+07  11691.000000    -1.0    40.903604     0.000000   \n",
              "\n",
              "       community_board  council_district   census_tract           bin  \\\n",
              "count      1195.000000       1195.000000    1195.000000  1.189000e+03   \n",
              "mean        265.784937         20.487866   33591.288703  2.689246e+06   \n",
              "std         133.695752         15.209992   35167.297658  1.384270e+06   \n",
              "min         101.000000          1.000000     502.000000  1.000044e+06   \n",
              "25%         106.000000          4.000000    9400.000000  1.044832e+06   \n",
              "50%         306.000000         20.000000   16800.000000  3.045826e+06   \n",
              "75%         405.000000         34.000000   51450.000000  4.065258e+06   \n",
              "max         503.000000         51.000000  157101.000000  5.151293e+06   \n",
              "\n",
              "                bbl  \n",
              "count  1.212000e+03  \n",
              "mean   2.576653e+09  \n",
              "std    1.382048e+09  \n",
              "min    1.000000e+00  \n",
              "25%    1.012040e+09  \n",
              "50%    3.011000e+09  \n",
              "75%    4.021390e+09  \n",
              "max    5.080430e+09  "
            ]
          },
          "metadata": {
            "tags": []
          },
          "execution_count": 16
        }
      ]
    },
    {
      "cell_type": "markdown",
      "metadata": {
        "id": "qVUfRoeubtU4"
      },
      "source": [
        "Unfortunately data dictonary did not answer this question."
      ]
    },
    {
      "cell_type": "code",
      "metadata": {
        "colab": {
          "base_uri": "https://localhost:8080/"
        },
        "id": "IitNg0fgdFJG",
        "outputId": "2542df7c-cfa8-4fd4-c9a7-0011ba0f6bd2"
      },
      "source": [
        "inspections.grade.value_counts()"
      ],
      "execution_count": null,
      "outputs": [
        {
          "output_type": "execute_result",
          "data": {
            "text/plain": [
              "A    158358\n",
              "B     25937\n",
              "C      9904\n",
              "P      2636\n",
              "N      2298\n",
              "Z       559\n",
              "G         3\n",
              "Name: grade, dtype: int64"
            ]
          },
          "metadata": {
            "tags": []
          },
          "execution_count": 17
        }
      ]
    },
    {
      "cell_type": "code",
      "metadata": {
        "id": "eGKsh9A4Y5ib"
      },
      "source": [
        "# Check restaurants with grades N and Z\n",
        "grade_values = inspections.grade.values"
      ],
      "execution_count": null,
      "outputs": []
    },
    {
      "cell_type": "code",
      "metadata": {
        "id": "_PknxwxGdQza"
      },
      "source": [
        "g_values = []\n",
        "for g in grade_values:\n",
        "  if g == 'N' or g == 'Z':\n",
        "    g_values.append(g)"
      ],
      "execution_count": null,
      "outputs": []
    },
    {
      "cell_type": "code",
      "metadata": {
        "colab": {
          "base_uri": "https://localhost:8080/"
        },
        "id": "A2xOzuXUdfng",
        "outputId": "531b32bf-af0a-428d-829a-724626609354"
      },
      "source": [
        "print(g_values)"
      ],
      "execution_count": null,
      "outputs": [
        {
          "output_type": "stream",
          "text": [
            "['N', 'N', 'Z', 'N', 'N', 'N', 'N', 'N', 'N', 'Z', 'N', 'N', 'N', 'N', 'N', 'N', 'N', 'Z', 'N', 'N', 'N', 'N', 'N', 'N', 'N', 'N', 'N', 'N', 'N', 'N', 'N', 'N', 'N', 'N', 'N', 'Z', 'N', 'N', 'N', 'N', 'N', 'N', 'N', 'N', 'N', 'N', 'Z', 'Z', 'N', 'N', 'N', 'N', 'N', 'Z', 'Z', 'N', 'N', 'N', 'Z', 'N', 'N', 'N', 'N', 'N', 'N', 'N', 'N', 'N', 'N', 'N', 'N', 'Z', 'N', 'N', 'N', 'Z', 'N', 'N', 'N', 'N', 'N', 'N', 'N', 'N', 'N', 'N', 'N', 'Z', 'N', 'N', 'Z', 'N', 'N', 'N', 'N', 'N', 'N', 'Z', 'N', 'N', 'N', 'Z', 'N', 'N', 'N', 'N', 'N', 'Z', 'N', 'N', 'N', 'Z', 'N', 'N', 'N', 'N', 'Z', 'N', 'N', 'N', 'N', 'N', 'N', 'N', 'N', 'N', 'N', 'N', 'N', 'Z', 'N', 'N', 'N', 'N', 'N', 'N', 'N', 'N', 'N', 'N', 'N', 'N', 'N', 'N', 'Z', 'Z', 'N', 'N', 'N', 'Z', 'N', 'Z', 'N', 'Z', 'N', 'N', 'N', 'N', 'N', 'N', 'N', 'N', 'N', 'N', 'N', 'N', 'N', 'N', 'N', 'N', 'N', 'Z', 'N', 'N', 'N', 'N', 'N', 'N', 'N', 'N', 'N', 'Z', 'Z', 'N', 'N', 'N', 'N', 'Z', 'N', 'N', 'Z', 'N', 'N', 'N', 'N', 'N', 'N', 'N', 'Z', 'N', 'N', 'Z', 'N', 'N', 'N', 'N', 'N', 'N', 'N', 'N', 'N', 'N', 'N', 'N', 'N', 'Z', 'Z', 'N', 'Z', 'N', 'Z', 'N', 'N', 'N', 'N', 'N', 'N', 'Z', 'N', 'N', 'N', 'N', 'N', 'N', 'N', 'N', 'N', 'N', 'N', 'Z', 'N', 'Z', 'N', 'N', 'N', 'N', 'Z', 'N', 'Z', 'N', 'Z', 'N', 'Z', 'N', 'N', 'N', 'N', 'N', 'N', 'N', 'N', 'N', 'N', 'N', 'N', 'N', 'N', 'N', 'N', 'N', 'N', 'N', 'N', 'N', 'N', 'Z', 'N', 'N', 'N', 'N', 'Z', 'N', 'N', 'N', 'N', 'N', 'N', 'N', 'N', 'N', 'Z', 'N', 'N', 'N', 'N', 'Z', 'N', 'N', 'N', 'Z', 'N', 'N', 'N', 'N', 'N', 'N', 'N', 'Z', 'N', 'N', 'N', 'N', 'N', 'Z', 'N', 'N', 'N', 'N', 'Z', 'N', 'N', 'N', 'N', 'N', 'Z', 'Z', 'N', 'N', 'N', 'N', 'N', 'Z', 'N', 'Z', 'N', 'N', 'N', 'N', 'N', 'N', 'N', 'N', 'N', 'N', 'N', 'N', 'N', 'N', 'N', 'N', 'N', 'N', 'N', 'N', 'N', 'N', 'N', 'N', 'N', 'N', 'N', 'N', 'N', 'N', 'N', 'N', 'Z', 'N', 'Z', 'N', 'N', 'Z', 'N', 'N', 'N', 'N', 'N', 'N', 'N', 'N', 'N', 'N', 'N', 'Z', 'N', 'N', 'N', 'N', 'N', 'N', 'Z', 'Z', 'N', 'N', 'N', 'N', 'N', 'Z', 'N', 'Z', 'N', 'N', 'N', 'N', 'N', 'N', 'N', 'N', 'N', 'N', 'N', 'N', 'N', 'N', 'Z', 'N', 'N', 'N', 'N', 'N', 'N', 'N', 'Z', 'Z', 'N', 'N', 'N', 'N', 'N', 'N', 'N', 'Z', 'N', 'N', 'N', 'N', 'N', 'N', 'N', 'N', 'N', 'N', 'N', 'N', 'N', 'N', 'N', 'N', 'N', 'N', 'N', 'N', 'N', 'N', 'Z', 'N', 'N', 'Z', 'N', 'N', 'N', 'N', 'N', 'N', 'N', 'N', 'N', 'Z', 'N', 'Z', 'N', 'N', 'Z', 'N', 'N', 'N', 'N', 'Z', 'N', 'N', 'N', 'N', 'Z', 'N', 'N', 'N', 'N', 'N', 'N', 'N', 'N', 'N', 'N', 'Z', 'N', 'N', 'N', 'N', 'N', 'Z', 'Z', 'N', 'N', 'N', 'N', 'Z', 'Z', 'N', 'N', 'N', 'N', 'N', 'N', 'N', 'N', 'N', 'N', 'N', 'N', 'N', 'N', 'N', 'N', 'N', 'N', 'N', 'N', 'N', 'Z', 'Z', 'N', 'Z', 'N', 'N', 'N', 'N', 'N', 'N', 'N', 'N', 'N', 'Z', 'N', 'N', 'N', 'Z', 'N', 'N', 'Z', 'N', 'Z', 'N', 'Z', 'N', 'N', 'N', 'N', 'N', 'N', 'N', 'N', 'N', 'N', 'N', 'Z', 'N', 'Z', 'N', 'N', 'N', 'N', 'N', 'N', 'N', 'Z', 'N', 'N', 'Z', 'N', 'N', 'N', 'N', 'N', 'N', 'N', 'N', 'N', 'N', 'N', 'N', 'Z', 'N', 'N', 'N', 'Z', 'N', 'N', 'N', 'Z', 'N', 'N', 'N', 'Z', 'N', 'N', 'N', 'N', 'Z', 'Z', 'Z', 'N', 'N', 'N', 'Z', 'N', 'Z', 'N', 'Z', 'N', 'N', 'N', 'N', 'Z', 'N', 'N', 'N', 'N', 'N', 'N', 'N', 'N', 'N', 'N', 'N', 'N', 'N', 'N', 'Z', 'N', 'N', 'N', 'Z', 'N', 'N', 'Z', 'N', 'N', 'N', 'N', 'N', 'N', 'N', 'N', 'N', 'N', 'N', 'Z', 'N', 'N', 'N', 'N', 'Z', 'N', 'Z', 'N', 'Z', 'N', 'N', 'N', 'Z', 'N', 'N', 'N', 'N', 'N', 'N', 'N', 'Z', 'N', 'N', 'N', 'N', 'N', 'N', 'N', 'N', 'Z', 'N', 'N', 'N', 'N', 'N', 'N', 'Z', 'N', 'N', 'N', 'N', 'Z', 'N', 'N', 'N', 'N', 'N', 'N', 'N', 'N', 'N', 'N', 'Z', 'N', 'N', 'Z', 'N', 'N', 'N', 'N', 'Z', 'Z', 'N', 'N', 'N', 'N', 'N', 'N', 'N', 'N', 'N', 'N', 'N', 'N', 'N', 'N', 'N', 'N', 'Z', 'N', 'N', 'N', 'Z', 'Z', 'Z', 'N', 'N', 'N', 'Z', 'N', 'N', 'Z', 'N', 'Z', 'N', 'N', 'N', 'N', 'N', 'N', 'N', 'N', 'N', 'N', 'Z', 'N', 'Z', 'N', 'N', 'N', 'Z', 'N', 'N', 'N', 'N', 'N', 'Z', 'N', 'N', 'N', 'Z', 'N', 'N', 'N', 'N', 'N', 'Z', 'N', 'N', 'N', 'N', 'N', 'N', 'N', 'N', 'Z', 'N', 'N', 'N', 'N', 'N', 'N', 'N', 'Z', 'N', 'N', 'Z', 'N', 'N', 'N', 'Z', 'N', 'N', 'Z', 'N', 'N', 'Z', 'N', 'N', 'Z', 'Z', 'N', 'N', 'N', 'N', 'N', 'N', 'N', 'Z', 'N', 'N', 'N', 'Z', 'N', 'Z', 'N', 'N', 'N', 'N', 'Z', 'N', 'N', 'Z', 'Z', 'Z', 'N', 'N', 'Z', 'Z', 'N', 'N', 'N', 'N', 'N', 'N', 'N', 'N', 'N', 'N', 'N', 'N', 'N', 'N', 'N', 'N', 'N', 'N', 'Z', 'Z', 'N', 'N', 'N', 'N', 'N', 'N', 'N', 'N', 'Z', 'N', 'N', 'N', 'N', 'N', 'N', 'Z', 'N', 'Z', 'Z', 'N', 'N', 'N', 'N', 'Z', 'N', 'N', 'N', 'N', 'N', 'N', 'N', 'N', 'N', 'N', 'Z', 'N', 'N', 'N', 'N', 'N', 'N', 'Z', 'N', 'Z', 'N', 'Z', 'N', 'N', 'N', 'N', 'N', 'N', 'N', 'N', 'Z', 'N', 'Z', 'N', 'Z', 'Z', 'N', 'N', 'N', 'Z', 'N', 'N', 'N', 'N', 'N', 'N', 'Z', 'N', 'N', 'N', 'Z', 'N', 'N', 'N', 'N', 'Z', 'N', 'N', 'Z', 'N', 'N', 'N', 'N', 'N', 'Z', 'Z', 'Z', 'N', 'Z', 'Z', 'N', 'N', 'N', 'N', 'Z', 'N', 'N', 'N', 'N', 'N', 'N', 'N', 'N', 'N', 'N', 'N', 'N', 'N', 'N', 'N', 'N', 'N', 'N', 'Z', 'N', 'N', 'N', 'N', 'N', 'N', 'N', 'N', 'N', 'N', 'Z', 'Z', 'N', 'N', 'N', 'N', 'N', 'Z', 'N', 'N', 'N', 'N', 'N', 'N', 'N', 'Z', 'N', 'N', 'N', 'N', 'N', 'N', 'Z', 'N', 'Z', 'N', 'N', 'N', 'N', 'N', 'Z', 'N', 'N', 'Z', 'N', 'N', 'N', 'Z', 'N', 'N', 'N', 'N', 'N', 'N', 'Z', 'N', 'N', 'N', 'N', 'N', 'N', 'N', 'N', 'Z', 'N', 'N', 'N', 'N', 'Z', 'N', 'N', 'Z', 'N', 'N', 'N', 'N', 'Z', 'N', 'Z', 'N', 'Z', 'N', 'N', 'N', 'Z', 'Z', 'N', 'N', 'N', 'N', 'N', 'N', 'N', 'N', 'Z', 'N', 'N', 'N', 'N', 'N', 'N', 'N', 'N', 'N', 'N', 'N', 'N', 'N', 'N', 'N', 'N', 'N', 'N', 'N', 'N', 'N', 'N', 'N', 'Z', 'N', 'N', 'N', 'N', 'N', 'N', 'N', 'N', 'N', 'N', 'Z', 'N', 'N', 'N', 'N', 'Z', 'N', 'N', 'N', 'N', 'N', 'Z', 'N', 'N', 'N', 'N', 'Z', 'N', 'N', 'Z', 'Z', 'N', 'N', 'N', 'N', 'Z', 'N', 'N', 'N', 'N', 'N', 'N', 'N', 'Z', 'N', 'N', 'N', 'N', 'Z', 'N', 'Z', 'Z', 'N', 'N', 'N', 'N', 'Z', 'N', 'N', 'N', 'N', 'N', 'N', 'Z', 'N', 'N', 'Z', 'N', 'N', 'N', 'N', 'N', 'N', 'N', 'N', 'N', 'N', 'N', 'N', 'N', 'Z', 'N', 'N', 'N', 'N', 'N', 'Z', 'Z', 'Z', 'N', 'N', 'Z', 'N', 'N', 'N', 'N', 'N', 'N', 'Z', 'N', 'N', 'Z', 'N', 'Z', 'N', 'N', 'N', 'N', 'N', 'N', 'Z', 'Z', 'N', 'N', 'N', 'N', 'N', 'N', 'N', 'N', 'N', 'N', 'N', 'N', 'N', 'N', 'Z', 'N', 'N', 'N', 'Z', 'N', 'Z', 'Z', 'N', 'Z', 'N', 'N', 'Z', 'N', 'N', 'N', 'N', 'Z', 'N', 'N', 'N', 'Z', 'Z', 'N', 'N', 'N', 'N', 'N', 'Z', 'Z', 'N', 'N', 'Z', 'N', 'N', 'Z', 'N', 'N', 'N', 'N', 'Z', 'Z', 'N', 'Z', 'N', 'N', 'N', 'Z', 'N', 'N', 'N', 'N', 'N', 'N', 'Z', 'N', 'Z', 'N', 'Z', 'Z', 'Z', 'N', 'N', 'N', 'N', 'N', 'Z', 'N', 'N', 'N', 'N', 'N', 'N', 'N', 'N', 'Z', 'Z', 'N', 'N', 'N', 'N', 'Z', 'N', 'N', 'Z', 'N', 'N', 'N', 'N', 'N', 'N', 'N', 'N', 'N', 'N', 'N', 'N', 'N', 'N', 'N', 'N', 'N', 'N', 'N', 'N', 'Z', 'N', 'N', 'N', 'N', 'Z', 'N', 'N', 'N', 'N', 'Z', 'N', 'N', 'N', 'N', 'N', 'N', 'N', 'N', 'N', 'N', 'N', 'N', 'Z', 'N', 'N', 'N', 'N', 'N', 'N', 'N', 'N', 'Z', 'N', 'N', 'N', 'N', 'Z', 'Z', 'N', 'N', 'N', 'N', 'Z', 'N', 'Z', 'N', 'N', 'N', 'N', 'N', 'N', 'N', 'N', 'N', 'N', 'N', 'N', 'N', 'N', 'Z', 'Z', 'N', 'N', 'N', 'N', 'N', 'N', 'N', 'N', 'N', 'Z', 'N', 'N', 'N', 'Z', 'Z', 'N', 'Z', 'N', 'N', 'N', 'N', 'N', 'N', 'Z', 'Z', 'N', 'Z', 'N', 'Z', 'N', 'N', 'N', 'N', 'Z', 'N', 'N', 'N', 'N', 'Z', 'N', 'Z', 'N', 'N', 'N', 'N', 'N', 'N', 'N', 'N', 'N', 'N', 'N', 'N', 'N', 'N', 'N', 'N', 'N', 'N', 'N', 'N', 'N', 'N', 'N', 'N', 'N', 'Z', 'N', 'N', 'N', 'N', 'N', 'N', 'Z', 'N', 'N', 'N', 'N', 'Z', 'N', 'N', 'N', 'N', 'Z', 'Z', 'N', 'N', 'N', 'N', 'Z', 'N', 'N', 'Z', 'N', 'Z', 'N', 'N', 'N', 'N', 'Z', 'N', 'Z', 'N', 'N', 'N', 'N', 'N', 'Z', 'N', 'N', 'N', 'Z', 'N', 'N', 'N', 'Z', 'N', 'N', 'N', 'N', 'N', 'N', 'N', 'N', 'N', 'N', 'Z', 'N', 'N', 'N', 'N', 'N', 'N', 'Z', 'N', 'Z', 'N', 'N', 'N', 'N', 'Z', 'N', 'N', 'N', 'N', 'N', 'N', 'N', 'N', 'N', 'Z', 'Z', 'N', 'N', 'N', 'N', 'Z', 'Z', 'N', 'N', 'N', 'Z', 'N', 'N', 'N', 'Z', 'N', 'N', 'N', 'Z', 'N', 'N', 'N', 'N', 'N', 'N', 'N', 'N', 'N', 'Z', 'Z', 'N', 'Z', 'N', 'N', 'N', 'N', 'N', 'N', 'Z', 'N', 'N', 'Z', 'Z', 'N', 'N', 'N', 'N', 'N', 'Z', 'N', 'N', 'N', 'Z', 'N', 'Z', 'N', 'N', 'Z', 'N', 'N', 'N', 'N', 'Z', 'N', 'Z', 'N', 'N', 'N', 'N', 'N', 'N', 'Z', 'N', 'N', 'N', 'N', 'N', 'N', 'N', 'N', 'Z', 'N', 'N', 'N', 'N', 'N', 'N', 'N', 'N', 'N', 'N', 'N', 'N', 'N', 'N', 'N', 'Z', 'N', 'N', 'Z', 'N', 'N', 'N', 'Z', 'N', 'N', 'N', 'N', 'Z', 'Z', 'N', 'N', 'N', 'Z', 'Z', 'N', 'Z', 'Z', 'N', 'N', 'Z', 'N', 'Z', 'N', 'Z', 'N', 'N', 'N', 'N', 'N', 'Z', 'Z', 'Z', 'N', 'N', 'N', 'N', 'Z', 'Z', 'N', 'N', 'Z', 'N', 'N', 'N', 'N', 'N', 'Z', 'N', 'N', 'N', 'N', 'Z', 'N', 'N', 'Z', 'N', 'N', 'Z', 'N', 'Z', 'N', 'Z', 'N', 'N', 'N', 'Z', 'Z', 'N', 'N', 'N', 'N', 'Z', 'N', 'N', 'N', 'Z', 'N', 'N', 'N', 'N', 'Z', 'N', 'N', 'N', 'N', 'N', 'N', 'N', 'N', 'N', 'N', 'N', 'Z', 'N', 'Z', 'N', 'N', 'N', 'N', 'N', 'N', 'N', 'N', 'N', 'Z', 'N', 'N', 'Z', 'Z', 'N', 'N', 'Z', 'N', 'N', 'N', 'Z', 'N', 'Z', 'N', 'N', 'N', 'N', 'N', 'Z', 'N', 'Z', 'N', 'N', 'N', 'N', 'N', 'N', 'N', 'Z', 'Z', 'N', 'N', 'Z', 'N', 'N', 'Z', 'Z', 'N', 'Z', 'N', 'N', 'N', 'Z', 'N', 'N', 'N', 'N', 'N', 'N', 'N', 'Z', 'Z', 'N', 'N', 'N', 'N', 'N', 'N', 'N', 'N', 'Z', 'N', 'N', 'N', 'Z', 'N', 'N', 'N', 'Z', 'N', 'Z', 'N', 'N', 'N', 'N', 'N', 'N', 'N', 'N', 'N', 'N', 'N', 'N', 'N', 'N', 'N', 'Z', 'N', 'N', 'N', 'N', 'N', 'Z', 'N', 'N', 'Z', 'N', 'N', 'N', 'N', 'N', 'N', 'N', 'N', 'N', 'N', 'N', 'Z', 'Z', 'Z', 'Z', 'N', 'Z', 'N', 'N', 'Z', 'Z', 'N', 'Z', 'N', 'N', 'N', 'N', 'N', 'N', 'N', 'N', 'N', 'N', 'N', 'N', 'N', 'N', 'N', 'N', 'N', 'N', 'N', 'Z', 'Z', 'N', 'N', 'Z', 'N', 'N', 'N', 'N', 'N', 'Z', 'N', 'N', 'N', 'N', 'N', 'N', 'N', 'N', 'N', 'N', 'N', 'N', 'Z', 'N', 'N', 'Z', 'N', 'N', 'N', 'N', 'N', 'N', 'N', 'N', 'N', 'N', 'Z', 'Z', 'Z', 'N', 'N', 'N', 'N', 'N', 'N', 'N', 'Z', 'N', 'Z', 'N', 'N', 'N', 'N', 'Z', 'N', 'N', 'N', 'N', 'N', 'N', 'N', 'N', 'Z', 'N', 'N', 'N', 'N', 'N', 'Z', 'N', 'N', 'N', 'Z', 'N', 'Z', 'N', 'N', 'N', 'N', 'Z', 'N', 'N', 'Z', 'N', 'N', 'Z', 'N', 'N', 'N', 'N', 'N', 'N', 'N', 'N', 'N', 'N', 'N', 'N', 'N', 'N', 'N', 'Z', 'N', 'N', 'N', 'N', 'N', 'N', 'N', 'N', 'N', 'N', 'N', 'N', 'N', 'Z', 'N', 'N', 'N', 'N', 'Z', 'N', 'N', 'N', 'Z', 'N', 'N', 'N', 'N', 'N', 'N', 'N', 'N', 'N', 'N', 'N', 'N', 'N', 'N', 'N', 'N', 'N', 'N', 'N', 'N', 'N', 'N', 'N', 'Z', 'Z', 'Z', 'N', 'N', 'Z', 'N', 'N', 'Z', 'N', 'N', 'Z', 'N', 'N', 'N', 'N', 'N', 'N', 'N', 'N', 'N', 'N', 'N', 'Z', 'N', 'N', 'N', 'Z', 'N', 'N', 'N', 'N', 'N', 'N', 'N', 'Z', 'N', 'N', 'N', 'N', 'N', 'N', 'N', 'N', 'N', 'N', 'N', 'N', 'Z', 'Z', 'N', 'N', 'N', 'Z', 'Z', 'Z', 'N', 'Z', 'N', 'N', 'N', 'N', 'N', 'N', 'N', 'N', 'N', 'N', 'N', 'N', 'N', 'N', 'N', 'Z', 'N', 'N', 'N', 'N', 'N', 'Z', 'N', 'Z', 'N', 'Z', 'N', 'N', 'N', 'N', 'N', 'N', 'N', 'N', 'N', 'N', 'N', 'N', 'N', 'Z', 'Z', 'N', 'Z', 'N', 'N', 'N', 'N', 'N', 'N', 'N', 'N', 'N', 'N', 'N', 'N', 'Z', 'N', 'N', 'N', 'N', 'N', 'N', 'N', 'N', 'N', 'N', 'N', 'N', 'N', 'N', 'N', 'N', 'Z', 'N', 'N', 'Z', 'Z', 'N', 'Z', 'Z', 'N', 'N', 'N', 'Z', 'N', 'N', 'N', 'N', 'N', 'N', 'N', 'N', 'N', 'Z', 'N', 'N', 'Z', 'Z', 'Z', 'N', 'N', 'N', 'N', 'N', 'Z', 'N', 'N', 'Z', 'N', 'N', 'N', 'N', 'N', 'N', 'N', 'N', 'Z', 'N', 'Z', 'N', 'N', 'N', 'Z', 'N', 'Z', 'N', 'N', 'Z', 'N', 'N', 'N', 'N', 'N', 'N', 'N', 'N', 'N', 'Z', 'Z', 'N', 'N', 'N', 'Z', 'Z', 'N', 'N', 'N', 'N', 'N', 'N', 'N', 'N', 'N', 'Z', 'N', 'N', 'N', 'N', 'N', 'N', 'Z', 'N', 'N', 'N', 'N', 'N', 'Z', 'Z', 'N', 'N', 'N', 'N', 'Z', 'N', 'N', 'N', 'N', 'N', 'N', 'Z', 'N', 'N', 'N', 'N', 'N', 'N', 'Z', 'N', 'N', 'N', 'N', 'N', 'N', 'N', 'N', 'N', 'N', 'N', 'N', 'N', 'N', 'Z', 'N', 'N', 'N', 'N', 'N', 'N', 'N', 'N', 'N', 'N', 'N', 'N', 'N', 'Z', 'N', 'N', 'N', 'N', 'N', 'N', 'Z', 'N', 'N', 'Z', 'N', 'N', 'N', 'N', 'N', 'N', 'N', 'Z', 'Z', 'N', 'N', 'Z', 'N', 'N', 'Z', 'Z', 'Z', 'Z', 'N', 'N', 'Z', 'N', 'Z', 'N', 'N', 'N', 'Z', 'N', 'N', 'Z', 'N', 'N', 'Z', 'N', 'Z', 'N', 'N', 'Z', 'Z', 'N', 'N', 'N', 'N', 'N', 'Z', 'N', 'N', 'N', 'Z', 'N', 'N', 'N', 'N', 'N', 'N', 'N', 'Z', 'Z', 'N', 'N', 'N', 'N', 'N', 'N', 'Z', 'N', 'N', 'N', 'N', 'Z', 'N', 'N', 'N', 'N', 'N', 'N', 'N', 'N', 'Z', 'Z', 'N', 'Z', 'N', 'N', 'Z', 'N', 'N', 'Z', 'N', 'N', 'N', 'N', 'N', 'N', 'N', 'Z', 'N', 'Z', 'Z', 'N', 'N', 'N', 'N', 'N', 'N', 'N', 'N', 'N', 'N', 'Z', 'Z', 'N', 'N', 'N', 'N', 'N', 'N', 'N', 'N', 'Z', 'N', 'N', 'N', 'N', 'Z', 'N', 'Z', 'Z', 'Z', 'N', 'Z', 'N', 'N', 'Z', 'N', 'N', 'N', 'N', 'N', 'N', 'N', 'N', 'N', 'N', 'N', 'N', 'N', 'N', 'N', 'N', 'N', 'N', 'N', 'Z', 'Z', 'N', 'N', 'N', 'N', 'N', 'N', 'N', 'N', 'Z', 'N', 'Z', 'N', 'N', 'N', 'Z', 'N', 'N', 'N', 'N', 'N', 'N', 'N', 'Z', 'N', 'N', 'Z', 'N', 'N', 'N', 'N', 'Z', 'N', 'N', 'Z', 'N', 'N', 'N', 'Z', 'N', 'N', 'N', 'N', 'N', 'N', 'N', 'N', 'Z', 'N', 'Z', 'N', 'N', 'N', 'N', 'N', 'N', 'N', 'N', 'N', 'N', 'Z', 'N', 'N', 'N', 'Z', 'N', 'Z', 'N', 'N', 'N', 'Z', 'Z', 'N', 'N', 'N', 'N', 'Z', 'N', 'N', 'N', 'Z', 'N', 'N', 'N', 'N', 'N', 'Z', 'N', 'N', 'N', 'N', 'N', 'N', 'N', 'N', 'N', 'N', 'N', 'N', 'N', 'N', 'Z', 'Z', 'Z', 'N', 'N', 'N', 'N', 'Z', 'N', 'Z', 'N', 'N', 'N', 'N', 'N', 'N', 'N', 'N', 'N', 'N', 'N', 'Z', 'N', 'N', 'N', 'N', 'N', 'N', 'N', 'Z', 'N', 'Z', 'N', 'N', 'N', 'N', 'N', 'N', 'Z', 'N', 'Z', 'Z', 'N', 'N', 'N', 'Z', 'Z', 'N', 'N', 'N', 'N', 'N', 'N', 'N', 'N', 'N', 'N', 'Z', 'N', 'N', 'N', 'Z', 'N', 'N', 'N', 'N', 'N', 'N', 'N', 'N', 'Z', 'Z', 'N', 'N', 'N', 'N', 'N', 'N', 'N', 'N', 'Z', 'N', 'Z', 'N', 'N', 'N', 'Z', 'N', 'N', 'N', 'N', 'N', 'N', 'N', 'N', 'N', 'Z', 'Z', 'N', 'N', 'N', 'N', 'N', 'N', 'N', 'N', 'N', 'N', 'N', 'N', 'N', 'Z', 'N', 'Z', 'N', 'N', 'N', 'N', 'N', 'N', 'N', 'N', 'N', 'N', 'N', 'N', 'N', 'N', 'Z', 'N', 'N', 'Z', 'N', 'N', 'Z', 'Z', 'N', 'Z', 'N', 'N', 'N', 'Z', 'N', 'Z', 'Z', 'N', 'N', 'N', 'N', 'Z', 'N', 'N', 'N', 'Z', 'N', 'N', 'N', 'N', 'Z', 'N', 'N', 'N', 'N', 'N', 'N', 'N', 'Z', 'N', 'N', 'N', 'N', 'Z', 'Z', 'N', 'N', 'N', 'N', 'N', 'N', 'N', 'Z', 'Z', 'Z', 'N', 'N', 'N', 'N', 'Z', 'N', 'N', 'N', 'N', 'N', 'N', 'Z', 'N', 'N', 'N', 'Z', 'N', 'N', 'N', 'N', 'N', 'N', 'N', 'N', 'N', 'N', 'N', 'N', 'N', 'N', 'N', 'N', 'Z', 'N', 'N', 'N', 'N', 'N', 'N', 'N', 'N', 'N', 'N', 'N', 'N', 'N', 'N', 'N', 'N', 'N', 'N', 'N', 'N', 'N', 'N', 'N', 'N', 'Z', 'N', 'Z', 'N', 'N', 'Z', 'N', 'N', 'N', 'Z', 'N', 'N', 'N', 'Z', 'N', 'Z', 'N', 'N', 'N', 'Z', 'N', 'Z', 'N', 'N', 'Z', 'N', 'N', 'Z', 'N', 'N', 'N', 'N', 'N', 'N', 'N', 'N', 'N', 'N']\n"
          ],
          "name": "stdout"
        }
      ]
    },
    {
      "cell_type": "code",
      "metadata": {
        "colab": {
          "base_uri": "https://localhost:8080/"
        },
        "id": "eXfh48RjdiCb",
        "outputId": "37397707-9b84-4613-dea5-b75f3b4ea150"
      },
      "source": [
        "print(set(g_values))"
      ],
      "execution_count": null,
      "outputs": [
        {
          "output_type": "stream",
          "text": [
            "{'Z', 'N'}\n"
          ],
          "name": "stdout"
        }
      ]
    },
    {
      "cell_type": "code",
      "metadata": {
        "colab": {
          "base_uri": "https://localhost:8080/",
          "height": 297
        },
        "id": "3VCcsKzpdzPx",
        "outputId": "fe1162f8-f29f-4401-f78f-21dcef60306c"
      },
      "source": [
        "inspections[inspections.grade == 'N'].describe()"
      ],
      "execution_count": null,
      "outputs": [
        {
          "output_type": "execute_result",
          "data": {
            "text/html": [
              "<div>\n",
              "<style scoped>\n",
              "    .dataframe tbody tr th:only-of-type {\n",
              "        vertical-align: middle;\n",
              "    }\n",
              "\n",
              "    .dataframe tbody tr th {\n",
              "        vertical-align: top;\n",
              "    }\n",
              "\n",
              "    .dataframe thead th {\n",
              "        text-align: right;\n",
              "    }\n",
              "</style>\n",
              "<table border=\"1\" class=\"dataframe\">\n",
              "  <thead>\n",
              "    <tr style=\"text-align: right;\">\n",
              "      <th></th>\n",
              "      <th>camis</th>\n",
              "      <th>zipcode</th>\n",
              "      <th>score</th>\n",
              "      <th>latitude</th>\n",
              "      <th>longitude</th>\n",
              "      <th>community_board</th>\n",
              "      <th>council_district</th>\n",
              "      <th>census_tract</th>\n",
              "      <th>bin</th>\n",
              "      <th>bbl</th>\n",
              "    </tr>\n",
              "  </thead>\n",
              "  <tbody>\n",
              "    <tr>\n",
              "      <th>count</th>\n",
              "      <td>2.298000e+03</td>\n",
              "      <td>2272.000000</td>\n",
              "      <td>2274.00000</td>\n",
              "      <td>2295.000000</td>\n",
              "      <td>2295.000000</td>\n",
              "      <td>2269.000000</td>\n",
              "      <td>2269.000000</td>\n",
              "      <td>2269.000000</td>\n",
              "      <td>2.258000e+03</td>\n",
              "      <td>2.295000e+03</td>\n",
              "    </tr>\n",
              "    <tr>\n",
              "      <th>mean</th>\n",
              "      <td>5.006262e+07</td>\n",
              "      <td>10723.407570</td>\n",
              "      <td>30.67898</td>\n",
              "      <td>40.261972</td>\n",
              "      <td>-73.105092</td>\n",
              "      <td>260.744822</td>\n",
              "      <td>21.397973</td>\n",
              "      <td>30133.041869</td>\n",
              "      <td>2.646320e+06</td>\n",
              "      <td>2.532642e+09</td>\n",
              "    </tr>\n",
              "    <tr>\n",
              "      <th>std</th>\n",
              "      <td>5.466709e+05</td>\n",
              "      <td>602.870157</td>\n",
              "      <td>21.37738</td>\n",
              "      <td>4.311295</td>\n",
              "      <td>7.827668</td>\n",
              "      <td>133.115777</td>\n",
              "      <td>15.905747</td>\n",
              "      <td>30464.182246</td>\n",
              "      <td>1.384655e+06</td>\n",
              "      <td>1.370711e+09</td>\n",
              "    </tr>\n",
              "    <tr>\n",
              "      <th>min</th>\n",
              "      <td>4.060085e+07</td>\n",
              "      <td>10001.000000</td>\n",
              "      <td>-1.00000</td>\n",
              "      <td>0.000000</td>\n",
              "      <td>-74.248434</td>\n",
              "      <td>101.000000</td>\n",
              "      <td>1.000000</td>\n",
              "      <td>100.000000</td>\n",
              "      <td>1.000000e+06</td>\n",
              "      <td>1.000000e+00</td>\n",
              "    </tr>\n",
              "    <tr>\n",
              "      <th>25%</th>\n",
              "      <td>5.009397e+07</td>\n",
              "      <td>10022.750000</td>\n",
              "      <td>17.00000</td>\n",
              "      <td>40.680395</td>\n",
              "      <td>-73.986599</td>\n",
              "      <td>106.000000</td>\n",
              "      <td>4.000000</td>\n",
              "      <td>8100.000000</td>\n",
              "      <td>1.050762e+06</td>\n",
              "      <td>1.013140e+09</td>\n",
              "    </tr>\n",
              "    <tr>\n",
              "      <th>50%</th>\n",
              "      <td>5.009906e+07</td>\n",
              "      <td>11103.500000</td>\n",
              "      <td>27.00000</td>\n",
              "      <td>40.729284</td>\n",
              "      <td>-73.956579</td>\n",
              "      <td>303.000000</td>\n",
              "      <td>21.000000</td>\n",
              "      <td>18300.000000</td>\n",
              "      <td>3.061600e+06</td>\n",
              "      <td>3.015790e+09</td>\n",
              "    </tr>\n",
              "    <tr>\n",
              "      <th>75%</th>\n",
              "      <td>5.010155e+07</td>\n",
              "      <td>11237.000000</td>\n",
              "      <td>40.00000</td>\n",
              "      <td>40.759983</td>\n",
              "      <td>-73.905225</td>\n",
              "      <td>402.000000</td>\n",
              "      <td>34.000000</td>\n",
              "      <td>44900.000000</td>\n",
              "      <td>4.030244e+06</td>\n",
              "      <td>4.008434e+09</td>\n",
              "    </tr>\n",
              "    <tr>\n",
              "      <th>max</th>\n",
              "      <td>5.010912e+07</td>\n",
              "      <td>11694.000000</td>\n",
              "      <td>133.00000</td>\n",
              "      <td>40.889409</td>\n",
              "      <td>0.000000</td>\n",
              "      <td>503.000000</td>\n",
              "      <td>51.000000</td>\n",
              "      <td>161700.000000</td>\n",
              "      <td>5.158987e+06</td>\n",
              "      <td>5.080460e+09</td>\n",
              "    </tr>\n",
              "  </tbody>\n",
              "</table>\n",
              "</div>"
            ],
            "text/plain": [
              "              camis       zipcode       score     latitude    longitude  \\\n",
              "count  2.298000e+03   2272.000000  2274.00000  2295.000000  2295.000000   \n",
              "mean   5.006262e+07  10723.407570    30.67898    40.261972   -73.105092   \n",
              "std    5.466709e+05    602.870157    21.37738     4.311295     7.827668   \n",
              "min    4.060085e+07  10001.000000    -1.00000     0.000000   -74.248434   \n",
              "25%    5.009397e+07  10022.750000    17.00000    40.680395   -73.986599   \n",
              "50%    5.009906e+07  11103.500000    27.00000    40.729284   -73.956579   \n",
              "75%    5.010155e+07  11237.000000    40.00000    40.759983   -73.905225   \n",
              "max    5.010912e+07  11694.000000   133.00000    40.889409     0.000000   \n",
              "\n",
              "       community_board  council_district   census_tract           bin  \\\n",
              "count      2269.000000       2269.000000    2269.000000  2.258000e+03   \n",
              "mean        260.744822         21.397973   30133.041869  2.646320e+06   \n",
              "std         133.115777         15.905747   30464.182246  1.384655e+06   \n",
              "min         101.000000          1.000000     100.000000  1.000000e+06   \n",
              "25%         106.000000          4.000000    8100.000000  1.050762e+06   \n",
              "50%         303.000000         21.000000   18300.000000  3.061600e+06   \n",
              "75%         402.000000         34.000000   44900.000000  4.030244e+06   \n",
              "max         503.000000         51.000000  161700.000000  5.158987e+06   \n",
              "\n",
              "                bbl  \n",
              "count  2.295000e+03  \n",
              "mean   2.532642e+09  \n",
              "std    1.370711e+09  \n",
              "min    1.000000e+00  \n",
              "25%    1.013140e+09  \n",
              "50%    3.015790e+09  \n",
              "75%    4.008434e+09  \n",
              "max    5.080460e+09  "
            ]
          },
          "metadata": {
            "tags": []
          },
          "execution_count": 22
        }
      ]
    },
    {
      "cell_type": "code",
      "metadata": {
        "colab": {
          "base_uri": "https://localhost:8080/",
          "height": 297
        },
        "id": "EqPJA3UEPicG",
        "outputId": "dca51195-b8e4-4bf4-e73a-85bac92e678a"
      },
      "source": [
        "inspections[inspections.grade == 'Z'].describe()"
      ],
      "execution_count": null,
      "outputs": [
        {
          "output_type": "execute_result",
          "data": {
            "text/html": [
              "<div>\n",
              "<style scoped>\n",
              "    .dataframe tbody tr th:only-of-type {\n",
              "        vertical-align: middle;\n",
              "    }\n",
              "\n",
              "    .dataframe tbody tr th {\n",
              "        vertical-align: top;\n",
              "    }\n",
              "\n",
              "    .dataframe thead th {\n",
              "        text-align: right;\n",
              "    }\n",
              "</style>\n",
              "<table border=\"1\" class=\"dataframe\">\n",
              "  <thead>\n",
              "    <tr style=\"text-align: right;\">\n",
              "      <th></th>\n",
              "      <th>camis</th>\n",
              "      <th>zipcode</th>\n",
              "      <th>score</th>\n",
              "      <th>latitude</th>\n",
              "      <th>longitude</th>\n",
              "      <th>community_board</th>\n",
              "      <th>council_district</th>\n",
              "      <th>census_tract</th>\n",
              "      <th>bin</th>\n",
              "      <th>bbl</th>\n",
              "    </tr>\n",
              "  </thead>\n",
              "  <tbody>\n",
              "    <tr>\n",
              "      <th>count</th>\n",
              "      <td>5.590000e+02</td>\n",
              "      <td>557.000000</td>\n",
              "      <td>559.000000</td>\n",
              "      <td>558.000000</td>\n",
              "      <td>558.000000</td>\n",
              "      <td>556.000000</td>\n",
              "      <td>556.000000</td>\n",
              "      <td>556.000000</td>\n",
              "      <td>5.510000e+02</td>\n",
              "      <td>5.580000e+02</td>\n",
              "    </tr>\n",
              "    <tr>\n",
              "      <th>mean</th>\n",
              "      <td>4.705077e+07</td>\n",
              "      <td>10728.946140</td>\n",
              "      <td>13.268336</td>\n",
              "      <td>40.588171</td>\n",
              "      <td>-73.668452</td>\n",
              "      <td>255.336331</td>\n",
              "      <td>20.969424</td>\n",
              "      <td>30699.471223</td>\n",
              "      <td>2.577885e+06</td>\n",
              "      <td>2.486370e+09</td>\n",
              "    </tr>\n",
              "    <tr>\n",
              "      <th>std</th>\n",
              "      <td>4.226683e+06</td>\n",
              "      <td>579.815637</td>\n",
              "      <td>13.021883</td>\n",
              "      <td>2.437613</td>\n",
              "      <td>4.422875</td>\n",
              "      <td>123.031968</td>\n",
              "      <td>15.328504</td>\n",
              "      <td>31938.713273</td>\n",
              "      <td>1.280748e+06</td>\n",
              "      <td>1.267872e+09</td>\n",
              "    </tr>\n",
              "    <tr>\n",
              "      <th>min</th>\n",
              "      <td>4.036909e+07</td>\n",
              "      <td>10001.000000</td>\n",
              "      <td>0.000000</td>\n",
              "      <td>0.000000</td>\n",
              "      <td>-74.136710</td>\n",
              "      <td>101.000000</td>\n",
              "      <td>1.000000</td>\n",
              "      <td>300.000000</td>\n",
              "      <td>1.000843e+06</td>\n",
              "      <td>1.000000e+00</td>\n",
              "    </tr>\n",
              "    <tr>\n",
              "      <th>25%</th>\n",
              "      <td>4.155907e+07</td>\n",
              "      <td>10029.000000</td>\n",
              "      <td>5.000000</td>\n",
              "      <td>40.681488</td>\n",
              "      <td>-73.986398</td>\n",
              "      <td>108.000000</td>\n",
              "      <td>6.000000</td>\n",
              "      <td>7700.000000</td>\n",
              "      <td>1.062926e+06</td>\n",
              "      <td>1.014418e+09</td>\n",
              "    </tr>\n",
              "    <tr>\n",
              "      <th>50%</th>\n",
              "      <td>5.004489e+07</td>\n",
              "      <td>10474.000000</td>\n",
              "      <td>10.000000</td>\n",
              "      <td>40.738346</td>\n",
              "      <td>-73.945116</td>\n",
              "      <td>301.000000</td>\n",
              "      <td>20.000000</td>\n",
              "      <td>19600.000000</td>\n",
              "      <td>3.013422e+06</td>\n",
              "      <td>3.003300e+09</td>\n",
              "    </tr>\n",
              "    <tr>\n",
              "      <th>75%</th>\n",
              "      <td>5.007849e+07</td>\n",
              "      <td>11229.000000</td>\n",
              "      <td>15.000000</td>\n",
              "      <td>40.775760</td>\n",
              "      <td>-73.879300</td>\n",
              "      <td>401.000000</td>\n",
              "      <td>34.000000</td>\n",
              "      <td>40825.000000</td>\n",
              "      <td>4.004139e+06</td>\n",
              "      <td>4.001900e+09</td>\n",
              "    </tr>\n",
              "    <tr>\n",
              "      <th>max</th>\n",
              "      <td>5.010268e+07</td>\n",
              "      <td>11693.000000</td>\n",
              "      <td>69.000000</td>\n",
              "      <td>40.900648</td>\n",
              "      <td>0.000000</td>\n",
              "      <td>502.000000</td>\n",
              "      <td>50.000000</td>\n",
              "      <td>155101.000000</td>\n",
              "      <td>5.112426e+06</td>\n",
              "      <td>5.036460e+09</td>\n",
              "    </tr>\n",
              "  </tbody>\n",
              "</table>\n",
              "</div>"
            ],
            "text/plain": [
              "              camis       zipcode       score    latitude   longitude  \\\n",
              "count  5.590000e+02    557.000000  559.000000  558.000000  558.000000   \n",
              "mean   4.705077e+07  10728.946140   13.268336   40.588171  -73.668452   \n",
              "std    4.226683e+06    579.815637   13.021883    2.437613    4.422875   \n",
              "min    4.036909e+07  10001.000000    0.000000    0.000000  -74.136710   \n",
              "25%    4.155907e+07  10029.000000    5.000000   40.681488  -73.986398   \n",
              "50%    5.004489e+07  10474.000000   10.000000   40.738346  -73.945116   \n",
              "75%    5.007849e+07  11229.000000   15.000000   40.775760  -73.879300   \n",
              "max    5.010268e+07  11693.000000   69.000000   40.900648    0.000000   \n",
              "\n",
              "       community_board  council_district   census_tract           bin  \\\n",
              "count       556.000000        556.000000     556.000000  5.510000e+02   \n",
              "mean        255.336331         20.969424   30699.471223  2.577885e+06   \n",
              "std         123.031968         15.328504   31938.713273  1.280748e+06   \n",
              "min         101.000000          1.000000     300.000000  1.000843e+06   \n",
              "25%         108.000000          6.000000    7700.000000  1.062926e+06   \n",
              "50%         301.000000         20.000000   19600.000000  3.013422e+06   \n",
              "75%         401.000000         34.000000   40825.000000  4.004139e+06   \n",
              "max         502.000000         50.000000  155101.000000  5.112426e+06   \n",
              "\n",
              "                bbl  \n",
              "count  5.580000e+02  \n",
              "mean   2.486370e+09  \n",
              "std    1.267872e+09  \n",
              "min    1.000000e+00  \n",
              "25%    1.014418e+09  \n",
              "50%    3.003300e+09  \n",
              "75%    4.001900e+09  \n",
              "max    5.036460e+09  "
            ]
          },
          "metadata": {
            "tags": []
          },
          "execution_count": 23
        }
      ]
    },
    {
      "cell_type": "markdown",
      "metadata": {
        "id": "RyMQ_o9raccd"
      },
      "source": [
        "The records with grade 'N' and 'Z' looks reasonable. So a further look at the data dictionary revealed the following meanings:  \n",
        "* N = Not Yet Graded  \n",
        "* A = Grade A  \n",
        "* B = Grade B  \n",
        "* C = Grade C  \n",
        "* Z = Grade Pending  \n",
        "* P = Grade Pending (issued on re-opening following an initial inspection that resulted in a closure)"
      ]
    },
    {
      "cell_type": "code",
      "metadata": {
        "id": "CQs3N_lo4Jbz",
        "colab": {
          "base_uri": "https://localhost:8080/"
        },
        "outputId": "f2d69f69-ec4d-479c-c5fc-71972c5994a3"
      },
      "source": [
        "# Lets check the zipcodes\n",
        "inspections.zipcode.value_counts()"
      ],
      "execution_count": null,
      "outputs": [
        {
          "output_type": "execute_result",
          "data": {
            "text/plain": [
              "10003.0    10159\n",
              "10019.0     9376\n",
              "10013.0     8505\n",
              "10036.0     8258\n",
              "10002.0     8179\n",
              "           ...  \n",
              "10151.0        2\n",
              "13746.0        1\n",
              "11550.0        1\n",
              "11553.0        1\n",
              "20147.0        1\n",
              "Name: zipcode, Length: 230, dtype: int64"
            ]
          },
          "metadata": {
            "tags": []
          },
          "execution_count": 24
        }
      ]
    },
    {
      "cell_type": "markdown",
      "metadata": {
        "id": "aD5CjvGl-oed"
      },
      "source": [
        "We know all NYC zipcodes start with \"1\" so why do we see a zipcode with \"20147\"?"
      ]
    },
    {
      "cell_type": "code",
      "metadata": {
        "colab": {
          "base_uri": "https://localhost:8080/",
          "height": 134
        },
        "id": "76uLeLqD9Efq",
        "outputId": "2d322e06-8e47-4718-d378-95e271bed0db"
      },
      "source": [
        "# Lets checkout the record with zipcode 20147.\n",
        "inspections[inspections.zipcode == 20147]"
      ],
      "execution_count": null,
      "outputs": [
        {
          "output_type": "execute_result",
          "data": {
            "text/html": [
              "<div>\n",
              "<style scoped>\n",
              "    .dataframe tbody tr th:only-of-type {\n",
              "        vertical-align: middle;\n",
              "    }\n",
              "\n",
              "    .dataframe tbody tr th {\n",
              "        vertical-align: top;\n",
              "    }\n",
              "\n",
              "    .dataframe thead th {\n",
              "        text-align: right;\n",
              "    }\n",
              "</style>\n",
              "<table border=\"1\" class=\"dataframe\">\n",
              "  <thead>\n",
              "    <tr style=\"text-align: right;\">\n",
              "      <th></th>\n",
              "      <th>camis</th>\n",
              "      <th>dba</th>\n",
              "      <th>boro</th>\n",
              "      <th>building</th>\n",
              "      <th>street</th>\n",
              "      <th>zipcode</th>\n",
              "      <th>phone</th>\n",
              "      <th>cuisine_description</th>\n",
              "      <th>inspection_date</th>\n",
              "      <th>action</th>\n",
              "      <th>violation_code</th>\n",
              "      <th>violation_description</th>\n",
              "      <th>critical_flag</th>\n",
              "      <th>score</th>\n",
              "      <th>grade</th>\n",
              "      <th>grade_date</th>\n",
              "      <th>record_date</th>\n",
              "      <th>inspection_type</th>\n",
              "      <th>latitude</th>\n",
              "      <th>longitude</th>\n",
              "      <th>community_board</th>\n",
              "      <th>council_district</th>\n",
              "      <th>census_tract</th>\n",
              "      <th>bin</th>\n",
              "      <th>bbl</th>\n",
              "      <th>nta</th>\n",
              "    </tr>\n",
              "  </thead>\n",
              "  <tbody>\n",
              "    <tr>\n",
              "      <th>36900</th>\n",
              "      <td>50108022</td>\n",
              "      <td>BEECHERS , SWEET LEAF</td>\n",
              "      <td>0</td>\n",
              "      <td>20408</td>\n",
              "      <td>BASHAN DR</td>\n",
              "      <td>20147.0</td>\n",
              "      <td>7037237264</td>\n",
              "      <td>Other</td>\n",
              "      <td>01/01/1900</td>\n",
              "      <td>NaN</td>\n",
              "      <td>NaN</td>\n",
              "      <td>NaN</td>\n",
              "      <td>NaN</td>\n",
              "      <td>NaN</td>\n",
              "      <td>NaN</td>\n",
              "      <td>NaN</td>\n",
              "      <td>03/12/2021</td>\n",
              "      <td>NaN</td>\n",
              "      <td>NaN</td>\n",
              "      <td>NaN</td>\n",
              "      <td>NaN</td>\n",
              "      <td>NaN</td>\n",
              "      <td>NaN</td>\n",
              "      <td>NaN</td>\n",
              "      <td>NaN</td>\n",
              "      <td>NaN</td>\n",
              "    </tr>\n",
              "  </tbody>\n",
              "</table>\n",
              "</div>"
            ],
            "text/plain": [
              "          camis                    dba boro building     street  zipcode  \\\n",
              "36900  50108022  BEECHERS , SWEET LEAF    0    20408  BASHAN DR  20147.0   \n",
              "\n",
              "            phone cuisine_description inspection_date action violation_code  \\\n",
              "36900  7037237264               Other      01/01/1900    NaN            NaN   \n",
              "\n",
              "      violation_description critical_flag  score grade grade_date record_date  \\\n",
              "36900                   NaN           NaN    NaN   NaN        NaN  03/12/2021   \n",
              "\n",
              "      inspection_type  latitude  longitude  community_board  council_district  \\\n",
              "36900             NaN       NaN        NaN              NaN               NaN   \n",
              "\n",
              "       census_tract  bin  bbl  nta  \n",
              "36900           NaN  NaN  NaN  NaN  "
            ]
          },
          "metadata": {
            "tags": []
          },
          "execution_count": 25
        }
      ]
    },
    {
      "cell_type": "markdown",
      "metadata": {
        "id": "wnvymqW0_Eaa"
      },
      "source": [
        "We see that the record apparently belongs to boro \"0\". We also know that NYC has only 5 boroughs - Manhattan, Brooklyn, Queens, Bronx and Staten Island."
      ]
    },
    {
      "cell_type": "code",
      "metadata": {
        "id": "w4Qb6pL5-OGP",
        "colab": {
          "base_uri": "https://localhost:8080/"
        },
        "outputId": "73ad37fb-2426-4b88-9edd-40d0b2e277f3"
      },
      "source": [
        "# Examine the boros here\n",
        "print(set(inspections.boro))"
      ],
      "execution_count": null,
      "outputs": [
        {
          "output_type": "stream",
          "text": [
            "{'Queens', 'Bronx', '0', 'Brooklyn', 'Manhattan', 'Staten Island'}\n"
          ],
          "name": "stdout"
        }
      ]
    },
    {
      "cell_type": "code",
      "metadata": {
        "id": "-AlfXCijQ8i8"
      },
      "source": [
        "# Seems like we have an additional borough"
      ],
      "execution_count": null,
      "outputs": []
    },
    {
      "cell_type": "code",
      "metadata": {
        "colab": {
          "base_uri": "https://localhost:8080/"
        },
        "id": "2RtbVZs8Q1Fc",
        "outputId": "311590f3-bb21-43f8-a7aa-a0e40e8f34db"
      },
      "source": [
        "print(len(set(inspections.boro)))"
      ],
      "execution_count": null,
      "outputs": [
        {
          "output_type": "stream",
          "text": [
            "6\n"
          ],
          "name": "stdout"
        }
      ]
    },
    {
      "cell_type": "code",
      "metadata": {
        "colab": {
          "base_uri": "https://localhost:8080/"
        },
        "id": "LSY1MEZ7RBH6",
        "outputId": "2007d161-42a9-4397-ef59-6b9b73c84332"
      },
      "source": [
        "print(inspections.boro)"
      ],
      "execution_count": null,
      "outputs": [
        {
          "output_type": "stream",
          "text": [
            "0         Manhattan\n",
            "1         Manhattan\n",
            "2         Manhattan\n",
            "3         Manhattan\n",
            "4          Brooklyn\n",
            "            ...    \n",
            "395494       Queens\n",
            "395495       Queens\n",
            "395496       Queens\n",
            "395497     Brooklyn\n",
            "395498     Brooklyn\n",
            "Name: boro, Length: 395499, dtype: object\n"
          ],
          "name": "stdout"
        }
      ]
    },
    {
      "cell_type": "code",
      "metadata": {
        "colab": {
          "base_uri": "https://localhost:8080/"
        },
        "id": "ICKceViwRHR1",
        "outputId": "46fdabb4-f3d6-4707-ce94-7ec6bf9fb5aa"
      },
      "source": [
        "inspections.boro.describe()"
      ],
      "execution_count": null,
      "outputs": [
        {
          "output_type": "execute_result",
          "data": {
            "text/plain": [
              "count        395499\n",
              "unique            6\n",
              "top       Manhattan\n",
              "freq         155401\n",
              "Name: boro, dtype: object"
            ]
          },
          "metadata": {
            "tags": []
          },
          "execution_count": 44
        }
      ]
    },
    {
      "cell_type": "markdown",
      "metadata": {
        "id": "sPxQrL4H_jxg"
      },
      "source": [
        "Apparently there is a boro with name \"0\" in our record that suprisingly has 246 records. We have to check those out."
      ]
    },
    {
      "cell_type": "code",
      "metadata": {
        "id": "UCWmnrhN_2er",
        "colab": {
          "base_uri": "https://localhost:8080/",
          "height": 297
        },
        "outputId": "11a1458a-10a6-4a99-d2f6-9436d70d87aa"
      },
      "source": [
        "# Print the restaurants from our magical boro \"0\" here\n",
        "inspections[inspections.boro == '0'].describe()"
      ],
      "execution_count": null,
      "outputs": [
        {
          "output_type": "execute_result",
          "data": {
            "text/html": [
              "<div>\n",
              "<style scoped>\n",
              "    .dataframe tbody tr th:only-of-type {\n",
              "        vertical-align: middle;\n",
              "    }\n",
              "\n",
              "    .dataframe tbody tr th {\n",
              "        vertical-align: top;\n",
              "    }\n",
              "\n",
              "    .dataframe thead th {\n",
              "        text-align: right;\n",
              "    }\n",
              "</style>\n",
              "<table border=\"1\" class=\"dataframe\">\n",
              "  <thead>\n",
              "    <tr style=\"text-align: right;\">\n",
              "      <th></th>\n",
              "      <th>camis</th>\n",
              "      <th>zipcode</th>\n",
              "      <th>score</th>\n",
              "      <th>latitude</th>\n",
              "      <th>longitude</th>\n",
              "      <th>community_board</th>\n",
              "      <th>council_district</th>\n",
              "      <th>census_tract</th>\n",
              "      <th>bin</th>\n",
              "      <th>bbl</th>\n",
              "    </tr>\n",
              "  </thead>\n",
              "  <tbody>\n",
              "    <tr>\n",
              "      <th>count</th>\n",
              "      <td>2.410000e+02</td>\n",
              "      <td>124.000000</td>\n",
              "      <td>221.000000</td>\n",
              "      <td>0.0</td>\n",
              "      <td>0.0</td>\n",
              "      <td>0.0</td>\n",
              "      <td>0.0</td>\n",
              "      <td>0.0</td>\n",
              "      <td>0.0</td>\n",
              "      <td>0.0</td>\n",
              "    </tr>\n",
              "    <tr>\n",
              "      <th>mean</th>\n",
              "      <td>4.518631e+07</td>\n",
              "      <td>12260.612903</td>\n",
              "      <td>22.158371</td>\n",
              "      <td>NaN</td>\n",
              "      <td>NaN</td>\n",
              "      <td>NaN</td>\n",
              "      <td>NaN</td>\n",
              "      <td>NaN</td>\n",
              "      <td>NaN</td>\n",
              "      <td>NaN</td>\n",
              "    </tr>\n",
              "    <tr>\n",
              "      <th>std</th>\n",
              "      <td>4.172142e+06</td>\n",
              "      <td>4543.378099</td>\n",
              "      <td>17.090063</td>\n",
              "      <td>NaN</td>\n",
              "      <td>NaN</td>\n",
              "      <td>NaN</td>\n",
              "      <td>NaN</td>\n",
              "      <td>NaN</td>\n",
              "      <td>NaN</td>\n",
              "      <td>NaN</td>\n",
              "    </tr>\n",
              "    <tr>\n",
              "      <th>min</th>\n",
              "      <td>4.088359e+07</td>\n",
              "      <td>10166.000000</td>\n",
              "      <td>0.000000</td>\n",
              "      <td>NaN</td>\n",
              "      <td>NaN</td>\n",
              "      <td>NaN</td>\n",
              "      <td>NaN</td>\n",
              "      <td>NaN</td>\n",
              "      <td>NaN</td>\n",
              "      <td>NaN</td>\n",
              "    </tr>\n",
              "    <tr>\n",
              "      <th>25%</th>\n",
              "      <td>4.166471e+07</td>\n",
              "      <td>11249.000000</td>\n",
              "      <td>11.000000</td>\n",
              "      <td>NaN</td>\n",
              "      <td>NaN</td>\n",
              "      <td>NaN</td>\n",
              "      <td>NaN</td>\n",
              "      <td>NaN</td>\n",
              "      <td>NaN</td>\n",
              "      <td>NaN</td>\n",
              "    </tr>\n",
              "    <tr>\n",
              "      <th>50%</th>\n",
              "      <td>4.168515e+07</td>\n",
              "      <td>11249.000000</td>\n",
              "      <td>16.000000</td>\n",
              "      <td>NaN</td>\n",
              "      <td>NaN</td>\n",
              "      <td>NaN</td>\n",
              "      <td>NaN</td>\n",
              "      <td>NaN</td>\n",
              "      <td>NaN</td>\n",
              "      <td>NaN</td>\n",
              "    </tr>\n",
              "    <tr>\n",
              "      <th>75%</th>\n",
              "      <td>5.004980e+07</td>\n",
              "      <td>11451.000000</td>\n",
              "      <td>29.000000</td>\n",
              "      <td>NaN</td>\n",
              "      <td>NaN</td>\n",
              "      <td>NaN</td>\n",
              "      <td>NaN</td>\n",
              "      <td>NaN</td>\n",
              "      <td>NaN</td>\n",
              "      <td>NaN</td>\n",
              "    </tr>\n",
              "    <tr>\n",
              "      <th>max</th>\n",
              "      <td>5.010854e+07</td>\n",
              "      <td>30339.000000</td>\n",
              "      <td>76.000000</td>\n",
              "      <td>NaN</td>\n",
              "      <td>NaN</td>\n",
              "      <td>NaN</td>\n",
              "      <td>NaN</td>\n",
              "      <td>NaN</td>\n",
              "      <td>NaN</td>\n",
              "      <td>NaN</td>\n",
              "    </tr>\n",
              "  </tbody>\n",
              "</table>\n",
              "</div>"
            ],
            "text/plain": [
              "              camis       zipcode       score  latitude  longitude  \\\n",
              "count  2.410000e+02    124.000000  221.000000       0.0        0.0   \n",
              "mean   4.518631e+07  12260.612903   22.158371       NaN        NaN   \n",
              "std    4.172142e+06   4543.378099   17.090063       NaN        NaN   \n",
              "min    4.088359e+07  10166.000000    0.000000       NaN        NaN   \n",
              "25%    4.166471e+07  11249.000000   11.000000       NaN        NaN   \n",
              "50%    4.168515e+07  11249.000000   16.000000       NaN        NaN   \n",
              "75%    5.004980e+07  11451.000000   29.000000       NaN        NaN   \n",
              "max    5.010854e+07  30339.000000   76.000000       NaN        NaN   \n",
              "\n",
              "       community_board  council_district  census_tract  bin  bbl  \n",
              "count              0.0               0.0           0.0  0.0  0.0  \n",
              "mean               NaN               NaN           NaN  NaN  NaN  \n",
              "std                NaN               NaN           NaN  NaN  NaN  \n",
              "min                NaN               NaN           NaN  NaN  NaN  \n",
              "25%                NaN               NaN           NaN  NaN  NaN  \n",
              "50%                NaN               NaN           NaN  NaN  NaN  \n",
              "75%                NaN               NaN           NaN  NaN  NaN  \n",
              "max                NaN               NaN           NaN  NaN  NaN  "
            ]
          },
          "metadata": {
            "tags": []
          },
          "execution_count": 45
        }
      ]
    },
    {
      "cell_type": "markdown",
      "metadata": {
        "id": "C4Yeg40rAjDx"
      },
      "source": [
        "Surprisingly, these records above seem meaningful but we need to investigate more on what boro \"0\" means in this case since NYC doesn't have a borough called \"0\". We will come back to this."
      ]
    },
    {
      "cell_type": "code",
      "metadata": {
        "id": "_oas2ph_4Jb0",
        "colab": {
          "base_uri": "https://localhost:8080/",
          "height": 1000
        },
        "outputId": "0acd3bc1-ff7e-4045-9c7a-bc80a3f41cf0"
      },
      "source": [
        "# What are the worst restaurants?\n",
        "inspections.loc[inspections.score == max(inspections.score)]"
      ],
      "execution_count": null,
      "outputs": [
        {
          "output_type": "execute_result",
          "data": {
            "text/html": [
              "<div>\n",
              "<style scoped>\n",
              "    .dataframe tbody tr th:only-of-type {\n",
              "        vertical-align: middle;\n",
              "    }\n",
              "\n",
              "    .dataframe tbody tr th {\n",
              "        vertical-align: top;\n",
              "    }\n",
              "\n",
              "    .dataframe thead th {\n",
              "        text-align: right;\n",
              "    }\n",
              "</style>\n",
              "<table border=\"1\" class=\"dataframe\">\n",
              "  <thead>\n",
              "    <tr style=\"text-align: right;\">\n",
              "      <th></th>\n",
              "      <th>camis</th>\n",
              "      <th>dba</th>\n",
              "      <th>boro</th>\n",
              "      <th>building</th>\n",
              "      <th>street</th>\n",
              "      <th>zipcode</th>\n",
              "      <th>phone</th>\n",
              "      <th>cuisine_description</th>\n",
              "      <th>inspection_date</th>\n",
              "      <th>action</th>\n",
              "      <th>violation_code</th>\n",
              "      <th>violation_description</th>\n",
              "      <th>critical_flag</th>\n",
              "      <th>score</th>\n",
              "      <th>grade</th>\n",
              "      <th>grade_date</th>\n",
              "      <th>record_date</th>\n",
              "      <th>inspection_type</th>\n",
              "      <th>latitude</th>\n",
              "      <th>longitude</th>\n",
              "      <th>community_board</th>\n",
              "      <th>council_district</th>\n",
              "      <th>census_tract</th>\n",
              "      <th>bin</th>\n",
              "      <th>bbl</th>\n",
              "      <th>nta</th>\n",
              "    </tr>\n",
              "  </thead>\n",
              "  <tbody>\n",
              "    <tr>\n",
              "      <th>16674</th>\n",
              "      <td>50061507</td>\n",
              "      <td>BICKLES 2 GO</td>\n",
              "      <td>Bronx</td>\n",
              "      <td>647</td>\n",
              "      <td>COURTLANDT AVENUE</td>\n",
              "      <td>10451.0</td>\n",
              "      <td>3479634184</td>\n",
              "      <td>Caribbean (Inc. Cuban, Puerto Rican)</td>\n",
              "      <td>05/08/2019</td>\n",
              "      <td>Establishment Closed by DOHMH.  Violations wer...</td>\n",
              "      <td>09B</td>\n",
              "      <td>Thawing procedures improper.</td>\n",
              "      <td>N</td>\n",
              "      <td>164.0</td>\n",
              "      <td>NaN</td>\n",
              "      <td>NaN</td>\n",
              "      <td>03/12/2021</td>\n",
              "      <td>Cycle Inspection / Initial Inspection</td>\n",
              "      <td>40.818921</td>\n",
              "      <td>-73.918478</td>\n",
              "      <td>201.0</td>\n",
              "      <td>17.0</td>\n",
              "      <td>6700.0</td>\n",
              "      <td>2001885.0</td>\n",
              "      <td>2.024110e+09</td>\n",
              "      <td>BX34</td>\n",
              "    </tr>\n",
              "    <tr>\n",
              "      <th>31891</th>\n",
              "      <td>50061507</td>\n",
              "      <td>BICKLES 2 GO</td>\n",
              "      <td>Bronx</td>\n",
              "      <td>647</td>\n",
              "      <td>COURTLANDT AVENUE</td>\n",
              "      <td>10451.0</td>\n",
              "      <td>3479634184</td>\n",
              "      <td>Caribbean (Inc. Cuban, Puerto Rican)</td>\n",
              "      <td>05/08/2019</td>\n",
              "      <td>Establishment Closed by DOHMH.  Violations wer...</td>\n",
              "      <td>04L</td>\n",
              "      <td>Evidence of mice or live mice present in facil...</td>\n",
              "      <td>Y</td>\n",
              "      <td>164.0</td>\n",
              "      <td>NaN</td>\n",
              "      <td>NaN</td>\n",
              "      <td>03/12/2021</td>\n",
              "      <td>Cycle Inspection / Initial Inspection</td>\n",
              "      <td>40.818921</td>\n",
              "      <td>-73.918478</td>\n",
              "      <td>201.0</td>\n",
              "      <td>17.0</td>\n",
              "      <td>6700.0</td>\n",
              "      <td>2001885.0</td>\n",
              "      <td>2.024110e+09</td>\n",
              "      <td>BX34</td>\n",
              "    </tr>\n",
              "    <tr>\n",
              "      <th>54846</th>\n",
              "      <td>50099216</td>\n",
              "      <td>RENIX SPORTS BAR</td>\n",
              "      <td>Queens</td>\n",
              "      <td>3764</td>\n",
              "      <td>103RD ST</td>\n",
              "      <td>11368.0</td>\n",
              "      <td>7184576057</td>\n",
              "      <td>American</td>\n",
              "      <td>10/03/2019</td>\n",
              "      <td>Violations were cited in the following area(s).</td>\n",
              "      <td>05H</td>\n",
              "      <td>No facilities available to wash, rinse and san...</td>\n",
              "      <td>Y</td>\n",
              "      <td>164.0</td>\n",
              "      <td>NaN</td>\n",
              "      <td>NaN</td>\n",
              "      <td>03/12/2021</td>\n",
              "      <td>Pre-permit (Non-operational) / Initial Inspection</td>\n",
              "      <td>40.752760</td>\n",
              "      <td>-73.864199</td>\n",
              "      <td>403.0</td>\n",
              "      <td>21.0</td>\n",
              "      <td>40500.0</td>\n",
              "      <td>4044237.0</td>\n",
              "      <td>4.017680e+09</td>\n",
              "      <td>QN26</td>\n",
              "    </tr>\n",
              "    <tr>\n",
              "      <th>75517</th>\n",
              "      <td>50099216</td>\n",
              "      <td>RENIX SPORTS BAR</td>\n",
              "      <td>Queens</td>\n",
              "      <td>3764</td>\n",
              "      <td>103RD ST</td>\n",
              "      <td>11368.0</td>\n",
              "      <td>7184576057</td>\n",
              "      <td>American</td>\n",
              "      <td>10/03/2019</td>\n",
              "      <td>Violations were cited in the following area(s).</td>\n",
              "      <td>06C</td>\n",
              "      <td>Food not protected from potential source of co...</td>\n",
              "      <td>Y</td>\n",
              "      <td>164.0</td>\n",
              "      <td>NaN</td>\n",
              "      <td>NaN</td>\n",
              "      <td>03/12/2021</td>\n",
              "      <td>Pre-permit (Non-operational) / Initial Inspection</td>\n",
              "      <td>40.752760</td>\n",
              "      <td>-73.864199</td>\n",
              "      <td>403.0</td>\n",
              "      <td>21.0</td>\n",
              "      <td>40500.0</td>\n",
              "      <td>4044237.0</td>\n",
              "      <td>4.017680e+09</td>\n",
              "      <td>QN26</td>\n",
              "    </tr>\n",
              "    <tr>\n",
              "      <th>89983</th>\n",
              "      <td>50099216</td>\n",
              "      <td>RENIX SPORTS BAR</td>\n",
              "      <td>Queens</td>\n",
              "      <td>3764</td>\n",
              "      <td>103RD ST</td>\n",
              "      <td>11368.0</td>\n",
              "      <td>7184576057</td>\n",
              "      <td>American</td>\n",
              "      <td>10/03/2019</td>\n",
              "      <td>Violations were cited in the following area(s).</td>\n",
              "      <td>04N</td>\n",
              "      <td>Filth flies or food/refuse/sewage-associated (...</td>\n",
              "      <td>Y</td>\n",
              "      <td>164.0</td>\n",
              "      <td>NaN</td>\n",
              "      <td>NaN</td>\n",
              "      <td>03/12/2021</td>\n",
              "      <td>Pre-permit (Non-operational) / Initial Inspection</td>\n",
              "      <td>40.752760</td>\n",
              "      <td>-73.864199</td>\n",
              "      <td>403.0</td>\n",
              "      <td>21.0</td>\n",
              "      <td>40500.0</td>\n",
              "      <td>4044237.0</td>\n",
              "      <td>4.017680e+09</td>\n",
              "      <td>QN26</td>\n",
              "    </tr>\n",
              "    <tr>\n",
              "      <th>90524</th>\n",
              "      <td>50061507</td>\n",
              "      <td>BICKLES 2 GO</td>\n",
              "      <td>Bronx</td>\n",
              "      <td>647</td>\n",
              "      <td>COURTLANDT AVENUE</td>\n",
              "      <td>10451.0</td>\n",
              "      <td>3479634184</td>\n",
              "      <td>Caribbean (Inc. Cuban, Puerto Rican)</td>\n",
              "      <td>05/08/2019</td>\n",
              "      <td>Establishment Closed by DOHMH.  Violations wer...</td>\n",
              "      <td>05D</td>\n",
              "      <td>Hand washing facility not provided in or near ...</td>\n",
              "      <td>Y</td>\n",
              "      <td>164.0</td>\n",
              "      <td>NaN</td>\n",
              "      <td>NaN</td>\n",
              "      <td>03/12/2021</td>\n",
              "      <td>Cycle Inspection / Initial Inspection</td>\n",
              "      <td>40.818921</td>\n",
              "      <td>-73.918478</td>\n",
              "      <td>201.0</td>\n",
              "      <td>17.0</td>\n",
              "      <td>6700.0</td>\n",
              "      <td>2001885.0</td>\n",
              "      <td>2.024110e+09</td>\n",
              "      <td>BX34</td>\n",
              "    </tr>\n",
              "    <tr>\n",
              "      <th>93526</th>\n",
              "      <td>50099216</td>\n",
              "      <td>RENIX SPORTS BAR</td>\n",
              "      <td>Queens</td>\n",
              "      <td>3764</td>\n",
              "      <td>103RD ST</td>\n",
              "      <td>11368.0</td>\n",
              "      <td>7184576057</td>\n",
              "      <td>American</td>\n",
              "      <td>10/03/2019</td>\n",
              "      <td>Violations were cited in the following area(s).</td>\n",
              "      <td>05C</td>\n",
              "      <td>Food contact surface improperly constructed or...</td>\n",
              "      <td>Y</td>\n",
              "      <td>164.0</td>\n",
              "      <td>NaN</td>\n",
              "      <td>NaN</td>\n",
              "      <td>03/12/2021</td>\n",
              "      <td>Pre-permit (Non-operational) / Initial Inspection</td>\n",
              "      <td>40.752760</td>\n",
              "      <td>-73.864199</td>\n",
              "      <td>403.0</td>\n",
              "      <td>21.0</td>\n",
              "      <td>40500.0</td>\n",
              "      <td>4044237.0</td>\n",
              "      <td>4.017680e+09</td>\n",
              "      <td>QN26</td>\n",
              "    </tr>\n",
              "    <tr>\n",
              "      <th>116665</th>\n",
              "      <td>50061507</td>\n",
              "      <td>BICKLES 2 GO</td>\n",
              "      <td>Bronx</td>\n",
              "      <td>647</td>\n",
              "      <td>COURTLANDT AVENUE</td>\n",
              "      <td>10451.0</td>\n",
              "      <td>3479634184</td>\n",
              "      <td>Caribbean (Inc. Cuban, Puerto Rican)</td>\n",
              "      <td>05/08/2019</td>\n",
              "      <td>Establishment Closed by DOHMH.  Violations wer...</td>\n",
              "      <td>02H</td>\n",
              "      <td>Food not cooled by an approved method whereby ...</td>\n",
              "      <td>Y</td>\n",
              "      <td>164.0</td>\n",
              "      <td>NaN</td>\n",
              "      <td>NaN</td>\n",
              "      <td>03/12/2021</td>\n",
              "      <td>Cycle Inspection / Initial Inspection</td>\n",
              "      <td>40.818921</td>\n",
              "      <td>-73.918478</td>\n",
              "      <td>201.0</td>\n",
              "      <td>17.0</td>\n",
              "      <td>6700.0</td>\n",
              "      <td>2001885.0</td>\n",
              "      <td>2.024110e+09</td>\n",
              "      <td>BX34</td>\n",
              "    </tr>\n",
              "    <tr>\n",
              "      <th>120412</th>\n",
              "      <td>50061507</td>\n",
              "      <td>BICKLES 2 GO</td>\n",
              "      <td>Bronx</td>\n",
              "      <td>647</td>\n",
              "      <td>COURTLANDT AVENUE</td>\n",
              "      <td>10451.0</td>\n",
              "      <td>3479634184</td>\n",
              "      <td>Caribbean (Inc. Cuban, Puerto Rican)</td>\n",
              "      <td>05/08/2019</td>\n",
              "      <td>Establishment Closed by DOHMH.  Violations wer...</td>\n",
              "      <td>05F</td>\n",
              "      <td>Insufficient or no refrigerated or hot holding...</td>\n",
              "      <td>Y</td>\n",
              "      <td>164.0</td>\n",
              "      <td>NaN</td>\n",
              "      <td>NaN</td>\n",
              "      <td>03/12/2021</td>\n",
              "      <td>Cycle Inspection / Initial Inspection</td>\n",
              "      <td>40.818921</td>\n",
              "      <td>-73.918478</td>\n",
              "      <td>201.0</td>\n",
              "      <td>17.0</td>\n",
              "      <td>6700.0</td>\n",
              "      <td>2001885.0</td>\n",
              "      <td>2.024110e+09</td>\n",
              "      <td>BX34</td>\n",
              "    </tr>\n",
              "    <tr>\n",
              "      <th>173336</th>\n",
              "      <td>50099216</td>\n",
              "      <td>RENIX SPORTS BAR</td>\n",
              "      <td>Queens</td>\n",
              "      <td>3764</td>\n",
              "      <td>103RD ST</td>\n",
              "      <td>11368.0</td>\n",
              "      <td>7184576057</td>\n",
              "      <td>American</td>\n",
              "      <td>10/03/2019</td>\n",
              "      <td>Violations were cited in the following area(s).</td>\n",
              "      <td>10B</td>\n",
              "      <td>Plumbing not properly installed or maintained;...</td>\n",
              "      <td>N</td>\n",
              "      <td>164.0</td>\n",
              "      <td>NaN</td>\n",
              "      <td>NaN</td>\n",
              "      <td>03/12/2021</td>\n",
              "      <td>Pre-permit (Non-operational) / Initial Inspection</td>\n",
              "      <td>40.752760</td>\n",
              "      <td>-73.864199</td>\n",
              "      <td>403.0</td>\n",
              "      <td>21.0</td>\n",
              "      <td>40500.0</td>\n",
              "      <td>4044237.0</td>\n",
              "      <td>4.017680e+09</td>\n",
              "      <td>QN26</td>\n",
              "    </tr>\n",
              "    <tr>\n",
              "      <th>182503</th>\n",
              "      <td>50061507</td>\n",
              "      <td>BICKLES 2 GO</td>\n",
              "      <td>Bronx</td>\n",
              "      <td>647</td>\n",
              "      <td>COURTLANDT AVENUE</td>\n",
              "      <td>10451.0</td>\n",
              "      <td>3479634184</td>\n",
              "      <td>Caribbean (Inc. Cuban, Puerto Rican)</td>\n",
              "      <td>05/08/2019</td>\n",
              "      <td>Establishment Closed by DOHMH.  Violations wer...</td>\n",
              "      <td>06C</td>\n",
              "      <td>Food not protected from potential source of co...</td>\n",
              "      <td>Y</td>\n",
              "      <td>164.0</td>\n",
              "      <td>NaN</td>\n",
              "      <td>NaN</td>\n",
              "      <td>03/12/2021</td>\n",
              "      <td>Cycle Inspection / Initial Inspection</td>\n",
              "      <td>40.818921</td>\n",
              "      <td>-73.918478</td>\n",
              "      <td>201.0</td>\n",
              "      <td>17.0</td>\n",
              "      <td>6700.0</td>\n",
              "      <td>2001885.0</td>\n",
              "      <td>2.024110e+09</td>\n",
              "      <td>BX34</td>\n",
              "    </tr>\n",
              "    <tr>\n",
              "      <th>208043</th>\n",
              "      <td>50099216</td>\n",
              "      <td>RENIX SPORTS BAR</td>\n",
              "      <td>Queens</td>\n",
              "      <td>3764</td>\n",
              "      <td>103RD ST</td>\n",
              "      <td>11368.0</td>\n",
              "      <td>7184576057</td>\n",
              "      <td>American</td>\n",
              "      <td>10/03/2019</td>\n",
              "      <td>Violations were cited in the following area(s).</td>\n",
              "      <td>08A</td>\n",
              "      <td>Facility not vermin proof. Harborage or condit...</td>\n",
              "      <td>N</td>\n",
              "      <td>164.0</td>\n",
              "      <td>NaN</td>\n",
              "      <td>NaN</td>\n",
              "      <td>03/12/2021</td>\n",
              "      <td>Pre-permit (Non-operational) / Initial Inspection</td>\n",
              "      <td>40.752760</td>\n",
              "      <td>-73.864199</td>\n",
              "      <td>403.0</td>\n",
              "      <td>21.0</td>\n",
              "      <td>40500.0</td>\n",
              "      <td>4044237.0</td>\n",
              "      <td>4.017680e+09</td>\n",
              "      <td>QN26</td>\n",
              "    </tr>\n",
              "    <tr>\n",
              "      <th>239085</th>\n",
              "      <td>50099216</td>\n",
              "      <td>RENIX SPORTS BAR</td>\n",
              "      <td>Queens</td>\n",
              "      <td>3764</td>\n",
              "      <td>103RD ST</td>\n",
              "      <td>11368.0</td>\n",
              "      <td>7184576057</td>\n",
              "      <td>American</td>\n",
              "      <td>10/03/2019</td>\n",
              "      <td>Violations were cited in the following area(s).</td>\n",
              "      <td>10F</td>\n",
              "      <td>Non-food contact surface improperly constructe...</td>\n",
              "      <td>N</td>\n",
              "      <td>164.0</td>\n",
              "      <td>NaN</td>\n",
              "      <td>NaN</td>\n",
              "      <td>03/12/2021</td>\n",
              "      <td>Pre-permit (Non-operational) / Initial Inspection</td>\n",
              "      <td>40.752760</td>\n",
              "      <td>-73.864199</td>\n",
              "      <td>403.0</td>\n",
              "      <td>21.0</td>\n",
              "      <td>40500.0</td>\n",
              "      <td>4044237.0</td>\n",
              "      <td>4.017680e+09</td>\n",
              "      <td>QN26</td>\n",
              "    </tr>\n",
              "    <tr>\n",
              "      <th>274938</th>\n",
              "      <td>50061507</td>\n",
              "      <td>BICKLES 2 GO</td>\n",
              "      <td>Bronx</td>\n",
              "      <td>647</td>\n",
              "      <td>COURTLANDT AVENUE</td>\n",
              "      <td>10451.0</td>\n",
              "      <td>3479634184</td>\n",
              "      <td>Caribbean (Inc. Cuban, Puerto Rican)</td>\n",
              "      <td>05/08/2019</td>\n",
              "      <td>Establishment Closed by DOHMH.  Violations wer...</td>\n",
              "      <td>05C</td>\n",
              "      <td>Food contact surface improperly constructed or...</td>\n",
              "      <td>Y</td>\n",
              "      <td>164.0</td>\n",
              "      <td>NaN</td>\n",
              "      <td>NaN</td>\n",
              "      <td>03/12/2021</td>\n",
              "      <td>Cycle Inspection / Initial Inspection</td>\n",
              "      <td>40.818921</td>\n",
              "      <td>-73.918478</td>\n",
              "      <td>201.0</td>\n",
              "      <td>17.0</td>\n",
              "      <td>6700.0</td>\n",
              "      <td>2001885.0</td>\n",
              "      <td>2.024110e+09</td>\n",
              "      <td>BX34</td>\n",
              "    </tr>\n",
              "    <tr>\n",
              "      <th>275509</th>\n",
              "      <td>50061507</td>\n",
              "      <td>BICKLES 2 GO</td>\n",
              "      <td>Bronx</td>\n",
              "      <td>647</td>\n",
              "      <td>COURTLANDT AVENUE</td>\n",
              "      <td>10451.0</td>\n",
              "      <td>3479634184</td>\n",
              "      <td>Caribbean (Inc. Cuban, Puerto Rican)</td>\n",
              "      <td>05/08/2019</td>\n",
              "      <td>Establishment Closed by DOHMH.  Violations wer...</td>\n",
              "      <td>08A</td>\n",
              "      <td>Facility not vermin proof. Harborage or condit...</td>\n",
              "      <td>N</td>\n",
              "      <td>164.0</td>\n",
              "      <td>NaN</td>\n",
              "      <td>NaN</td>\n",
              "      <td>03/12/2021</td>\n",
              "      <td>Cycle Inspection / Initial Inspection</td>\n",
              "      <td>40.818921</td>\n",
              "      <td>-73.918478</td>\n",
              "      <td>201.0</td>\n",
              "      <td>17.0</td>\n",
              "      <td>6700.0</td>\n",
              "      <td>2001885.0</td>\n",
              "      <td>2.024110e+09</td>\n",
              "      <td>BX34</td>\n",
              "    </tr>\n",
              "    <tr>\n",
              "      <th>305012</th>\n",
              "      <td>50099216</td>\n",
              "      <td>RENIX SPORTS BAR</td>\n",
              "      <td>Queens</td>\n",
              "      <td>3764</td>\n",
              "      <td>103RD ST</td>\n",
              "      <td>11368.0</td>\n",
              "      <td>7184576057</td>\n",
              "      <td>American</td>\n",
              "      <td>10/03/2019</td>\n",
              "      <td>Violations were cited in the following area(s).</td>\n",
              "      <td>04J</td>\n",
              "      <td>Appropriately scaled metal stem-type thermomet...</td>\n",
              "      <td>Y</td>\n",
              "      <td>164.0</td>\n",
              "      <td>NaN</td>\n",
              "      <td>NaN</td>\n",
              "      <td>03/12/2021</td>\n",
              "      <td>Pre-permit (Non-operational) / Initial Inspection</td>\n",
              "      <td>40.752760</td>\n",
              "      <td>-73.864199</td>\n",
              "      <td>403.0</td>\n",
              "      <td>21.0</td>\n",
              "      <td>40500.0</td>\n",
              "      <td>4044237.0</td>\n",
              "      <td>4.017680e+09</td>\n",
              "      <td>QN26</td>\n",
              "    </tr>\n",
              "    <tr>\n",
              "      <th>330667</th>\n",
              "      <td>50099216</td>\n",
              "      <td>RENIX SPORTS BAR</td>\n",
              "      <td>Queens</td>\n",
              "      <td>3764</td>\n",
              "      <td>103RD ST</td>\n",
              "      <td>11368.0</td>\n",
              "      <td>7184576057</td>\n",
              "      <td>American</td>\n",
              "      <td>10/03/2019</td>\n",
              "      <td>Violations were cited in the following area(s).</td>\n",
              "      <td>05D</td>\n",
              "      <td>Hand washing facility not provided in or near ...</td>\n",
              "      <td>Y</td>\n",
              "      <td>164.0</td>\n",
              "      <td>NaN</td>\n",
              "      <td>NaN</td>\n",
              "      <td>03/12/2021</td>\n",
              "      <td>Pre-permit (Non-operational) / Initial Inspection</td>\n",
              "      <td>40.752760</td>\n",
              "      <td>-73.864199</td>\n",
              "      <td>403.0</td>\n",
              "      <td>21.0</td>\n",
              "      <td>40500.0</td>\n",
              "      <td>4044237.0</td>\n",
              "      <td>4.017680e+09</td>\n",
              "      <td>QN26</td>\n",
              "    </tr>\n",
              "    <tr>\n",
              "      <th>346642</th>\n",
              "      <td>50099216</td>\n",
              "      <td>RENIX SPORTS BAR</td>\n",
              "      <td>Queens</td>\n",
              "      <td>3764</td>\n",
              "      <td>103RD ST</td>\n",
              "      <td>11368.0</td>\n",
              "      <td>7184576057</td>\n",
              "      <td>American</td>\n",
              "      <td>10/03/2019</td>\n",
              "      <td>Violations were cited in the following area(s).</td>\n",
              "      <td>05F</td>\n",
              "      <td>Insufficient or no refrigerated or hot holding...</td>\n",
              "      <td>Y</td>\n",
              "      <td>164.0</td>\n",
              "      <td>NaN</td>\n",
              "      <td>NaN</td>\n",
              "      <td>03/12/2021</td>\n",
              "      <td>Pre-permit (Non-operational) / Initial Inspection</td>\n",
              "      <td>40.752760</td>\n",
              "      <td>-73.864199</td>\n",
              "      <td>403.0</td>\n",
              "      <td>21.0</td>\n",
              "      <td>40500.0</td>\n",
              "      <td>4044237.0</td>\n",
              "      <td>4.017680e+09</td>\n",
              "      <td>QN26</td>\n",
              "    </tr>\n",
              "    <tr>\n",
              "      <th>355948</th>\n",
              "      <td>50061507</td>\n",
              "      <td>BICKLES 2 GO</td>\n",
              "      <td>Bronx</td>\n",
              "      <td>647</td>\n",
              "      <td>COURTLANDT AVENUE</td>\n",
              "      <td>10451.0</td>\n",
              "      <td>3479634184</td>\n",
              "      <td>Caribbean (Inc. Cuban, Puerto Rican)</td>\n",
              "      <td>05/08/2019</td>\n",
              "      <td>Establishment Closed by DOHMH.  Violations wer...</td>\n",
              "      <td>04A</td>\n",
              "      <td>Food Protection Certificate not held by superv...</td>\n",
              "      <td>Y</td>\n",
              "      <td>164.0</td>\n",
              "      <td>NaN</td>\n",
              "      <td>NaN</td>\n",
              "      <td>03/12/2021</td>\n",
              "      <td>Cycle Inspection / Initial Inspection</td>\n",
              "      <td>40.818921</td>\n",
              "      <td>-73.918478</td>\n",
              "      <td>201.0</td>\n",
              "      <td>17.0</td>\n",
              "      <td>6700.0</td>\n",
              "      <td>2001885.0</td>\n",
              "      <td>2.024110e+09</td>\n",
              "      <td>BX34</td>\n",
              "    </tr>\n",
              "    <tr>\n",
              "      <th>374537</th>\n",
              "      <td>50099216</td>\n",
              "      <td>RENIX SPORTS BAR</td>\n",
              "      <td>Queens</td>\n",
              "      <td>3764</td>\n",
              "      <td>103RD ST</td>\n",
              "      <td>11368.0</td>\n",
              "      <td>7184576057</td>\n",
              "      <td>American</td>\n",
              "      <td>10/03/2019</td>\n",
              "      <td>Violations were cited in the following area(s).</td>\n",
              "      <td>04M</td>\n",
              "      <td>Live roaches present in facility's food and/or...</td>\n",
              "      <td>Y</td>\n",
              "      <td>164.0</td>\n",
              "      <td>NaN</td>\n",
              "      <td>NaN</td>\n",
              "      <td>03/12/2021</td>\n",
              "      <td>Pre-permit (Non-operational) / Initial Inspection</td>\n",
              "      <td>40.752760</td>\n",
              "      <td>-73.864199</td>\n",
              "      <td>403.0</td>\n",
              "      <td>21.0</td>\n",
              "      <td>40500.0</td>\n",
              "      <td>4044237.0</td>\n",
              "      <td>4.017680e+09</td>\n",
              "      <td>QN26</td>\n",
              "    </tr>\n",
              "  </tbody>\n",
              "</table>\n",
              "</div>"
            ],
            "text/plain": [
              "           camis               dba    boro building             street  \\\n",
              "16674   50061507      BICKLES 2 GO   Bronx      647  COURTLANDT AVENUE   \n",
              "31891   50061507      BICKLES 2 GO   Bronx      647  COURTLANDT AVENUE   \n",
              "54846   50099216  RENIX SPORTS BAR  Queens     3764           103RD ST   \n",
              "75517   50099216  RENIX SPORTS BAR  Queens     3764           103RD ST   \n",
              "89983   50099216  RENIX SPORTS BAR  Queens     3764           103RD ST   \n",
              "90524   50061507      BICKLES 2 GO   Bronx      647  COURTLANDT AVENUE   \n",
              "93526   50099216  RENIX SPORTS BAR  Queens     3764           103RD ST   \n",
              "116665  50061507      BICKLES 2 GO   Bronx      647  COURTLANDT AVENUE   \n",
              "120412  50061507      BICKLES 2 GO   Bronx      647  COURTLANDT AVENUE   \n",
              "173336  50099216  RENIX SPORTS BAR  Queens     3764           103RD ST   \n",
              "182503  50061507      BICKLES 2 GO   Bronx      647  COURTLANDT AVENUE   \n",
              "208043  50099216  RENIX SPORTS BAR  Queens     3764           103RD ST   \n",
              "239085  50099216  RENIX SPORTS BAR  Queens     3764           103RD ST   \n",
              "274938  50061507      BICKLES 2 GO   Bronx      647  COURTLANDT AVENUE   \n",
              "275509  50061507      BICKLES 2 GO   Bronx      647  COURTLANDT AVENUE   \n",
              "305012  50099216  RENIX SPORTS BAR  Queens     3764           103RD ST   \n",
              "330667  50099216  RENIX SPORTS BAR  Queens     3764           103RD ST   \n",
              "346642  50099216  RENIX SPORTS BAR  Queens     3764           103RD ST   \n",
              "355948  50061507      BICKLES 2 GO   Bronx      647  COURTLANDT AVENUE   \n",
              "374537  50099216  RENIX SPORTS BAR  Queens     3764           103RD ST   \n",
              "\n",
              "        zipcode       phone                   cuisine_description  \\\n",
              "16674   10451.0  3479634184  Caribbean (Inc. Cuban, Puerto Rican)   \n",
              "31891   10451.0  3479634184  Caribbean (Inc. Cuban, Puerto Rican)   \n",
              "54846   11368.0  7184576057                              American   \n",
              "75517   11368.0  7184576057                              American   \n",
              "89983   11368.0  7184576057                              American   \n",
              "90524   10451.0  3479634184  Caribbean (Inc. Cuban, Puerto Rican)   \n",
              "93526   11368.0  7184576057                              American   \n",
              "116665  10451.0  3479634184  Caribbean (Inc. Cuban, Puerto Rican)   \n",
              "120412  10451.0  3479634184  Caribbean (Inc. Cuban, Puerto Rican)   \n",
              "173336  11368.0  7184576057                              American   \n",
              "182503  10451.0  3479634184  Caribbean (Inc. Cuban, Puerto Rican)   \n",
              "208043  11368.0  7184576057                              American   \n",
              "239085  11368.0  7184576057                              American   \n",
              "274938  10451.0  3479634184  Caribbean (Inc. Cuban, Puerto Rican)   \n",
              "275509  10451.0  3479634184  Caribbean (Inc. Cuban, Puerto Rican)   \n",
              "305012  11368.0  7184576057                              American   \n",
              "330667  11368.0  7184576057                              American   \n",
              "346642  11368.0  7184576057                              American   \n",
              "355948  10451.0  3479634184  Caribbean (Inc. Cuban, Puerto Rican)   \n",
              "374537  11368.0  7184576057                              American   \n",
              "\n",
              "       inspection_date                                             action  \\\n",
              "16674       05/08/2019  Establishment Closed by DOHMH.  Violations wer...   \n",
              "31891       05/08/2019  Establishment Closed by DOHMH.  Violations wer...   \n",
              "54846       10/03/2019    Violations were cited in the following area(s).   \n",
              "75517       10/03/2019    Violations were cited in the following area(s).   \n",
              "89983       10/03/2019    Violations were cited in the following area(s).   \n",
              "90524       05/08/2019  Establishment Closed by DOHMH.  Violations wer...   \n",
              "93526       10/03/2019    Violations were cited in the following area(s).   \n",
              "116665      05/08/2019  Establishment Closed by DOHMH.  Violations wer...   \n",
              "120412      05/08/2019  Establishment Closed by DOHMH.  Violations wer...   \n",
              "173336      10/03/2019    Violations were cited in the following area(s).   \n",
              "182503      05/08/2019  Establishment Closed by DOHMH.  Violations wer...   \n",
              "208043      10/03/2019    Violations were cited in the following area(s).   \n",
              "239085      10/03/2019    Violations were cited in the following area(s).   \n",
              "274938      05/08/2019  Establishment Closed by DOHMH.  Violations wer...   \n",
              "275509      05/08/2019  Establishment Closed by DOHMH.  Violations wer...   \n",
              "305012      10/03/2019    Violations were cited in the following area(s).   \n",
              "330667      10/03/2019    Violations were cited in the following area(s).   \n",
              "346642      10/03/2019    Violations were cited in the following area(s).   \n",
              "355948      05/08/2019  Establishment Closed by DOHMH.  Violations wer...   \n",
              "374537      10/03/2019    Violations were cited in the following area(s).   \n",
              "\n",
              "       violation_code                              violation_description  \\\n",
              "16674             09B                       Thawing procedures improper.   \n",
              "31891             04L  Evidence of mice or live mice present in facil...   \n",
              "54846             05H  No facilities available to wash, rinse and san...   \n",
              "75517             06C  Food not protected from potential source of co...   \n",
              "89983             04N  Filth flies or food/refuse/sewage-associated (...   \n",
              "90524             05D  Hand washing facility not provided in or near ...   \n",
              "93526             05C  Food contact surface improperly constructed or...   \n",
              "116665            02H  Food not cooled by an approved method whereby ...   \n",
              "120412            05F  Insufficient or no refrigerated or hot holding...   \n",
              "173336            10B  Plumbing not properly installed or maintained;...   \n",
              "182503            06C  Food not protected from potential source of co...   \n",
              "208043            08A  Facility not vermin proof. Harborage or condit...   \n",
              "239085            10F  Non-food contact surface improperly constructe...   \n",
              "274938            05C  Food contact surface improperly constructed or...   \n",
              "275509            08A  Facility not vermin proof. Harborage or condit...   \n",
              "305012            04J  Appropriately scaled metal stem-type thermomet...   \n",
              "330667            05D  Hand washing facility not provided in or near ...   \n",
              "346642            05F  Insufficient or no refrigerated or hot holding...   \n",
              "355948            04A  Food Protection Certificate not held by superv...   \n",
              "374537            04M  Live roaches present in facility's food and/or...   \n",
              "\n",
              "       critical_flag  score grade grade_date record_date  \\\n",
              "16674              N  164.0   NaN        NaN  03/12/2021   \n",
              "31891              Y  164.0   NaN        NaN  03/12/2021   \n",
              "54846              Y  164.0   NaN        NaN  03/12/2021   \n",
              "75517              Y  164.0   NaN        NaN  03/12/2021   \n",
              "89983              Y  164.0   NaN        NaN  03/12/2021   \n",
              "90524              Y  164.0   NaN        NaN  03/12/2021   \n",
              "93526              Y  164.0   NaN        NaN  03/12/2021   \n",
              "116665             Y  164.0   NaN        NaN  03/12/2021   \n",
              "120412             Y  164.0   NaN        NaN  03/12/2021   \n",
              "173336             N  164.0   NaN        NaN  03/12/2021   \n",
              "182503             Y  164.0   NaN        NaN  03/12/2021   \n",
              "208043             N  164.0   NaN        NaN  03/12/2021   \n",
              "239085             N  164.0   NaN        NaN  03/12/2021   \n",
              "274938             Y  164.0   NaN        NaN  03/12/2021   \n",
              "275509             N  164.0   NaN        NaN  03/12/2021   \n",
              "305012             Y  164.0   NaN        NaN  03/12/2021   \n",
              "330667             Y  164.0   NaN        NaN  03/12/2021   \n",
              "346642             Y  164.0   NaN        NaN  03/12/2021   \n",
              "355948             Y  164.0   NaN        NaN  03/12/2021   \n",
              "374537             Y  164.0   NaN        NaN  03/12/2021   \n",
              "\n",
              "                                          inspection_type   latitude  \\\n",
              "16674               Cycle Inspection / Initial Inspection  40.818921   \n",
              "31891               Cycle Inspection / Initial Inspection  40.818921   \n",
              "54846   Pre-permit (Non-operational) / Initial Inspection  40.752760   \n",
              "75517   Pre-permit (Non-operational) / Initial Inspection  40.752760   \n",
              "89983   Pre-permit (Non-operational) / Initial Inspection  40.752760   \n",
              "90524               Cycle Inspection / Initial Inspection  40.818921   \n",
              "93526   Pre-permit (Non-operational) / Initial Inspection  40.752760   \n",
              "116665              Cycle Inspection / Initial Inspection  40.818921   \n",
              "120412              Cycle Inspection / Initial Inspection  40.818921   \n",
              "173336  Pre-permit (Non-operational) / Initial Inspection  40.752760   \n",
              "182503              Cycle Inspection / Initial Inspection  40.818921   \n",
              "208043  Pre-permit (Non-operational) / Initial Inspection  40.752760   \n",
              "239085  Pre-permit (Non-operational) / Initial Inspection  40.752760   \n",
              "274938              Cycle Inspection / Initial Inspection  40.818921   \n",
              "275509              Cycle Inspection / Initial Inspection  40.818921   \n",
              "305012  Pre-permit (Non-operational) / Initial Inspection  40.752760   \n",
              "330667  Pre-permit (Non-operational) / Initial Inspection  40.752760   \n",
              "346642  Pre-permit (Non-operational) / Initial Inspection  40.752760   \n",
              "355948              Cycle Inspection / Initial Inspection  40.818921   \n",
              "374537  Pre-permit (Non-operational) / Initial Inspection  40.752760   \n",
              "\n",
              "        longitude  community_board  council_district  census_tract        bin  \\\n",
              "16674  -73.918478            201.0              17.0        6700.0  2001885.0   \n",
              "31891  -73.918478            201.0              17.0        6700.0  2001885.0   \n",
              "54846  -73.864199            403.0              21.0       40500.0  4044237.0   \n",
              "75517  -73.864199            403.0              21.0       40500.0  4044237.0   \n",
              "89983  -73.864199            403.0              21.0       40500.0  4044237.0   \n",
              "90524  -73.918478            201.0              17.0        6700.0  2001885.0   \n",
              "93526  -73.864199            403.0              21.0       40500.0  4044237.0   \n",
              "116665 -73.918478            201.0              17.0        6700.0  2001885.0   \n",
              "120412 -73.918478            201.0              17.0        6700.0  2001885.0   \n",
              "173336 -73.864199            403.0              21.0       40500.0  4044237.0   \n",
              "182503 -73.918478            201.0              17.0        6700.0  2001885.0   \n",
              "208043 -73.864199            403.0              21.0       40500.0  4044237.0   \n",
              "239085 -73.864199            403.0              21.0       40500.0  4044237.0   \n",
              "274938 -73.918478            201.0              17.0        6700.0  2001885.0   \n",
              "275509 -73.918478            201.0              17.0        6700.0  2001885.0   \n",
              "305012 -73.864199            403.0              21.0       40500.0  4044237.0   \n",
              "330667 -73.864199            403.0              21.0       40500.0  4044237.0   \n",
              "346642 -73.864199            403.0              21.0       40500.0  4044237.0   \n",
              "355948 -73.918478            201.0              17.0        6700.0  2001885.0   \n",
              "374537 -73.864199            403.0              21.0       40500.0  4044237.0   \n",
              "\n",
              "                 bbl   nta  \n",
              "16674   2.024110e+09  BX34  \n",
              "31891   2.024110e+09  BX34  \n",
              "54846   4.017680e+09  QN26  \n",
              "75517   4.017680e+09  QN26  \n",
              "89983   4.017680e+09  QN26  \n",
              "90524   2.024110e+09  BX34  \n",
              "93526   4.017680e+09  QN26  \n",
              "116665  2.024110e+09  BX34  \n",
              "120412  2.024110e+09  BX34  \n",
              "173336  4.017680e+09  QN26  \n",
              "182503  2.024110e+09  BX34  \n",
              "208043  4.017680e+09  QN26  \n",
              "239085  4.017680e+09  QN26  \n",
              "274938  2.024110e+09  BX34  \n",
              "275509  2.024110e+09  BX34  \n",
              "305012  4.017680e+09  QN26  \n",
              "330667  4.017680e+09  QN26  \n",
              "346642  4.017680e+09  QN26  \n",
              "355948  2.024110e+09  BX34  \n",
              "374537  4.017680e+09  QN26  "
            ]
          },
          "metadata": {
            "tags": []
          },
          "execution_count": 46
        }
      ]
    },
    {
      "cell_type": "code",
      "metadata": {
        "id": "XKXPw65K4Jb2",
        "colab": {
          "base_uri": "https://localhost:8080/",
          "height": 1000
        },
        "outputId": "799183e0-dc4b-498e-f0ea-4ab226a088e3"
      },
      "source": [
        "# Check out one restaraunt in particular\n",
        "inspections.loc[(inspections.dba == \"DOS TOROS TAQUERIA\") & (inspections.street == \"4 AVENUE\"), ]"
      ],
      "execution_count": null,
      "outputs": [
        {
          "output_type": "execute_result",
          "data": {
            "text/html": [
              "<div>\n",
              "<style scoped>\n",
              "    .dataframe tbody tr th:only-of-type {\n",
              "        vertical-align: middle;\n",
              "    }\n",
              "\n",
              "    .dataframe tbody tr th {\n",
              "        vertical-align: top;\n",
              "    }\n",
              "\n",
              "    .dataframe thead th {\n",
              "        text-align: right;\n",
              "    }\n",
              "</style>\n",
              "<table border=\"1\" class=\"dataframe\">\n",
              "  <thead>\n",
              "    <tr style=\"text-align: right;\">\n",
              "      <th></th>\n",
              "      <th>camis</th>\n",
              "      <th>dba</th>\n",
              "      <th>boro</th>\n",
              "      <th>building</th>\n",
              "      <th>street</th>\n",
              "      <th>zipcode</th>\n",
              "      <th>phone</th>\n",
              "      <th>cuisine_description</th>\n",
              "      <th>inspection_date</th>\n",
              "      <th>action</th>\n",
              "      <th>violation_code</th>\n",
              "      <th>violation_description</th>\n",
              "      <th>critical_flag</th>\n",
              "      <th>score</th>\n",
              "      <th>grade</th>\n",
              "      <th>grade_date</th>\n",
              "      <th>record_date</th>\n",
              "      <th>inspection_type</th>\n",
              "      <th>latitude</th>\n",
              "      <th>longitude</th>\n",
              "      <th>community_board</th>\n",
              "      <th>council_district</th>\n",
              "      <th>census_tract</th>\n",
              "      <th>bin</th>\n",
              "      <th>bbl</th>\n",
              "      <th>nta</th>\n",
              "    </tr>\n",
              "  </thead>\n",
              "  <tbody>\n",
              "    <tr>\n",
              "      <th>11414</th>\n",
              "      <td>41445110</td>\n",
              "      <td>DOS TOROS TAQUERIA</td>\n",
              "      <td>Manhattan</td>\n",
              "      <td>137</td>\n",
              "      <td>4 AVENUE</td>\n",
              "      <td>10003.0</td>\n",
              "      <td>2126777300</td>\n",
              "      <td>Mexican</td>\n",
              "      <td>05/09/2019</td>\n",
              "      <td>Violations were cited in the following area(s).</td>\n",
              "      <td>08B</td>\n",
              "      <td>Covered garbage receptacle not provided or ina...</td>\n",
              "      <td>N</td>\n",
              "      <td>12.0</td>\n",
              "      <td>A</td>\n",
              "      <td>05/09/2019</td>\n",
              "      <td>03/12/2021</td>\n",
              "      <td>Cycle Inspection / Initial Inspection</td>\n",
              "      <td>40.733656</td>\n",
              "      <td>-73.989864</td>\n",
              "      <td>103.0</td>\n",
              "      <td>2.0</td>\n",
              "      <td>4200.0</td>\n",
              "      <td>1077569.0</td>\n",
              "      <td>1.005590e+09</td>\n",
              "      <td>MN22</td>\n",
              "    </tr>\n",
              "    <tr>\n",
              "      <th>23190</th>\n",
              "      <td>41445110</td>\n",
              "      <td>DOS TOROS TAQUERIA</td>\n",
              "      <td>Manhattan</td>\n",
              "      <td>137</td>\n",
              "      <td>4 AVENUE</td>\n",
              "      <td>10003.0</td>\n",
              "      <td>2126777300</td>\n",
              "      <td>Mexican</td>\n",
              "      <td>06/20/2017</td>\n",
              "      <td>Violations were cited in the following area(s).</td>\n",
              "      <td>02G</td>\n",
              "      <td>Cold food item held above 41º F (smoked fish a...</td>\n",
              "      <td>Y</td>\n",
              "      <td>13.0</td>\n",
              "      <td>A</td>\n",
              "      <td>06/20/2017</td>\n",
              "      <td>03/12/2021</td>\n",
              "      <td>Cycle Inspection / Initial Inspection</td>\n",
              "      <td>40.733656</td>\n",
              "      <td>-73.989864</td>\n",
              "      <td>103.0</td>\n",
              "      <td>2.0</td>\n",
              "      <td>4200.0</td>\n",
              "      <td>1077569.0</td>\n",
              "      <td>1.005590e+09</td>\n",
              "      <td>MN22</td>\n",
              "    </tr>\n",
              "    <tr>\n",
              "      <th>42492</th>\n",
              "      <td>41445110</td>\n",
              "      <td>DOS TOROS TAQUERIA</td>\n",
              "      <td>Manhattan</td>\n",
              "      <td>137</td>\n",
              "      <td>4 AVENUE</td>\n",
              "      <td>10003.0</td>\n",
              "      <td>2126777300</td>\n",
              "      <td>Mexican</td>\n",
              "      <td>05/09/2019</td>\n",
              "      <td>Violations were cited in the following area(s).</td>\n",
              "      <td>02I</td>\n",
              "      <td>Food prepared from ingredients at ambient temp...</td>\n",
              "      <td>Y</td>\n",
              "      <td>12.0</td>\n",
              "      <td>A</td>\n",
              "      <td>05/09/2019</td>\n",
              "      <td>03/12/2021</td>\n",
              "      <td>Cycle Inspection / Initial Inspection</td>\n",
              "      <td>40.733656</td>\n",
              "      <td>-73.989864</td>\n",
              "      <td>103.0</td>\n",
              "      <td>2.0</td>\n",
              "      <td>4200.0</td>\n",
              "      <td>1077569.0</td>\n",
              "      <td>1.005590e+09</td>\n",
              "      <td>MN22</td>\n",
              "    </tr>\n",
              "    <tr>\n",
              "      <th>105086</th>\n",
              "      <td>41445110</td>\n",
              "      <td>DOS TOROS TAQUERIA</td>\n",
              "      <td>Manhattan</td>\n",
              "      <td>137</td>\n",
              "      <td>4 AVENUE</td>\n",
              "      <td>10003.0</td>\n",
              "      <td>2126777300</td>\n",
              "      <td>Mexican</td>\n",
              "      <td>05/12/2016</td>\n",
              "      <td>Violations were cited in the following area(s).</td>\n",
              "      <td>06C</td>\n",
              "      <td>Food not protected from potential source of co...</td>\n",
              "      <td>Y</td>\n",
              "      <td>8.0</td>\n",
              "      <td>A</td>\n",
              "      <td>05/12/2016</td>\n",
              "      <td>03/12/2021</td>\n",
              "      <td>Cycle Inspection / Initial Inspection</td>\n",
              "      <td>40.733656</td>\n",
              "      <td>-73.989864</td>\n",
              "      <td>103.0</td>\n",
              "      <td>2.0</td>\n",
              "      <td>4200.0</td>\n",
              "      <td>1077569.0</td>\n",
              "      <td>1.005590e+09</td>\n",
              "      <td>MN22</td>\n",
              "    </tr>\n",
              "    <tr>\n",
              "      <th>134809</th>\n",
              "      <td>41445110</td>\n",
              "      <td>DOS TOROS TAQUERIA</td>\n",
              "      <td>Manhattan</td>\n",
              "      <td>137</td>\n",
              "      <td>4 AVENUE</td>\n",
              "      <td>10003.0</td>\n",
              "      <td>2126777300</td>\n",
              "      <td>Mexican</td>\n",
              "      <td>05/09/2019</td>\n",
              "      <td>Violations were cited in the following area(s).</td>\n",
              "      <td>06C</td>\n",
              "      <td>Food not protected from potential source of co...</td>\n",
              "      <td>Y</td>\n",
              "      <td>12.0</td>\n",
              "      <td>A</td>\n",
              "      <td>05/09/2019</td>\n",
              "      <td>03/12/2021</td>\n",
              "      <td>Cycle Inspection / Initial Inspection</td>\n",
              "      <td>40.733656</td>\n",
              "      <td>-73.989864</td>\n",
              "      <td>103.0</td>\n",
              "      <td>2.0</td>\n",
              "      <td>4200.0</td>\n",
              "      <td>1077569.0</td>\n",
              "      <td>1.005590e+09</td>\n",
              "      <td>MN22</td>\n",
              "    </tr>\n",
              "    <tr>\n",
              "      <th>170620</th>\n",
              "      <td>41445110</td>\n",
              "      <td>DOS TOROS TAQUERIA</td>\n",
              "      <td>Manhattan</td>\n",
              "      <td>137</td>\n",
              "      <td>4 AVENUE</td>\n",
              "      <td>10003.0</td>\n",
              "      <td>2126777300</td>\n",
              "      <td>Mexican</td>\n",
              "      <td>05/24/2018</td>\n",
              "      <td>Violations were cited in the following area(s).</td>\n",
              "      <td>10I</td>\n",
              "      <td>Single service item reused, improperly stored,...</td>\n",
              "      <td>N</td>\n",
              "      <td>6.0</td>\n",
              "      <td>A</td>\n",
              "      <td>05/24/2018</td>\n",
              "      <td>03/12/2021</td>\n",
              "      <td>Cycle Inspection / Initial Inspection</td>\n",
              "      <td>40.733656</td>\n",
              "      <td>-73.989864</td>\n",
              "      <td>103.0</td>\n",
              "      <td>2.0</td>\n",
              "      <td>4200.0</td>\n",
              "      <td>1077569.0</td>\n",
              "      <td>1.005590e+09</td>\n",
              "      <td>MN22</td>\n",
              "    </tr>\n",
              "    <tr>\n",
              "      <th>185183</th>\n",
              "      <td>41445110</td>\n",
              "      <td>DOS TOROS TAQUERIA</td>\n",
              "      <td>Manhattan</td>\n",
              "      <td>137</td>\n",
              "      <td>4 AVENUE</td>\n",
              "      <td>10003.0</td>\n",
              "      <td>2126777300</td>\n",
              "      <td>Mexican</td>\n",
              "      <td>05/12/2016</td>\n",
              "      <td>Violations were cited in the following area(s).</td>\n",
              "      <td>15I</td>\n",
              "      <td>\"\"No Smoking” and/or 'Smoking Permitted” sign ...</td>\n",
              "      <td>N</td>\n",
              "      <td>NaN</td>\n",
              "      <td>NaN</td>\n",
              "      <td>NaN</td>\n",
              "      <td>03/12/2021</td>\n",
              "      <td>Smoke-Free Air Act / Initial Inspection</td>\n",
              "      <td>40.733656</td>\n",
              "      <td>-73.989864</td>\n",
              "      <td>103.0</td>\n",
              "      <td>2.0</td>\n",
              "      <td>4200.0</td>\n",
              "      <td>1077569.0</td>\n",
              "      <td>1.005590e+09</td>\n",
              "      <td>MN22</td>\n",
              "    </tr>\n",
              "    <tr>\n",
              "      <th>322993</th>\n",
              "      <td>41445110</td>\n",
              "      <td>DOS TOROS TAQUERIA</td>\n",
              "      <td>Manhattan</td>\n",
              "      <td>137</td>\n",
              "      <td>4 AVENUE</td>\n",
              "      <td>10003.0</td>\n",
              "      <td>2126777300</td>\n",
              "      <td>Mexican</td>\n",
              "      <td>05/24/2018</td>\n",
              "      <td>Violations were cited in the following area(s).</td>\n",
              "      <td>10F</td>\n",
              "      <td>Non-food contact surface improperly constructe...</td>\n",
              "      <td>N</td>\n",
              "      <td>6.0</td>\n",
              "      <td>A</td>\n",
              "      <td>05/24/2018</td>\n",
              "      <td>03/12/2021</td>\n",
              "      <td>Cycle Inspection / Initial Inspection</td>\n",
              "      <td>40.733656</td>\n",
              "      <td>-73.989864</td>\n",
              "      <td>103.0</td>\n",
              "      <td>2.0</td>\n",
              "      <td>4200.0</td>\n",
              "      <td>1077569.0</td>\n",
              "      <td>1.005590e+09</td>\n",
              "      <td>MN22</td>\n",
              "    </tr>\n",
              "    <tr>\n",
              "      <th>336198</th>\n",
              "      <td>41445110</td>\n",
              "      <td>DOS TOROS TAQUERIA</td>\n",
              "      <td>Manhattan</td>\n",
              "      <td>137</td>\n",
              "      <td>4 AVENUE</td>\n",
              "      <td>10003.0</td>\n",
              "      <td>2126777300</td>\n",
              "      <td>Mexican</td>\n",
              "      <td>05/12/2016</td>\n",
              "      <td>Violations were cited in the following area(s).</td>\n",
              "      <td>15L</td>\n",
              "      <td>Smoke free workplace smoking policy inadequate...</td>\n",
              "      <td>N</td>\n",
              "      <td>NaN</td>\n",
              "      <td>NaN</td>\n",
              "      <td>NaN</td>\n",
              "      <td>03/12/2021</td>\n",
              "      <td>Smoke-Free Air Act / Initial Inspection</td>\n",
              "      <td>40.733656</td>\n",
              "      <td>-73.989864</td>\n",
              "      <td>103.0</td>\n",
              "      <td>2.0</td>\n",
              "      <td>4200.0</td>\n",
              "      <td>1077569.0</td>\n",
              "      <td>1.005590e+09</td>\n",
              "      <td>MN22</td>\n",
              "    </tr>\n",
              "    <tr>\n",
              "      <th>364654</th>\n",
              "      <td>41445110</td>\n",
              "      <td>DOS TOROS TAQUERIA</td>\n",
              "      <td>Manhattan</td>\n",
              "      <td>137</td>\n",
              "      <td>4 AVENUE</td>\n",
              "      <td>10003.0</td>\n",
              "      <td>2126777300</td>\n",
              "      <td>Mexican</td>\n",
              "      <td>06/20/2017</td>\n",
              "      <td>Violations were cited in the following area(s).</td>\n",
              "      <td>06A</td>\n",
              "      <td>Personal cleanliness inadequate. Outer garment...</td>\n",
              "      <td>Y</td>\n",
              "      <td>13.0</td>\n",
              "      <td>A</td>\n",
              "      <td>06/20/2017</td>\n",
              "      <td>03/12/2021</td>\n",
              "      <td>Cycle Inspection / Initial Inspection</td>\n",
              "      <td>40.733656</td>\n",
              "      <td>-73.989864</td>\n",
              "      <td>103.0</td>\n",
              "      <td>2.0</td>\n",
              "      <td>4200.0</td>\n",
              "      <td>1077569.0</td>\n",
              "      <td>1.005590e+09</td>\n",
              "      <td>MN22</td>\n",
              "    </tr>\n",
              "    <tr>\n",
              "      <th>389911</th>\n",
              "      <td>41445110</td>\n",
              "      <td>DOS TOROS TAQUERIA</td>\n",
              "      <td>Manhattan</td>\n",
              "      <td>137</td>\n",
              "      <td>4 AVENUE</td>\n",
              "      <td>10003.0</td>\n",
              "      <td>2126777300</td>\n",
              "      <td>Mexican</td>\n",
              "      <td>05/24/2018</td>\n",
              "      <td>Violations were cited in the following area(s).</td>\n",
              "      <td>10B</td>\n",
              "      <td>Plumbing not properly installed or maintained;...</td>\n",
              "      <td>N</td>\n",
              "      <td>6.0</td>\n",
              "      <td>A</td>\n",
              "      <td>05/24/2018</td>\n",
              "      <td>03/12/2021</td>\n",
              "      <td>Cycle Inspection / Initial Inspection</td>\n",
              "      <td>40.733656</td>\n",
              "      <td>-73.989864</td>\n",
              "      <td>103.0</td>\n",
              "      <td>2.0</td>\n",
              "      <td>4200.0</td>\n",
              "      <td>1077569.0</td>\n",
              "      <td>1.005590e+09</td>\n",
              "      <td>MN22</td>\n",
              "    </tr>\n",
              "  </tbody>\n",
              "</table>\n",
              "</div>"
            ],
            "text/plain": [
              "           camis                 dba       boro building    street  zipcode  \\\n",
              "11414   41445110  DOS TOROS TAQUERIA  Manhattan      137  4 AVENUE  10003.0   \n",
              "23190   41445110  DOS TOROS TAQUERIA  Manhattan      137  4 AVENUE  10003.0   \n",
              "42492   41445110  DOS TOROS TAQUERIA  Manhattan      137  4 AVENUE  10003.0   \n",
              "105086  41445110  DOS TOROS TAQUERIA  Manhattan      137  4 AVENUE  10003.0   \n",
              "134809  41445110  DOS TOROS TAQUERIA  Manhattan      137  4 AVENUE  10003.0   \n",
              "170620  41445110  DOS TOROS TAQUERIA  Manhattan      137  4 AVENUE  10003.0   \n",
              "185183  41445110  DOS TOROS TAQUERIA  Manhattan      137  4 AVENUE  10003.0   \n",
              "322993  41445110  DOS TOROS TAQUERIA  Manhattan      137  4 AVENUE  10003.0   \n",
              "336198  41445110  DOS TOROS TAQUERIA  Manhattan      137  4 AVENUE  10003.0   \n",
              "364654  41445110  DOS TOROS TAQUERIA  Manhattan      137  4 AVENUE  10003.0   \n",
              "389911  41445110  DOS TOROS TAQUERIA  Manhattan      137  4 AVENUE  10003.0   \n",
              "\n",
              "             phone cuisine_description inspection_date  \\\n",
              "11414   2126777300             Mexican      05/09/2019   \n",
              "23190   2126777300             Mexican      06/20/2017   \n",
              "42492   2126777300             Mexican      05/09/2019   \n",
              "105086  2126777300             Mexican      05/12/2016   \n",
              "134809  2126777300             Mexican      05/09/2019   \n",
              "170620  2126777300             Mexican      05/24/2018   \n",
              "185183  2126777300             Mexican      05/12/2016   \n",
              "322993  2126777300             Mexican      05/24/2018   \n",
              "336198  2126777300             Mexican      05/12/2016   \n",
              "364654  2126777300             Mexican      06/20/2017   \n",
              "389911  2126777300             Mexican      05/24/2018   \n",
              "\n",
              "                                                 action violation_code  \\\n",
              "11414   Violations were cited in the following area(s).            08B   \n",
              "23190   Violations were cited in the following area(s).            02G   \n",
              "42492   Violations were cited in the following area(s).            02I   \n",
              "105086  Violations were cited in the following area(s).            06C   \n",
              "134809  Violations were cited in the following area(s).            06C   \n",
              "170620  Violations were cited in the following area(s).            10I   \n",
              "185183  Violations were cited in the following area(s).            15I   \n",
              "322993  Violations were cited in the following area(s).            10F   \n",
              "336198  Violations were cited in the following area(s).            15L   \n",
              "364654  Violations were cited in the following area(s).            06A   \n",
              "389911  Violations were cited in the following area(s).            10B   \n",
              "\n",
              "                                    violation_description critical_flag  \\\n",
              "11414   Covered garbage receptacle not provided or ina...             N   \n",
              "23190   Cold food item held above 41º F (smoked fish a...             Y   \n",
              "42492   Food prepared from ingredients at ambient temp...             Y   \n",
              "105086  Food not protected from potential source of co...             Y   \n",
              "134809  Food not protected from potential source of co...             Y   \n",
              "170620  Single service item reused, improperly stored,...             N   \n",
              "185183  \"\"No Smoking” and/or 'Smoking Permitted” sign ...             N   \n",
              "322993  Non-food contact surface improperly constructe...             N   \n",
              "336198  Smoke free workplace smoking policy inadequate...             N   \n",
              "364654  Personal cleanliness inadequate. Outer garment...             Y   \n",
              "389911  Plumbing not properly installed or maintained;...             N   \n",
              "\n",
              "        score grade  grade_date record_date  \\\n",
              "11414    12.0     A  05/09/2019  03/12/2021   \n",
              "23190    13.0     A  06/20/2017  03/12/2021   \n",
              "42492    12.0     A  05/09/2019  03/12/2021   \n",
              "105086    8.0     A  05/12/2016  03/12/2021   \n",
              "134809   12.0     A  05/09/2019  03/12/2021   \n",
              "170620    6.0     A  05/24/2018  03/12/2021   \n",
              "185183    NaN   NaN         NaN  03/12/2021   \n",
              "322993    6.0     A  05/24/2018  03/12/2021   \n",
              "336198    NaN   NaN         NaN  03/12/2021   \n",
              "364654   13.0     A  06/20/2017  03/12/2021   \n",
              "389911    6.0     A  05/24/2018  03/12/2021   \n",
              "\n",
              "                                inspection_type   latitude  longitude  \\\n",
              "11414     Cycle Inspection / Initial Inspection  40.733656 -73.989864   \n",
              "23190     Cycle Inspection / Initial Inspection  40.733656 -73.989864   \n",
              "42492     Cycle Inspection / Initial Inspection  40.733656 -73.989864   \n",
              "105086    Cycle Inspection / Initial Inspection  40.733656 -73.989864   \n",
              "134809    Cycle Inspection / Initial Inspection  40.733656 -73.989864   \n",
              "170620    Cycle Inspection / Initial Inspection  40.733656 -73.989864   \n",
              "185183  Smoke-Free Air Act / Initial Inspection  40.733656 -73.989864   \n",
              "322993    Cycle Inspection / Initial Inspection  40.733656 -73.989864   \n",
              "336198  Smoke-Free Air Act / Initial Inspection  40.733656 -73.989864   \n",
              "364654    Cycle Inspection / Initial Inspection  40.733656 -73.989864   \n",
              "389911    Cycle Inspection / Initial Inspection  40.733656 -73.989864   \n",
              "\n",
              "        community_board  council_district  census_tract        bin  \\\n",
              "11414             103.0               2.0        4200.0  1077569.0   \n",
              "23190             103.0               2.0        4200.0  1077569.0   \n",
              "42492             103.0               2.0        4200.0  1077569.0   \n",
              "105086            103.0               2.0        4200.0  1077569.0   \n",
              "134809            103.0               2.0        4200.0  1077569.0   \n",
              "170620            103.0               2.0        4200.0  1077569.0   \n",
              "185183            103.0               2.0        4200.0  1077569.0   \n",
              "322993            103.0               2.0        4200.0  1077569.0   \n",
              "336198            103.0               2.0        4200.0  1077569.0   \n",
              "364654            103.0               2.0        4200.0  1077569.0   \n",
              "389911            103.0               2.0        4200.0  1077569.0   \n",
              "\n",
              "                 bbl   nta  \n",
              "11414   1.005590e+09  MN22  \n",
              "23190   1.005590e+09  MN22  \n",
              "42492   1.005590e+09  MN22  \n",
              "105086  1.005590e+09  MN22  \n",
              "134809  1.005590e+09  MN22  \n",
              "170620  1.005590e+09  MN22  \n",
              "185183  1.005590e+09  MN22  \n",
              "322993  1.005590e+09  MN22  \n",
              "336198  1.005590e+09  MN22  \n",
              "364654  1.005590e+09  MN22  \n",
              "389911  1.005590e+09  MN22  "
            ]
          },
          "metadata": {
            "tags": []
          },
          "execution_count": 47
        }
      ]
    },
    {
      "cell_type": "markdown",
      "metadata": {
        "id": "TppAX_cK4Jb3"
      },
      "source": [
        "Are there any features that might have a functional dependency, or even redundancy? Let's test it."
      ]
    },
    {
      "cell_type": "code",
      "metadata": {
        "id": "uvpui6uj4Jb4"
      },
      "source": [
        "def test_dependency(df, col1, col2):\n",
        "    '''Tests whether there is total redundancy betwen col1 and col2\n",
        "       by testing the number of unique combinations'''\n",
        "    unique_1 = len(df[col1].unique())\n",
        "    unique_2 = len(df[col2].unique())\n",
        "    unique_combos = len(df[[col1, col2]].drop_duplicates())\n",
        "    print(\"Unique values of {}: {}\".format(col1, unique_1))\n",
        "    print(\"Unique values of {}: {}\".format(col2, unique_2))\n",
        "    print(\"Unique combos of {} and {}: {}\".format(col1, col2, unique_combos))\n",
        "    return unique_combos == max(unique_1, unique_2)"
      ],
      "execution_count": null,
      "outputs": []
    },
    {
      "cell_type": "code",
      "metadata": {
        "id": "IFNkzf9J4Jb5",
        "colab": {
          "base_uri": "https://localhost:8080/"
        },
        "outputId": "358b13cb-ff48-4729-ea2d-bfbdc76cfc72"
      },
      "source": [
        "# Fill in some variables that you think might have functional dependencies\n",
        "test_dependency(inspections, 'violation_code', 'violation_description')"
      ],
      "execution_count": null,
      "outputs": [
        {
          "output_type": "stream",
          "text": [
            "Unique values of violation_code: 106\n",
            "Unique values of violation_description: 93\n",
            "Unique combos of violation_code and violation_description: 108\n"
          ],
          "name": "stdout"
        },
        {
          "output_type": "execute_result",
          "data": {
            "text/plain": [
              "False"
            ]
          },
          "metadata": {
            "tags": []
          },
          "execution_count": 49
        }
      ]
    },
    {
      "cell_type": "code",
      "metadata": {
        "colab": {
          "base_uri": "https://localhost:8080/"
        },
        "id": "A-vngOJsdssY",
        "outputId": "9f22049f-a72c-4e37-d8a4-48425e57867c"
      },
      "source": [
        "test_dependency(inspections, 'camis', 'dba')"
      ],
      "execution_count": null,
      "outputs": [
        {
          "output_type": "stream",
          "text": [
            "Unique values of camis: 29316\n",
            "Unique values of dba: 22730\n",
            "Unique combos of camis and dba: 29316\n"
          ],
          "name": "stdout"
        },
        {
          "output_type": "execute_result",
          "data": {
            "text/plain": [
              "True"
            ]
          },
          "metadata": {
            "tags": []
          },
          "execution_count": 50
        }
      ]
    },
    {
      "cell_type": "code",
      "metadata": {
        "id": "EODHRdqLeM6R",
        "colab": {
          "base_uri": "https://localhost:8080/"
        },
        "outputId": "57d344de-c735-4dcf-9373-c62a2673b791"
      },
      "source": [
        "# try your own variables here\n",
        "test_dependency(inspections, 'score', 'dba')"
      ],
      "execution_count": null,
      "outputs": [
        {
          "output_type": "stream",
          "text": [
            "Unique values of score: 137\n",
            "Unique values of dba: 22730\n",
            "Unique combos of score and dba: 111042\n"
          ],
          "name": "stdout"
        },
        {
          "output_type": "execute_result",
          "data": {
            "text/plain": [
              "False"
            ]
          },
          "metadata": {
            "tags": []
          },
          "execution_count": 54
        }
      ]
    },
    {
      "cell_type": "code",
      "metadata": {
        "id": "2Al8ayd1fF24",
        "colab": {
          "base_uri": "https://localhost:8080/"
        },
        "outputId": "b4c71083-369c-462a-84b8-3a33b864597c"
      },
      "source": [
        "# and try another pair of variables here\n",
        "test_dependency(inspections, 'violation_code', 'grade')"
      ],
      "execution_count": null,
      "outputs": [
        {
          "output_type": "stream",
          "text": [
            "Unique values of violation_code: 106\n",
            "Unique values of grade: 8\n",
            "Unique combos of violation_code and grade: 428\n"
          ],
          "name": "stdout"
        },
        {
          "output_type": "execute_result",
          "data": {
            "text/plain": [
              "False"
            ]
          },
          "metadata": {
            "tags": []
          },
          "execution_count": 55
        }
      ]
    },
    {
      "cell_type": "markdown",
      "metadata": {
        "id": "HnKktDhg4Jb7"
      },
      "source": [
        "## Step 3: Find a unique identifier "
      ]
    },
    {
      "cell_type": "markdown",
      "metadata": {
        "id": "HVab6Utp4Jb8"
      },
      "source": [
        "Let's start with CAMIS, because the documentation told us that it's a unique identifier for each restaurant. Is it a unique identifier for the dataset?"
      ]
    },
    {
      "cell_type": "code",
      "metadata": {
        "id": "inrvIltq4Jb8",
        "colab": {
          "base_uri": "https://localhost:8080/"
        },
        "outputId": "91231324-85ed-49fe-9d28-6f3dd333bc80"
      },
      "source": [
        "inspections.shape[0] == inspections.camis.nunique()"
      ],
      "execution_count": null,
      "outputs": [
        {
          "output_type": "execute_result",
          "data": {
            "text/plain": [
              "False"
            ]
          },
          "metadata": {
            "tags": []
          },
          "execution_count": 56
        }
      ]
    },
    {
      "cell_type": "markdown",
      "metadata": {
        "id": "E6-RoR8y4Jb9"
      },
      "source": [
        "Wow, we don't even know what \"level\" the data is at right now. Let's figure out what we *can* use as a unique identifier. "
      ]
    },
    {
      "cell_type": "code",
      "metadata": {
        "id": "_W8l3NBO4Jb-",
        "colab": {
          "base_uri": "https://localhost:8080/"
        },
        "outputId": "e033a91c-ca06-4829-9f5c-ddf4f97e7682"
      },
      "source": [
        "# First, is this even possible? Are the rows of our data unique?\n",
        "print(\"# of duplicates: \", sum(inspections.duplicated()))\n",
        "\n",
        "# No -- so let's drop these duplicates\n",
        "inspections = inspections.loc[~inspections.duplicated(), ]\n",
        "\n",
        "# Now we can search for a unique identifier"
      ],
      "execution_count": null,
      "outputs": [
        {
          "output_type": "stream",
          "text": [
            "# of duplicates:  1\n"
          ],
          "name": "stdout"
        }
      ]
    },
    {
      "cell_type": "code",
      "metadata": {
        "id": "bgvedib64JcA",
        "colab": {
          "base_uri": "https://localhost:8080/",
          "height": 1000
        },
        "outputId": "5ff48333-1dde-499d-dc06-e3a547aa5c32"
      },
      "source": [
        "# Test if these variables are a unique identifier\n",
        "possible_identifier = ['camis', 'inspection_date']\n",
        "print(\"# of duplicates: \",sum(inspections.duplicated(possible_identifier)))\n",
        "\n",
        "# Show some duplicates\n",
        "inspections.sort_values(possible_identifier, axis=0, inplace=True)\n",
        "inspections.loc[inspections.duplicated(possible_identifier, keep=False), ].head(10)\n"
      ],
      "execution_count": null,
      "outputs": [
        {
          "output_type": "stream",
          "text": [
            "# of duplicates:  258644\n"
          ],
          "name": "stdout"
        },
        {
          "output_type": "stream",
          "text": [
            "/usr/local/lib/python3.7/dist-packages/ipykernel_launcher.py:6: SettingWithCopyWarning: \n",
            "A value is trying to be set on a copy of a slice from a DataFrame\n",
            "\n",
            "See the caveats in the documentation: https://pandas.pydata.org/pandas-docs/stable/user_guide/indexing.html#returning-a-view-versus-a-copy\n",
            "  \n"
          ],
          "name": "stderr"
        },
        {
          "output_type": "execute_result",
          "data": {
            "text/html": [
              "<div>\n",
              "<style scoped>\n",
              "    .dataframe tbody tr th:only-of-type {\n",
              "        vertical-align: middle;\n",
              "    }\n",
              "\n",
              "    .dataframe tbody tr th {\n",
              "        vertical-align: top;\n",
              "    }\n",
              "\n",
              "    .dataframe thead th {\n",
              "        text-align: right;\n",
              "    }\n",
              "</style>\n",
              "<table border=\"1\" class=\"dataframe\">\n",
              "  <thead>\n",
              "    <tr style=\"text-align: right;\">\n",
              "      <th></th>\n",
              "      <th>camis</th>\n",
              "      <th>dba</th>\n",
              "      <th>boro</th>\n",
              "      <th>building</th>\n",
              "      <th>street</th>\n",
              "      <th>zipcode</th>\n",
              "      <th>phone</th>\n",
              "      <th>cuisine_description</th>\n",
              "      <th>inspection_date</th>\n",
              "      <th>action</th>\n",
              "      <th>violation_code</th>\n",
              "      <th>violation_description</th>\n",
              "      <th>critical_flag</th>\n",
              "      <th>score</th>\n",
              "      <th>grade</th>\n",
              "      <th>grade_date</th>\n",
              "      <th>record_date</th>\n",
              "      <th>inspection_type</th>\n",
              "      <th>latitude</th>\n",
              "      <th>longitude</th>\n",
              "      <th>community_board</th>\n",
              "      <th>council_district</th>\n",
              "      <th>census_tract</th>\n",
              "      <th>bin</th>\n",
              "      <th>bbl</th>\n",
              "      <th>nta</th>\n",
              "    </tr>\n",
              "  </thead>\n",
              "  <tbody>\n",
              "    <tr>\n",
              "      <th>25293</th>\n",
              "      <td>30075445</td>\n",
              "      <td>MORRIS PARK BAKE SHOP</td>\n",
              "      <td>Bronx</td>\n",
              "      <td>1007</td>\n",
              "      <td>MORRIS PARK AVENUE</td>\n",
              "      <td>10462.0</td>\n",
              "      <td>7188924968</td>\n",
              "      <td>Cakes, Cupcakes, Desserts</td>\n",
              "      <td>05/11/2018</td>\n",
              "      <td>Violations were cited in the following area(s).</td>\n",
              "      <td>10F</td>\n",
              "      <td>Non-food contact surface improperly constructe...</td>\n",
              "      <td>N</td>\n",
              "      <td>5.0</td>\n",
              "      <td>A</td>\n",
              "      <td>05/11/2018</td>\n",
              "      <td>03/12/2021</td>\n",
              "      <td>Cycle Inspection / Initial Inspection</td>\n",
              "      <td>40.848231</td>\n",
              "      <td>-73.855972</td>\n",
              "      <td>211.0</td>\n",
              "      <td>13.0</td>\n",
              "      <td>25200.0</td>\n",
              "      <td>2045445.0</td>\n",
              "      <td>2.041270e+09</td>\n",
              "      <td>BX37</td>\n",
              "    </tr>\n",
              "    <tr>\n",
              "      <th>351691</th>\n",
              "      <td>30075445</td>\n",
              "      <td>MORRIS PARK BAKE SHOP</td>\n",
              "      <td>Bronx</td>\n",
              "      <td>1007</td>\n",
              "      <td>MORRIS PARK AVENUE</td>\n",
              "      <td>10462.0</td>\n",
              "      <td>7188924968</td>\n",
              "      <td>Cakes, Cupcakes, Desserts</td>\n",
              "      <td>05/11/2018</td>\n",
              "      <td>Violations were cited in the following area(s).</td>\n",
              "      <td>08C</td>\n",
              "      <td>Pesticide use not in accordance with label or ...</td>\n",
              "      <td>N</td>\n",
              "      <td>5.0</td>\n",
              "      <td>A</td>\n",
              "      <td>05/11/2018</td>\n",
              "      <td>03/12/2021</td>\n",
              "      <td>Cycle Inspection / Initial Inspection</td>\n",
              "      <td>40.848231</td>\n",
              "      <td>-73.855972</td>\n",
              "      <td>211.0</td>\n",
              "      <td>13.0</td>\n",
              "      <td>25200.0</td>\n",
              "      <td>2045445.0</td>\n",
              "      <td>2.041270e+09</td>\n",
              "      <td>BX37</td>\n",
              "    </tr>\n",
              "    <tr>\n",
              "      <th>104446</th>\n",
              "      <td>30075445</td>\n",
              "      <td>MORRIS PARK BAKE SHOP</td>\n",
              "      <td>Bronx</td>\n",
              "      <td>1007</td>\n",
              "      <td>MORRIS PARK AVENUE</td>\n",
              "      <td>10462.0</td>\n",
              "      <td>7188924968</td>\n",
              "      <td>Cakes, Cupcakes, Desserts</td>\n",
              "      <td>05/16/2019</td>\n",
              "      <td>Violations were cited in the following area(s).</td>\n",
              "      <td>04L</td>\n",
              "      <td>Evidence of mice or live mice present in facil...</td>\n",
              "      <td>Y</td>\n",
              "      <td>14.0</td>\n",
              "      <td>NaN</td>\n",
              "      <td>NaN</td>\n",
              "      <td>03/12/2021</td>\n",
              "      <td>Cycle Inspection / Initial Inspection</td>\n",
              "      <td>40.848231</td>\n",
              "      <td>-73.855972</td>\n",
              "      <td>211.0</td>\n",
              "      <td>13.0</td>\n",
              "      <td>25200.0</td>\n",
              "      <td>2045445.0</td>\n",
              "      <td>2.041270e+09</td>\n",
              "      <td>BX37</td>\n",
              "    </tr>\n",
              "    <tr>\n",
              "      <th>109471</th>\n",
              "      <td>30075445</td>\n",
              "      <td>MORRIS PARK BAKE SHOP</td>\n",
              "      <td>Bronx</td>\n",
              "      <td>1007</td>\n",
              "      <td>MORRIS PARK AVENUE</td>\n",
              "      <td>10462.0</td>\n",
              "      <td>7188924968</td>\n",
              "      <td>Cakes, Cupcakes, Desserts</td>\n",
              "      <td>05/16/2019</td>\n",
              "      <td>Violations were cited in the following area(s).</td>\n",
              "      <td>08A</td>\n",
              "      <td>Facility not vermin proof. Harborage or condit...</td>\n",
              "      <td>N</td>\n",
              "      <td>14.0</td>\n",
              "      <td>NaN</td>\n",
              "      <td>NaN</td>\n",
              "      <td>03/12/2021</td>\n",
              "      <td>Cycle Inspection / Initial Inspection</td>\n",
              "      <td>40.848231</td>\n",
              "      <td>-73.855972</td>\n",
              "      <td>211.0</td>\n",
              "      <td>13.0</td>\n",
              "      <td>25200.0</td>\n",
              "      <td>2045445.0</td>\n",
              "      <td>2.041270e+09</td>\n",
              "      <td>BX37</td>\n",
              "    </tr>\n",
              "    <tr>\n",
              "      <th>352208</th>\n",
              "      <td>30075445</td>\n",
              "      <td>MORRIS PARK BAKE SHOP</td>\n",
              "      <td>Bronx</td>\n",
              "      <td>1007</td>\n",
              "      <td>MORRIS PARK AVENUE</td>\n",
              "      <td>10462.0</td>\n",
              "      <td>7188924968</td>\n",
              "      <td>Cakes, Cupcakes, Desserts</td>\n",
              "      <td>05/16/2019</td>\n",
              "      <td>Violations were cited in the following area(s).</td>\n",
              "      <td>10F</td>\n",
              "      <td>Non-food contact surface improperly constructe...</td>\n",
              "      <td>N</td>\n",
              "      <td>14.0</td>\n",
              "      <td>NaN</td>\n",
              "      <td>NaN</td>\n",
              "      <td>03/12/2021</td>\n",
              "      <td>Cycle Inspection / Initial Inspection</td>\n",
              "      <td>40.848231</td>\n",
              "      <td>-73.855972</td>\n",
              "      <td>211.0</td>\n",
              "      <td>13.0</td>\n",
              "      <td>25200.0</td>\n",
              "      <td>2045445.0</td>\n",
              "      <td>2.041270e+09</td>\n",
              "      <td>BX37</td>\n",
              "    </tr>\n",
              "    <tr>\n",
              "      <th>96724</th>\n",
              "      <td>30075445</td>\n",
              "      <td>MORRIS PARK BAKE SHOP</td>\n",
              "      <td>Bronx</td>\n",
              "      <td>1007</td>\n",
              "      <td>MORRIS PARK AVENUE</td>\n",
              "      <td>10462.0</td>\n",
              "      <td>7188924968</td>\n",
              "      <td>Cakes, Cupcakes, Desserts</td>\n",
              "      <td>05/18/2017</td>\n",
              "      <td>Violations were cited in the following area(s).</td>\n",
              "      <td>06D</td>\n",
              "      <td>Food contact surface not properly washed, rins...</td>\n",
              "      <td>Y</td>\n",
              "      <td>7.0</td>\n",
              "      <td>A</td>\n",
              "      <td>05/18/2017</td>\n",
              "      <td>03/12/2021</td>\n",
              "      <td>Cycle Inspection / Initial Inspection</td>\n",
              "      <td>40.848231</td>\n",
              "      <td>-73.855972</td>\n",
              "      <td>211.0</td>\n",
              "      <td>13.0</td>\n",
              "      <td>25200.0</td>\n",
              "      <td>2045445.0</td>\n",
              "      <td>2.041270e+09</td>\n",
              "      <td>BX37</td>\n",
              "    </tr>\n",
              "    <tr>\n",
              "      <th>258087</th>\n",
              "      <td>30075445</td>\n",
              "      <td>MORRIS PARK BAKE SHOP</td>\n",
              "      <td>Bronx</td>\n",
              "      <td>1007</td>\n",
              "      <td>MORRIS PARK AVENUE</td>\n",
              "      <td>10462.0</td>\n",
              "      <td>7188924968</td>\n",
              "      <td>Cakes, Cupcakes, Desserts</td>\n",
              "      <td>05/18/2017</td>\n",
              "      <td>Violations were cited in the following area(s).</td>\n",
              "      <td>10F</td>\n",
              "      <td>Non-food contact surface improperly constructe...</td>\n",
              "      <td>N</td>\n",
              "      <td>7.0</td>\n",
              "      <td>A</td>\n",
              "      <td>05/18/2017</td>\n",
              "      <td>03/12/2021</td>\n",
              "      <td>Cycle Inspection / Initial Inspection</td>\n",
              "      <td>40.848231</td>\n",
              "      <td>-73.855972</td>\n",
              "      <td>211.0</td>\n",
              "      <td>13.0</td>\n",
              "      <td>25200.0</td>\n",
              "      <td>2045445.0</td>\n",
              "      <td>2.041270e+09</td>\n",
              "      <td>BX37</td>\n",
              "    </tr>\n",
              "    <tr>\n",
              "      <th>25092</th>\n",
              "      <td>30075445</td>\n",
              "      <td>MORRIS PARK BAKE SHOP</td>\n",
              "      <td>Bronx</td>\n",
              "      <td>1007</td>\n",
              "      <td>MORRIS PARK AVENUE</td>\n",
              "      <td>10462.0</td>\n",
              "      <td>7188924968</td>\n",
              "      <td>Cakes, Cupcakes, Desserts</td>\n",
              "      <td>06/11/2019</td>\n",
              "      <td>Violations were cited in the following area(s).</td>\n",
              "      <td>10F</td>\n",
              "      <td>Non-food contact surface improperly constructe...</td>\n",
              "      <td>N</td>\n",
              "      <td>6.0</td>\n",
              "      <td>A</td>\n",
              "      <td>06/11/2019</td>\n",
              "      <td>03/12/2021</td>\n",
              "      <td>Cycle Inspection / Re-inspection</td>\n",
              "      <td>40.848231</td>\n",
              "      <td>-73.855972</td>\n",
              "      <td>211.0</td>\n",
              "      <td>13.0</td>\n",
              "      <td>25200.0</td>\n",
              "      <td>2045445.0</td>\n",
              "      <td>2.041270e+09</td>\n",
              "      <td>BX37</td>\n",
              "    </tr>\n",
              "    <tr>\n",
              "      <th>292125</th>\n",
              "      <td>30075445</td>\n",
              "      <td>MORRIS PARK BAKE SHOP</td>\n",
              "      <td>Bronx</td>\n",
              "      <td>1007</td>\n",
              "      <td>MORRIS PARK AVENUE</td>\n",
              "      <td>10462.0</td>\n",
              "      <td>7188924968</td>\n",
              "      <td>Cakes, Cupcakes, Desserts</td>\n",
              "      <td>06/11/2019</td>\n",
              "      <td>Violations were cited in the following area(s).</td>\n",
              "      <td>08C</td>\n",
              "      <td>Pesticide use not in accordance with label or ...</td>\n",
              "      <td>N</td>\n",
              "      <td>6.0</td>\n",
              "      <td>A</td>\n",
              "      <td>06/11/2019</td>\n",
              "      <td>03/12/2021</td>\n",
              "      <td>Cycle Inspection / Re-inspection</td>\n",
              "      <td>40.848231</td>\n",
              "      <td>-73.855972</td>\n",
              "      <td>211.0</td>\n",
              "      <td>13.0</td>\n",
              "      <td>25200.0</td>\n",
              "      <td>2045445.0</td>\n",
              "      <td>2.041270e+09</td>\n",
              "      <td>BX37</td>\n",
              "    </tr>\n",
              "    <tr>\n",
              "      <th>381224</th>\n",
              "      <td>30075445</td>\n",
              "      <td>MORRIS PARK BAKE SHOP</td>\n",
              "      <td>Bronx</td>\n",
              "      <td>1007</td>\n",
              "      <td>MORRIS PARK AVENUE</td>\n",
              "      <td>10462.0</td>\n",
              "      <td>7188924968</td>\n",
              "      <td>Cakes, Cupcakes, Desserts</td>\n",
              "      <td>06/11/2019</td>\n",
              "      <td>Violations were cited in the following area(s).</td>\n",
              "      <td>10B</td>\n",
              "      <td>Plumbing not properly installed or maintained;...</td>\n",
              "      <td>N</td>\n",
              "      <td>6.0</td>\n",
              "      <td>A</td>\n",
              "      <td>06/11/2019</td>\n",
              "      <td>03/12/2021</td>\n",
              "      <td>Cycle Inspection / Re-inspection</td>\n",
              "      <td>40.848231</td>\n",
              "      <td>-73.855972</td>\n",
              "      <td>211.0</td>\n",
              "      <td>13.0</td>\n",
              "      <td>25200.0</td>\n",
              "      <td>2045445.0</td>\n",
              "      <td>2.041270e+09</td>\n",
              "      <td>BX37</td>\n",
              "    </tr>\n",
              "  </tbody>\n",
              "</table>\n",
              "</div>"
            ],
            "text/plain": [
              "           camis                    dba   boro building              street  \\\n",
              "25293   30075445  MORRIS PARK BAKE SHOP  Bronx     1007  MORRIS PARK AVENUE   \n",
              "351691  30075445  MORRIS PARK BAKE SHOP  Bronx     1007  MORRIS PARK AVENUE   \n",
              "104446  30075445  MORRIS PARK BAKE SHOP  Bronx     1007  MORRIS PARK AVENUE   \n",
              "109471  30075445  MORRIS PARK BAKE SHOP  Bronx     1007  MORRIS PARK AVENUE   \n",
              "352208  30075445  MORRIS PARK BAKE SHOP  Bronx     1007  MORRIS PARK AVENUE   \n",
              "96724   30075445  MORRIS PARK BAKE SHOP  Bronx     1007  MORRIS PARK AVENUE   \n",
              "258087  30075445  MORRIS PARK BAKE SHOP  Bronx     1007  MORRIS PARK AVENUE   \n",
              "25092   30075445  MORRIS PARK BAKE SHOP  Bronx     1007  MORRIS PARK AVENUE   \n",
              "292125  30075445  MORRIS PARK BAKE SHOP  Bronx     1007  MORRIS PARK AVENUE   \n",
              "381224  30075445  MORRIS PARK BAKE SHOP  Bronx     1007  MORRIS PARK AVENUE   \n",
              "\n",
              "        zipcode       phone        cuisine_description inspection_date  \\\n",
              "25293   10462.0  7188924968  Cakes, Cupcakes, Desserts      05/11/2018   \n",
              "351691  10462.0  7188924968  Cakes, Cupcakes, Desserts      05/11/2018   \n",
              "104446  10462.0  7188924968  Cakes, Cupcakes, Desserts      05/16/2019   \n",
              "109471  10462.0  7188924968  Cakes, Cupcakes, Desserts      05/16/2019   \n",
              "352208  10462.0  7188924968  Cakes, Cupcakes, Desserts      05/16/2019   \n",
              "96724   10462.0  7188924968  Cakes, Cupcakes, Desserts      05/18/2017   \n",
              "258087  10462.0  7188924968  Cakes, Cupcakes, Desserts      05/18/2017   \n",
              "25092   10462.0  7188924968  Cakes, Cupcakes, Desserts      06/11/2019   \n",
              "292125  10462.0  7188924968  Cakes, Cupcakes, Desserts      06/11/2019   \n",
              "381224  10462.0  7188924968  Cakes, Cupcakes, Desserts      06/11/2019   \n",
              "\n",
              "                                                 action violation_code  \\\n",
              "25293   Violations were cited in the following area(s).            10F   \n",
              "351691  Violations were cited in the following area(s).            08C   \n",
              "104446  Violations were cited in the following area(s).            04L   \n",
              "109471  Violations were cited in the following area(s).            08A   \n",
              "352208  Violations were cited in the following area(s).            10F   \n",
              "96724   Violations were cited in the following area(s).            06D   \n",
              "258087  Violations were cited in the following area(s).            10F   \n",
              "25092   Violations were cited in the following area(s).            10F   \n",
              "292125  Violations were cited in the following area(s).            08C   \n",
              "381224  Violations were cited in the following area(s).            10B   \n",
              "\n",
              "                                    violation_description critical_flag  \\\n",
              "25293   Non-food contact surface improperly constructe...             N   \n",
              "351691  Pesticide use not in accordance with label or ...             N   \n",
              "104446  Evidence of mice or live mice present in facil...             Y   \n",
              "109471  Facility not vermin proof. Harborage or condit...             N   \n",
              "352208  Non-food contact surface improperly constructe...             N   \n",
              "96724   Food contact surface not properly washed, rins...             Y   \n",
              "258087  Non-food contact surface improperly constructe...             N   \n",
              "25092   Non-food contact surface improperly constructe...             N   \n",
              "292125  Pesticide use not in accordance with label or ...             N   \n",
              "381224  Plumbing not properly installed or maintained;...             N   \n",
              "\n",
              "        score grade  grade_date record_date  \\\n",
              "25293     5.0     A  05/11/2018  03/12/2021   \n",
              "351691    5.0     A  05/11/2018  03/12/2021   \n",
              "104446   14.0   NaN         NaN  03/12/2021   \n",
              "109471   14.0   NaN         NaN  03/12/2021   \n",
              "352208   14.0   NaN         NaN  03/12/2021   \n",
              "96724     7.0     A  05/18/2017  03/12/2021   \n",
              "258087    7.0     A  05/18/2017  03/12/2021   \n",
              "25092     6.0     A  06/11/2019  03/12/2021   \n",
              "292125    6.0     A  06/11/2019  03/12/2021   \n",
              "381224    6.0     A  06/11/2019  03/12/2021   \n",
              "\n",
              "                              inspection_type   latitude  longitude  \\\n",
              "25293   Cycle Inspection / Initial Inspection  40.848231 -73.855972   \n",
              "351691  Cycle Inspection / Initial Inspection  40.848231 -73.855972   \n",
              "104446  Cycle Inspection / Initial Inspection  40.848231 -73.855972   \n",
              "109471  Cycle Inspection / Initial Inspection  40.848231 -73.855972   \n",
              "352208  Cycle Inspection / Initial Inspection  40.848231 -73.855972   \n",
              "96724   Cycle Inspection / Initial Inspection  40.848231 -73.855972   \n",
              "258087  Cycle Inspection / Initial Inspection  40.848231 -73.855972   \n",
              "25092        Cycle Inspection / Re-inspection  40.848231 -73.855972   \n",
              "292125       Cycle Inspection / Re-inspection  40.848231 -73.855972   \n",
              "381224       Cycle Inspection / Re-inspection  40.848231 -73.855972   \n",
              "\n",
              "        community_board  council_district  census_tract        bin  \\\n",
              "25293             211.0              13.0       25200.0  2045445.0   \n",
              "351691            211.0              13.0       25200.0  2045445.0   \n",
              "104446            211.0              13.0       25200.0  2045445.0   \n",
              "109471            211.0              13.0       25200.0  2045445.0   \n",
              "352208            211.0              13.0       25200.0  2045445.0   \n",
              "96724             211.0              13.0       25200.0  2045445.0   \n",
              "258087            211.0              13.0       25200.0  2045445.0   \n",
              "25092             211.0              13.0       25200.0  2045445.0   \n",
              "292125            211.0              13.0       25200.0  2045445.0   \n",
              "381224            211.0              13.0       25200.0  2045445.0   \n",
              "\n",
              "                 bbl   nta  \n",
              "25293   2.041270e+09  BX37  \n",
              "351691  2.041270e+09  BX37  \n",
              "104446  2.041270e+09  BX37  \n",
              "109471  2.041270e+09  BX37  \n",
              "352208  2.041270e+09  BX37  \n",
              "96724   2.041270e+09  BX37  \n",
              "258087  2.041270e+09  BX37  \n",
              "25092   2.041270e+09  BX37  \n",
              "292125  2.041270e+09  BX37  \n",
              "381224  2.041270e+09  BX37  "
            ]
          },
          "metadata": {
            "tags": []
          },
          "execution_count": 58
        }
      ]
    },
    {
      "cell_type": "markdown",
      "metadata": {
        "id": "onNOIM-r4JcB"
      },
      "source": [
        "Without a domain expert right at hand, we can't resolve some of these duplicates for the purposes of our analysis. Because the total number is small, we can drop them. However, the appropriateness of dropping duplicates will vary from case to case. \n",
        "\n",
        "Can you think of an example where it would be inappropriate to drop duplicates?"
      ]
    },
    {
      "cell_type": "code",
      "metadata": {
        "id": "bkrbo2Ma4JcC"
      },
      "source": [
        "# Drop the duplicates we can't resolve \n",
        "unique_id =  ['camis', 'inspection_date', 'violation_code', 'inspection_type']\n",
        "inspections = inspections.loc[~inspections.duplicated(unique_id), ]\n",
        "assert sum(inspections.duplicated(unique_id)==0)"
      ],
      "execution_count": null,
      "outputs": []
    },
    {
      "cell_type": "markdown",
      "metadata": {
        "id": "Ix1MvlQ14JcE"
      },
      "source": [
        "That's probably not the level we want to do our analysis at, though: we want one record for every inspection of every restaurant, because that's the level at which grades get assigned. (For example, you don't get a letter grade for not having roaches -- you get a letter grade for the total of all the violations)\n",
        "\n",
        "Do we really want the data at this level though? \n",
        "\n",
        "Let's try to understand more about inspection types."
      ]
    },
    {
      "cell_type": "code",
      "metadata": {
        "id": "dNJ9Btxo4JcF",
        "colab": {
          "base_uri": "https://localhost:8080/"
        },
        "outputId": "8b1d3ae7-7691-48b6-d16c-2d6746ab9294"
      },
      "source": [
        "inspections.inspection_type.value_counts()"
      ],
      "execution_count": null,
      "outputs": [
        {
          "output_type": "execute_result",
          "data": {
            "text/plain": [
              "Cycle Inspection / Initial Inspection                          230305\n",
              "Cycle Inspection / Re-inspection                                94227\n",
              "Pre-permit (Operational) / Initial Inspection                   27949\n",
              "Pre-permit (Operational) / Re-inspection                        12040\n",
              "Administrative Miscellaneous / Initial Inspection                7344\n",
              "Cycle Inspection / Reopening Inspection                          4336\n",
              "Pre-permit (Non-operational) / Initial Inspection                3281\n",
              "Smoke-Free Air Act / Initial Inspection                          1947\n",
              "Administrative Miscellaneous / Re-inspection                     1946\n",
              "Trans Fat / Initial Inspection                                   1505\n",
              "Pre-permit (Operational) / Compliance Inspection                 1250\n",
              "Calorie Posting / Initial Inspection                             1109\n",
              "Inter-Agency Task Force / Initial Inspection                     1067\n",
              "Pre-permit (Operational) / Reopening Inspection                  1053\n",
              "Cycle Inspection / Compliance Inspection                          709\n",
              "Smoke-Free Air Act / Re-inspection                                445\n",
              "Trans Fat / Re-inspection                                         323\n",
              "Pre-permit (Non-operational) / Re-inspection                      292\n",
              "Calorie Posting / Re-inspection                                   216\n",
              "Administrative Miscellaneous / Compliance Inspection              113\n",
              "Pre-permit (Operational) / Second Compliance Inspection            97\n",
              "Administrative Miscellaneous / Reopening Inspection                90\n",
              "Smoke-Free Air Act / Limited Inspection                            31\n",
              "Pre-permit (Non-operational) / Compliance Inspection               29\n",
              "Trans Fat / Compliance Inspection                                  23\n",
              "Calorie Posting / Compliance Inspection                            15\n",
              "Administrative Miscellaneous / Second Compliance Inspection        14\n",
              "Cycle Inspection / Second Compliance Inspection                    14\n",
              "Smoke-Free Air Act / Compliance Inspection                          9\n",
              "Trans Fat / Second Compliance Inspection                            3\n",
              "Pre-permit (Non-operational) / Second Compliance Inspection         1\n",
              "Name: inspection_type, dtype: int64"
            ]
          },
          "metadata": {
            "tags": []
          },
          "execution_count": 60
        }
      ]
    },
    {
      "cell_type": "code",
      "metadata": {
        "id": "iFevfoiW4JcG",
        "colab": {
          "base_uri": "https://localhost:8080/"
        },
        "outputId": "4ddabaa6-2277-4606-ef92-08432658d94b"
      },
      "source": [
        "# Are all of these inspections similar with respect to the things we care about?\n",
        "# That is, do all inspeciton types end with a grade that gets posted out on the window?\n",
        "inspections.loc[inspections.grade.notna(), \"inspection_type\"].value_counts()"
      ],
      "execution_count": null,
      "outputs": [
        {
          "output_type": "execute_result",
          "data": {
            "text/plain": [
              "Cycle Inspection / Re-inspection                        90912\n",
              "Cycle Inspection / Initial Inspection                   82692\n",
              "Pre-permit (Operational) / Re-inspection                11472\n",
              "Pre-permit (Operational) / Initial Inspection           10074\n",
              "Cycle Inspection / Reopening Inspection                  3414\n",
              "Pre-permit (Operational) / Reopening Inspection           633\n",
              "Pre-permit (Non-operational) / Initial Inspection         404\n",
              "Pre-permit (Non-operational) / Re-inspection               40\n",
              "Inter-Agency Task Force / Initial Inspection               17\n",
              "Smoke-Free Air Act / Initial Inspection                    14\n",
              "Administrative Miscellaneous / Initial Inspection          10\n",
              "Pre-permit (Non-operational) / Compliance Inspection        8\n",
              "Pre-permit (Operational) / Compliance Inspection            5\n",
              "Name: inspection_type, dtype: int64"
            ]
          },
          "metadata": {
            "tags": []
          },
          "execution_count": 61
        }
      ]
    },
    {
      "cell_type": "markdown",
      "metadata": {
        "id": "L-bZ8oPw4JcH"
      },
      "source": [
        "Based on this information, let's make a judgement call: our analysis will only be based on cycle inspections.\n",
        "\n",
        "We will have to be sure to mention this whenever we are presenting our results."
      ]
    },
    {
      "cell_type": "code",
      "metadata": {
        "id": "UKFcj5ys4JcI"
      },
      "source": [
        "inspections = inspections.loc[inspections.inspection_type.isin([\"Cycle Inspection / Re-inspection\", \"Cycle Inspection / Initial Inspection\"]), ] "
      ],
      "execution_count": null,
      "outputs": []
    },
    {
      "cell_type": "code",
      "metadata": {
        "id": "6QcvsMCd4JcJ"
      },
      "source": [
        "# Let's see if we still need inspection_type to uniquely identify the data\n",
        "unique_id =  ['camis', 'inspection_date', 'violation_code']\n",
        "assert sum(inspections.duplicated(unique_id)==0)"
      ],
      "execution_count": null,
      "outputs": []
    },
    {
      "cell_type": "markdown",
      "metadata": {
        "id": "ciauWi9C4JcK"
      },
      "source": [
        "Great! Now we know that our data has one record per violation that was discovered at a given restaurant on a given date. \n",
        "\n",
        "Should we just keep one record per restaurant per inspection date arbitrarily?"
      ]
    },
    {
      "cell_type": "code",
      "metadata": {
        "id": "WqFPNR814JcL",
        "colab": {
          "base_uri": "https://localhost:8080/"
        },
        "outputId": "f2e8a516-f40b-49b5-dca9-477eb7c46a7f"
      },
      "source": [
        "# Test whether we'll lose other information\n",
        "# if we drop duplicates \n",
        "unique_id = ['camis', 'inspection_date']\n",
        "columns_not_dropped = list(inspections.columns)\n",
        "columns_not_dropped.remove('violation_code')\n",
        "columns_not_dropped.remove('violation_description')\n",
        "print(\"Unique rows if we drop everything at the violation level: \", len(inspections.loc[~inspections.duplicated(columns_not_dropped), ]))\n",
        "print(\"Unique rows if we arbitrarily keep rows that are unique in terms of camis and inspeciton date: \", len(inspections.loc[~inspections.duplicated(unique_id), ]))"
      ],
      "execution_count": null,
      "outputs": [
        {
          "output_type": "stream",
          "text": [
            "Unique rows if we drop everything at the violation level:  190814\n",
            "Unique rows if we arbitrarily keep rows that are unique in terms of camis and inspeciton date:  111065\n"
          ],
          "name": "stdout"
        }
      ]
    },
    {
      "cell_type": "markdown",
      "metadata": {
        "id": "ZfB9RMdN4JcR"
      },
      "source": [
        "We won't actually drop the violations data for now, in case we need it later -- but it's nice to know that we *can* drop it when we're ready to do our analysis. Now we know how to get one record per cycle inspection per restaurant, and we know a lot more about our dataset.\n",
        "\n",
        "Let's check back in with the plot we wanted to make -- if we were to do the analysis after the cleaning we've done so far, has it changed at all from our original attempt?"
      ]
    },
    {
      "cell_type": "code",
      "metadata": {
        "id": "_NWo6OH74JcU",
        "colab": {
          "base_uri": "https://localhost:8080/",
          "height": 365
        },
        "outputId": "82a7d4a3-4acd-4ca0-bb78-f6ad6b21c879"
      },
      "source": [
        "plot_grades(inspections.loc[~inspections.duplicated(unique_id), ], \"After Initial Cleaning\")"
      ],
      "execution_count": null,
      "outputs": [
        {
          "output_type": "display_data",
          "data": {
            "image/png": "[encoded data removed]",
            "text/plain": [
              "<Figure size 1080x360 with 1 Axes>"
            ]
          },
          "metadata": {
            "tags": [],
            "needs_background": "light"
          }
        }
      ]
    },
    {
      "cell_type": "markdown",
      "metadata": {
        "id": "GQprRXfuCrtX"
      },
      "source": [
        "How has the plot changed after cleaning?"
      ]
    },
    {
      "cell_type": "markdown",
      "metadata": {
        "id": "otbJANylCymW"
      },
      "source": [
        "**Analysis**\n",
        "\n",
        "After cleaning, the number of scores which are just above the letter grade cutoff seem to have gone down. "
      ]
    },
    {
      "cell_type": "markdown",
      "metadata": {
        "id": "Bqn9nRXr4JcV"
      },
      "source": [
        "## Step 4: Deep dive into the grades and scores"
      ]
    },
    {
      "cell_type": "markdown",
      "metadata": {
        "id": "wTgQ7NgX4JcW"
      },
      "source": [
        "Recall that we had grades of N and Z. The data dictionary indicated these were related to \"grade pending.\"\n",
        "\n",
        "Next, let's look at the relationship between grades and scores, and see if it matches what we found on the Department of Health website. As a reminder, the cutoffs should be:\n",
        "\n",
        "- A: 0-13\n",
        "- B: 14-27\n",
        "- C: 28+"
      ]
    },
    {
      "cell_type": "code",
      "metadata": {
        "id": "1yQ3zM0S4JcX",
        "colab": {
          "base_uri": "https://localhost:8080/",
          "height": 266
        },
        "outputId": "d571681a-255b-49d5-aaa2-4e8f11007eac"
      },
      "source": [
        "inspections.groupby([\"grade\"]).agg({'score': [np.min,np.max]})"
      ],
      "execution_count": null,
      "outputs": [
        {
          "output_type": "execute_result",
          "data": {
            "text/html": [
              "<div>\n",
              "<style scoped>\n",
              "    .dataframe tbody tr th:only-of-type {\n",
              "        vertical-align: middle;\n",
              "    }\n",
              "\n",
              "    .dataframe tbody tr th {\n",
              "        vertical-align: top;\n",
              "    }\n",
              "\n",
              "    .dataframe thead tr th {\n",
              "        text-align: left;\n",
              "    }\n",
              "\n",
              "    .dataframe thead tr:last-of-type th {\n",
              "        text-align: right;\n",
              "    }\n",
              "</style>\n",
              "<table border=\"1\" class=\"dataframe\">\n",
              "  <thead>\n",
              "    <tr>\n",
              "      <th></th>\n",
              "      <th colspan=\"2\" halign=\"left\">score</th>\n",
              "    </tr>\n",
              "    <tr>\n",
              "      <th></th>\n",
              "      <th>amin</th>\n",
              "      <th>amax</th>\n",
              "    </tr>\n",
              "    <tr>\n",
              "      <th>grade</th>\n",
              "      <th></th>\n",
              "      <th></th>\n",
              "    </tr>\n",
              "  </thead>\n",
              "  <tbody>\n",
              "    <tr>\n",
              "      <th>A</th>\n",
              "      <td>0.0</td>\n",
              "      <td>23.0</td>\n",
              "    </tr>\n",
              "    <tr>\n",
              "      <th>B</th>\n",
              "      <td>-1.0</td>\n",
              "      <td>32.0</td>\n",
              "    </tr>\n",
              "    <tr>\n",
              "      <th>C</th>\n",
              "      <td>-1.0</td>\n",
              "      <td>98.0</td>\n",
              "    </tr>\n",
              "    <tr>\n",
              "      <th>N</th>\n",
              "      <td>-1.0</td>\n",
              "      <td>40.0</td>\n",
              "    </tr>\n",
              "    <tr>\n",
              "      <th>Z</th>\n",
              "      <td>20.0</td>\n",
              "      <td>53.0</td>\n",
              "    </tr>\n",
              "  </tbody>\n",
              "</table>\n",
              "</div>"
            ],
            "text/plain": [
              "      score      \n",
              "       amin  amax\n",
              "grade            \n",
              "A       0.0  23.0\n",
              "B      -1.0  32.0\n",
              "C      -1.0  98.0\n",
              "N      -1.0  40.0\n",
              "Z      20.0  53.0"
            ]
          },
          "metadata": {
            "tags": []
          },
          "execution_count": 67
        }
      ]
    },
    {
      "cell_type": "markdown",
      "metadata": {
        "id": "715S41bz4Jca"
      },
      "source": [
        "That doesn't look right. Let's look at some actual cases that appear miscoded."
      ]
    },
    {
      "cell_type": "code",
      "metadata": {
        "id": "_3-r_j_L4Jca",
        "colab": {
          "base_uri": "https://localhost:8080/",
          "height": 649
        },
        "outputId": "cc1b2956-0318-402e-b6e5-7a60d6a6d3f9"
      },
      "source": [
        "# Cases with a score too high to be assigned an \"A\" that are marked as an \"A\"\n",
        "inspections.sort_values(unique_id, axis=0, inplace=True)\n",
        "inspections.loc[(inspections.grade==\"A\") & (inspections.score > 13), ].head()"
      ],
      "execution_count": null,
      "outputs": [
        {
          "output_type": "execute_result",
          "data": {
            "text/html": [
              "<div>\n",
              "<style scoped>\n",
              "    .dataframe tbody tr th:only-of-type {\n",
              "        vertical-align: middle;\n",
              "    }\n",
              "\n",
              "    .dataframe tbody tr th {\n",
              "        vertical-align: top;\n",
              "    }\n",
              "\n",
              "    .dataframe thead th {\n",
              "        text-align: right;\n",
              "    }\n",
              "</style>\n",
              "<table border=\"1\" class=\"dataframe\">\n",
              "  <thead>\n",
              "    <tr style=\"text-align: right;\">\n",
              "      <th></th>\n",
              "      <th>camis</th>\n",
              "      <th>dba</th>\n",
              "      <th>boro</th>\n",
              "      <th>building</th>\n",
              "      <th>street</th>\n",
              "      <th>zipcode</th>\n",
              "      <th>phone</th>\n",
              "      <th>cuisine_description</th>\n",
              "      <th>inspection_date</th>\n",
              "      <th>action</th>\n",
              "      <th>violation_code</th>\n",
              "      <th>violation_description</th>\n",
              "      <th>critical_flag</th>\n",
              "      <th>score</th>\n",
              "      <th>grade</th>\n",
              "      <th>grade_date</th>\n",
              "      <th>record_date</th>\n",
              "      <th>inspection_type</th>\n",
              "      <th>latitude</th>\n",
              "      <th>longitude</th>\n",
              "      <th>community_board</th>\n",
              "      <th>council_district</th>\n",
              "      <th>census_tract</th>\n",
              "      <th>bin</th>\n",
              "      <th>bbl</th>\n",
              "      <th>nta</th>\n",
              "    </tr>\n",
              "  </thead>\n",
              "  <tbody>\n",
              "    <tr>\n",
              "      <th>361546</th>\n",
              "      <td>40399329</td>\n",
              "      <td>ARTE RESTAURANT</td>\n",
              "      <td>Manhattan</td>\n",
              "      <td>21</td>\n",
              "      <td>EAST    9 STREET</td>\n",
              "      <td>10003.0</td>\n",
              "      <td>2124730077</td>\n",
              "      <td>Italian</td>\n",
              "      <td>10/15/2019</td>\n",
              "      <td>Violations were cited in the following area(s).</td>\n",
              "      <td>04L</td>\n",
              "      <td>Evidence of mice or live mice present in facil...</td>\n",
              "      <td>Y</td>\n",
              "      <td>23.0</td>\n",
              "      <td>A</td>\n",
              "      <td>10/15/2019</td>\n",
              "      <td>03/12/2021</td>\n",
              "      <td>Cycle Inspection / Re-inspection</td>\n",
              "      <td>40.732347</td>\n",
              "      <td>-73.994725</td>\n",
              "      <td>102.0</td>\n",
              "      <td>2.0</td>\n",
              "      <td>5900.0</td>\n",
              "      <td>1009240.0</td>\n",
              "      <td>1.005670e+09</td>\n",
              "      <td>MN23</td>\n",
              "    </tr>\n",
              "    <tr>\n",
              "      <th>193944</th>\n",
              "      <td>40711301</td>\n",
              "      <td>CHICKEN FESTIVAL</td>\n",
              "      <td>Queens</td>\n",
              "      <td>29-19</td>\n",
              "      <td>DITMARS BOULEVARD</td>\n",
              "      <td>11105.0</td>\n",
              "      <td>7187289696</td>\n",
              "      <td>Chicken</td>\n",
              "      <td>03/14/2018</td>\n",
              "      <td>Violations were cited in the following area(s).</td>\n",
              "      <td>10B</td>\n",
              "      <td>Plumbing not properly installed or maintained;...</td>\n",
              "      <td>N</td>\n",
              "      <td>14.0</td>\n",
              "      <td>A</td>\n",
              "      <td>03/14/2018</td>\n",
              "      <td>03/12/2021</td>\n",
              "      <td>Cycle Inspection / Re-inspection</td>\n",
              "      <td>40.776718</td>\n",
              "      <td>-73.911525</td>\n",
              "      <td>401.0</td>\n",
              "      <td>22.0</td>\n",
              "      <td>11300.0</td>\n",
              "      <td>4017714.0</td>\n",
              "      <td>4.008460e+09</td>\n",
              "      <td>QN72</td>\n",
              "    </tr>\n",
              "    <tr>\n",
              "      <th>292882</th>\n",
              "      <td>40711301</td>\n",
              "      <td>CHICKEN FESTIVAL</td>\n",
              "      <td>Queens</td>\n",
              "      <td>29-19</td>\n",
              "      <td>DITMARS BOULEVARD</td>\n",
              "      <td>11105.0</td>\n",
              "      <td>7187289696</td>\n",
              "      <td>Chicken</td>\n",
              "      <td>03/14/2018</td>\n",
              "      <td>Violations were cited in the following area(s).</td>\n",
              "      <td>04A</td>\n",
              "      <td>Food Protection Certificate not held by superv...</td>\n",
              "      <td>Y</td>\n",
              "      <td>14.0</td>\n",
              "      <td>A</td>\n",
              "      <td>03/14/2018</td>\n",
              "      <td>03/12/2021</td>\n",
              "      <td>Cycle Inspection / Re-inspection</td>\n",
              "      <td>40.776718</td>\n",
              "      <td>-73.911525</td>\n",
              "      <td>401.0</td>\n",
              "      <td>22.0</td>\n",
              "      <td>11300.0</td>\n",
              "      <td>4017714.0</td>\n",
              "      <td>4.008460e+09</td>\n",
              "      <td>QN72</td>\n",
              "    </tr>\n",
              "    <tr>\n",
              "      <th>361238</th>\n",
              "      <td>40711301</td>\n",
              "      <td>CHICKEN FESTIVAL</td>\n",
              "      <td>Queens</td>\n",
              "      <td>29-19</td>\n",
              "      <td>DITMARS BOULEVARD</td>\n",
              "      <td>11105.0</td>\n",
              "      <td>7187289696</td>\n",
              "      <td>Chicken</td>\n",
              "      <td>03/14/2018</td>\n",
              "      <td>Violations were cited in the following area(s).</td>\n",
              "      <td>08C</td>\n",
              "      <td>Pesticide use not in accordance with label or ...</td>\n",
              "      <td>N</td>\n",
              "      <td>14.0</td>\n",
              "      <td>A</td>\n",
              "      <td>03/14/2018</td>\n",
              "      <td>03/12/2021</td>\n",
              "      <td>Cycle Inspection / Re-inspection</td>\n",
              "      <td>40.776718</td>\n",
              "      <td>-73.911525</td>\n",
              "      <td>401.0</td>\n",
              "      <td>22.0</td>\n",
              "      <td>11300.0</td>\n",
              "      <td>4017714.0</td>\n",
              "      <td>4.008460e+09</td>\n",
              "      <td>QN72</td>\n",
              "    </tr>\n",
              "    <tr>\n",
              "      <th>20340</th>\n",
              "      <td>41021991</td>\n",
              "      <td>EXTRA VIRGIN</td>\n",
              "      <td>Manhattan</td>\n",
              "      <td>259</td>\n",
              "      <td>WEST    4 STREET</td>\n",
              "      <td>10014.0</td>\n",
              "      <td>2126919359</td>\n",
              "      <td>Mediterranean</td>\n",
              "      <td>05/09/2018</td>\n",
              "      <td>Violations were cited in the following area(s).</td>\n",
              "      <td>02G</td>\n",
              "      <td>Cold food item held above 41º F (smoked fish a...</td>\n",
              "      <td>Y</td>\n",
              "      <td>21.0</td>\n",
              "      <td>A</td>\n",
              "      <td>05/09/2018</td>\n",
              "      <td>03/12/2021</td>\n",
              "      <td>Cycle Inspection / Re-inspection</td>\n",
              "      <td>40.735287</td>\n",
              "      <td>-74.003258</td>\n",
              "      <td>102.0</td>\n",
              "      <td>3.0</td>\n",
              "      <td>7300.0</td>\n",
              "      <td>1010860.0</td>\n",
              "      <td>1.006128e+09</td>\n",
              "      <td>MN23</td>\n",
              "    </tr>\n",
              "  </tbody>\n",
              "</table>\n",
              "</div>"
            ],
            "text/plain": [
              "           camis               dba       boro building             street  \\\n",
              "361546  40399329   ARTE RESTAURANT  Manhattan       21   EAST    9 STREET   \n",
              "193944  40711301  CHICKEN FESTIVAL     Queens    29-19  DITMARS BOULEVARD   \n",
              "292882  40711301  CHICKEN FESTIVAL     Queens    29-19  DITMARS BOULEVARD   \n",
              "361238  40711301  CHICKEN FESTIVAL     Queens    29-19  DITMARS BOULEVARD   \n",
              "20340   41021991      EXTRA VIRGIN  Manhattan      259   WEST    4 STREET   \n",
              "\n",
              "        zipcode       phone cuisine_description inspection_date  \\\n",
              "361546  10003.0  2124730077             Italian      10/15/2019   \n",
              "193944  11105.0  7187289696             Chicken      03/14/2018   \n",
              "292882  11105.0  7187289696             Chicken      03/14/2018   \n",
              "361238  11105.0  7187289696             Chicken      03/14/2018   \n",
              "20340   10014.0  2126919359       Mediterranean      05/09/2018   \n",
              "\n",
              "                                                 action violation_code  \\\n",
              "361546  Violations were cited in the following area(s).            04L   \n",
              "193944  Violations were cited in the following area(s).            10B   \n",
              "292882  Violations were cited in the following area(s).            04A   \n",
              "361238  Violations were cited in the following area(s).            08C   \n",
              "20340   Violations were cited in the following area(s).            02G   \n",
              "\n",
              "                                    violation_description critical_flag  \\\n",
              "361546  Evidence of mice or live mice present in facil...             Y   \n",
              "193944  Plumbing not properly installed or maintained;...             N   \n",
              "292882  Food Protection Certificate not held by superv...             Y   \n",
              "361238  Pesticide use not in accordance with label or ...             N   \n",
              "20340   Cold food item held above 41º F (smoked fish a...             Y   \n",
              "\n",
              "        score grade  grade_date record_date                   inspection_type  \\\n",
              "361546   23.0     A  10/15/2019  03/12/2021  Cycle Inspection / Re-inspection   \n",
              "193944   14.0     A  03/14/2018  03/12/2021  Cycle Inspection / Re-inspection   \n",
              "292882   14.0     A  03/14/2018  03/12/2021  Cycle Inspection / Re-inspection   \n",
              "361238   14.0     A  03/14/2018  03/12/2021  Cycle Inspection / Re-inspection   \n",
              "20340    21.0     A  05/09/2018  03/12/2021  Cycle Inspection / Re-inspection   \n",
              "\n",
              "         latitude  longitude  community_board  council_district  census_tract  \\\n",
              "361546  40.732347 -73.994725            102.0               2.0        5900.0   \n",
              "193944  40.776718 -73.911525            401.0              22.0       11300.0   \n",
              "292882  40.776718 -73.911525            401.0              22.0       11300.0   \n",
              "361238  40.776718 -73.911525            401.0              22.0       11300.0   \n",
              "20340   40.735287 -74.003258            102.0               3.0        7300.0   \n",
              "\n",
              "              bin           bbl   nta  \n",
              "361546  1009240.0  1.005670e+09  MN23  \n",
              "193944  4017714.0  4.008460e+09  QN72  \n",
              "292882  4017714.0  4.008460e+09  QN72  \n",
              "361238  4017714.0  4.008460e+09  QN72  \n",
              "20340   1010860.0  1.006128e+09  MN23  "
            ]
          },
          "metadata": {
            "tags": []
          },
          "execution_count": 68
        }
      ]
    },
    {
      "cell_type": "code",
      "metadata": {
        "id": "7WNgMatA4Jcc",
        "colab": {
          "base_uri": "https://localhost:8080/",
          "height": 649
        },
        "outputId": "fd5b5361-d095-4599-f6c5-39333f811534"
      },
      "source": [
        "# Check cases with a negative score\n",
        "inspections.loc[(inspections.score < 0), ].head()"
      ],
      "execution_count": null,
      "outputs": [
        {
          "output_type": "execute_result",
          "data": {
            "text/html": [
              "<div>\n",
              "<style scoped>\n",
              "    .dataframe tbody tr th:only-of-type {\n",
              "        vertical-align: middle;\n",
              "    }\n",
              "\n",
              "    .dataframe tbody tr th {\n",
              "        vertical-align: top;\n",
              "    }\n",
              "\n",
              "    .dataframe thead th {\n",
              "        text-align: right;\n",
              "    }\n",
              "</style>\n",
              "<table border=\"1\" class=\"dataframe\">\n",
              "  <thead>\n",
              "    <tr style=\"text-align: right;\">\n",
              "      <th></th>\n",
              "      <th>camis</th>\n",
              "      <th>dba</th>\n",
              "      <th>boro</th>\n",
              "      <th>building</th>\n",
              "      <th>street</th>\n",
              "      <th>zipcode</th>\n",
              "      <th>phone</th>\n",
              "      <th>cuisine_description</th>\n",
              "      <th>inspection_date</th>\n",
              "      <th>action</th>\n",
              "      <th>violation_code</th>\n",
              "      <th>violation_description</th>\n",
              "      <th>critical_flag</th>\n",
              "      <th>score</th>\n",
              "      <th>grade</th>\n",
              "      <th>grade_date</th>\n",
              "      <th>record_date</th>\n",
              "      <th>inspection_type</th>\n",
              "      <th>latitude</th>\n",
              "      <th>longitude</th>\n",
              "      <th>community_board</th>\n",
              "      <th>council_district</th>\n",
              "      <th>census_tract</th>\n",
              "      <th>bin</th>\n",
              "      <th>bbl</th>\n",
              "      <th>nta</th>\n",
              "    </tr>\n",
              "  </thead>\n",
              "  <tbody>\n",
              "    <tr>\n",
              "      <th>23522</th>\n",
              "      <td>40364467</td>\n",
              "      <td>NYAC MAIN DINING ROOM</td>\n",
              "      <td>Manhattan</td>\n",
              "      <td>180</td>\n",
              "      <td>CENTRAL PARK SOUTH</td>\n",
              "      <td>10019.0</td>\n",
              "      <td>2127677000</td>\n",
              "      <td>American</td>\n",
              "      <td>01/07/2020</td>\n",
              "      <td>Violations were cited in the following area(s).</td>\n",
              "      <td>04N</td>\n",
              "      <td>Filth flies or food/refuse/sewage-associated (...</td>\n",
              "      <td>Y</td>\n",
              "      <td>-1.0</td>\n",
              "      <td>C</td>\n",
              "      <td>01/07/2020</td>\n",
              "      <td>03/12/2021</td>\n",
              "      <td>Cycle Inspection / Re-inspection</td>\n",
              "      <td>40.766718</td>\n",
              "      <td>-73.978737</td>\n",
              "      <td>105.0</td>\n",
              "      <td>4.0</td>\n",
              "      <td>13700.0</td>\n",
              "      <td>1023750.0</td>\n",
              "      <td>1.010110e+09</td>\n",
              "      <td>MN17</td>\n",
              "    </tr>\n",
              "    <tr>\n",
              "      <th>84863</th>\n",
              "      <td>40364467</td>\n",
              "      <td>NYAC MAIN DINING ROOM</td>\n",
              "      <td>Manhattan</td>\n",
              "      <td>180</td>\n",
              "      <td>CENTRAL PARK SOUTH</td>\n",
              "      <td>10019.0</td>\n",
              "      <td>2127677000</td>\n",
              "      <td>American</td>\n",
              "      <td>01/07/2020</td>\n",
              "      <td>Violations were cited in the following area(s).</td>\n",
              "      <td>10F</td>\n",
              "      <td>Non-food contact surface improperly constructe...</td>\n",
              "      <td>N</td>\n",
              "      <td>-1.0</td>\n",
              "      <td>C</td>\n",
              "      <td>01/07/2020</td>\n",
              "      <td>03/12/2021</td>\n",
              "      <td>Cycle Inspection / Re-inspection</td>\n",
              "      <td>40.766718</td>\n",
              "      <td>-73.978737</td>\n",
              "      <td>105.0</td>\n",
              "      <td>4.0</td>\n",
              "      <td>13700.0</td>\n",
              "      <td>1023750.0</td>\n",
              "      <td>1.010110e+09</td>\n",
              "      <td>MN17</td>\n",
              "    </tr>\n",
              "    <tr>\n",
              "      <th>219309</th>\n",
              "      <td>40364467</td>\n",
              "      <td>NYAC MAIN DINING ROOM</td>\n",
              "      <td>Manhattan</td>\n",
              "      <td>180</td>\n",
              "      <td>CENTRAL PARK SOUTH</td>\n",
              "      <td>10019.0</td>\n",
              "      <td>2127677000</td>\n",
              "      <td>American</td>\n",
              "      <td>01/07/2020</td>\n",
              "      <td>Violations were cited in the following area(s).</td>\n",
              "      <td>08A</td>\n",
              "      <td>Facility not vermin proof. Harborage or condit...</td>\n",
              "      <td>N</td>\n",
              "      <td>-1.0</td>\n",
              "      <td>C</td>\n",
              "      <td>01/07/2020</td>\n",
              "      <td>03/12/2021</td>\n",
              "      <td>Cycle Inspection / Re-inspection</td>\n",
              "      <td>40.766718</td>\n",
              "      <td>-73.978737</td>\n",
              "      <td>105.0</td>\n",
              "      <td>4.0</td>\n",
              "      <td>13700.0</td>\n",
              "      <td>1023750.0</td>\n",
              "      <td>1.010110e+09</td>\n",
              "      <td>MN17</td>\n",
              "    </tr>\n",
              "    <tr>\n",
              "      <th>20680</th>\n",
              "      <td>40365627</td>\n",
              "      <td>JAHN'S RESTAURANT</td>\n",
              "      <td>Queens</td>\n",
              "      <td>81-04</td>\n",
              "      <td>37 AVENUE</td>\n",
              "      <td>11372.0</td>\n",
              "      <td>7186510700</td>\n",
              "      <td>American</td>\n",
              "      <td>03/16/2020</td>\n",
              "      <td>Violations were cited in the following area(s).</td>\n",
              "      <td>04M</td>\n",
              "      <td>Live roaches present in facility's food and/or...</td>\n",
              "      <td>Y</td>\n",
              "      <td>-1.0</td>\n",
              "      <td>B</td>\n",
              "      <td>03/16/2020</td>\n",
              "      <td>03/12/2021</td>\n",
              "      <td>Cycle Inspection / Re-inspection</td>\n",
              "      <td>40.749653</td>\n",
              "      <td>-73.885074</td>\n",
              "      <td>403.0</td>\n",
              "      <td>21.0</td>\n",
              "      <td>28300.0</td>\n",
              "      <td>4030010.0</td>\n",
              "      <td>4.012920e+09</td>\n",
              "      <td>QN28</td>\n",
              "    </tr>\n",
              "    <tr>\n",
              "      <th>39747</th>\n",
              "      <td>40365627</td>\n",
              "      <td>JAHN'S RESTAURANT</td>\n",
              "      <td>Queens</td>\n",
              "      <td>81-04</td>\n",
              "      <td>37 AVENUE</td>\n",
              "      <td>11372.0</td>\n",
              "      <td>7186510700</td>\n",
              "      <td>American</td>\n",
              "      <td>03/16/2020</td>\n",
              "      <td>Violations were cited in the following area(s).</td>\n",
              "      <td>08A</td>\n",
              "      <td>Facility not vermin proof. Harborage or condit...</td>\n",
              "      <td>N</td>\n",
              "      <td>-1.0</td>\n",
              "      <td>B</td>\n",
              "      <td>03/16/2020</td>\n",
              "      <td>03/12/2021</td>\n",
              "      <td>Cycle Inspection / Re-inspection</td>\n",
              "      <td>40.749653</td>\n",
              "      <td>-73.885074</td>\n",
              "      <td>403.0</td>\n",
              "      <td>21.0</td>\n",
              "      <td>28300.0</td>\n",
              "      <td>4030010.0</td>\n",
              "      <td>4.012920e+09</td>\n",
              "      <td>QN28</td>\n",
              "    </tr>\n",
              "  </tbody>\n",
              "</table>\n",
              "</div>"
            ],
            "text/plain": [
              "           camis                    dba       boro building  \\\n",
              "23522   40364467  NYAC MAIN DINING ROOM  Manhattan      180   \n",
              "84863   40364467  NYAC MAIN DINING ROOM  Manhattan      180   \n",
              "219309  40364467  NYAC MAIN DINING ROOM  Manhattan      180   \n",
              "20680   40365627      JAHN'S RESTAURANT     Queens    81-04   \n",
              "39747   40365627      JAHN'S RESTAURANT     Queens    81-04   \n",
              "\n",
              "                    street  zipcode       phone cuisine_description  \\\n",
              "23522   CENTRAL PARK SOUTH  10019.0  2127677000            American   \n",
              "84863   CENTRAL PARK SOUTH  10019.0  2127677000            American   \n",
              "219309  CENTRAL PARK SOUTH  10019.0  2127677000            American   \n",
              "20680            37 AVENUE  11372.0  7186510700            American   \n",
              "39747            37 AVENUE  11372.0  7186510700            American   \n",
              "\n",
              "       inspection_date                                           action  \\\n",
              "23522       01/07/2020  Violations were cited in the following area(s).   \n",
              "84863       01/07/2020  Violations were cited in the following area(s).   \n",
              "219309      01/07/2020  Violations were cited in the following area(s).   \n",
              "20680       03/16/2020  Violations were cited in the following area(s).   \n",
              "39747       03/16/2020  Violations were cited in the following area(s).   \n",
              "\n",
              "       violation_code                              violation_description  \\\n",
              "23522             04N  Filth flies or food/refuse/sewage-associated (...   \n",
              "84863             10F  Non-food contact surface improperly constructe...   \n",
              "219309            08A  Facility not vermin proof. Harborage or condit...   \n",
              "20680             04M  Live roaches present in facility's food and/or...   \n",
              "39747             08A  Facility not vermin proof. Harborage or condit...   \n",
              "\n",
              "       critical_flag  score grade  grade_date record_date  \\\n",
              "23522              Y   -1.0     C  01/07/2020  03/12/2021   \n",
              "84863              N   -1.0     C  01/07/2020  03/12/2021   \n",
              "219309             N   -1.0     C  01/07/2020  03/12/2021   \n",
              "20680              Y   -1.0     B  03/16/2020  03/12/2021   \n",
              "39747              N   -1.0     B  03/16/2020  03/12/2021   \n",
              "\n",
              "                         inspection_type   latitude  longitude  \\\n",
              "23522   Cycle Inspection / Re-inspection  40.766718 -73.978737   \n",
              "84863   Cycle Inspection / Re-inspection  40.766718 -73.978737   \n",
              "219309  Cycle Inspection / Re-inspection  40.766718 -73.978737   \n",
              "20680   Cycle Inspection / Re-inspection  40.749653 -73.885074   \n",
              "39747   Cycle Inspection / Re-inspection  40.749653 -73.885074   \n",
              "\n",
              "        community_board  council_district  census_tract        bin  \\\n",
              "23522             105.0               4.0       13700.0  1023750.0   \n",
              "84863             105.0               4.0       13700.0  1023750.0   \n",
              "219309            105.0               4.0       13700.0  1023750.0   \n",
              "20680             403.0              21.0       28300.0  4030010.0   \n",
              "39747             403.0              21.0       28300.0  4030010.0   \n",
              "\n",
              "                 bbl   nta  \n",
              "23522   1.010110e+09  MN17  \n",
              "84863   1.010110e+09  MN17  \n",
              "219309  1.010110e+09  MN17  \n",
              "20680   4.012920e+09  QN28  \n",
              "39747   4.012920e+09  QN28  "
            ]
          },
          "metadata": {
            "tags": []
          },
          "execution_count": 69
        }
      ]
    },
    {
      "cell_type": "markdown",
      "metadata": {
        "id": "-d0Bdiq04Jcd"
      },
      "source": [
        "It's time to make a judgement call. Here are the options:\n",
        "\n",
        "1. Trust the grades in the dataset, and ignore the inconsistent scores. \n",
        "2. Trust the scores in the dataset, and resassign new grades based on the scores. \n",
        "3. Trust the list of violations, and try to reconstruct the grades and the scores.\n",
        "4. Trust nothing, and drop all the cases with inconsistencies. \n",
        "\n",
        "Which would you do? What additional information would you want before deciding?"
      ]
    },
    {
      "cell_type": "code",
      "metadata": {
        "id": "21li0XE04Jce"
      },
      "source": [
        "# If we're not going to use the violations, we can go ahead and collapse our data to the restaurant-inspection level\n",
        "inspections = inspections.loc[~inspections.duplicated(unique_id), ]"
      ],
      "execution_count": null,
      "outputs": []
    },
    {
      "cell_type": "code",
      "metadata": {
        "id": "pi6dMmcJ4Jcf"
      },
      "source": [
        "# Drop cases with impossible scores (-1)\n",
        "inspections = inspections.loc[inspections.score > 0, ]"
      ],
      "execution_count": null,
      "outputs": []
    },
    {
      "cell_type": "code",
      "metadata": {
        "id": "Eh6vlpvQ4Jcg",
        "colab": {
          "base_uri": "https://localhost:8080/"
        },
        "outputId": "88b3c84d-aa8e-44c4-f9d5-a052e62f1900"
      },
      "source": [
        "# Count miscoded cases\n",
        "print(\"Miscoded As: \", len(inspections.loc[(inspections.grade==\"A\") & (inspections.score > 13), ]))\n",
        "print(\"Miscoded Bs: \", len(inspections.loc[(inspections.grade==\"B\") & ((inspections.score < 14) | (inspections.score > 27))]))\n",
        "print(\"Miscoded Cs: \", len(inspections.loc[(inspections.grade==\"C\") & (inspections.score < 28), ]))\n",
        "print(\"Total Graded Cases: \", len(inspections.loc[inspections.grade.isin([\"A\", \"B\", \"C\"])]))"
      ],
      "execution_count": null,
      "outputs": [
        {
          "output_type": "stream",
          "text": [
            "Miscoded As:  6\n",
            "Miscoded Bs:  11\n",
            "Miscoded Cs:  3\n",
            "Total Graded Cases:  72668\n"
          ],
          "name": "stdout"
        }
      ]
    },
    {
      "cell_type": "code",
      "metadata": {
        "id": "0iz0bQ5S4Jch"
      },
      "source": [
        "# Drop miscoded cases\n",
        "inspections = inspections.loc[~((inspections.grade==\"A\") & (inspections.score > 13)), ]\n",
        "inspections = inspections.loc[~((inspections.grade==\"B\") & (inspections.score < 14)), ]\n",
        "inspections = inspections.loc[~((inspections.grade==\"B\") & (inspections.score > 27)), ]\n",
        "inspections = inspections.loc[~((inspections.grade==\"C\") & (inspections.score < 28)), ]"
      ],
      "execution_count": null,
      "outputs": []
    },
    {
      "cell_type": "markdown",
      "metadata": {
        "id": "vjmec8Lf4Jci"
      },
      "source": [
        "Now, we should check out cases with missing grades. "
      ]
    },
    {
      "cell_type": "code",
      "metadata": {
        "id": "_dDmXFMT4Jci",
        "colab": {
          "base_uri": "https://localhost:8080/"
        },
        "outputId": "96e17324-dfbf-4bc0-e6bd-7df44497159f"
      },
      "source": [
        "print(\"Cases with missing grades: \", len(inspections.loc[inspections.grade.isna(), ]))\n",
        "print(\"Score distribution for cases with missing grades: \", inspections.loc[inspections.grade.isna(), ].score.describe())"
      ],
      "execution_count": null,
      "outputs": [
        {
          "output_type": "stream",
          "text": [
            "Cases with missing grades:  37344\n",
            "Score distribution for cases with missing grades:  count    37344.000000\n",
            "mean        23.921031\n",
            "std         12.928039\n",
            "min          2.000000\n",
            "25%         16.000000\n",
            "50%         21.000000\n",
            "75%         29.000000\n",
            "max        164.000000\n",
            "Name: score, dtype: float64\n"
          ],
          "name": "stdout"
        }
      ]
    },
    {
      "cell_type": "markdown",
      "metadata": {
        "id": "JNkdb3kJ4Jck"
      },
      "source": [
        "We aren't actually using the grades for our analysis, and the missingness has meaning, so we can leave these missing values as-is. Sometimes missing data *shouldn't* be imputed!\n",
        "\n",
        "Time to revisit our plot again."
      ]
    },
    {
      "cell_type": "code",
      "metadata": {
        "id": "6t33iXoe4Jcl",
        "colab": {
          "base_uri": "https://localhost:8080/",
          "height": 365
        },
        "outputId": "f59b201b-4490-4bd1-b830-a987b2622270"
      },
      "source": [
        "plot_grades(inspections.loc[~inspections.duplicated(unique_id), ], \"After Cleaning Scores\")"
      ],
      "execution_count": null,
      "outputs": [
        {
          "output_type": "display_data",
          "data": {
            "image/png": "[encoded data removed]",
            "text/plain": [
              "<Figure size 1080x360 with 1 Axes>"
            ]
          },
          "metadata": {
            "tags": [],
            "needs_background": "light"
          }
        }
      ]
    },
    {
      "cell_type": "markdown",
      "metadata": {
        "id": "spU3HuWd4Jcm"
      },
      "source": [
        "Now, our original question is whether this tendency to bump up borderline cases has gotten better or worse over time. We can analyze that using the inspection_date column.... but first we have to clean it."
      ]
    },
    {
      "cell_type": "code",
      "metadata": {
        "id": "jjQ-AxMO4Jcn",
        "colab": {
          "base_uri": "https://localhost:8080/"
        },
        "outputId": "21634c18-df62-40c5-fe89-4be23d6d3f30"
      },
      "source": [
        "# Check the current type of the date column\n",
        "inspections.inspection_date"
      ],
      "execution_count": null,
      "outputs": [
        {
          "output_type": "execute_result",
          "data": {
            "text/plain": [
              "25293     05/11/2018\n",
              "104446    05/16/2019\n",
              "96724     05/18/2017\n",
              "25092     06/11/2019\n",
              "49397     10/21/2019\n",
              "             ...    \n",
              "16699     02/26/2020\n",
              "87910     03/16/2020\n",
              "132287    03/10/2020\n",
              "196076    12/18/2019\n",
              "69554     03/12/2020\n",
              "Name: inspection_date, Length: 110029, dtype: object"
            ]
          },
          "metadata": {
            "tags": []
          },
          "execution_count": 77
        }
      ]
    },
    {
      "cell_type": "code",
      "metadata": {
        "id": "2ZFZ884G4Jco",
        "colab": {
          "base_uri": "https://localhost:8080/"
        },
        "outputId": "c2a35abf-257c-4569-8209-22420165aab6"
      },
      "source": [
        "inspections.inspection_date = pd.to_datetime(inspections.inspection_date)\n",
        "inspections.inspection_date.head(10)"
      ],
      "execution_count": null,
      "outputs": [
        {
          "output_type": "execute_result",
          "data": {
            "text/plain": [
              "25293    2018-05-11\n",
              "104446   2019-05-16\n",
              "96724    2017-05-18\n",
              "25092    2019-06-11\n",
              "49397    2019-10-21\n",
              "61209    2019-11-04\n",
              "219684   2019-03-04\n",
              "225622   2018-03-13\n",
              "54207    2016-04-30\n",
              "17419    2017-06-26\n",
              "Name: inspection_date, dtype: datetime64[ns]"
            ]
          },
          "metadata": {
            "tags": []
          },
          "execution_count": 78
        }
      ]
    },
    {
      "cell_type": "code",
      "metadata": {
        "id": "WlsJ-O-O4Jcp",
        "colab": {
          "base_uri": "https://localhost:8080/"
        },
        "outputId": "da5b3ac9-9033-4e24-a2ba-7b8b41588092"
      },
      "source": [
        "inspections['year'] = inspections.inspection_date.dt.year\n",
        "inspections.year.value_counts()"
      ],
      "execution_count": null,
      "outputs": [
        {
          "output_type": "execute_result",
          "data": {
            "text/plain": [
              "2019    40322\n",
              "2018    33905\n",
              "2017    22444\n",
              "2020     8009\n",
              "2016     5279\n",
              "2015       41\n",
              "2014       10\n",
              "2012        7\n",
              "2011        6\n",
              "2013        5\n",
              "2009        1\n",
              "Name: year, dtype: int64"
            ]
          },
          "metadata": {
            "tags": []
          },
          "execution_count": 79
        }
      ]
    },
    {
      "cell_type": "code",
      "metadata": {
        "id": "0vi7T7Q04Jcq",
        "colab": {
          "base_uri": "https://localhost:8080/",
          "height": 365
        },
        "outputId": "13c31f03-cc72-4d8e-a0a6-3fe752ed8b29"
      },
      "source": [
        "# Plot the grades for each year from 2016 to 2021 using \"plot_grades\" function.\n",
        "inspections_2016 = inspections.loc[inspections.year == \"2016\" ]\n",
        "plot_grades(inspections, \"2016\")\n",
        "#inspections = inspections.loc[inspections.inspection_type.isin([\"Cycle Inspection / Re-inspection\", \"Cycle Inspection / Initial Inspection\"]), ] "
      ],
      "execution_count": null,
      "outputs": [
        {
          "output_type": "display_data",
          "data": {
            "image/png": "[encoded data removed]",
            "text/plain": [
              "<Figure size 1080x360 with 1 Axes>"
            ]
          },
          "metadata": {
            "tags": [],
            "needs_background": "light"
          }
        }
      ]
    },
    {
      "cell_type": "markdown",
      "metadata": {
        "id": "QwtD6SUL4Jcr"
      },
      "source": [
        "## Step 5: Analysis by borough "
      ]
    },
    {
      "cell_type": "markdown",
      "metadata": {
        "id": "8_yNYC8W4Jcs"
      },
      "source": [
        "Let's compare the distribution of scores by borough. First, we should check to see if borough was coded correctly. We know that there should be a functional dependency between zipcode and borough, and we can test for violations of that dependency. \n",
        "\n",
        "Note that this approach means that we're trusting the zip code column more than the borough column. "
      ]
    },
    {
      "cell_type": "code",
      "metadata": {
        "id": "z0uH5u1x4Jcs",
        "colab": {
          "base_uri": "https://localhost:8080/"
        },
        "outputId": "09a6e9da-20e3-4c13-9deb-95b7b01b3646"
      },
      "source": [
        "test_dependency(inspections, 'zipcode', 'boro')"
      ],
      "execution_count": null,
      "outputs": [
        {
          "output_type": "stream",
          "text": [
            "Unique values of zipcode: 225\n",
            "Unique values of boro: 6\n",
            "Unique combos of zipcode and boro: 235\n"
          ],
          "name": "stdout"
        },
        {
          "output_type": "execute_result",
          "data": {
            "text/plain": [
              "False"
            ]
          },
          "metadata": {
            "tags": []
          },
          "execution_count": 90
        }
      ]
    },
    {
      "cell_type": "markdown",
      "metadata": {
        "id": "eUk8__qo4Jct"
      },
      "source": [
        "To resolve the violations, we should check for cases where one zipcode corresponds to multiple boroughs. (The relationship between zipcodes and boroughs should be many to one.)"
      ]
    },
    {
      "cell_type": "code",
      "metadata": {
        "id": "_HBwyOg14Jcu",
        "colab": {
          "base_uri": "https://localhost:8080/",
          "height": 545
        },
        "outputId": "8d850bc7-a84b-4fb0-8948-3b00af07c471"
      },
      "source": [
        "zip_boro_crosswalk = inspections[['zipcode', 'boro']].drop_duplicates()\n",
        "zip_boro_crosswalk.sort_values('zipcode', inplace=True)\n",
        "zip_boro_crosswalk.loc[zip_boro_crosswalk.duplicated('zipcode', keep=False), ]"
      ],
      "execution_count": null,
      "outputs": [
        {
          "output_type": "execute_result",
          "data": {
            "text/html": [
              "<div>\n",
              "<style scoped>\n",
              "    .dataframe tbody tr th:only-of-type {\n",
              "        vertical-align: middle;\n",
              "    }\n",
              "\n",
              "    .dataframe tbody tr th {\n",
              "        vertical-align: top;\n",
              "    }\n",
              "\n",
              "    .dataframe thead th {\n",
              "        text-align: right;\n",
              "    }\n",
              "</style>\n",
              "<table border=\"1\" class=\"dataframe\">\n",
              "  <thead>\n",
              "    <tr style=\"text-align: right;\">\n",
              "      <th></th>\n",
              "      <th>zipcode</th>\n",
              "      <th>boro</th>\n",
              "    </tr>\n",
              "  </thead>\n",
              "  <tbody>\n",
              "    <tr>\n",
              "      <th>140922</th>\n",
              "      <td>10168.0</td>\n",
              "      <td>0</td>\n",
              "    </tr>\n",
              "    <tr>\n",
              "      <th>367383</th>\n",
              "      <td>10168.0</td>\n",
              "      <td>Manhattan</td>\n",
              "    </tr>\n",
              "    <tr>\n",
              "      <th>190740</th>\n",
              "      <td>11249.0</td>\n",
              "      <td>Brooklyn</td>\n",
              "    </tr>\n",
              "    <tr>\n",
              "      <th>106193</th>\n",
              "      <td>11249.0</td>\n",
              "      <td>0</td>\n",
              "    </tr>\n",
              "    <tr>\n",
              "      <th>11371</th>\n",
              "      <td>11370.0</td>\n",
              "      <td>Queens</td>\n",
              "    </tr>\n",
              "    <tr>\n",
              "      <th>46849</th>\n",
              "      <td>11370.0</td>\n",
              "      <td>Bronx</td>\n",
              "    </tr>\n",
              "    <tr>\n",
              "      <th>327536</th>\n",
              "      <td>11371.0</td>\n",
              "      <td>Queens</td>\n",
              "    </tr>\n",
              "    <tr>\n",
              "      <th>279748</th>\n",
              "      <td>11371.0</td>\n",
              "      <td>Manhattan</td>\n",
              "    </tr>\n",
              "    <tr>\n",
              "      <th>299339</th>\n",
              "      <td>11430.0</td>\n",
              "      <td>Manhattan</td>\n",
              "    </tr>\n",
              "    <tr>\n",
              "      <th>211551</th>\n",
              "      <td>11430.0</td>\n",
              "      <td>Queens</td>\n",
              "    </tr>\n",
              "    <tr>\n",
              "      <th>157025</th>\n",
              "      <td>NaN</td>\n",
              "      <td>Manhattan</td>\n",
              "    </tr>\n",
              "    <tr>\n",
              "      <th>280972</th>\n",
              "      <td>NaN</td>\n",
              "      <td>Queens</td>\n",
              "    </tr>\n",
              "    <tr>\n",
              "      <th>132425</th>\n",
              "      <td>NaN</td>\n",
              "      <td>Staten Island</td>\n",
              "    </tr>\n",
              "    <tr>\n",
              "      <th>44836</th>\n",
              "      <td>NaN</td>\n",
              "      <td>Bronx</td>\n",
              "    </tr>\n",
              "    <tr>\n",
              "      <th>60727</th>\n",
              "      <td>NaN</td>\n",
              "      <td>Brooklyn</td>\n",
              "    </tr>\n",
              "    <tr>\n",
              "      <th>35867</th>\n",
              "      <td>NaN</td>\n",
              "      <td>0</td>\n",
              "    </tr>\n",
              "  </tbody>\n",
              "</table>\n",
              "</div>"
            ],
            "text/plain": [
              "        zipcode           boro\n",
              "140922  10168.0              0\n",
              "367383  10168.0      Manhattan\n",
              "190740  11249.0       Brooklyn\n",
              "106193  11249.0              0\n",
              "11371   11370.0         Queens\n",
              "46849   11370.0          Bronx\n",
              "327536  11371.0         Queens\n",
              "279748  11371.0      Manhattan\n",
              "299339  11430.0      Manhattan\n",
              "211551  11430.0         Queens\n",
              "157025      NaN      Manhattan\n",
              "280972      NaN         Queens\n",
              "132425      NaN  Staten Island\n",
              "44836       NaN          Bronx\n",
              "60727       NaN       Brooklyn\n",
              "35867       NaN              0"
            ]
          },
          "metadata": {
            "tags": []
          },
          "execution_count": 91
        }
      ]
    },
    {
      "cell_type": "markdown",
      "metadata": {
        "id": "Zt893sFY4Jcv"
      },
      "source": [
        "The cases miscoded as zero are an easy fix. \n",
        "\n",
        "The rest of the cases are missing zip codes. Since we're doing our analysis by borough and not by zip code, that's fine for our purposes."
      ]
    },
    {
      "cell_type": "code",
      "metadata": {
        "id": "LSWYTtYD4Jcw"
      },
      "source": [
        "# Recode miscoded zip codes\n",
        "inspections.loc[inspections.zipcode == 10168, \"boro\"] = \"Manhattan\"\n",
        "inspections.loc[inspections.zipcode == 11249, \"boro\"] = \"Brooklyn\"\n",
        "\n",
        "# Re-make the crosswalk now that we've fixed the data\n",
        "zip_boro_crosswalk = inspections[['zipcode', 'boro']].drop_duplicates()"
      ],
      "execution_count": null,
      "outputs": []
    },
    {
      "cell_type": "markdown",
      "metadata": {
        "id": "qlC6KVEK4Jcw"
      },
      "source": [
        "But just to be on the safe side, let's check against a ground truth source: a list of zip codes by borough.  \n",
        "\n",
        "We got the zipcode and borough data from this [site](https://www.nycbynatives.com/nyc_info/new_york_city_zip_codes.php)"
      ]
    },
    {
      "cell_type": "code",
      "metadata": {
        "id": "Ij7GTr1_4Jcx",
        "colab": {
          "base_uri": "https://localhost:8080/",
          "height": 204
        },
        "outputId": "0811ee76-f8e9-4547-f7c4-197834990efa"
      },
      "source": [
        "nyc_zipcode_path = \"https://raw.githubusercontent.com/DataResponsibly/rds/main/assets/zip_borough.csv\"\n",
        "true_zip_boro_crosswalk = pd.read_csv(nyc_zipcode_path)\n",
        "true_zip_boro_crosswalk = true_zip_boro_crosswalk.replace(\"Staten\", \"Staten Island\")\n",
        "true_zip_boro_crosswalk.head()"
      ],
      "execution_count": null,
      "outputs": [
        {
          "output_type": "execute_result",
          "data": {
            "text/html": [
              "<div>\n",
              "<style scoped>\n",
              "    .dataframe tbody tr th:only-of-type {\n",
              "        vertical-align: middle;\n",
              "    }\n",
              "\n",
              "    .dataframe tbody tr th {\n",
              "        vertical-align: top;\n",
              "    }\n",
              "\n",
              "    .dataframe thead th {\n",
              "        text-align: right;\n",
              "    }\n",
              "</style>\n",
              "<table border=\"1\" class=\"dataframe\">\n",
              "  <thead>\n",
              "    <tr style=\"text-align: right;\">\n",
              "      <th></th>\n",
              "      <th>zip</th>\n",
              "      <th>borough</th>\n",
              "    </tr>\n",
              "  </thead>\n",
              "  <tbody>\n",
              "    <tr>\n",
              "      <th>0</th>\n",
              "      <td>10001</td>\n",
              "      <td>Manhattan</td>\n",
              "    </tr>\n",
              "    <tr>\n",
              "      <th>1</th>\n",
              "      <td>10002</td>\n",
              "      <td>Manhattan</td>\n",
              "    </tr>\n",
              "    <tr>\n",
              "      <th>2</th>\n",
              "      <td>10003</td>\n",
              "      <td>Manhattan</td>\n",
              "    </tr>\n",
              "    <tr>\n",
              "      <th>3</th>\n",
              "      <td>10004</td>\n",
              "      <td>Manhattan</td>\n",
              "    </tr>\n",
              "    <tr>\n",
              "      <th>4</th>\n",
              "      <td>10005</td>\n",
              "      <td>Manhattan</td>\n",
              "    </tr>\n",
              "  </tbody>\n",
              "</table>\n",
              "</div>"
            ],
            "text/plain": [
              "     zip    borough\n",
              "0  10001  Manhattan\n",
              "1  10002  Manhattan\n",
              "2  10003  Manhattan\n",
              "3  10004  Manhattan\n",
              "4  10005  Manhattan"
            ]
          },
          "metadata": {
            "tags": []
          },
          "execution_count": 93
        }
      ]
    },
    {
      "cell_type": "code",
      "metadata": {
        "colab": {
          "base_uri": "https://localhost:8080/",
          "height": 419
        },
        "id": "04b4Mdw7jVli",
        "outputId": "456adf15-d869-45bc-e66c-238e741e009d"
      },
      "source": [
        "true_zip_boro_crosswalk[true_zip_boro_crosswalk.borough == 'Manhattan']"
      ],
      "execution_count": null,
      "outputs": [
        {
          "output_type": "execute_result",
          "data": {
            "text/html": [
              "<div>\n",
              "<style scoped>\n",
              "    .dataframe tbody tr th:only-of-type {\n",
              "        vertical-align: middle;\n",
              "    }\n",
              "\n",
              "    .dataframe tbody tr th {\n",
              "        vertical-align: top;\n",
              "    }\n",
              "\n",
              "    .dataframe thead th {\n",
              "        text-align: right;\n",
              "    }\n",
              "</style>\n",
              "<table border=\"1\" class=\"dataframe\">\n",
              "  <thead>\n",
              "    <tr style=\"text-align: right;\">\n",
              "      <th></th>\n",
              "      <th>zip</th>\n",
              "      <th>borough</th>\n",
              "    </tr>\n",
              "  </thead>\n",
              "  <tbody>\n",
              "    <tr>\n",
              "      <th>0</th>\n",
              "      <td>10001</td>\n",
              "      <td>Manhattan</td>\n",
              "    </tr>\n",
              "    <tr>\n",
              "      <th>1</th>\n",
              "      <td>10002</td>\n",
              "      <td>Manhattan</td>\n",
              "    </tr>\n",
              "    <tr>\n",
              "      <th>2</th>\n",
              "      <td>10003</td>\n",
              "      <td>Manhattan</td>\n",
              "    </tr>\n",
              "    <tr>\n",
              "      <th>3</th>\n",
              "      <td>10004</td>\n",
              "      <td>Manhattan</td>\n",
              "    </tr>\n",
              "    <tr>\n",
              "      <th>4</th>\n",
              "      <td>10005</td>\n",
              "      <td>Manhattan</td>\n",
              "    </tr>\n",
              "    <tr>\n",
              "      <th>...</th>\n",
              "      <td>...</td>\n",
              "      <td>...</td>\n",
              "    </tr>\n",
              "    <tr>\n",
              "      <th>91</th>\n",
              "      <td>10278</td>\n",
              "      <td>Manhattan</td>\n",
              "    </tr>\n",
              "    <tr>\n",
              "      <th>92</th>\n",
              "      <td>10279</td>\n",
              "      <td>Manhattan</td>\n",
              "    </tr>\n",
              "    <tr>\n",
              "      <th>93</th>\n",
              "      <td>10280</td>\n",
              "      <td>Manhattan</td>\n",
              "    </tr>\n",
              "    <tr>\n",
              "      <th>94</th>\n",
              "      <td>10281</td>\n",
              "      <td>Manhattan</td>\n",
              "    </tr>\n",
              "    <tr>\n",
              "      <th>95</th>\n",
              "      <td>10282</td>\n",
              "      <td>Manhattan</td>\n",
              "    </tr>\n",
              "  </tbody>\n",
              "</table>\n",
              "<p>96 rows × 2 columns</p>\n",
              "</div>"
            ],
            "text/plain": [
              "      zip    borough\n",
              "0   10001  Manhattan\n",
              "1   10002  Manhattan\n",
              "2   10003  Manhattan\n",
              "3   10004  Manhattan\n",
              "4   10005  Manhattan\n",
              "..    ...        ...\n",
              "91  10278  Manhattan\n",
              "92  10279  Manhattan\n",
              "93  10280  Manhattan\n",
              "94  10281  Manhattan\n",
              "95  10282  Manhattan\n",
              "\n",
              "[96 rows x 2 columns]"
            ]
          },
          "metadata": {
            "tags": []
          },
          "execution_count": 94
        }
      ]
    },
    {
      "cell_type": "code",
      "metadata": {
        "id": "zPxTEdtR4Jcy",
        "colab": {
          "base_uri": "https://localhost:8080/",
          "height": 545
        },
        "outputId": "3f07df2b-63c4-40df-cb65-db2db614963f"
      },
      "source": [
        "# Compare the two crosswalks\n",
        "merged_crosswalk = zip_boro_crosswalk.merge(true_zip_boro_crosswalk, how=\"left\", left_on=\"zipcode\", right_on=\"zip\")\n",
        "merged_crosswalk.loc[(merged_crosswalk.boro != merged_crosswalk.borough) & merged_crosswalk.zipcode.notna(), ]"
      ],
      "execution_count": null,
      "outputs": [
        {
          "output_type": "execute_result",
          "data": {
            "text/html": [
              "<div>\n",
              "<style scoped>\n",
              "    .dataframe tbody tr th:only-of-type {\n",
              "        vertical-align: middle;\n",
              "    }\n",
              "\n",
              "    .dataframe tbody tr th {\n",
              "        vertical-align: top;\n",
              "    }\n",
              "\n",
              "    .dataframe thead th {\n",
              "        text-align: right;\n",
              "    }\n",
              "</style>\n",
              "<table border=\"1\" class=\"dataframe\">\n",
              "  <thead>\n",
              "    <tr style=\"text-align: right;\">\n",
              "      <th></th>\n",
              "      <th>zipcode</th>\n",
              "      <th>boro</th>\n",
              "      <th>zip</th>\n",
              "      <th>borough</th>\n",
              "    </tr>\n",
              "  </thead>\n",
              "  <tbody>\n",
              "    <tr>\n",
              "      <th>7</th>\n",
              "      <td>10065.0</td>\n",
              "      <td>Manhattan</td>\n",
              "      <td>NaN</td>\n",
              "      <td>NaN</td>\n",
              "    </tr>\n",
              "    <tr>\n",
              "      <th>43</th>\n",
              "      <td>10075.0</td>\n",
              "      <td>Manhattan</td>\n",
              "      <td>NaN</td>\n",
              "      <td>NaN</td>\n",
              "    </tr>\n",
              "    <tr>\n",
              "      <th>56</th>\n",
              "      <td>11001.0</td>\n",
              "      <td>Queens</td>\n",
              "      <td>NaN</td>\n",
              "      <td>NaN</td>\n",
              "    </tr>\n",
              "    <tr>\n",
              "      <th>145</th>\n",
              "      <td>11040.0</td>\n",
              "      <td>Queens</td>\n",
              "      <td>NaN</td>\n",
              "      <td>NaN</td>\n",
              "    </tr>\n",
              "    <tr>\n",
              "      <th>193</th>\n",
              "      <td>10285.0</td>\n",
              "      <td>0</td>\n",
              "      <td>NaN</td>\n",
              "      <td>NaN</td>\n",
              "    </tr>\n",
              "    <tr>\n",
              "      <th>204</th>\n",
              "      <td>10000.0</td>\n",
              "      <td>Manhattan</td>\n",
              "      <td>NaN</td>\n",
              "      <td>NaN</td>\n",
              "    </tr>\n",
              "    <tr>\n",
              "      <th>208</th>\n",
              "      <td>11005.0</td>\n",
              "      <td>Queens</td>\n",
              "      <td>NaN</td>\n",
              "      <td>NaN</td>\n",
              "    </tr>\n",
              "    <tr>\n",
              "      <th>210</th>\n",
              "      <td>11451.0</td>\n",
              "      <td>0</td>\n",
              "      <td>NaN</td>\n",
              "      <td>NaN</td>\n",
              "    </tr>\n",
              "    <tr>\n",
              "      <th>211</th>\n",
              "      <td>10179.0</td>\n",
              "      <td>Manhattan</td>\n",
              "      <td>NaN</td>\n",
              "      <td>NaN</td>\n",
              "    </tr>\n",
              "    <tr>\n",
              "      <th>215</th>\n",
              "      <td>11430.0</td>\n",
              "      <td>Manhattan</td>\n",
              "      <td>11430.0</td>\n",
              "      <td>Queens</td>\n",
              "    </tr>\n",
              "    <tr>\n",
              "      <th>217</th>\n",
              "      <td>11370.0</td>\n",
              "      <td>Bronx</td>\n",
              "      <td>11370.0</td>\n",
              "      <td>Queens</td>\n",
              "    </tr>\n",
              "    <tr>\n",
              "      <th>223</th>\n",
              "      <td>12345.0</td>\n",
              "      <td>Manhattan</td>\n",
              "      <td>NaN</td>\n",
              "      <td>NaN</td>\n",
              "    </tr>\n",
              "    <tr>\n",
              "      <th>227</th>\n",
              "      <td>10166.0</td>\n",
              "      <td>0</td>\n",
              "      <td>10166.0</td>\n",
              "      <td>Manhattan</td>\n",
              "    </tr>\n",
              "    <tr>\n",
              "      <th>229</th>\n",
              "      <td>30339.0</td>\n",
              "      <td>0</td>\n",
              "      <td>NaN</td>\n",
              "      <td>NaN</td>\n",
              "    </tr>\n",
              "    <tr>\n",
              "      <th>230</th>\n",
              "      <td>10080.0</td>\n",
              "      <td>Manhattan</td>\n",
              "      <td>NaN</td>\n",
              "      <td>NaN</td>\n",
              "    </tr>\n",
              "    <tr>\n",
              "      <th>232</th>\n",
              "      <td>11371.0</td>\n",
              "      <td>Manhattan</td>\n",
              "      <td>11371.0</td>\n",
              "      <td>Queens</td>\n",
              "    </tr>\n",
              "  </tbody>\n",
              "</table>\n",
              "</div>"
            ],
            "text/plain": [
              "     zipcode       boro      zip    borough\n",
              "7    10065.0  Manhattan      NaN        NaN\n",
              "43   10075.0  Manhattan      NaN        NaN\n",
              "56   11001.0     Queens      NaN        NaN\n",
              "145  11040.0     Queens      NaN        NaN\n",
              "193  10285.0          0      NaN        NaN\n",
              "204  10000.0  Manhattan      NaN        NaN\n",
              "208  11005.0     Queens      NaN        NaN\n",
              "210  11451.0          0      NaN        NaN\n",
              "211  10179.0  Manhattan      NaN        NaN\n",
              "215  11430.0  Manhattan  11430.0     Queens\n",
              "217  11370.0      Bronx  11370.0     Queens\n",
              "223  12345.0  Manhattan      NaN        NaN\n",
              "227  10166.0          0  10166.0  Manhattan\n",
              "229  30339.0          0      NaN        NaN\n",
              "230  10080.0  Manhattan      NaN        NaN\n",
              "232  11371.0  Manhattan  11371.0     Queens"
            ]
          },
          "metadata": {
            "tags": []
          },
          "execution_count": 95
        }
      ]
    },
    {
      "cell_type": "markdown",
      "metadata": {
        "id": "rve4nlMt4Jcz"
      },
      "source": [
        "There's another that we didn't catch simply by testing for violations! Good thing we checked against a ground truth source.\n",
        "\n",
        "The other two zip codes appear fake. We should check the address or coordinates of those restaurants to confirm that they are marked as being in the right borough."
      ]
    },
    {
      "cell_type": "code",
      "metadata": {
        "id": "SpC5q1yu4Jc0"
      },
      "source": [
        "# Recode the remaining zero\n",
        "inspections.loc[inspections.zipcode == 10285, \"boro\"] = \"Manhattan\""
      ],
      "execution_count": null,
      "outputs": []
    },
    {
      "cell_type": "code",
      "metadata": {
        "id": "iy48Bowh4Jc1",
        "colab": {
          "base_uri": "https://localhost:8080/",
          "height": 301
        },
        "outputId": "5c427e4a-d08b-4c97-e766-00acbfbdfbee"
      },
      "source": [
        "# List the cases with fake zip code (30339) so that we can check the borough by hand\n",
        "inspections.loc[inspections.zipcode == 30339]"
      ],
      "execution_count": null,
      "outputs": [
        {
          "output_type": "execute_result",
          "data": {
            "text/html": [
              "<div>\n",
              "<style scoped>\n",
              "    .dataframe tbody tr th:only-of-type {\n",
              "        vertical-align: middle;\n",
              "    }\n",
              "\n",
              "    .dataframe tbody tr th {\n",
              "        vertical-align: top;\n",
              "    }\n",
              "\n",
              "    .dataframe thead th {\n",
              "        text-align: right;\n",
              "    }\n",
              "</style>\n",
              "<table border=\"1\" class=\"dataframe\">\n",
              "  <thead>\n",
              "    <tr style=\"text-align: right;\">\n",
              "      <th></th>\n",
              "      <th>camis</th>\n",
              "      <th>dba</th>\n",
              "      <th>boro</th>\n",
              "      <th>building</th>\n",
              "      <th>street</th>\n",
              "      <th>zipcode</th>\n",
              "      <th>phone</th>\n",
              "      <th>cuisine_description</th>\n",
              "      <th>inspection_date</th>\n",
              "      <th>action</th>\n",
              "      <th>violation_code</th>\n",
              "      <th>violation_description</th>\n",
              "      <th>critical_flag</th>\n",
              "      <th>score</th>\n",
              "      <th>grade</th>\n",
              "      <th>grade_date</th>\n",
              "      <th>record_date</th>\n",
              "      <th>inspection_type</th>\n",
              "      <th>latitude</th>\n",
              "      <th>longitude</th>\n",
              "      <th>community_board</th>\n",
              "      <th>council_district</th>\n",
              "      <th>census_tract</th>\n",
              "      <th>bin</th>\n",
              "      <th>bbl</th>\n",
              "      <th>nta</th>\n",
              "      <th>year</th>\n",
              "    </tr>\n",
              "  </thead>\n",
              "  <tbody>\n",
              "    <tr>\n",
              "      <th>193470</th>\n",
              "      <td>50064306</td>\n",
              "      <td>DYLAN'S CANDY BAR</td>\n",
              "      <td>0</td>\n",
              "      <td>2849</td>\n",
              "      <td>paces ferry rd</td>\n",
              "      <td>30339.0</td>\n",
              "      <td>7187514247</td>\n",
              "      <td>Other</td>\n",
              "      <td>2019-05-16</td>\n",
              "      <td>Violations were cited in the following area(s).</td>\n",
              "      <td>10F</td>\n",
              "      <td>Non-food contact surface improperly constructe...</td>\n",
              "      <td>N</td>\n",
              "      <td>12.0</td>\n",
              "      <td>A</td>\n",
              "      <td>05/16/2019</td>\n",
              "      <td>03/12/2021</td>\n",
              "      <td>Cycle Inspection / Initial Inspection</td>\n",
              "      <td>NaN</td>\n",
              "      <td>NaN</td>\n",
              "      <td>NaN</td>\n",
              "      <td>NaN</td>\n",
              "      <td>NaN</td>\n",
              "      <td>NaN</td>\n",
              "      <td>NaN</td>\n",
              "      <td>NaN</td>\n",
              "      <td>2019</td>\n",
              "    </tr>\n",
              "    <tr>\n",
              "      <th>18706</th>\n",
              "      <td>50064306</td>\n",
              "      <td>DYLAN'S CANDY BAR</td>\n",
              "      <td>0</td>\n",
              "      <td>2849</td>\n",
              "      <td>paces ferry rd</td>\n",
              "      <td>30339.0</td>\n",
              "      <td>7187514247</td>\n",
              "      <td>Other</td>\n",
              "      <td>2018-06-07</td>\n",
              "      <td>Violations were cited in the following area(s).</td>\n",
              "      <td>04N</td>\n",
              "      <td>Filth flies or food/refuse/sewage-associated (...</td>\n",
              "      <td>Y</td>\n",
              "      <td>10.0</td>\n",
              "      <td>A</td>\n",
              "      <td>06/07/2018</td>\n",
              "      <td>03/12/2021</td>\n",
              "      <td>Cycle Inspection / Initial Inspection</td>\n",
              "      <td>NaN</td>\n",
              "      <td>NaN</td>\n",
              "      <td>NaN</td>\n",
              "      <td>NaN</td>\n",
              "      <td>NaN</td>\n",
              "      <td>NaN</td>\n",
              "      <td>NaN</td>\n",
              "      <td>NaN</td>\n",
              "      <td>2018</td>\n",
              "    </tr>\n",
              "  </tbody>\n",
              "</table>\n",
              "</div>"
            ],
            "text/plain": [
              "           camis                dba boro building          street  zipcode  \\\n",
              "193470  50064306  DYLAN'S CANDY BAR    0     2849  paces ferry rd  30339.0   \n",
              "18706   50064306  DYLAN'S CANDY BAR    0     2849  paces ferry rd  30339.0   \n",
              "\n",
              "             phone cuisine_description inspection_date  \\\n",
              "193470  7187514247               Other      2019-05-16   \n",
              "18706   7187514247               Other      2018-06-07   \n",
              "\n",
              "                                                 action violation_code  \\\n",
              "193470  Violations were cited in the following area(s).            10F   \n",
              "18706   Violations were cited in the following area(s).            04N   \n",
              "\n",
              "                                    violation_description critical_flag  \\\n",
              "193470  Non-food contact surface improperly constructe...             N   \n",
              "18706   Filth flies or food/refuse/sewage-associated (...             Y   \n",
              "\n",
              "        score grade  grade_date record_date  \\\n",
              "193470   12.0     A  05/16/2019  03/12/2021   \n",
              "18706    10.0     A  06/07/2018  03/12/2021   \n",
              "\n",
              "                              inspection_type  latitude  longitude  \\\n",
              "193470  Cycle Inspection / Initial Inspection       NaN        NaN   \n",
              "18706   Cycle Inspection / Initial Inspection       NaN        NaN   \n",
              "\n",
              "        community_board  council_district  census_tract  bin  bbl  nta  year  \n",
              "193470              NaN               NaN           NaN  NaN  NaN  NaN  2019  \n",
              "18706               NaN               NaN           NaN  NaN  NaN  NaN  2018  "
            ]
          },
          "metadata": {
            "tags": []
          },
          "execution_count": 97
        }
      ]
    },
    {
      "cell_type": "code",
      "metadata": {
        "id": "Ha1mPFbN2B_p"
      },
      "source": [
        "# Recode the remaining boros with \"0\" to Manhattan\n",
        "inspections['boro'].replace(\"0\",\"Manhattan\", inplace=True)"
      ],
      "execution_count": null,
      "outputs": []
    },
    {
      "cell_type": "markdown",
      "metadata": {
        "id": "1OPh0nza4Jc2"
      },
      "source": [
        "Let's do one final check to make sure that there are no more zeros."
      ]
    },
    {
      "cell_type": "code",
      "metadata": {
        "colab": {
          "base_uri": "https://localhost:8080/"
        },
        "id": "m9zLBu4uYd9j",
        "outputId": "d46052da-6178-4abd-ce4b-9c3ca71179c2"
      },
      "source": [
        "(inspections.boro != \"0\").all()"
      ],
      "execution_count": null,
      "outputs": [
        {
          "output_type": "execute_result",
          "data": {
            "text/plain": [
              "True"
            ]
          },
          "metadata": {
            "tags": []
          },
          "execution_count": 100
        }
      ]
    },
    {
      "cell_type": "code",
      "metadata": {
        "id": "M-RjBIqs4Jc2"
      },
      "source": [
        "assert (inspections.boro != \"0\").all()"
      ],
      "execution_count": null,
      "outputs": []
    },
    {
      "cell_type": "markdown",
      "metadata": {
        "id": "EM67yQuw4Jc3"
      },
      "source": [
        "Now, we're ready to analyze scores by borough!"
      ]
    },
    {
      "cell_type": "code",
      "metadata": {
        "colab": {
          "base_uri": "https://localhost:8080/"
        },
        "id": "LtEwcw3MYDW6",
        "outputId": "69c985ba-74f0-44bf-dde9-67109c29fe43"
      },
      "source": [
        "inspections.boro.unique()"
      ],
      "execution_count": null,
      "outputs": [
        {
          "output_type": "execute_result",
          "data": {
            "text/plain": [
              "array(['Bronx', 'Brooklyn', 'Manhattan', 'Queens', 'Staten Island'],\n",
              "      dtype=object)"
            ]
          },
          "metadata": {
            "tags": []
          },
          "execution_count": 102
        }
      ]
    },
    {
      "cell_type": "code",
      "metadata": {
        "id": "wmw6uPXu4Jc4",
        "colab": {
          "base_uri": "https://localhost:8080/",
          "height": 1000
        },
        "outputId": "88f3eca0-db5e-43cc-f6cb-253e3e6ccb9a"
      },
      "source": [
        "def scores_by_borough(df, title):\n",
        "    # Plot a histogram for each borough\n",
        "    boroughs = df.boro.unique()\n",
        "    colors = ['#EB6662', '#F7B172', \"#82C881\", \"#1D8F94\", \"#203D85\"]\n",
        "    for i in range(len(boroughs)):\n",
        "        borough_df = df.loc[df.boro == boroughs[i], ]\n",
        "        plt.hist(borough_df['score'], density=True, bins=range(0, 160), color=colors[i], label = boroughs[i])\n",
        "        # Add lines to indicate the cutoffs between A and B, then B and C\n",
        "        plt.axvline(x=14, color=\"red\")\n",
        "        plt.axvline(x=28, color=\"red\")\n",
        "        # Add some labels\n",
        "        plt.ylabel(\"Density of Inspections\")\n",
        "        plt.xlabel(\"Inspection Score\")\n",
        "        plt.title(\"Density of {} Restaurant Inspection Scores \\n{}\".format(boroughs[i], title))\n",
        "        plt.show()\n",
        "    return\n",
        "    \n",
        "scores_by_borough(inspections, \"All Inspections\")\n"
      ],
      "execution_count": null,
      "outputs": [
        {
          "output_type": "display_data",
          "data": {
            "image/png": "[encoded data removed]",
            "text/plain": [
              "<Figure size 1080x360 with 1 Axes>"
            ]
          },
          "metadata": {
            "tags": [],
            "needs_background": "light"
          }
        },
        {
          "output_type": "display_data",
          "data": {
            "image/png": "[encoded data removed]",
            "text/plain": [
              "<Figure size 1080x360 with 1 Axes>"
            ]
          },
          "metadata": {
            "tags": [],
            "needs_background": "light"
          }
        },
        {
          "output_type": "display_data",
          "data": {
            "image/png": "[encoded data removed]",
            "text/plain": [
              "<Figure size 1080x360 with 1 Axes>"
            ]
          },
          "metadata": {
            "tags": [],
            "needs_background": "light"
          }
        },
        {
          "output_type": "display_data",
          "data": {
            "image/png": "[encoded data removed]",
            "text/plain": [
              "<Figure size 1080x360 with 1 Axes>"
            ]
          },
          "metadata": {
            "tags": [],
            "needs_background": "light"
          }
        },
        {
          "output_type": "display_data",
          "data": {
            "image/png": "[encoded data removed]",
            "text/plain": [
              "<Figure size 1080x360 with 1 Axes>"
            ]
          },
          "metadata": {
            "tags": [],
            "needs_background": "light"
          }
        }
      ]
    },
    {
      "cell_type": "markdown",
      "metadata": {
        "id": "fwTwiMux4Jc5"
      },
      "source": [
        "## Step 6: Analysis of Starbucks\n",
        "\n",
        "Our analysis above was very general -- each borough is a big and diverse place! (Okay, maybe not Staten Island.)\n",
        "\n",
        "Instead, we can try looking at chains that have locations in all boroughs; that way, we know that borough is the only thing that varies in the sample. Let's use Starbucks as an example."
      ]
    },
    {
      "cell_type": "code",
      "metadata": {
        "id": "RKp8-reP4Jc5",
        "colab": {
          "base_uri": "https://localhost:8080/"
        },
        "outputId": "74c42027-ebc6-411f-b36d-6d704bda13ec"
      },
      "source": [
        "# Create additional column called \"starbucks\" whose value is True if the restaurant is starbucks (dba == 'STARBUCKS') and False otherwise.\n",
        "inspections['starbucks'] = np.where(inspections['dba'] == \"STARBUCKS\", True, False)\n",
        "print(\"# of Starbucks: \\n\", inspections.groupby(['boro']).starbucks.sum())"
      ],
      "execution_count": null,
      "outputs": [
        {
          "output_type": "stream",
          "text": [
            "# of Starbucks: \n",
            " boro\n",
            "Bronx             19\n",
            "Brooklyn         130\n",
            "Manhattan        678\n",
            "Queens           132\n",
            "Staten Island     24\n",
            "Name: starbucks, dtype: int64\n"
          ],
          "name": "stdout"
        }
      ]
    },
    {
      "cell_type": "code",
      "metadata": {
        "colab": {
          "base_uri": "https://localhost:8080/",
          "height": 649
        },
        "id": "FtgUwi2VacC9",
        "outputId": "201e2552-c474-4164-a312-ded2918b84a2"
      },
      "source": [
        "inspections.head()"
      ],
      "execution_count": null,
      "outputs": [
        {
          "output_type": "execute_result",
          "data": {
            "text/html": [
              "<div>\n",
              "<style scoped>\n",
              "    .dataframe tbody tr th:only-of-type {\n",
              "        vertical-align: middle;\n",
              "    }\n",
              "\n",
              "    .dataframe tbody tr th {\n",
              "        vertical-align: top;\n",
              "    }\n",
              "\n",
              "    .dataframe thead th {\n",
              "        text-align: right;\n",
              "    }\n",
              "</style>\n",
              "<table border=\"1\" class=\"dataframe\">\n",
              "  <thead>\n",
              "    <tr style=\"text-align: right;\">\n",
              "      <th></th>\n",
              "      <th>camis</th>\n",
              "      <th>dba</th>\n",
              "      <th>boro</th>\n",
              "      <th>building</th>\n",
              "      <th>street</th>\n",
              "      <th>zipcode</th>\n",
              "      <th>phone</th>\n",
              "      <th>cuisine_description</th>\n",
              "      <th>inspection_date</th>\n",
              "      <th>action</th>\n",
              "      <th>violation_code</th>\n",
              "      <th>violation_description</th>\n",
              "      <th>critical_flag</th>\n",
              "      <th>score</th>\n",
              "      <th>grade</th>\n",
              "      <th>grade_date</th>\n",
              "      <th>record_date</th>\n",
              "      <th>inspection_type</th>\n",
              "      <th>latitude</th>\n",
              "      <th>longitude</th>\n",
              "      <th>community_board</th>\n",
              "      <th>council_district</th>\n",
              "      <th>census_tract</th>\n",
              "      <th>bin</th>\n",
              "      <th>bbl</th>\n",
              "      <th>nta</th>\n",
              "      <th>year</th>\n",
              "      <th>starbucks</th>\n",
              "    </tr>\n",
              "  </thead>\n",
              "  <tbody>\n",
              "    <tr>\n",
              "      <th>25293</th>\n",
              "      <td>30075445</td>\n",
              "      <td>MORRIS PARK BAKE SHOP</td>\n",
              "      <td>Bronx</td>\n",
              "      <td>1007</td>\n",
              "      <td>MORRIS PARK AVENUE</td>\n",
              "      <td>10462.0</td>\n",
              "      <td>7188924968</td>\n",
              "      <td>Cakes, Cupcakes, Desserts</td>\n",
              "      <td>2018-05-11</td>\n",
              "      <td>Violations were cited in the following area(s).</td>\n",
              "      <td>10F</td>\n",
              "      <td>Non-food contact surface improperly constructe...</td>\n",
              "      <td>N</td>\n",
              "      <td>5.0</td>\n",
              "      <td>A</td>\n",
              "      <td>05/11/2018</td>\n",
              "      <td>03/12/2021</td>\n",
              "      <td>Cycle Inspection / Initial Inspection</td>\n",
              "      <td>40.848231</td>\n",
              "      <td>-73.855972</td>\n",
              "      <td>211.0</td>\n",
              "      <td>13.0</td>\n",
              "      <td>25200.0</td>\n",
              "      <td>2045445.0</td>\n",
              "      <td>2.041270e+09</td>\n",
              "      <td>BX37</td>\n",
              "      <td>2018</td>\n",
              "      <td>False</td>\n",
              "    </tr>\n",
              "    <tr>\n",
              "      <th>104446</th>\n",
              "      <td>30075445</td>\n",
              "      <td>MORRIS PARK BAKE SHOP</td>\n",
              "      <td>Bronx</td>\n",
              "      <td>1007</td>\n",
              "      <td>MORRIS PARK AVENUE</td>\n",
              "      <td>10462.0</td>\n",
              "      <td>7188924968</td>\n",
              "      <td>Cakes, Cupcakes, Desserts</td>\n",
              "      <td>2019-05-16</td>\n",
              "      <td>Violations were cited in the following area(s).</td>\n",
              "      <td>04L</td>\n",
              "      <td>Evidence of mice or live mice present in facil...</td>\n",
              "      <td>Y</td>\n",
              "      <td>14.0</td>\n",
              "      <td>NaN</td>\n",
              "      <td>NaN</td>\n",
              "      <td>03/12/2021</td>\n",
              "      <td>Cycle Inspection / Initial Inspection</td>\n",
              "      <td>40.848231</td>\n",
              "      <td>-73.855972</td>\n",
              "      <td>211.0</td>\n",
              "      <td>13.0</td>\n",
              "      <td>25200.0</td>\n",
              "      <td>2045445.0</td>\n",
              "      <td>2.041270e+09</td>\n",
              "      <td>BX37</td>\n",
              "      <td>2019</td>\n",
              "      <td>False</td>\n",
              "    </tr>\n",
              "    <tr>\n",
              "      <th>96724</th>\n",
              "      <td>30075445</td>\n",
              "      <td>MORRIS PARK BAKE SHOP</td>\n",
              "      <td>Bronx</td>\n",
              "      <td>1007</td>\n",
              "      <td>MORRIS PARK AVENUE</td>\n",
              "      <td>10462.0</td>\n",
              "      <td>7188924968</td>\n",
              "      <td>Cakes, Cupcakes, Desserts</td>\n",
              "      <td>2017-05-18</td>\n",
              "      <td>Violations were cited in the following area(s).</td>\n",
              "      <td>06D</td>\n",
              "      <td>Food contact surface not properly washed, rins...</td>\n",
              "      <td>Y</td>\n",
              "      <td>7.0</td>\n",
              "      <td>A</td>\n",
              "      <td>05/18/2017</td>\n",
              "      <td>03/12/2021</td>\n",
              "      <td>Cycle Inspection / Initial Inspection</td>\n",
              "      <td>40.848231</td>\n",
              "      <td>-73.855972</td>\n",
              "      <td>211.0</td>\n",
              "      <td>13.0</td>\n",
              "      <td>25200.0</td>\n",
              "      <td>2045445.0</td>\n",
              "      <td>2.041270e+09</td>\n",
              "      <td>BX37</td>\n",
              "      <td>2017</td>\n",
              "      <td>False</td>\n",
              "    </tr>\n",
              "    <tr>\n",
              "      <th>25092</th>\n",
              "      <td>30075445</td>\n",
              "      <td>MORRIS PARK BAKE SHOP</td>\n",
              "      <td>Bronx</td>\n",
              "      <td>1007</td>\n",
              "      <td>MORRIS PARK AVENUE</td>\n",
              "      <td>10462.0</td>\n",
              "      <td>7188924968</td>\n",
              "      <td>Cakes, Cupcakes, Desserts</td>\n",
              "      <td>2019-06-11</td>\n",
              "      <td>Violations were cited in the following area(s).</td>\n",
              "      <td>10F</td>\n",
              "      <td>Non-food contact surface improperly constructe...</td>\n",
              "      <td>N</td>\n",
              "      <td>6.0</td>\n",
              "      <td>A</td>\n",
              "      <td>06/11/2019</td>\n",
              "      <td>03/12/2021</td>\n",
              "      <td>Cycle Inspection / Re-inspection</td>\n",
              "      <td>40.848231</td>\n",
              "      <td>-73.855972</td>\n",
              "      <td>211.0</td>\n",
              "      <td>13.0</td>\n",
              "      <td>25200.0</td>\n",
              "      <td>2045445.0</td>\n",
              "      <td>2.041270e+09</td>\n",
              "      <td>BX37</td>\n",
              "      <td>2019</td>\n",
              "      <td>False</td>\n",
              "    </tr>\n",
              "    <tr>\n",
              "      <th>49397</th>\n",
              "      <td>30075445</td>\n",
              "      <td>MORRIS PARK BAKE SHOP</td>\n",
              "      <td>Bronx</td>\n",
              "      <td>1007</td>\n",
              "      <td>MORRIS PARK AVENUE</td>\n",
              "      <td>10462.0</td>\n",
              "      <td>7188924968</td>\n",
              "      <td>Cakes, Cupcakes, Desserts</td>\n",
              "      <td>2019-10-21</td>\n",
              "      <td>Violations were cited in the following area(s).</td>\n",
              "      <td>04L</td>\n",
              "      <td>Evidence of mice or live mice present in facil...</td>\n",
              "      <td>Y</td>\n",
              "      <td>17.0</td>\n",
              "      <td>NaN</td>\n",
              "      <td>NaN</td>\n",
              "      <td>03/12/2021</td>\n",
              "      <td>Cycle Inspection / Initial Inspection</td>\n",
              "      <td>40.848231</td>\n",
              "      <td>-73.855972</td>\n",
              "      <td>211.0</td>\n",
              "      <td>13.0</td>\n",
              "      <td>25200.0</td>\n",
              "      <td>2045445.0</td>\n",
              "      <td>2.041270e+09</td>\n",
              "      <td>BX37</td>\n",
              "      <td>2019</td>\n",
              "      <td>False</td>\n",
              "    </tr>\n",
              "  </tbody>\n",
              "</table>\n",
              "</div>"
            ],
            "text/plain": [
              "           camis                    dba   boro building              street  \\\n",
              "25293   30075445  MORRIS PARK BAKE SHOP  Bronx     1007  MORRIS PARK AVENUE   \n",
              "104446  30075445  MORRIS PARK BAKE SHOP  Bronx     1007  MORRIS PARK AVENUE   \n",
              "96724   30075445  MORRIS PARK BAKE SHOP  Bronx     1007  MORRIS PARK AVENUE   \n",
              "25092   30075445  MORRIS PARK BAKE SHOP  Bronx     1007  MORRIS PARK AVENUE   \n",
              "49397   30075445  MORRIS PARK BAKE SHOP  Bronx     1007  MORRIS PARK AVENUE   \n",
              "\n",
              "        zipcode       phone        cuisine_description inspection_date  \\\n",
              "25293   10462.0  7188924968  Cakes, Cupcakes, Desserts      2018-05-11   \n",
              "104446  10462.0  7188924968  Cakes, Cupcakes, Desserts      2019-05-16   \n",
              "96724   10462.0  7188924968  Cakes, Cupcakes, Desserts      2017-05-18   \n",
              "25092   10462.0  7188924968  Cakes, Cupcakes, Desserts      2019-06-11   \n",
              "49397   10462.0  7188924968  Cakes, Cupcakes, Desserts      2019-10-21   \n",
              "\n",
              "                                                 action violation_code  \\\n",
              "25293   Violations were cited in the following area(s).            10F   \n",
              "104446  Violations were cited in the following area(s).            04L   \n",
              "96724   Violations were cited in the following area(s).            06D   \n",
              "25092   Violations were cited in the following area(s).            10F   \n",
              "49397   Violations were cited in the following area(s).            04L   \n",
              "\n",
              "                                    violation_description critical_flag  \\\n",
              "25293   Non-food contact surface improperly constructe...             N   \n",
              "104446  Evidence of mice or live mice present in facil...             Y   \n",
              "96724   Food contact surface not properly washed, rins...             Y   \n",
              "25092   Non-food contact surface improperly constructe...             N   \n",
              "49397   Evidence of mice or live mice present in facil...             Y   \n",
              "\n",
              "        score grade  grade_date record_date  \\\n",
              "25293     5.0     A  05/11/2018  03/12/2021   \n",
              "104446   14.0   NaN         NaN  03/12/2021   \n",
              "96724     7.0     A  05/18/2017  03/12/2021   \n",
              "25092     6.0     A  06/11/2019  03/12/2021   \n",
              "49397    17.0   NaN         NaN  03/12/2021   \n",
              "\n",
              "                              inspection_type   latitude  longitude  \\\n",
              "25293   Cycle Inspection / Initial Inspection  40.848231 -73.855972   \n",
              "104446  Cycle Inspection / Initial Inspection  40.848231 -73.855972   \n",
              "96724   Cycle Inspection / Initial Inspection  40.848231 -73.855972   \n",
              "25092        Cycle Inspection / Re-inspection  40.848231 -73.855972   \n",
              "49397   Cycle Inspection / Initial Inspection  40.848231 -73.855972   \n",
              "\n",
              "        community_board  council_district  census_tract        bin  \\\n",
              "25293             211.0              13.0       25200.0  2045445.0   \n",
              "104446            211.0              13.0       25200.0  2045445.0   \n",
              "96724             211.0              13.0       25200.0  2045445.0   \n",
              "25092             211.0              13.0       25200.0  2045445.0   \n",
              "49397             211.0              13.0       25200.0  2045445.0   \n",
              "\n",
              "                 bbl   nta  year  starbucks  \n",
              "25293   2.041270e+09  BX37  2018      False  \n",
              "104446  2.041270e+09  BX37  2019      False  \n",
              "96724   2.041270e+09  BX37  2017      False  \n",
              "25092   2.041270e+09  BX37  2019      False  \n",
              "49397   2.041270e+09  BX37  2019      False  "
            ]
          },
          "metadata": {
            "tags": []
          },
          "execution_count": 106
        }
      ]
    },
    {
      "cell_type": "code",
      "metadata": {
        "id": "hANtkUpQ4Jc8",
        "colab": {
          "base_uri": "https://localhost:8080/"
        },
        "outputId": "50db4a94-50e7-4e8b-8661-796f38bbed0b"
      },
      "source": [
        "inspections['starbucks'] = inspections.dba.str.startswith(\"STARBUCKS\") & (~inspections.dba.str.contains(\"TAXI\", na = False))\n",
        "print(\"# of Starbucks: \\n\", inspections.groupby(['boro']).starbucks.sum())"
      ],
      "execution_count": null,
      "outputs": [
        {
          "output_type": "stream",
          "text": [
            "# of Starbucks: \n",
            " boro\n",
            "Bronx             28\n",
            "Brooklyn         163\n",
            "Manhattan        819\n",
            "Queens           152\n",
            "Staten Island     30\n",
            "Name: starbucks, dtype: int64\n"
          ],
          "name": "stdout"
        }
      ]
    },
    {
      "cell_type": "code",
      "metadata": {
        "id": "N6kmH1Qo4Jc8",
        "colab": {
          "base_uri": "https://localhost:8080/",
          "height": 1000
        },
        "outputId": "73844c8b-fd2a-443e-dbf3-9f0a4a96bfad"
      },
      "source": [
        "# Plot distribution of the scores for starbucks in each borough using \"scores_by_borough\" function.\n",
        "scores_by_borough(inspections.loc[inspections.starbucks == True], \"Starbucks scores\")"
      ],
      "execution_count": null,
      "outputs": [
        {
          "output_type": "display_data",
          "data": {
            "image/png": "[encoded data removed]",
            "text/plain": [
              "<Figure size 1080x360 with 1 Axes>"
            ]
          },
          "metadata": {
            "tags": [],
            "needs_background": "light"
          }
        },
        {
          "output_type": "display_data",
          "data": {
            "image/png": "[encoded data removed]",
            "text/plain": [
              "<Figure size 1080x360 with 1 Axes>"
            ]
          },
          "metadata": {
            "tags": [],
            "needs_background": "light"
          }
        },
        {
          "output_type": "display_data",
          "data": {
            "image/png": "[encoded data removed]",
            "text/plain": [
              "<Figure size 1080x360 with 1 Axes>"
            ]
          },
          "metadata": {
            "tags": [],
            "needs_background": "light"
          }
        },
        {
          "output_type": "display_data",
          "data": {
            "image/png": "[encoded data removed]",
            "text/plain": [
              "<Figure size 1080x360 with 1 Axes>"
            ]
          },
          "metadata": {
            "tags": [],
            "needs_background": "light"
          }
        },
        {
          "output_type": "display_data",
          "data": {
            "image/png": "[encoded data removed]",
            "text/plain": [
              "<Figure size 1080x360 with 1 Axes>"
            ]
          },
          "metadata": {
            "tags": [],
            "needs_background": "light"
          }
        }
      ]
    },
    {
      "cell_type": "markdown",
      "metadata": {
        "id": "CWMaxY-9DurG"
      },
      "source": [
        "Do you see any differences in the distribution of scores by borough?"
      ]
    },
    {
      "cell_type": "markdown",
      "metadata": {
        "id": "ePNwssOzD0jQ"
      },
      "source": [
        "**Analysis**\n",
        "\n",
        "It seems like the density of inspections for Staten Island are much more than for other boroughs. Also, for Staten Island, there are smaller number of scores that are just above a letter grade cutoff when compared to the other boroughs. For all the boroughs, there are a very small number of scores (for some boroughs, no scores) that are just below the cutoff. "
      ]
    },
    {
      "cell_type": "markdown",
      "metadata": {
        "id": "WbH0JDhJEAo1"
      },
      "source": [
        "Lastly, consider that health inspectors may behave differently with respect to a multi-national corporation like Starbucks compared to a smaller or independent coffee store. Inspect the data for other coffee vendors:"
      ]
    },
    {
      "cell_type": "code",
      "metadata": {
        "id": "6XKpJe4wEWsP"
      },
      "source": [
        "# Inspect data for other (non-Starbucks) coffee vendors\n",
        "# Are there any columns that would enable you to identify coffee vendors only? Or do you need to use multiple columns?\n",
        "inspections['non_star'] = inspections.cuisine_description.str.contains(\"cof\", na = False) | inspections.dba.str.contains(\"COF\", na = False)"
      ],
      "execution_count": null,
      "outputs": []
    },
    {
      "cell_type": "code",
      "metadata": {
        "colab": {
          "base_uri": "https://localhost:8080/"
        },
        "id": "x6e-6jldeEIq",
        "outputId": "b2ce0471-c362-43d9-c735-9bc1e8ec9ae4"
      },
      "source": [
        "inspections['non_star'].describe()"
      ],
      "execution_count": null,
      "outputs": [
        {
          "output_type": "execute_result",
          "data": {
            "text/plain": [
              "count     110029\n",
              "unique         2\n",
              "top        False\n",
              "freq      107798\n",
              "Name: non_star, dtype: object"
            ]
          },
          "metadata": {
            "tags": []
          },
          "execution_count": 130
        }
      ]
    },
    {
      "cell_type": "markdown",
      "metadata": {
        "id": "Ug86nAb1EdKn"
      },
      "source": [
        "Does the pattern of scores above the A cutoff for other coffee vendors look similar to the pattern for Starbucks?"
      ]
    },
    {
      "cell_type": "code",
      "metadata": {
        "id": "qSHlPPFCE8B2",
        "colab": {
          "base_uri": "https://localhost:8080/",
          "height": 1000
        },
        "outputId": "da216504-2e8b-48ca-eebd-a51f768a5efa"
      },
      "source": [
        "# Plot the score distribution for non-Starbucks coffee vendors here\n",
        "scores_by_borough(inspections.loc[inspections.non_star == True], \"non-Starbucks scores\")"
      ],
      "execution_count": null,
      "outputs": [
        {
          "output_type": "display_data",
          "data": {
            "image/png": "[encoded data removed]",
            "text/plain": [
              "<Figure size 1080x360 with 1 Axes>"
            ]
          },
          "metadata": {
            "tags": [],
            "needs_background": "light"
          }
        },
        {
          "output_type": "display_data",
          "data": {
            "image/png": "[encoded data removed]",
            "text/plain": [
              "<Figure size 1080x360 with 1 Axes>"
            ]
          },
          "metadata": {
            "tags": [],
            "needs_background": "light"
          }
        },
        {
          "output_type": "display_data",
          "data": {
            "image/png": "[encoded data removed]",
            "text/plain": [
              "<Figure size 1080x360 with 1 Axes>"
            ]
          },
          "metadata": {
            "tags": [],
            "needs_background": "light"
          }
        },
        {
          "output_type": "display_data",
          "data": {
            "image/png": "[encoded data removed]",
            "text/plain": [
              "<Figure size 1080x360 with 1 Axes>"
            ]
          },
          "metadata": {
            "tags": [],
            "needs_background": "light"
          }
        },
        {
          "output_type": "display_data",
          "data": {
            "image/png": "[encoded data removed]",
            "text/plain": [
              "<Figure size 1080x360 with 1 Axes>"
            ]
          },
          "metadata": {
            "tags": [],
            "needs_background": "light"
          }
        }
      ]
    },
    {
      "cell_type": "markdown",
      "metadata": {
        "id": "itGkumKdE69q"
      },
      "source": [
        "**Observations**\n",
        "\n",
        "It seems like the density of inspections for Staten Island are lesser than for other boroughs, which is the opposite trend from the inspection results for Starbucks. Overall, it looks like the density of inspections is lesser for non-Starbucks coffee shops, when compared to Starbucks. Also, the number of scores just above the letter grade cutoff are more for non-Starbucks shops than Starbucks. It's possible that Starbucks, being an international brand, has organically been able to achieve good scores, due to an adoption of company policy to maintain quality."
      ]
    }
  ]
}